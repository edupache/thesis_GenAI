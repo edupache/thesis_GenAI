{
 "cells": [
  {
   "cell_type": "markdown",
   "id": "2f724083",
   "metadata": {},
   "source": [
    "# Exploratory Data Analysis"
   ]
  },
  {
   "cell_type": "markdown",
   "id": "bb264b86",
   "metadata": {},
   "source": [
    "Some introduction...\n",
    "\n",
    "## Dataset Descriptions\n",
    "\n",
    "### Streams\n",
    "The Streams dataset provides details about the different streams in the system. It includes information such as stream ID, stream name, and stream category.\n",
    "\n",
    "### Post Reports\n",
    "This dataset contains reports of posts made by users. It includes attributes such as post ID, user ID, report reason, and timestamp.\n",
    "\n",
    "### Comments Reports\n",
    "The Comments Reports dataset contains reports of comments made by users. It includes attributes such as comment ID, user ID, report reason, and timestamp.\n",
    "\n",
    "### User Activity\n",
    "The User Activity dataset captures the activity logs of users in the system. It includes attributes such as user ID, activity type, timestamp, and the normalized path of the activity.\n"
   ]
  },
  {
   "cell_type": "markdown",
   "id": "3a7403ea",
   "metadata": {},
   "source": [
    "## 1. Initial setup "
   ]
  },
  {
   "cell_type": "code",
   "execution_count": 14,
   "id": "49277a28",
   "metadata": {},
   "outputs": [
    {
     "name": "stdout",
     "output_type": "stream",
     "text": [
      "/home/ubuntu/thesis_GenAI\n"
     ]
    }
   ],
   "source": [
    "import pandas as pd\n",
    "pd.set_option('display.max_columns', None)\n",
    "#from IPython.display import display, HTML\n",
    "#display(HTML(\"<style>.container { width:100% !important; }</style>\"))\n",
    "\n",
    "# Needed Packages\n",
    "import pandas as pd\n",
    "import os\n",
    "import numpy as np\n",
    "from datetime import datetime\n",
    "#from pandas_profiling import ProfileReport\n",
    "#import ydata_profiling\n",
    "\n",
    "\n",
    "\n",
    "# Visualization packages\n",
    "import plotly.graph_objects as go\n",
    "import plotly.express as px\n",
    "import matplotlib.pyplot as plt\n",
    "\n",
    "# Display settings\n",
    "import warnings\n",
    "warnings.filterwarnings('ignore')\n",
    "#%matplotlib widget\n",
    "\n",
    "# Operating system setup\n",
    "WINDOWS_ACTIVATOR = False\n",
    "if WINDOWS_ACTIVATOR == True:\n",
    "    BASE_PATH = \"C:\\\\Users\\\\eduar\\\\Documents\\\\Master_Thesis\\\\GenAI_Thesis_Beekeeper\"\n",
    "else:\n",
    "    BASE_PATH = \"/home/ubuntu/thesis_GenAI\"\n",
    "\n",
    "print(BASE_PATH)"
   ]
  },
  {
   "cell_type": "markdown",
   "id": "aa8849e6",
   "metadata": {},
   "source": [
    "## 2. EDA for 'users' data set\n",
    "\n",
    "This dataset contains information about the users in the system. It includes attributes such as user ID, name, age, and gender."
   ]
  },
  {
   "cell_type": "code",
   "execution_count": 15,
   "id": "eda16c69",
   "metadata": {},
   "outputs": [
    {
     "name": "stdout",
     "output_type": "stream",
     "text": [
      "/home/ubuntu/thesis_GenAI\n",
      "/data/production_datasets/FlaggerForce/users_export\n"
     ]
    },
    {
     "ename": "FileNotFoundError",
     "evalue": "[Errno 2] No such file or directory: '/data/production_datasets/FlaggerForce/users_export/flaggerforce_users_2024-03-05T23-44-35.xlsx'",
     "output_type": "error",
     "traceback": [
      "\u001b[0;31m---------------------------------------------------------------------------\u001b[0m",
      "\u001b[0;31mFileNotFoundError\u001b[0m                         Traceback (most recent call last)",
      "Cell \u001b[0;32mIn[15], line 10\u001b[0m\n\u001b[1;32m      8\u001b[0m file_name \u001b[38;5;241m=\u001b[39m \u001b[38;5;124m\"\u001b[39m\u001b[38;5;124mflaggerforce_users_2024-03-05T23-44-35.xlsx\u001b[39m\u001b[38;5;124m\"\u001b[39m\n\u001b[1;32m      9\u001b[0m file_path \u001b[38;5;241m=\u001b[39m os\u001b[38;5;241m.\u001b[39mpath\u001b[38;5;241m.\u001b[39mjoin(path, file_name)\n\u001b[0;32m---> 10\u001b[0m data \u001b[38;5;241m=\u001b[39m \u001b[43mpd\u001b[49m\u001b[38;5;241;43m.\u001b[39;49m\u001b[43mread_excel\u001b[49m\u001b[43m(\u001b[49m\u001b[43mfile_path\u001b[49m\u001b[43m)\u001b[49m\n\u001b[1;32m     11\u001b[0m \u001b[38;5;28mprint\u001b[39m(data\u001b[38;5;241m.\u001b[39minfo())\n\u001b[1;32m     12\u001b[0m \u001b[38;5;66;03m# print(f'The columns are: {data.columns}')\u001b[39;00m\n\u001b[1;32m     13\u001b[0m \u001b[38;5;66;03m# data.sample(2)\u001b[39;00m\n",
      "File \u001b[0;32m~/thesis_GenAI/EDA/.venv_eda/lib/python3.10/site-packages/pandas/io/excel/_base.py:495\u001b[0m, in \u001b[0;36mread_excel\u001b[0;34m(io, sheet_name, header, names, index_col, usecols, dtype, engine, converters, true_values, false_values, skiprows, nrows, na_values, keep_default_na, na_filter, verbose, parse_dates, date_parser, date_format, thousands, decimal, comment, skipfooter, storage_options, dtype_backend, engine_kwargs)\u001b[0m\n\u001b[1;32m    493\u001b[0m \u001b[38;5;28;01mif\u001b[39;00m \u001b[38;5;129;01mnot\u001b[39;00m \u001b[38;5;28misinstance\u001b[39m(io, ExcelFile):\n\u001b[1;32m    494\u001b[0m     should_close \u001b[38;5;241m=\u001b[39m \u001b[38;5;28;01mTrue\u001b[39;00m\n\u001b[0;32m--> 495\u001b[0m     io \u001b[38;5;241m=\u001b[39m \u001b[43mExcelFile\u001b[49m\u001b[43m(\u001b[49m\n\u001b[1;32m    496\u001b[0m \u001b[43m        \u001b[49m\u001b[43mio\u001b[49m\u001b[43m,\u001b[49m\n\u001b[1;32m    497\u001b[0m \u001b[43m        \u001b[49m\u001b[43mstorage_options\u001b[49m\u001b[38;5;241;43m=\u001b[39;49m\u001b[43mstorage_options\u001b[49m\u001b[43m,\u001b[49m\n\u001b[1;32m    498\u001b[0m \u001b[43m        \u001b[49m\u001b[43mengine\u001b[49m\u001b[38;5;241;43m=\u001b[39;49m\u001b[43mengine\u001b[49m\u001b[43m,\u001b[49m\n\u001b[1;32m    499\u001b[0m \u001b[43m        \u001b[49m\u001b[43mengine_kwargs\u001b[49m\u001b[38;5;241;43m=\u001b[39;49m\u001b[43mengine_kwargs\u001b[49m\u001b[43m,\u001b[49m\n\u001b[1;32m    500\u001b[0m \u001b[43m    \u001b[49m\u001b[43m)\u001b[49m\n\u001b[1;32m    501\u001b[0m \u001b[38;5;28;01melif\u001b[39;00m engine \u001b[38;5;129;01mand\u001b[39;00m engine \u001b[38;5;241m!=\u001b[39m io\u001b[38;5;241m.\u001b[39mengine:\n\u001b[1;32m    502\u001b[0m     \u001b[38;5;28;01mraise\u001b[39;00m \u001b[38;5;167;01mValueError\u001b[39;00m(\n\u001b[1;32m    503\u001b[0m         \u001b[38;5;124m\"\u001b[39m\u001b[38;5;124mEngine should not be specified when passing \u001b[39m\u001b[38;5;124m\"\u001b[39m\n\u001b[1;32m    504\u001b[0m         \u001b[38;5;124m\"\u001b[39m\u001b[38;5;124man ExcelFile - ExcelFile already has the engine set\u001b[39m\u001b[38;5;124m\"\u001b[39m\n\u001b[1;32m    505\u001b[0m     )\n",
      "File \u001b[0;32m~/thesis_GenAI/EDA/.venv_eda/lib/python3.10/site-packages/pandas/io/excel/_base.py:1550\u001b[0m, in \u001b[0;36mExcelFile.__init__\u001b[0;34m(self, path_or_buffer, engine, storage_options, engine_kwargs)\u001b[0m\n\u001b[1;32m   1548\u001b[0m     ext \u001b[38;5;241m=\u001b[39m \u001b[38;5;124m\"\u001b[39m\u001b[38;5;124mxls\u001b[39m\u001b[38;5;124m\"\u001b[39m\n\u001b[1;32m   1549\u001b[0m \u001b[38;5;28;01melse\u001b[39;00m:\n\u001b[0;32m-> 1550\u001b[0m     ext \u001b[38;5;241m=\u001b[39m \u001b[43minspect_excel_format\u001b[49m\u001b[43m(\u001b[49m\n\u001b[1;32m   1551\u001b[0m \u001b[43m        \u001b[49m\u001b[43mcontent_or_path\u001b[49m\u001b[38;5;241;43m=\u001b[39;49m\u001b[43mpath_or_buffer\u001b[49m\u001b[43m,\u001b[49m\u001b[43m \u001b[49m\u001b[43mstorage_options\u001b[49m\u001b[38;5;241;43m=\u001b[39;49m\u001b[43mstorage_options\u001b[49m\n\u001b[1;32m   1552\u001b[0m \u001b[43m    \u001b[49m\u001b[43m)\u001b[49m\n\u001b[1;32m   1553\u001b[0m     \u001b[38;5;28;01mif\u001b[39;00m ext \u001b[38;5;129;01mis\u001b[39;00m \u001b[38;5;28;01mNone\u001b[39;00m:\n\u001b[1;32m   1554\u001b[0m         \u001b[38;5;28;01mraise\u001b[39;00m \u001b[38;5;167;01mValueError\u001b[39;00m(\n\u001b[1;32m   1555\u001b[0m             \u001b[38;5;124m\"\u001b[39m\u001b[38;5;124mExcel file format cannot be determined, you must specify \u001b[39m\u001b[38;5;124m\"\u001b[39m\n\u001b[1;32m   1556\u001b[0m             \u001b[38;5;124m\"\u001b[39m\u001b[38;5;124man engine manually.\u001b[39m\u001b[38;5;124m\"\u001b[39m\n\u001b[1;32m   1557\u001b[0m         )\n",
      "File \u001b[0;32m~/thesis_GenAI/EDA/.venv_eda/lib/python3.10/site-packages/pandas/io/excel/_base.py:1402\u001b[0m, in \u001b[0;36minspect_excel_format\u001b[0;34m(content_or_path, storage_options)\u001b[0m\n\u001b[1;32m   1399\u001b[0m \u001b[38;5;28;01mif\u001b[39;00m \u001b[38;5;28misinstance\u001b[39m(content_or_path, \u001b[38;5;28mbytes\u001b[39m):\n\u001b[1;32m   1400\u001b[0m     content_or_path \u001b[38;5;241m=\u001b[39m BytesIO(content_or_path)\n\u001b[0;32m-> 1402\u001b[0m \u001b[38;5;28;01mwith\u001b[39;00m \u001b[43mget_handle\u001b[49m\u001b[43m(\u001b[49m\n\u001b[1;32m   1403\u001b[0m \u001b[43m    \u001b[49m\u001b[43mcontent_or_path\u001b[49m\u001b[43m,\u001b[49m\u001b[43m \u001b[49m\u001b[38;5;124;43m\"\u001b[39;49m\u001b[38;5;124;43mrb\u001b[39;49m\u001b[38;5;124;43m\"\u001b[39;49m\u001b[43m,\u001b[49m\u001b[43m \u001b[49m\u001b[43mstorage_options\u001b[49m\u001b[38;5;241;43m=\u001b[39;49m\u001b[43mstorage_options\u001b[49m\u001b[43m,\u001b[49m\u001b[43m \u001b[49m\u001b[43mis_text\u001b[49m\u001b[38;5;241;43m=\u001b[39;49m\u001b[38;5;28;43;01mFalse\u001b[39;49;00m\n\u001b[1;32m   1404\u001b[0m \u001b[43m\u001b[49m\u001b[43m)\u001b[49m \u001b[38;5;28;01mas\u001b[39;00m handle:\n\u001b[1;32m   1405\u001b[0m     stream \u001b[38;5;241m=\u001b[39m handle\u001b[38;5;241m.\u001b[39mhandle\n\u001b[1;32m   1406\u001b[0m     stream\u001b[38;5;241m.\u001b[39mseek(\u001b[38;5;241m0\u001b[39m)\n",
      "File \u001b[0;32m~/thesis_GenAI/EDA/.venv_eda/lib/python3.10/site-packages/pandas/io/common.py:882\u001b[0m, in \u001b[0;36mget_handle\u001b[0;34m(path_or_buf, mode, encoding, compression, memory_map, is_text, errors, storage_options)\u001b[0m\n\u001b[1;32m    873\u001b[0m         handle \u001b[38;5;241m=\u001b[39m \u001b[38;5;28mopen\u001b[39m(\n\u001b[1;32m    874\u001b[0m             handle,\n\u001b[1;32m    875\u001b[0m             ioargs\u001b[38;5;241m.\u001b[39mmode,\n\u001b[0;32m   (...)\u001b[0m\n\u001b[1;32m    878\u001b[0m             newline\u001b[38;5;241m=\u001b[39m\u001b[38;5;124m\"\u001b[39m\u001b[38;5;124m\"\u001b[39m,\n\u001b[1;32m    879\u001b[0m         )\n\u001b[1;32m    880\u001b[0m     \u001b[38;5;28;01melse\u001b[39;00m:\n\u001b[1;32m    881\u001b[0m         \u001b[38;5;66;03m# Binary mode\u001b[39;00m\n\u001b[0;32m--> 882\u001b[0m         handle \u001b[38;5;241m=\u001b[39m \u001b[38;5;28;43mopen\u001b[39;49m\u001b[43m(\u001b[49m\u001b[43mhandle\u001b[49m\u001b[43m,\u001b[49m\u001b[43m \u001b[49m\u001b[43mioargs\u001b[49m\u001b[38;5;241;43m.\u001b[39;49m\u001b[43mmode\u001b[49m\u001b[43m)\u001b[49m\n\u001b[1;32m    883\u001b[0m     handles\u001b[38;5;241m.\u001b[39mappend(handle)\n\u001b[1;32m    885\u001b[0m \u001b[38;5;66;03m# Convert BytesIO or file objects passed with an encoding\u001b[39;00m\n",
      "\u001b[0;31mFileNotFoundError\u001b[0m: [Errno 2] No such file or directory: '/data/production_datasets/FlaggerForce/users_export/flaggerforce_users_2024-03-05T23-44-35.xlsx'"
     ]
    }
   ],
   "source": [
    "# Users data\n",
    "#path = \"data\\\\production_datasets\\\\FlaggerForce\\\\users_export\"\n",
    "path_rel = \"/data/production_datasets/FlaggerForce/users_export\"\n",
    "path = os.path.join(BASE_PATH,path_rel)\n",
    "print(BASE_PATH)\n",
    "print(path)\n",
    "\n",
    "file_name = \"flaggerforce_users_2024-03-05T23-44-35.xlsx\"\n",
    "file_path = os.path.join(path, file_name)\n",
    "data = pd.read_excel(file_path)\n",
    "print(data.info())\n",
    "# print(f'The columns are: {data.columns}')\n",
    "# data.sample(2)"
   ]
  },
  {
   "cell_type": "code",
   "execution_count": 4,
   "id": "e623b2bd",
   "metadata": {},
   "outputs": [
    {
     "name": "stdout",
     "output_type": "stream",
     "text": [
      "state\n",
      "suspended    15171\n",
      "active        2095\n",
      "created         37\n",
      "Name: count, dtype: int64\n"
     ]
    },
    {
     "data": {
      "image/png": "[encoded data removed]",
      "text/plain": [
       "<Figure size 800x600 with 1 Axes>"
      ]
     },
     "metadata": {},
     "output_type": "display_data"
    }
   ],
   "source": [
    "# Active Users by Department\n",
    "data_users = data.copy()\n",
    "# group by state \n",
    "print(data_users['state'].value_counts())\n",
    "\n",
    "import matplotlib.pyplot as plt\n",
    "\n",
    "# Active Users by Department\n",
    "data_users = data.copy()\n",
    "state_counts = data_users['state'].value_counts()\n",
    "\n",
    "# Plotting\n",
    "plt.figure(figsize=(8, 6))\n",
    "plt.bar(state_counts.index, state_counts.values)\n",
    "plt.xlabel('User State')\n",
    "plt.ylabel('Number of Users')\n",
    "plt.title(\"User's Status\")\n",
    "plt.show()\n"
   ]
  },
  {
   "cell_type": "code",
   "execution_count": 5,
   "id": "6497a1f3",
   "metadata": {},
   "outputs": [
    {
     "data": {
      "text/html": [
       "<div>\n",
       "<style scoped>\n",
       "    .dataframe tbody tr th:only-of-type {\n",
       "        vertical-align: middle;\n",
       "    }\n",
       "\n",
       "    .dataframe tbody tr th {\n",
       "        vertical-align: top;\n",
       "    }\n",
       "\n",
       "    .dataframe thead th {\n",
       "        text-align: right;\n",
       "    }\n",
       "</style>\n",
       "<table border=\"1\" class=\"dataframe\">\n",
       "  <thead>\n",
       "    <tr style=\"text-align: right;\">\n",
       "      <th></th>\n",
       "      <th>first_login</th>\n",
       "      <th>suspended</th>\n",
       "      <th>id</th>\n",
       "      <th>last_skipped_contact_details</th>\n",
       "      <th>is_bot</th>\n",
       "      <th>state</th>\n",
       "      <th>role</th>\n",
       "      <th>last_login</th>\n",
       "      <th>tenantuserid</th>\n",
       "      <th>updated</th>\n",
       "      <th>used</th>\n",
       "      <th>display_name_extension</th>\n",
       "      <th>suspended_at</th>\n",
       "      <th>username</th>\n",
       "      <th>language</th>\n",
       "      <th>created</th>\n",
       "      <th>department</th>\n",
       "      <th>location</th>\n",
       "      <th>position</th>\n",
       "    </tr>\n",
       "  </thead>\n",
       "  <tbody>\n",
       "    <tr>\n",
       "      <th>7945</th>\n",
       "      <td>2021-12-20T19:58:53</td>\n",
       "      <td>True</td>\n",
       "      <td>973511e1-3b2d-4ec6-87b3-7780269d3843</td>\n",
       "      <td>2021-12-20T19:59:21</td>\n",
       "      <td>False</td>\n",
       "      <td>suspended</td>\n",
       "      <td>member</td>\n",
       "      <td>2021-12-20T19:58:53</td>\n",
       "      <td>20982</td>\n",
       "      <td>2022-02-12T12:00:46</td>\n",
       "      <td>2022-02-11T20:44:00</td>\n",
       "      <td>Crew Member, WPA</td>\n",
       "      <td>2022-02-12T12:00:46</td>\n",
       "      <td>Hunter_Norris</td>\n",
       "      <td>en</td>\n",
       "      <td>2021-12-20T18:02:17</td>\n",
       "      <td>Operations</td>\n",
       "      <td>WPA</td>\n",
       "      <td>Crew Member</td>\n",
       "    </tr>\n",
       "  </tbody>\n",
       "</table>\n",
       "</div>"
      ],
      "text/plain": [
       "              first_login  suspended                                    id  \\\n",
       "7945  2021-12-20T19:58:53       True  973511e1-3b2d-4ec6-87b3-7780269d3843   \n",
       "\n",
       "     last_skipped_contact_details  is_bot      state    role  \\\n",
       "7945          2021-12-20T19:59:21   False  suspended  member   \n",
       "\n",
       "               last_login tenantuserid              updated  \\\n",
       "7945  2021-12-20T19:58:53        20982  2022-02-12T12:00:46   \n",
       "\n",
       "                     used display_name_extension         suspended_at  \\\n",
       "7945  2022-02-11T20:44:00       Crew Member, WPA  2022-02-12T12:00:46   \n",
       "\n",
       "           username language              created  department location  \\\n",
       "7945  Hunter_Norris       en  2021-12-20T18:02:17  Operations      WPA   \n",
       "\n",
       "         position  \n",
       "7945  Crew Member  "
      ]
     },
     "execution_count": 5,
     "metadata": {},
     "output_type": "execute_result"
    }
   ],
   "source": [
    "data_users[data_users['id'] == \"973511e1-3b2d-4ec6-87b3-7780269d3843\"]"
   ]
  },
  {
   "cell_type": "code",
   "execution_count": 6,
   "id": "40bb8bcc",
   "metadata": {},
   "outputs": [
    {
     "data": {
      "text/html": [
       "<div>\n",
       "<style scoped>\n",
       "    .dataframe tbody tr th:only-of-type {\n",
       "        vertical-align: middle;\n",
       "    }\n",
       "\n",
       "    .dataframe tbody tr th {\n",
       "        vertical-align: top;\n",
       "    }\n",
       "\n",
       "    .dataframe thead th {\n",
       "        text-align: right;\n",
       "    }\n",
       "</style>\n",
       "<table border=\"1\" class=\"dataframe\">\n",
       "  <thead>\n",
       "    <tr style=\"text-align: right;\">\n",
       "      <th></th>\n",
       "      <th>first_login</th>\n",
       "      <th>suspended</th>\n",
       "      <th>id</th>\n",
       "      <th>last_skipped_contact_details</th>\n",
       "      <th>is_bot</th>\n",
       "      <th>state</th>\n",
       "      <th>role</th>\n",
       "      <th>last_login</th>\n",
       "      <th>tenantuserid</th>\n",
       "      <th>updated</th>\n",
       "      <th>used</th>\n",
       "      <th>display_name_extension</th>\n",
       "      <th>suspended_at</th>\n",
       "      <th>username</th>\n",
       "      <th>language</th>\n",
       "      <th>created</th>\n",
       "      <th>department</th>\n",
       "      <th>location</th>\n",
       "      <th>position</th>\n",
       "    </tr>\n",
       "  </thead>\n",
       "  <tbody>\n",
       "    <tr>\n",
       "      <th>0</th>\n",
       "      <td>2022-12-16T19:26:22</td>\n",
       "      <td>False</td>\n",
       "      <td>093c7a08-e32c-40eb-9eb6-a5e26c623be0</td>\n",
       "      <td>2024-02-05T21:31:03</td>\n",
       "      <td>False</td>\n",
       "      <td>active</td>\n",
       "      <td>member</td>\n",
       "      <td>2024-02-05T21:31:00</td>\n",
       "      <td>24193</td>\n",
       "      <td>2024-02-05T21:31:00</td>\n",
       "      <td>2024-03-05T22:26:00</td>\n",
       "      <td>Advanced Crew Leader, MD</td>\n",
       "      <td>NaN</td>\n",
       "      <td>Aaron_Burch</td>\n",
       "      <td>en</td>\n",
       "      <td>2022-12-16T18:02:51</td>\n",
       "      <td>Operations</td>\n",
       "      <td>MD</td>\n",
       "      <td>Advanced Crew Leader</td>\n",
       "    </tr>\n",
       "    <tr>\n",
       "      <th>1</th>\n",
       "      <td>2024-02-20T21:19:59</td>\n",
       "      <td>False</td>\n",
       "      <td>c9c1ce3b-2afa-453d-9c72-b521442b288f</td>\n",
       "      <td>2024-02-20T21:20:18</td>\n",
       "      <td>False</td>\n",
       "      <td>active</td>\n",
       "      <td>member</td>\n",
       "      <td>2024-02-20T21:19:59</td>\n",
       "      <td>28629</td>\n",
       "      <td>2024-02-21T03:01:52</td>\n",
       "      <td>2024-03-05T19:28:00</td>\n",
       "      <td>Crew Member, NEPA</td>\n",
       "      <td>NaN</td>\n",
       "      <td>Aaron_Cassatt</td>\n",
       "      <td>en</td>\n",
       "      <td>2024-02-20T20:01:20</td>\n",
       "      <td>Operations</td>\n",
       "      <td>NEPA</td>\n",
       "      <td>Crew Member</td>\n",
       "    </tr>\n",
       "    <tr>\n",
       "      <th>2</th>\n",
       "      <td>2023-12-11T20:19:18</td>\n",
       "      <td>False</td>\n",
       "      <td>eae780a3-9c68-457b-ad3f-c38210a46539</td>\n",
       "      <td>2023-12-11T20:20:07</td>\n",
       "      <td>False</td>\n",
       "      <td>active</td>\n",
       "      <td>member</td>\n",
       "      <td>2023-12-11T20:19:18</td>\n",
       "      <td>27878</td>\n",
       "      <td>2024-02-26T22:01:04</td>\n",
       "      <td>2024-03-05T22:24:00</td>\n",
       "      <td>Crew Leader, WNC</td>\n",
       "      <td>NaN</td>\n",
       "      <td>Aaron_Ervin</td>\n",
       "      <td>en</td>\n",
       "      <td>2023-12-11T18:02:40</td>\n",
       "      <td>Operations</td>\n",
       "      <td>WNC</td>\n",
       "      <td>Crew Leader</td>\n",
       "    </tr>\n",
       "    <tr>\n",
       "      <th>3</th>\n",
       "      <td>2023-07-24T19:06:39</td>\n",
       "      <td>False</td>\n",
       "      <td>a7bb6f33-fec7-41a7-9ebf-22479dbcb747</td>\n",
       "      <td>2023-07-24T19:07:07</td>\n",
       "      <td>False</td>\n",
       "      <td>active</td>\n",
       "      <td>member</td>\n",
       "      <td>2023-07-24T19:06:39</td>\n",
       "      <td>26527</td>\n",
       "      <td>2024-02-27T11:35:40</td>\n",
       "      <td>2024-03-05T00:41:00</td>\n",
       "      <td>Crew Leader, WNC</td>\n",
       "      <td>NaN</td>\n",
       "      <td>Aaron_Hunter</td>\n",
       "      <td>en</td>\n",
       "      <td>2023-07-24T16:04:41</td>\n",
       "      <td>Operations</td>\n",
       "      <td>WNC</td>\n",
       "      <td>Crew Leader</td>\n",
       "    </tr>\n",
       "    <tr>\n",
       "      <th>4</th>\n",
       "      <td>NaN</td>\n",
       "      <td>False</td>\n",
       "      <td>9037024c-c0ab-4332-be54-4774d32b6e78</td>\n",
       "      <td>NaN</td>\n",
       "      <td>False</td>\n",
       "      <td>created</td>\n",
       "      <td>member</td>\n",
       "      <td>NaN</td>\n",
       "      <td>NaN</td>\n",
       "      <td>2024-02-19T21:15:25</td>\n",
       "      <td>NaN</td>\n",
       "      <td>NaN</td>\n",
       "      <td>NaN</td>\n",
       "      <td>aaron_johnson1</td>\n",
       "      <td>NaN</td>\n",
       "      <td>2024-02-19T21:14:59</td>\n",
       "      <td>NaN</td>\n",
       "      <td>NaN</td>\n",
       "      <td>NaN</td>\n",
       "    </tr>\n",
       "  </tbody>\n",
       "</table>\n",
       "</div>"
      ],
      "text/plain": [
       "           first_login  suspended                                    id  \\\n",
       "0  2022-12-16T19:26:22      False  093c7a08-e32c-40eb-9eb6-a5e26c623be0   \n",
       "1  2024-02-20T21:19:59      False  c9c1ce3b-2afa-453d-9c72-b521442b288f   \n",
       "2  2023-12-11T20:19:18      False  eae780a3-9c68-457b-ad3f-c38210a46539   \n",
       "3  2023-07-24T19:06:39      False  a7bb6f33-fec7-41a7-9ebf-22479dbcb747   \n",
       "4                  NaN      False  9037024c-c0ab-4332-be54-4774d32b6e78   \n",
       "\n",
       "  last_skipped_contact_details  is_bot    state    role           last_login  \\\n",
       "0          2024-02-05T21:31:03   False   active  member  2024-02-05T21:31:00   \n",
       "1          2024-02-20T21:20:18   False   active  member  2024-02-20T21:19:59   \n",
       "2          2023-12-11T20:20:07   False   active  member  2023-12-11T20:19:18   \n",
       "3          2023-07-24T19:07:07   False   active  member  2023-07-24T19:06:39   \n",
       "4                          NaN   False  created  member                  NaN   \n",
       "\n",
       "  tenantuserid              updated                 used  \\\n",
       "0        24193  2024-02-05T21:31:00  2024-03-05T22:26:00   \n",
       "1        28629  2024-02-21T03:01:52  2024-03-05T19:28:00   \n",
       "2        27878  2024-02-26T22:01:04  2024-03-05T22:24:00   \n",
       "3        26527  2024-02-27T11:35:40  2024-03-05T00:41:00   \n",
       "4          NaN  2024-02-19T21:15:25                  NaN   \n",
       "\n",
       "     display_name_extension suspended_at        username language  \\\n",
       "0  Advanced Crew Leader, MD          NaN     Aaron_Burch       en   \n",
       "1         Crew Member, NEPA          NaN   Aaron_Cassatt       en   \n",
       "2          Crew Leader, WNC          NaN     Aaron_Ervin       en   \n",
       "3          Crew Leader, WNC          NaN    Aaron_Hunter       en   \n",
       "4                       NaN          NaN  aaron_johnson1      NaN   \n",
       "\n",
       "               created  department location              position  \n",
       "0  2022-12-16T18:02:51  Operations       MD  Advanced Crew Leader  \n",
       "1  2024-02-20T20:01:20  Operations     NEPA           Crew Member  \n",
       "2  2023-12-11T18:02:40  Operations      WNC           Crew Leader  \n",
       "3  2023-07-24T16:04:41  Operations      WNC           Crew Leader  \n",
       "4  2024-02-19T21:14:59         NaN      NaN                   NaN  "
      ]
     },
     "execution_count": 6,
     "metadata": {},
     "output_type": "execute_result"
    }
   ],
   "source": [
    "data_users.head()"
   ]
  },
  {
   "cell_type": "code",
   "execution_count": 7,
   "id": "fde7d011",
   "metadata": {},
   "outputs": [
    {
     "name": "stdout",
     "output_type": "stream",
     "text": [
      "The date range of users based on the creation date:\n",
      "Min date: 2017-12-20 04:30:24\n",
      "Max date: 2024-03-05 20:01:54\n"
     ]
    }
   ],
   "source": [
    "# Preprocessing users data function\n",
    "\n",
    "def preprocess_users(df):  \n",
    "    # Keep only active and suspended users\n",
    "    df = df[df['state'] != 'created']\n",
    "  \n",
    "    # Imputation of missing values\n",
    "    # Language \n",
    "    df['language'].fillna('en', inplace=True)\n",
    "    # Exclude rows with missing values in the column first_login\n",
    "    df = df[~df['first_login'].isnull()]\n",
    "\n",
    "    # Delete columns\n",
    "    # Columns to be deleted\n",
    "    cols_to_delete = ['is_bot','tenantuserid']    \n",
    "    df.drop(cols_to_delete, axis=1, inplace=True)\n",
    "    # Reorder columns\n",
    "    new_order = ['first_login', 'suspended', 'username', 'id', 'last_skipped_contact_details',\n",
    "                'state', 'role', 'last_login', 'updated', 'used', 'display_name_extension',\n",
    "                'suspended_at', 'language', 'created', 'department', 'location', 'position']\n",
    "    df = df[new_order]\n",
    "    \n",
    "    # Convert to datetime\n",
    "    df['first_login'] = pd.to_datetime(df['first_login'])\n",
    "    df['last_skipped_contact_details'] = pd.to_datetime(df['last_skipped_contact_details'])\n",
    "    df['last_login'] = pd.to_datetime(df['last_login'])\n",
    "    df['updated'] = pd.to_datetime(df['updated'])\n",
    "    df['used'] = pd.to_datetime(df['used'])\n",
    "    df['created'] = pd.to_datetime(df['created'])    \n",
    "\n",
    "    # date range of posts\n",
    "    print(\"The date range of users based on the creation date:\")\n",
    "    print(f\"Min date: {df['created'].min()}\")\n",
    "    print(f\"Max date: {df['created'].max()}\")\n",
    "    #print(f\"Date range: {df['created'].max() - df['created'].min()}\")\n",
    "    \n",
    "    \n",
    "    return df\n",
    "\n",
    "df_users = preprocess_users(data_users)"
   ]
  },
  {
   "cell_type": "code",
   "execution_count": 8,
   "id": "fe88a856",
   "metadata": {},
   "outputs": [
    {
     "data": {
      "application/vnd.plotly.v1+json": {
       "config": {
        "plotlyServerURL": "https://plot.ly"
       },
       "data": [
        {
         "alignmentgroup": "True",
         "hovertemplate": "index=%{x}<br>y=%{y}<extra></extra>",
         "legendgroup": "",
         "marker": {
          "color": "#636efa",
          "pattern": {
           "shape": ""
          }
         },
         "name": "",
         "offsetgroup": "",
         "orientation": "v",
         "showlegend": false,
         "textposition": "auto",
         "type": "bar",
         "x": [
          "first_login",
          "suspended",
          "username",
          "id",
          "last_skipped_contact_details",
          "state",
          "role",
          "last_login",
          "updated",
          "used",
          "display_name_extension",
          "suspended_at",
          "language",
          "created",
          "department",
          "location",
          "position"
         ],
         "xaxis": "x",
         "y": [
          0,
          0,
          0,
          0,
          48,
          0,
          0,
          0,
          0,
          1,
          51,
          2095,
          0,
          0,
          103,
          99,
          61
         ],
         "yaxis": "y"
        }
       ],
       "layout": {
        "barmode": "relative",
        "height": 600,
        "legend": {
         "tracegroupgap": 0
        },
        "template": {
         "data": {
          "bar": [
           {
            "error_x": {
             "color": "#2a3f5f"
            },
            "error_y": {
             "color": "#2a3f5f"
            },
            "marker": {
             "line": {
              "color": "#E5ECF6",
              "width": 0.5
             },
             "pattern": {
              "fillmode": "overlay",
              "size": 10,
              "solidity": 0.2
             }
            },
            "type": "bar"
           }
          ],
          "barpolar": [
           {
            "marker": {
             "line": {
              "color": "#E5ECF6",
              "width": 0.5
             },
             "pattern": {
              "fillmode": "overlay",
              "size": 10,
              "solidity": 0.2
             }
            },
            "type": "barpolar"
           }
          ],
          "carpet": [
           {
            "aaxis": {
             "endlinecolor": "#2a3f5f",
             "gridcolor": "white",
             "linecolor": "white",
             "minorgridcolor": "white",
             "startlinecolor": "#2a3f5f"
            },
            "baxis": {
             "endlinecolor": "#2a3f5f",
             "gridcolor": "white",
             "linecolor": "white",
             "minorgridcolor": "white",
             "startlinecolor": "#2a3f5f"
            },
            "type": "carpet"
           }
          ],
          "choropleth": [
           {
            "colorbar": {
             "outlinewidth": 0,
             "ticks": ""
            },
            "type": "choropleth"
           }
          ],
          "contour": [
           {
            "colorbar": {
             "outlinewidth": 0,
             "ticks": ""
            },
            "colorscale": [
             [
              0,
              "#0d0887"
             ],
             [
              0.1111111111111111,
              "#46039f"
             ],
             [
              0.2222222222222222,
              "#7201a8"
             ],
             [
              0.3333333333333333,
              "#9c179e"
             ],
             [
              0.4444444444444444,
              "#bd3786"
             ],
             [
              0.5555555555555556,
              "#d8576b"
             ],
             [
              0.6666666666666666,
              "#ed7953"
             ],
             [
              0.7777777777777778,
              "#fb9f3a"
             ],
             [
              0.8888888888888888,
              "#fdca26"
             ],
             [
              1,
              "#f0f921"
             ]
            ],
            "type": "contour"
           }
          ],
          "contourcarpet": [
           {
            "colorbar": {
             "outlinewidth": 0,
             "ticks": ""
            },
            "type": "contourcarpet"
           }
          ],
          "heatmap": [
           {
            "colorbar": {
             "outlinewidth": 0,
             "ticks": ""
            },
            "colorscale": [
             [
              0,
              "#0d0887"
             ],
             [
              0.1111111111111111,
              "#46039f"
             ],
             [
              0.2222222222222222,
              "#7201a8"
             ],
             [
              0.3333333333333333,
              "#9c179e"
             ],
             [
              0.4444444444444444,
              "#bd3786"
             ],
             [
              0.5555555555555556,
              "#d8576b"
             ],
             [
              0.6666666666666666,
              "#ed7953"
             ],
             [
              0.7777777777777778,
              "#fb9f3a"
             ],
             [
              0.8888888888888888,
              "#fdca26"
             ],
             [
              1,
              "#f0f921"
             ]
            ],
            "type": "heatmap"
           }
          ],
          "heatmapgl": [
           {
            "colorbar": {
             "outlinewidth": 0,
             "ticks": ""
            },
            "colorscale": [
             [
              0,
              "#0d0887"
             ],
             [
              0.1111111111111111,
              "#46039f"
             ],
             [
              0.2222222222222222,
              "#7201a8"
             ],
             [
              0.3333333333333333,
              "#9c179e"
             ],
             [
              0.4444444444444444,
              "#bd3786"
             ],
             [
              0.5555555555555556,
              "#d8576b"
             ],
             [
              0.6666666666666666,
              "#ed7953"
             ],
             [
              0.7777777777777778,
              "#fb9f3a"
             ],
             [
              0.8888888888888888,
              "#fdca26"
             ],
             [
              1,
              "#f0f921"
             ]
            ],
            "type": "heatmapgl"
           }
          ],
          "histogram": [
           {
            "marker": {
             "pattern": {
              "fillmode": "overlay",
              "size": 10,
              "solidity": 0.2
             }
            },
            "type": "histogram"
           }
          ],
          "histogram2d": [
           {
            "colorbar": {
             "outlinewidth": 0,
             "ticks": ""
            },
            "colorscale": [
             [
              0,
              "#0d0887"
             ],
             [
              0.1111111111111111,
              "#46039f"
             ],
             [
              0.2222222222222222,
              "#7201a8"
             ],
             [
              0.3333333333333333,
              "#9c179e"
             ],
             [
              0.4444444444444444,
              "#bd3786"
             ],
             [
              0.5555555555555556,
              "#d8576b"
             ],
             [
              0.6666666666666666,
              "#ed7953"
             ],
             [
              0.7777777777777778,
              "#fb9f3a"
             ],
             [
              0.8888888888888888,
              "#fdca26"
             ],
             [
              1,
              "#f0f921"
             ]
            ],
            "type": "histogram2d"
           }
          ],
          "histogram2dcontour": [
           {
            "colorbar": {
             "outlinewidth": 0,
             "ticks": ""
            },
            "colorscale": [
             [
              0,
              "#0d0887"
             ],
             [
              0.1111111111111111,
              "#46039f"
             ],
             [
              0.2222222222222222,
              "#7201a8"
             ],
             [
              0.3333333333333333,
              "#9c179e"
             ],
             [
              0.4444444444444444,
              "#bd3786"
             ],
             [
              0.5555555555555556,
              "#d8576b"
             ],
             [
              0.6666666666666666,
              "#ed7953"
             ],
             [
              0.7777777777777778,
              "#fb9f3a"
             ],
             [
              0.8888888888888888,
              "#fdca26"
             ],
             [
              1,
              "#f0f921"
             ]
            ],
            "type": "histogram2dcontour"
           }
          ],
          "mesh3d": [
           {
            "colorbar": {
             "outlinewidth": 0,
             "ticks": ""
            },
            "type": "mesh3d"
           }
          ],
          "parcoords": [
           {
            "line": {
             "colorbar": {
              "outlinewidth": 0,
              "ticks": ""
             }
            },
            "type": "parcoords"
           }
          ],
          "pie": [
           {
            "automargin": true,
            "type": "pie"
           }
          ],
          "scatter": [
           {
            "fillpattern": {
             "fillmode": "overlay",
             "size": 10,
             "solidity": 0.2
            },
            "type": "scatter"
           }
          ],
          "scatter3d": [
           {
            "line": {
             "colorbar": {
              "outlinewidth": 0,
              "ticks": ""
             }
            },
            "marker": {
             "colorbar": {
              "outlinewidth": 0,
              "ticks": ""
             }
            },
            "type": "scatter3d"
           }
          ],
          "scattercarpet": [
           {
            "marker": {
             "colorbar": {
              "outlinewidth": 0,
              "ticks": ""
             }
            },
            "type": "scattercarpet"
           }
          ],
          "scattergeo": [
           {
            "marker": {
             "colorbar": {
              "outlinewidth": 0,
              "ticks": ""
             }
            },
            "type": "scattergeo"
           }
          ],
          "scattergl": [
           {
            "marker": {
             "colorbar": {
              "outlinewidth": 0,
              "ticks": ""
             }
            },
            "type": "scattergl"
           }
          ],
          "scattermapbox": [
           {
            "marker": {
             "colorbar": {
              "outlinewidth": 0,
              "ticks": ""
             }
            },
            "type": "scattermapbox"
           }
          ],
          "scatterpolar": [
           {
            "marker": {
             "colorbar": {
              "outlinewidth": 0,
              "ticks": ""
             }
            },
            "type": "scatterpolar"
           }
          ],
          "scatterpolargl": [
           {
            "marker": {
             "colorbar": {
              "outlinewidth": 0,
              "ticks": ""
             }
            },
            "type": "scatterpolargl"
           }
          ],
          "scatterternary": [
           {
            "marker": {
             "colorbar": {
              "outlinewidth": 0,
              "ticks": ""
             }
            },
            "type": "scatterternary"
           }
          ],
          "surface": [
           {
            "colorbar": {
             "outlinewidth": 0,
             "ticks": ""
            },
            "colorscale": [
             [
              0,
              "#0d0887"
             ],
             [
              0.1111111111111111,
              "#46039f"
             ],
             [
              0.2222222222222222,
              "#7201a8"
             ],
             [
              0.3333333333333333,
              "#9c179e"
             ],
             [
              0.4444444444444444,
              "#bd3786"
             ],
             [
              0.5555555555555556,
              "#d8576b"
             ],
             [
              0.6666666666666666,
              "#ed7953"
             ],
             [
              0.7777777777777778,
              "#fb9f3a"
             ],
             [
              0.8888888888888888,
              "#fdca26"
             ],
             [
              1,
              "#f0f921"
             ]
            ],
            "type": "surface"
           }
          ],
          "table": [
           {
            "cells": {
             "fill": {
              "color": "#EBF0F8"
             },
             "line": {
              "color": "white"
             }
            },
            "header": {
             "fill": {
              "color": "#C8D4E3"
             },
             "line": {
              "color": "white"
             }
            },
            "type": "table"
           }
          ]
         },
         "layout": {
          "annotationdefaults": {
           "arrowcolor": "#2a3f5f",
           "arrowhead": 0,
           "arrowwidth": 1
          },
          "autotypenumbers": "strict",
          "coloraxis": {
           "colorbar": {
            "outlinewidth": 0,
            "ticks": ""
           }
          },
          "colorscale": {
           "diverging": [
            [
             0,
             "#8e0152"
            ],
            [
             0.1,
             "#c51b7d"
            ],
            [
             0.2,
             "#de77ae"
            ],
            [
             0.3,
             "#f1b6da"
            ],
            [
             0.4,
             "#fde0ef"
            ],
            [
             0.5,
             "#f7f7f7"
            ],
            [
             0.6,
             "#e6f5d0"
            ],
            [
             0.7,
             "#b8e186"
            ],
            [
             0.8,
             "#7fbc41"
            ],
            [
             0.9,
             "#4d9221"
            ],
            [
             1,
             "#276419"
            ]
           ],
           "sequential": [
            [
             0,
             "#0d0887"
            ],
            [
             0.1111111111111111,
             "#46039f"
            ],
            [
             0.2222222222222222,
             "#7201a8"
            ],
            [
             0.3333333333333333,
             "#9c179e"
            ],
            [
             0.4444444444444444,
             "#bd3786"
            ],
            [
             0.5555555555555556,
             "#d8576b"
            ],
            [
             0.6666666666666666,
             "#ed7953"
            ],
            [
             0.7777777777777778,
             "#fb9f3a"
            ],
            [
             0.8888888888888888,
             "#fdca26"
            ],
            [
             1,
             "#f0f921"
            ]
           ],
           "sequentialminus": [
            [
             0,
             "#0d0887"
            ],
            [
             0.1111111111111111,
             "#46039f"
            ],
            [
             0.2222222222222222,
             "#7201a8"
            ],
            [
             0.3333333333333333,
             "#9c179e"
            ],
            [
             0.4444444444444444,
             "#bd3786"
            ],
            [
             0.5555555555555556,
             "#d8576b"
            ],
            [
             0.6666666666666666,
             "#ed7953"
            ],
            [
             0.7777777777777778,
             "#fb9f3a"
            ],
            [
             0.8888888888888888,
             "#fdca26"
            ],
            [
             1,
             "#f0f921"
            ]
           ]
          },
          "colorway": [
           "#636efa",
           "#EF553B",
           "#00cc96",
           "#ab63fa",
           "#FFA15A",
           "#19d3f3",
           "#FF6692",
           "#B6E880",
           "#FF97FF",
           "#FECB52"
          ],
          "font": {
           "color": "#2a3f5f"
          },
          "geo": {
           "bgcolor": "white",
           "lakecolor": "white",
           "landcolor": "#E5ECF6",
           "showlakes": true,
           "showland": true,
           "subunitcolor": "white"
          },
          "hoverlabel": {
           "align": "left"
          },
          "hovermode": "closest",
          "mapbox": {
           "style": "light"
          },
          "paper_bgcolor": "white",
          "plot_bgcolor": "#E5ECF6",
          "polar": {
           "angularaxis": {
            "gridcolor": "white",
            "linecolor": "white",
            "ticks": ""
           },
           "bgcolor": "#E5ECF6",
           "radialaxis": {
            "gridcolor": "white",
            "linecolor": "white",
            "ticks": ""
           }
          },
          "scene": {
           "xaxis": {
            "backgroundcolor": "#E5ECF6",
            "gridcolor": "white",
            "gridwidth": 2,
            "linecolor": "white",
            "showbackground": true,
            "ticks": "",
            "zerolinecolor": "white"
           },
           "yaxis": {
            "backgroundcolor": "#E5ECF6",
            "gridcolor": "white",
            "gridwidth": 2,
            "linecolor": "white",
            "showbackground": true,
            "ticks": "",
            "zerolinecolor": "white"
           },
           "zaxis": {
            "backgroundcolor": "#E5ECF6",
            "gridcolor": "white",
            "gridwidth": 2,
            "linecolor": "white",
            "showbackground": true,
            "ticks": "",
            "zerolinecolor": "white"
           }
          },
          "shapedefaults": {
           "line": {
            "color": "#2a3f5f"
           }
          },
          "ternary": {
           "aaxis": {
            "gridcolor": "white",
            "linecolor": "white",
            "ticks": ""
           },
           "baxis": {
            "gridcolor": "white",
            "linecolor": "white",
            "ticks": ""
           },
           "bgcolor": "#E5ECF6",
           "caxis": {
            "gridcolor": "white",
            "linecolor": "white",
            "ticks": ""
           }
          },
          "title": {
           "x": 0.05
          },
          "xaxis": {
           "automargin": true,
           "gridcolor": "white",
           "linecolor": "white",
           "ticks": "",
           "title": {
            "standoff": 15
           },
           "zerolinecolor": "white",
           "zerolinewidth": 2
          },
          "yaxis": {
           "automargin": true,
           "gridcolor": "white",
           "linecolor": "white",
           "ticks": "",
           "title": {
            "standoff": 15
           },
           "zerolinecolor": "white",
           "zerolinewidth": 2
          }
         }
        },
        "title": {
         "text": "Missing Values"
        },
        "width": 800,
        "xaxis": {
         "anchor": "y",
         "domain": [
          0,
          1
         ],
         "title": {
          "text": "index"
         }
        },
        "yaxis": {
         "anchor": "x",
         "domain": [
          0,
          1
         ],
         "title": {
          "text": "y"
         }
        }
       }
      }
     },
     "metadata": {},
     "output_type": "display_data"
    }
   ],
   "source": [
    "# print the rows containing missing values\n",
    "# df_users[df_users.isnull().any(axis=1)]\n",
    "\n",
    "# Check missing values\n",
    "df_nans =  df_users.isnull().sum()  \n",
    "\n",
    "fig = px.bar(df_nans,             \n",
    "             y=df_nans.values,\n",
    "             x=df_nans.index,             \n",
    "             title='Missing Values',\n",
    "             height=600,\n",
    "             width=800,)\n",
    "fig.show()"
   ]
  },
  {
   "cell_type": "code",
   "execution_count": 9,
   "id": "b219f939",
   "metadata": {},
   "outputs": [
    {
     "name": "stdout",
     "output_type": "stream",
     "text": [
      "The number of unique positions names is 239\n"
     ]
    },
    {
     "data": {
      "application/vnd.plotly.v1+json": {
       "config": {
        "plotlyServerURL": "https://plot.ly"
       },
       "data": [
        {
         "alignmentgroup": "True",
         "hovertemplate": "active=%{x}<br>display_name_extension=%{y}<extra></extra>",
         "legendgroup": "",
         "marker": {
          "color": "#636efa",
          "pattern": {
           "shape": ""
          }
         },
         "name": "",
         "offsetgroup": "",
         "orientation": "h",
         "showlegend": false,
         "textposition": "auto",
         "type": "bar",
         "x": [
          179,
          155,
          122,
          109,
          95,
          91,
          88,
          84,
          82,
          80
         ],
         "xaxis": "x",
         "y": [
          "Crew Member, MD",
          "Crew Member, SEPA",
          "Crew Member, CPA",
          "Crew Member, WPA",
          "Crew Member, NEPA",
          "Advanced Crew Leader, MD",
          "Crew Member, WNC",
          "Crew Member, ENC",
          "Crew Member, SFL",
          "Advanced Crew Leader, SEPA"
         ],
         "yaxis": "y"
        }
       ],
       "layout": {
        "barmode": "stack",
        "height": 400,
        "legend": {
         "tracegroupgap": 0
        },
        "template": {
         "data": {
          "bar": [
           {
            "error_x": {
             "color": "#2a3f5f"
            },
            "error_y": {
             "color": "#2a3f5f"
            },
            "marker": {
             "line": {
              "color": "#E5ECF6",
              "width": 0.5
             },
             "pattern": {
              "fillmode": "overlay",
              "size": 10,
              "solidity": 0.2
             }
            },
            "type": "bar"
           }
          ],
          "barpolar": [
           {
            "marker": {
             "line": {
              "color": "#E5ECF6",
              "width": 0.5
             },
             "pattern": {
              "fillmode": "overlay",
              "size": 10,
              "solidity": 0.2
             }
            },
            "type": "barpolar"
           }
          ],
          "carpet": [
           {
            "aaxis": {
             "endlinecolor": "#2a3f5f",
             "gridcolor": "white",
             "linecolor": "white",
             "minorgridcolor": "white",
             "startlinecolor": "#2a3f5f"
            },
            "baxis": {
             "endlinecolor": "#2a3f5f",
             "gridcolor": "white",
             "linecolor": "white",
             "minorgridcolor": "white",
             "startlinecolor": "#2a3f5f"
            },
            "type": "carpet"
           }
          ],
          "choropleth": [
           {
            "colorbar": {
             "outlinewidth": 0,
             "ticks": ""
            },
            "type": "choropleth"
           }
          ],
          "contour": [
           {
            "colorbar": {
             "outlinewidth": 0,
             "ticks": ""
            },
            "colorscale": [
             [
              0,
              "#0d0887"
             ],
             [
              0.1111111111111111,
              "#46039f"
             ],
             [
              0.2222222222222222,
              "#7201a8"
             ],
             [
              0.3333333333333333,
              "#9c179e"
             ],
             [
              0.4444444444444444,
              "#bd3786"
             ],
             [
              0.5555555555555556,
              "#d8576b"
             ],
             [
              0.6666666666666666,
              "#ed7953"
             ],
             [
              0.7777777777777778,
              "#fb9f3a"
             ],
             [
              0.8888888888888888,
              "#fdca26"
             ],
             [
              1,
              "#f0f921"
             ]
            ],
            "type": "contour"
           }
          ],
          "contourcarpet": [
           {
            "colorbar": {
             "outlinewidth": 0,
             "ticks": ""
            },
            "type": "contourcarpet"
           }
          ],
          "heatmap": [
           {
            "colorbar": {
             "outlinewidth": 0,
             "ticks": ""
            },
            "colorscale": [
             [
              0,
              "#0d0887"
             ],
             [
              0.1111111111111111,
              "#46039f"
             ],
             [
              0.2222222222222222,
              "#7201a8"
             ],
             [
              0.3333333333333333,
              "#9c179e"
             ],
             [
              0.4444444444444444,
              "#bd3786"
             ],
             [
              0.5555555555555556,
              "#d8576b"
             ],
             [
              0.6666666666666666,
              "#ed7953"
             ],
             [
              0.7777777777777778,
              "#fb9f3a"
             ],
             [
              0.8888888888888888,
              "#fdca26"
             ],
             [
              1,
              "#f0f921"
             ]
            ],
            "type": "heatmap"
           }
          ],
          "heatmapgl": [
           {
            "colorbar": {
             "outlinewidth": 0,
             "ticks": ""
            },
            "colorscale": [
             [
              0,
              "#0d0887"
             ],
             [
              0.1111111111111111,
              "#46039f"
             ],
             [
              0.2222222222222222,
              "#7201a8"
             ],
             [
              0.3333333333333333,
              "#9c179e"
             ],
             [
              0.4444444444444444,
              "#bd3786"
             ],
             [
              0.5555555555555556,
              "#d8576b"
             ],
             [
              0.6666666666666666,
              "#ed7953"
             ],
             [
              0.7777777777777778,
              "#fb9f3a"
             ],
             [
              0.8888888888888888,
              "#fdca26"
             ],
             [
              1,
              "#f0f921"
             ]
            ],
            "type": "heatmapgl"
           }
          ],
          "histogram": [
           {
            "marker": {
             "pattern": {
              "fillmode": "overlay",
              "size": 10,
              "solidity": 0.2
             }
            },
            "type": "histogram"
           }
          ],
          "histogram2d": [
           {
            "colorbar": {
             "outlinewidth": 0,
             "ticks": ""
            },
            "colorscale": [
             [
              0,
              "#0d0887"
             ],
             [
              0.1111111111111111,
              "#46039f"
             ],
             [
              0.2222222222222222,
              "#7201a8"
             ],
             [
              0.3333333333333333,
              "#9c179e"
             ],
             [
              0.4444444444444444,
              "#bd3786"
             ],
             [
              0.5555555555555556,
              "#d8576b"
             ],
             [
              0.6666666666666666,
              "#ed7953"
             ],
             [
              0.7777777777777778,
              "#fb9f3a"
             ],
             [
              0.8888888888888888,
              "#fdca26"
             ],
             [
              1,
              "#f0f921"
             ]
            ],
            "type": "histogram2d"
           }
          ],
          "histogram2dcontour": [
           {
            "colorbar": {
             "outlinewidth": 0,
             "ticks": ""
            },
            "colorscale": [
             [
              0,
              "#0d0887"
             ],
             [
              0.1111111111111111,
              "#46039f"
             ],
             [
              0.2222222222222222,
              "#7201a8"
             ],
             [
              0.3333333333333333,
              "#9c179e"
             ],
             [
              0.4444444444444444,
              "#bd3786"
             ],
             [
              0.5555555555555556,
              "#d8576b"
             ],
             [
              0.6666666666666666,
              "#ed7953"
             ],
             [
              0.7777777777777778,
              "#fb9f3a"
             ],
             [
              0.8888888888888888,
              "#fdca26"
             ],
             [
              1,
              "#f0f921"
             ]
            ],
            "type": "histogram2dcontour"
           }
          ],
          "mesh3d": [
           {
            "colorbar": {
             "outlinewidth": 0,
             "ticks": ""
            },
            "type": "mesh3d"
           }
          ],
          "parcoords": [
           {
            "line": {
             "colorbar": {
              "outlinewidth": 0,
              "ticks": ""
             }
            },
            "type": "parcoords"
           }
          ],
          "pie": [
           {
            "automargin": true,
            "type": "pie"
           }
          ],
          "scatter": [
           {
            "fillpattern": {
             "fillmode": "overlay",
             "size": 10,
             "solidity": 0.2
            },
            "type": "scatter"
           }
          ],
          "scatter3d": [
           {
            "line": {
             "colorbar": {
              "outlinewidth": 0,
              "ticks": ""
             }
            },
            "marker": {
             "colorbar": {
              "outlinewidth": 0,
              "ticks": ""
             }
            },
            "type": "scatter3d"
           }
          ],
          "scattercarpet": [
           {
            "marker": {
             "colorbar": {
              "outlinewidth": 0,
              "ticks": ""
             }
            },
            "type": "scattercarpet"
           }
          ],
          "scattergeo": [
           {
            "marker": {
             "colorbar": {
              "outlinewidth": 0,
              "ticks": ""
             }
            },
            "type": "scattergeo"
           }
          ],
          "scattergl": [
           {
            "marker": {
             "colorbar": {
              "outlinewidth": 0,
              "ticks": ""
             }
            },
            "type": "scattergl"
           }
          ],
          "scattermapbox": [
           {
            "marker": {
             "colorbar": {
              "outlinewidth": 0,
              "ticks": ""
             }
            },
            "type": "scattermapbox"
           }
          ],
          "scatterpolar": [
           {
            "marker": {
             "colorbar": {
              "outlinewidth": 0,
              "ticks": ""
             }
            },
            "type": "scatterpolar"
           }
          ],
          "scatterpolargl": [
           {
            "marker": {
             "colorbar": {
              "outlinewidth": 0,
              "ticks": ""
             }
            },
            "type": "scatterpolargl"
           }
          ],
          "scatterternary": [
           {
            "marker": {
             "colorbar": {
              "outlinewidth": 0,
              "ticks": ""
             }
            },
            "type": "scatterternary"
           }
          ],
          "surface": [
           {
            "colorbar": {
             "outlinewidth": 0,
             "ticks": ""
            },
            "colorscale": [
             [
              0,
              "#0d0887"
             ],
             [
              0.1111111111111111,
              "#46039f"
             ],
             [
              0.2222222222222222,
              "#7201a8"
             ],
             [
              0.3333333333333333,
              "#9c179e"
             ],
             [
              0.4444444444444444,
              "#bd3786"
             ],
             [
              0.5555555555555556,
              "#d8576b"
             ],
             [
              0.6666666666666666,
              "#ed7953"
             ],
             [
              0.7777777777777778,
              "#fb9f3a"
             ],
             [
              0.8888888888888888,
              "#fdca26"
             ],
             [
              1,
              "#f0f921"
             ]
            ],
            "type": "surface"
           }
          ],
          "table": [
           {
            "cells": {
             "fill": {
              "color": "#EBF0F8"
             },
             "line": {
              "color": "white"
             }
            },
            "header": {
             "fill": {
              "color": "#C8D4E3"
             },
             "line": {
              "color": "white"
             }
            },
            "type": "table"
           }
          ]
         },
         "layout": {
          "annotationdefaults": {
           "arrowcolor": "#2a3f5f",
           "arrowhead": 0,
           "arrowwidth": 1
          },
          "autotypenumbers": "strict",
          "coloraxis": {
           "colorbar": {
            "outlinewidth": 0,
            "ticks": ""
           }
          },
          "colorscale": {
           "diverging": [
            [
             0,
             "#8e0152"
            ],
            [
             0.1,
             "#c51b7d"
            ],
            [
             0.2,
             "#de77ae"
            ],
            [
             0.3,
             "#f1b6da"
            ],
            [
             0.4,
             "#fde0ef"
            ],
            [
             0.5,
             "#f7f7f7"
            ],
            [
             0.6,
             "#e6f5d0"
            ],
            [
             0.7,
             "#b8e186"
            ],
            [
             0.8,
             "#7fbc41"
            ],
            [
             0.9,
             "#4d9221"
            ],
            [
             1,
             "#276419"
            ]
           ],
           "sequential": [
            [
             0,
             "#0d0887"
            ],
            [
             0.1111111111111111,
             "#46039f"
            ],
            [
             0.2222222222222222,
             "#7201a8"
            ],
            [
             0.3333333333333333,
             "#9c179e"
            ],
            [
             0.4444444444444444,
             "#bd3786"
            ],
            [
             0.5555555555555556,
             "#d8576b"
            ],
            [
             0.6666666666666666,
             "#ed7953"
            ],
            [
             0.7777777777777778,
             "#fb9f3a"
            ],
            [
             0.8888888888888888,
             "#fdca26"
            ],
            [
             1,
             "#f0f921"
            ]
           ],
           "sequentialminus": [
            [
             0,
             "#0d0887"
            ],
            [
             0.1111111111111111,
             "#46039f"
            ],
            [
             0.2222222222222222,
             "#7201a8"
            ],
            [
             0.3333333333333333,
             "#9c179e"
            ],
            [
             0.4444444444444444,
             "#bd3786"
            ],
            [
             0.5555555555555556,
             "#d8576b"
            ],
            [
             0.6666666666666666,
             "#ed7953"
            ],
            [
             0.7777777777777778,
             "#fb9f3a"
            ],
            [
             0.8888888888888888,
             "#fdca26"
            ],
            [
             1,
             "#f0f921"
            ]
           ]
          },
          "colorway": [
           "#636efa",
           "#EF553B",
           "#00cc96",
           "#ab63fa",
           "#FFA15A",
           "#19d3f3",
           "#FF6692",
           "#B6E880",
           "#FF97FF",
           "#FECB52"
          ],
          "font": {
           "color": "#2a3f5f"
          },
          "geo": {
           "bgcolor": "white",
           "lakecolor": "white",
           "landcolor": "#E5ECF6",
           "showlakes": true,
           "showland": true,
           "subunitcolor": "white"
          },
          "hoverlabel": {
           "align": "left"
          },
          "hovermode": "closest",
          "mapbox": {
           "style": "light"
          },
          "paper_bgcolor": "white",
          "plot_bgcolor": "#E5ECF6",
          "polar": {
           "angularaxis": {
            "gridcolor": "white",
            "linecolor": "white",
            "ticks": ""
           },
           "bgcolor": "#E5ECF6",
           "radialaxis": {
            "gridcolor": "white",
            "linecolor": "white",
            "ticks": ""
           }
          },
          "scene": {
           "xaxis": {
            "backgroundcolor": "#E5ECF6",
            "gridcolor": "white",
            "gridwidth": 2,
            "linecolor": "white",
            "showbackground": true,
            "ticks": "",
            "zerolinecolor": "white"
           },
           "yaxis": {
            "backgroundcolor": "#E5ECF6",
            "gridcolor": "white",
            "gridwidth": 2,
            "linecolor": "white",
            "showbackground": true,
            "ticks": "",
            "zerolinecolor": "white"
           },
           "zaxis": {
            "backgroundcolor": "#E5ECF6",
            "gridcolor": "white",
            "gridwidth": 2,
            "linecolor": "white",
            "showbackground": true,
            "ticks": "",
            "zerolinecolor": "white"
           }
          },
          "shapedefaults": {
           "line": {
            "color": "#2a3f5f"
           }
          },
          "ternary": {
           "aaxis": {
            "gridcolor": "white",
            "linecolor": "white",
            "ticks": ""
           },
           "baxis": {
            "gridcolor": "white",
            "linecolor": "white",
            "ticks": ""
           },
           "bgcolor": "#E5ECF6",
           "caxis": {
            "gridcolor": "white",
            "linecolor": "white",
            "ticks": ""
           }
          },
          "title": {
           "x": 0.05
          },
          "xaxis": {
           "automargin": true,
           "gridcolor": "white",
           "linecolor": "white",
           "ticks": "",
           "title": {
            "standoff": 15
           },
           "zerolinecolor": "white",
           "zerolinewidth": 2
          },
          "yaxis": {
           "automargin": true,
           "gridcolor": "white",
           "linecolor": "white",
           "ticks": "",
           "title": {
            "standoff": 15
           },
           "zerolinecolor": "white",
           "zerolinewidth": 2
          }
         }
        },
        "title": {
         "text": "Top10 Active Users by Position"
        },
        "xaxis": {
         "anchor": "y",
         "domain": [
          0,
          1
         ],
         "title": {
          "text": "active"
         }
        },
        "yaxis": {
         "anchor": "x",
         "domain": [
          0,
          1
         ],
         "title": {
          "text": "display_name_extension"
         }
        }
       }
      }
     },
     "metadata": {},
     "output_type": "display_data"
    }
   ],
   "source": [
    "# Active Users by Position\n",
    "# Active users\n",
    "df_users_active = df_users[df_users['state'] == 'active']\n",
    "\n",
    "# Group by display_name_extension\n",
    "print(f\"The number of unique positions names is {df_users_active['display_name_extension'].nunique()}\")\n",
    "position_size = df_users_active.groupby('display_name_extension')['state'].value_counts().unstack().fillna(0).sort_values('active', ascending=False).head(10)\n",
    "#print(position_size.sample(10))\n",
    "\n",
    "# Plotting\n",
    "fig = px.bar(position_size,              \n",
    "             x='active',            \n",
    "             title='Top10 Active Users by Position',\n",
    "             height=400\n",
    "             )\n",
    "\n",
    "# Update layout\n",
    "fig.update_layout(barmode='stack')\n",
    "\n",
    "fig.show()"
   ]
  },
  {
   "cell_type": "code",
   "execution_count": 10,
   "id": "edb82ecf",
   "metadata": {},
   "outputs": [
    {
     "name": "stdout",
     "output_type": "stream",
     "text": [
      "The number of unique positions names is 239\n"
     ]
    },
    {
     "data": {
      "image/png": "[encoded data removed]",
      "text/plain": [
       "<Figure size 1000x600 with 1 Axes>"
      ]
     },
     "metadata": {},
     "output_type": "display_data"
    }
   ],
   "source": [
    "import pandas as pd\n",
    "import seaborn as sns\n",
    "import matplotlib.pyplot as plt\n",
    "\n",
    "# Assuming df_users is your DataFrame and it has been loaded correctly\n",
    "\n",
    "# Filter out only active users\n",
    "df_users_active = df_users[df_users['state'] == 'active']\n",
    "\n",
    "# Display number of unique position names\n",
    "print(f\"The number of unique positions names is {df_users_active['display_name_extension'].nunique()}\")\n",
    "\n",
    "# Group by position and count active users, then sort and get the top 10\n",
    "position_size = df_users_active.groupby('display_name_extension').size().reset_index(name='counts')\n",
    "top_positions = position_size.sort_values(by='counts', ascending=False).head(10)\n",
    "\n",
    "# Plotting with seaborn\n",
    "plt.figure(figsize=(10, 6))\n",
    "bar_plot = sns.barplot(x='display_name_extension', y='counts', data=top_positions, palette='viridis')\n",
    "plt.title('Top 10 Active Users by Position')\n",
    "plt.xlabel('Position')\n",
    "plt.ylabel('Number of Active Users')\n",
    "plt.xticks(rotation=45)  # Rotate the position names for better visibility if necessary\n",
    "\n",
    "# Show the plot\n",
    "plt.show()\n"
   ]
  },
  {
   "cell_type": "code",
   "execution_count": null,
   "id": "45fae39f",
   "metadata": {},
   "outputs": [],
   "source": []
  },
  {
   "cell_type": "code",
   "execution_count": 111,
   "id": "8c1db995",
   "metadata": {},
   "outputs": [
    {
     "name": "stdout",
     "output_type": "stream",
     "text": [
      "Proportion of Active Users by Department:\n",
      "department\n",
      "Operations                94.04\n",
      "Finance                    1.01\n",
      "Risk                       0.67\n",
      "Field Operations           0.58\n",
      "Marketing                  0.43\n",
      "Warehouse                  0.38\n",
      "Business Development       0.38\n",
      "Human Resources            0.34\n",
      "HR                         0.34\n",
      "Technology                 0.34\n",
      "Risk & Safety              0.29\n",
      "Training                   0.24\n",
      "Client Services            0.24\n",
      "Employee Services          0.19\n",
      "Information Technology     0.10\n",
      "Safety                     0.10\n",
      "Analytics                  0.10\n",
      "Asset Management           0.05\n",
      "OSC                        0.05\n",
      "Facilities                 0.05\n",
      "operations                 0.05\n",
      "Resource Allocation        0.05\n",
      "Name: proportion, dtype: float64\n"
     ]
    }
   ],
   "source": [
    "# Active users proportions by department\n",
    "operations_percent = df_users_active['department'].value_counts(normalize=True).mul(100).round(2).sort_values(ascending=False)\n",
    "print(\"Proportion of Active Users by Department:\")\n",
    "print(operations_percent)"
   ]
  },
  {
   "cell_type": "code",
   "execution_count": 112,
   "id": "f03975ae",
   "metadata": {},
   "outputs": [],
   "source": [
    "# Export users data for further analysis\n",
    "# Save the data\n",
    "path = \"C:\\\\Users\\\\eduar\\\\Documents\\\\Master_Thesis\\\\GenAI_Thesis_Beekeeper\\\\data\\\\production_datasets\\\\cleaned_datasets\"\n",
    "file_name = \"users_cleaned.csv\"\n",
    "file_path = os.path.join(path, file_name)\n",
    "df_users.to_csv(file_path, index=False)"
   ]
  },
  {
   "cell_type": "markdown",
   "id": "0f5012b4",
   "metadata": {},
   "source": [
    "## 3. EDA for 'streams' data set"
   ]
  },
  {
   "cell_type": "code",
   "execution_count": 27,
   "id": "c6652afc",
   "metadata": {},
   "outputs": [
    {
     "name": "stdout",
     "output_type": "stream",
     "text": [
      "<class 'pandas.core.frame.DataFrame'>\n",
      "RangeIndex: 13 entries, 0 to 12\n",
      "Data columns (total 7 columns):\n",
      " #   Column       Non-Null Count  Dtype \n",
      "---  ------       --------------  ----- \n",
      " 0   created_at   13 non-null     object\n",
      " 1   stream_name  13 non-null     object\n",
      " 2   stream_path  13 non-null     object\n",
      " 3   stream_id    13 non-null     int64 \n",
      " 4   org_unit_id  4 non-null      object\n",
      " 5   hidden       13 non-null     bool  \n",
      " 6   description  13 non-null     object\n",
      "dtypes: bool(1), int64(1), object(5)\n",
      "memory usage: 769.0+ bytes\n",
      "None\n"
     ]
    },
    {
     "data": {
      "text/html": [
       "<div>\n",
       "<style scoped>\n",
       "    .dataframe tbody tr th:only-of-type {\n",
       "        vertical-align: middle;\n",
       "    }\n",
       "\n",
       "    .dataframe tbody tr th {\n",
       "        vertical-align: top;\n",
       "    }\n",
       "\n",
       "    .dataframe thead th {\n",
       "        text-align: right;\n",
       "    }\n",
       "</style>\n",
       "<table border=\"1\" class=\"dataframe\">\n",
       "  <thead>\n",
       "    <tr style=\"text-align: right;\">\n",
       "      <th></th>\n",
       "      <th>created_at</th>\n",
       "      <th>stream_name</th>\n",
       "      <th>stream_path</th>\n",
       "      <th>stream_id</th>\n",
       "      <th>org_unit_id</th>\n",
       "      <th>hidden</th>\n",
       "      <th>description</th>\n",
       "    </tr>\n",
       "  </thead>\n",
       "  <tbody>\n",
       "    <tr>\n",
       "      <th>0</th>\n",
       "      <td>2018-04-13T13:32:05</td>\n",
       "      <td>Water Break</td>\n",
       "      <td>waterbreak</td>\n",
       "      <td>6787</td>\n",
       "      <td>NaN</td>\n",
       "      <td>False</td>\n",
       "      <td>Share your thoughts and experiences to help us...</td>\n",
       "    </tr>\n",
       "    <tr>\n",
       "      <th>1</th>\n",
       "      <td>2018-06-11T19:09:41</td>\n",
       "      <td>Training</td>\n",
       "      <td>training</td>\n",
       "      <td>7981</td>\n",
       "      <td>NaN</td>\n",
       "      <td>True</td>\n",
       "      <td>The Official Stream for Training Info</td>\n",
       "    </tr>\n",
       "    <tr>\n",
       "      <th>2</th>\n",
       "      <td>2020-01-15T13:09:24</td>\n",
       "      <td>The Whiteboard</td>\n",
       "      <td>thewhiteboard</td>\n",
       "      <td>22706</td>\n",
       "      <td>89949fce-efd6-4d59-a214-e7164f2c9c9e</td>\n",
       "      <td>False</td>\n",
       "      <td>Connect with coworkers from the corporate camp...</td>\n",
       "    </tr>\n",
       "    <tr>\n",
       "      <th>3</th>\n",
       "      <td>2018-04-27T14:50:23</td>\n",
       "      <td>Test Stream</td>\n",
       "      <td>teststream</td>\n",
       "      <td>6943</td>\n",
       "      <td>NaN</td>\n",
       "      <td>False</td>\n",
       "      <td>For Testing Posts Before Going Live</td>\n",
       "    </tr>\n",
       "    <tr>\n",
       "      <th>4</th>\n",
       "      <td>2018-01-18T20:52:37</td>\n",
       "      <td>Safety &amp; Operations</td>\n",
       "      <td>safetyoperations</td>\n",
       "      <td>5745</td>\n",
       "      <td>NaN</td>\n",
       "      <td>False</td>\n",
       "      <td>Join weekly conversations led by our Safety an...</td>\n",
       "    </tr>\n",
       "  </tbody>\n",
       "</table>\n",
       "</div>"
      ],
      "text/plain": [
       "            created_at          stream_name       stream_path  stream_id  \\\n",
       "0  2018-04-13T13:32:05          Water Break        waterbreak       6787   \n",
       "1  2018-06-11T19:09:41             Training          training       7981   \n",
       "2  2020-01-15T13:09:24       The Whiteboard     thewhiteboard      22706   \n",
       "3  2018-04-27T14:50:23         Test Stream         teststream       6943   \n",
       "4  2018-01-18T20:52:37  Safety & Operations  safetyoperations       5745   \n",
       "\n",
       "                            org_unit_id  hidden  \\\n",
       "0                                   NaN   False   \n",
       "1                                   NaN    True   \n",
       "2  89949fce-efd6-4d59-a214-e7164f2c9c9e   False   \n",
       "3                                   NaN   False   \n",
       "4                                   NaN   False   \n",
       "\n",
       "                                         description  \n",
       "0  Share your thoughts and experiences to help us...  \n",
       "1              The Official Stream for Training Info  \n",
       "2  Connect with coworkers from the corporate camp...  \n",
       "3                For Testing Posts Before Going Live  \n",
       "4  Join weekly conversations led by our Safety an...  "
      ]
     },
     "execution_count": 27,
     "metadata": {},
     "output_type": "execute_result"
    }
   ],
   "source": [
    "# Streams data\n",
    "path = \"C:\\\\Users\\\\eduar\\\\Documents\\\\Master_Thesis\\\\GenAI_Thesis_Beekeeper\\\\data\\\\BKPR_Datasets_Samples\"\n",
    "file_name = \"streams.xlsx\"\n",
    "file_path = os.path.join(path, file_name)\n",
    "data = pd.read_excel(file_path)\n",
    "print(data.info())\n",
    "data.head()"
   ]
  },
  {
   "cell_type": "code",
   "execution_count": 29,
   "id": "1932b2cf",
   "metadata": {},
   "outputs": [
    {
     "data": {
      "text/html": [
       "<div>\n",
       "<style scoped>\n",
       "    .dataframe tbody tr th:only-of-type {\n",
       "        vertical-align: middle;\n",
       "    }\n",
       "\n",
       "    .dataframe tbody tr th {\n",
       "        vertical-align: top;\n",
       "    }\n",
       "\n",
       "    .dataframe thead th {\n",
       "        text-align: right;\n",
       "    }\n",
       "</style>\n",
       "<table border=\"1\" class=\"dataframe\">\n",
       "  <thead>\n",
       "    <tr style=\"text-align: right;\">\n",
       "      <th></th>\n",
       "      <th>created_at</th>\n",
       "      <th>stream_name</th>\n",
       "      <th>stream_path</th>\n",
       "      <th>stream_id</th>\n",
       "      <th>hidden</th>\n",
       "      <th>description</th>\n",
       "    </tr>\n",
       "  </thead>\n",
       "  <tbody>\n",
       "    <tr>\n",
       "      <th>0</th>\n",
       "      <td>2018-04-13 13:32:05</td>\n",
       "      <td>Water Break</td>\n",
       "      <td>waterbreak</td>\n",
       "      <td>6787</td>\n",
       "      <td>False</td>\n",
       "      <td>Share your thoughts and experiences to help us...</td>\n",
       "    </tr>\n",
       "    <tr>\n",
       "      <th>1</th>\n",
       "      <td>2020-01-15 13:09:24</td>\n",
       "      <td>The Whiteboard</td>\n",
       "      <td>thewhiteboard</td>\n",
       "      <td>22706</td>\n",
       "      <td>False</td>\n",
       "      <td>Connect with coworkers from the corporate camp...</td>\n",
       "    </tr>\n",
       "    <tr>\n",
       "      <th>2</th>\n",
       "      <td>2018-04-27 14:50:23</td>\n",
       "      <td>Test Stream</td>\n",
       "      <td>teststream</td>\n",
       "      <td>6943</td>\n",
       "      <td>False</td>\n",
       "      <td>For Testing Posts Before Going Live</td>\n",
       "    </tr>\n",
       "    <tr>\n",
       "      <th>3</th>\n",
       "      <td>2018-01-18 20:52:37</td>\n",
       "      <td>Safety &amp; Operations</td>\n",
       "      <td>safetyoperations</td>\n",
       "      <td>5745</td>\n",
       "      <td>False</td>\n",
       "      <td>Join weekly conversations led by our Safety an...</td>\n",
       "    </tr>\n",
       "    <tr>\n",
       "      <th>4</th>\n",
       "      <td>2020-01-15 13:31:43</td>\n",
       "      <td>OSC, We Can Help</td>\n",
       "      <td>oscwecanhelp</td>\n",
       "      <td>22708</td>\n",
       "      <td>False</td>\n",
       "      <td>Post your questions about payroll, HR, technol...</td>\n",
       "    </tr>\n",
       "    <tr>\n",
       "      <th>5</th>\n",
       "      <td>2018-08-01 12:57:09</td>\n",
       "      <td>Jobs</td>\n",
       "      <td>jobs</td>\n",
       "      <td>9254</td>\n",
       "      <td>False</td>\n",
       "      <td>Utilize this stream to view open jobs. Comment...</td>\n",
       "    </tr>\n",
       "    <tr>\n",
       "      <th>6</th>\n",
       "      <td>2017-12-20 04:30:23</td>\n",
       "      <td>Flagger Force Connect</td>\n",
       "      <td>general</td>\n",
       "      <td>5476</td>\n",
       "      <td>False</td>\n",
       "      <td>The company \"bulletin board\" and important upd...</td>\n",
       "    </tr>\n",
       "  </tbody>\n",
       "</table>\n",
       "</div>"
      ],
      "text/plain": [
       "           created_at            stream_name       stream_path  stream_id  \\\n",
       "0 2018-04-13 13:32:05            Water Break        waterbreak       6787   \n",
       "1 2020-01-15 13:09:24         The Whiteboard     thewhiteboard      22706   \n",
       "2 2018-04-27 14:50:23           Test Stream         teststream       6943   \n",
       "3 2018-01-18 20:52:37    Safety & Operations  safetyoperations       5745   \n",
       "4 2020-01-15 13:31:43       OSC, We Can Help      oscwecanhelp      22708   \n",
       "5 2018-08-01 12:57:09                   Jobs              jobs       9254   \n",
       "6 2017-12-20 04:30:23  Flagger Force Connect           general       5476   \n",
       "\n",
       "   hidden                                        description  \n",
       "0   False  Share your thoughts and experiences to help us...  \n",
       "1   False  Connect with coworkers from the corporate camp...  \n",
       "2   False                For Testing Posts Before Going Live  \n",
       "3   False  Join weekly conversations led by our Safety an...  \n",
       "4   False  Post your questions about payroll, HR, technol...  \n",
       "5   False  Utilize this stream to view open jobs. Comment...  \n",
       "6   False  The company \"bulletin board\" and important upd...  "
      ]
     },
     "execution_count": 29,
     "metadata": {},
     "output_type": "execute_result"
    }
   ],
   "source": [
    "# Active Streams\n",
    "df_streams_raw = data.copy()\n",
    "\n",
    "# Define a function to preprocess streams data\n",
    "\n",
    "def preprocess_streams(data):    \n",
    "    # Date to datetime\n",
    "    data['created_at'] = pd.to_datetime(data['created_at'])\n",
    "    \n",
    "    # Keep active streams\n",
    "    data = data[data['hidden'] == False]\n",
    "    data.drop('org_unit_id', axis=1, inplace=True)  \n",
    "    # reset index\n",
    "    data.reset_index(drop=True, inplace=True)   \n",
    "     \n",
    "    return data\n",
    "\n",
    "df_streams = preprocess_streams(df_streams_raw)\n",
    "df_streams"
   ]
  },
  {
   "cell_type": "code",
   "execution_count": 31,
   "id": "584953ff",
   "metadata": {},
   "outputs": [],
   "source": [
    "# Export streams data for further analysis\n",
    "# Save the data\n",
    "path = \"C:\\\\Users\\\\eduar\\\\Documents\\\\Master_Thesis\\\\GenAI_Thesis_Beekeeper\\\\data\\\\production_datasets\\\\cleaned_datasets\"\n",
    "file_name = \"streams_cleaned.csv\"\n",
    "file_path = os.path.join(path, file_name)\n",
    "df_streams.to_csv(file_path, index=False)"
   ]
  },
  {
   "cell_type": "markdown",
   "id": "64bff4d2",
   "metadata": {},
   "source": [
    "## 4. EDA for 'posts' data set"
   ]
  },
  {
   "cell_type": "code",
   "execution_count": 114,
   "id": "c4309900",
   "metadata": {},
   "outputs": [
    {
     "name": "stdout",
     "output_type": "stream",
     "text": [
      "<class 'pandas.core.frame.DataFrame'>\n",
      "RangeIndex: 42882 entries, 0 to 42881\n",
      "Data columns (total 12 columns):\n",
      " #   Column          Non-Null Count  Dtype \n",
      "---  ------          --------------  ----- \n",
      " 0   stream_name     42882 non-null  object\n",
      " 1   stream_id       42882 non-null  int64 \n",
      " 2   post_id         42882 non-null  int64 \n",
      " 3   poster          42881 non-null  object\n",
      " 4   action          42882 non-null  object\n",
      " 5   created         42882 non-null  object\n",
      " 6   title           36070 non-null  object\n",
      " 7   text            41829 non-null  object\n",
      " 8   like_count      42882 non-null  int64 \n",
      " 9   comment_countt  42882 non-null  int64 \n",
      " 10  mentions        5830 non-null   object\n",
      " 11  labels          6722 non-null   object\n",
      "dtypes: int64(4), object(8)\n",
      "memory usage: 3.9+ MB\n",
      "None\n"
     ]
    },
    {
     "data": {
      "text/html": [
       "<div>\n",
       "<style scoped>\n",
       "    .dataframe tbody tr th:only-of-type {\n",
       "        vertical-align: middle;\n",
       "    }\n",
       "\n",
       "    .dataframe tbody tr th {\n",
       "        vertical-align: top;\n",
       "    }\n",
       "\n",
       "    .dataframe thead th {\n",
       "        text-align: right;\n",
       "    }\n",
       "</style>\n",
       "<table border=\"1\" class=\"dataframe\">\n",
       "  <thead>\n",
       "    <tr style=\"text-align: right;\">\n",
       "      <th></th>\n",
       "      <th>stream_name</th>\n",
       "      <th>stream_id</th>\n",
       "      <th>post_id</th>\n",
       "      <th>poster</th>\n",
       "      <th>action</th>\n",
       "      <th>created</th>\n",
       "      <th>title</th>\n",
       "      <th>text</th>\n",
       "      <th>like_count</th>\n",
       "      <th>comment_countt</th>\n",
       "      <th>mentions</th>\n",
       "      <th>labels</th>\n",
       "    </tr>\n",
       "  </thead>\n",
       "  <tbody>\n",
       "    <tr>\n",
       "      <th>0</th>\n",
       "      <td>Jobs</td>\n",
       "      <td>9254</td>\n",
       "      <td>7615837</td>\n",
       "      <td>Lisa_Muegge</td>\n",
       "      <td>POSTED</td>\n",
       "      <td>2024-03-05T14:57:18</td>\n",
       "      <td>Cm Available anytime!</td>\n",
       "      <td>WNC CM available!</td>\n",
       "      <td>0</td>\n",
       "      <td>0</td>\n",
       "      <td>NaN</td>\n",
       "      <td>NaN</td>\n",
       "    </tr>\n",
       "    <tr>\n",
       "      <th>1</th>\n",
       "      <td>OSC, We Can Help</td>\n",
       "      <td>22708</td>\n",
       "      <td>7615091</td>\n",
       "      <td>Linsey_McGregor</td>\n",
       "      <td>POSTED</td>\n",
       "      <td>2024-03-05T12:39:48</td>\n",
       "      <td>Report</td>\n",
       "      <td>I'm reporting a serious matter I'm done with t...</td>\n",
       "      <td>2</td>\n",
       "      <td>2</td>\n",
       "      <td>NaN</td>\n",
       "      <td>NaN</td>\n",
       "    </tr>\n",
       "    <tr>\n",
       "      <th>2</th>\n",
       "      <td>Jobs</td>\n",
       "      <td>9254</td>\n",
       "      <td>7615025</td>\n",
       "      <td>client_services_am</td>\n",
       "      <td>POSTED</td>\n",
       "      <td>2024-03-05T12:32:24</td>\n",
       "      <td>OPEN JOBS - NOVA - 2 CM</td>\n",
       "      <td>1 CM\\nClient: Washington Gas\\nDate: 3/5/24\\nAd...</td>\n",
       "      <td>3</td>\n",
       "      <td>1</td>\n",
       "      <td>NaN</td>\n",
       "      <td>NaN</td>\n",
       "    </tr>\n",
       "    <tr>\n",
       "      <th>3</th>\n",
       "      <td>Water Break</td>\n",
       "      <td>6787</td>\n",
       "      <td>7610693</td>\n",
       "      <td>FlaggerForce</td>\n",
       "      <td>POSTED</td>\n",
       "      <td>2024-03-05T12:25:23</td>\n",
       "      <td>Week 9 of Our 2024 In-Field Promotions | Congr...</td>\n",
       "      <td>Congratulations, CLs, ACLs, and other new prom...</td>\n",
       "      <td>6</td>\n",
       "      <td>4</td>\n",
       "      <td>Rizear_Law,Joe_Hall,Leon_Witherspoon,Virginia_...</td>\n",
       "      <td>NaN</td>\n",
       "    </tr>\n",
       "    <tr>\n",
       "      <th>4</th>\n",
       "      <td>Jobs</td>\n",
       "      <td>9254</td>\n",
       "      <td>7614975</td>\n",
       "      <td>Justin_House</td>\n",
       "      <td>POSTED</td>\n",
       "      <td>2024-03-05T12:08:57</td>\n",
       "      <td>NaN</td>\n",
       "      <td>Available for emergencies…NOVA 🚨🏮🚥💦☔️❄️🤤👷🏾</td>\n",
       "      <td>4</td>\n",
       "      <td>0</td>\n",
       "      <td>NaN</td>\n",
       "      <td>NaN</td>\n",
       "    </tr>\n",
       "  </tbody>\n",
       "</table>\n",
       "</div>"
      ],
      "text/plain": [
       "        stream_name  stream_id  post_id              poster  action  \\\n",
       "0              Jobs       9254  7615837         Lisa_Muegge  POSTED   \n",
       "1  OSC, We Can Help      22708  7615091     Linsey_McGregor  POSTED   \n",
       "2              Jobs       9254  7615025  client_services_am  POSTED   \n",
       "3       Water Break       6787  7610693        FlaggerForce  POSTED   \n",
       "4              Jobs       9254  7614975        Justin_House  POSTED   \n",
       "\n",
       "               created                                              title  \\\n",
       "0  2024-03-05T14:57:18                              Cm Available anytime!   \n",
       "1  2024-03-05T12:39:48                                             Report   \n",
       "2  2024-03-05T12:32:24                            OPEN JOBS - NOVA - 2 CM   \n",
       "3  2024-03-05T12:25:23  Week 9 of Our 2024 In-Field Promotions | Congr...   \n",
       "4  2024-03-05T12:08:57                                                NaN   \n",
       "\n",
       "                                                text  like_count  \\\n",
       "0                                  WNC CM available!           0   \n",
       "1  I'm reporting a serious matter I'm done with t...           2   \n",
       "2  1 CM\\nClient: Washington Gas\\nDate: 3/5/24\\nAd...           3   \n",
       "3  Congratulations, CLs, ACLs, and other new prom...           6   \n",
       "4         Available for emergencies…NOVA 🚨🏮🚥💦☔️❄️🤤👷🏾           4   \n",
       "\n",
       "   comment_countt                                           mentions labels  \n",
       "0               0                                                NaN    NaN  \n",
       "1               2                                                NaN    NaN  \n",
       "2               1                                                NaN    NaN  \n",
       "3               4  Rizear_Law,Joe_Hall,Leon_Witherspoon,Virginia_...    NaN  \n",
       "4               0                                                NaN    NaN  "
      ]
     },
     "execution_count": 114,
     "metadata": {},
     "output_type": "execute_result"
    }
   ],
   "source": [
    "# Streams data\n",
    "path = \"C:\\\\Users\\\\eduar\\\\Documents\\\\Master_Thesis\\\\GenAI_Thesis_Beekeeper\\\\data\\\\production_datasets\\\\FlaggerForce\\\\StreamContent\"\n",
    "file_name = \"historical_posts_2022_Feb2024.csv\"\n",
    "file_path = os.path.join(path, file_name)\n",
    "data = pd.read_csv(file_path)\n",
    "print(data.info())\n",
    "data.head()"
   ]
  },
  {
   "cell_type": "code",
   "execution_count": 115,
   "id": "9f48a992",
   "metadata": {},
   "outputs": [
    {
     "data": {
      "text/html": [
       "<div>\n",
       "<style scoped>\n",
       "    .dataframe tbody tr th:only-of-type {\n",
       "        vertical-align: middle;\n",
       "    }\n",
       "\n",
       "    .dataframe tbody tr th {\n",
       "        vertical-align: top;\n",
       "    }\n",
       "\n",
       "    .dataframe thead th {\n",
       "        text-align: right;\n",
       "    }\n",
       "</style>\n",
       "<table border=\"1\" class=\"dataframe\">\n",
       "  <thead>\n",
       "    <tr style=\"text-align: right;\">\n",
       "      <th></th>\n",
       "      <th>stream_name</th>\n",
       "      <th>stream_id</th>\n",
       "      <th>post_id</th>\n",
       "      <th>poster</th>\n",
       "      <th>action</th>\n",
       "      <th>created</th>\n",
       "      <th>title</th>\n",
       "      <th>text</th>\n",
       "      <th>like_count</th>\n",
       "      <th>comment_countt</th>\n",
       "      <th>mentions</th>\n",
       "      <th>labels</th>\n",
       "    </tr>\n",
       "  </thead>\n",
       "  <tbody>\n",
       "    <tr>\n",
       "      <th>84</th>\n",
       "      <td>Water Break</td>\n",
       "      <td>6787</td>\n",
       "      <td>7607722</td>\n",
       "      <td>Laura_Land</td>\n",
       "      <td>POSTED</td>\n",
       "      <td>2024-03-03T15:21:31</td>\n",
       "      <td>NaN</td>\n",
       "      <td>NaN</td>\n",
       "      <td>3</td>\n",
       "      <td>0</td>\n",
       "      <td>NaN</td>\n",
       "      <td>NaN</td>\n",
       "    </tr>\n",
       "    <tr>\n",
       "      <th>181</th>\n",
       "      <td>Water Break</td>\n",
       "      <td>6787</td>\n",
       "      <td>7600011</td>\n",
       "      <td>Anthony_Ingao</td>\n",
       "      <td>POSTED</td>\n",
       "      <td>2024-03-01T11:53:46</td>\n",
       "      <td>NaN</td>\n",
       "      <td>NaN</td>\n",
       "      <td>1</td>\n",
       "      <td>0</td>\n",
       "      <td>NaN</td>\n",
       "      <td>NaN</td>\n",
       "    </tr>\n",
       "    <tr>\n",
       "      <th>692</th>\n",
       "      <td>Water Break</td>\n",
       "      <td>6787</td>\n",
       "      <td>7557309</td>\n",
       "      <td>Vera_Rivera</td>\n",
       "      <td>POSTED</td>\n",
       "      <td>2024-02-19T14:18:05</td>\n",
       "      <td>NaN</td>\n",
       "      <td>NaN</td>\n",
       "      <td>3</td>\n",
       "      <td>0</td>\n",
       "      <td>NaN</td>\n",
       "      <td>NaN</td>\n",
       "    </tr>\n",
       "    <tr>\n",
       "      <th>1259</th>\n",
       "      <td>Safety &amp; Operations</td>\n",
       "      <td>5745</td>\n",
       "      <td>7515525</td>\n",
       "      <td>Cody_Carey</td>\n",
       "      <td>POSTED</td>\n",
       "      <td>2024-02-07T13:48:29</td>\n",
       "      <td>NaN</td>\n",
       "      <td>NaN</td>\n",
       "      <td>14</td>\n",
       "      <td>0</td>\n",
       "      <td>NaN</td>\n",
       "      <td>NaN</td>\n",
       "    </tr>\n",
       "    <tr>\n",
       "      <th>1596</th>\n",
       "      <td>Water Break</td>\n",
       "      <td>6787</td>\n",
       "      <td>7490996</td>\n",
       "      <td>Tracey_Worley</td>\n",
       "      <td>POSTED</td>\n",
       "      <td>2024-01-31T18:03:12</td>\n",
       "      <td>NaN</td>\n",
       "      <td>NaN</td>\n",
       "      <td>28</td>\n",
       "      <td>4</td>\n",
       "      <td>NaN</td>\n",
       "      <td>NaN</td>\n",
       "    </tr>\n",
       "    <tr>\n",
       "      <th>...</th>\n",
       "      <td>...</td>\n",
       "      <td>...</td>\n",
       "      <td>...</td>\n",
       "      <td>...</td>\n",
       "      <td>...</td>\n",
       "      <td>...</td>\n",
       "      <td>...</td>\n",
       "      <td>...</td>\n",
       "      <td>...</td>\n",
       "      <td>...</td>\n",
       "      <td>...</td>\n",
       "      <td>...</td>\n",
       "    </tr>\n",
       "    <tr>\n",
       "      <th>42575</th>\n",
       "      <td>Water Break</td>\n",
       "      <td>6787</td>\n",
       "      <td>4941279</td>\n",
       "      <td>Charles_Linn</td>\n",
       "      <td>POSTED</td>\n",
       "      <td>2022-01-07T12:31:40</td>\n",
       "      <td>NaN</td>\n",
       "      <td>NaN</td>\n",
       "      <td>3</td>\n",
       "      <td>0</td>\n",
       "      <td>NaN</td>\n",
       "      <td>NaN</td>\n",
       "    </tr>\n",
       "    <tr>\n",
       "      <th>42603</th>\n",
       "      <td>Water Break</td>\n",
       "      <td>6787</td>\n",
       "      <td>4939886</td>\n",
       "      <td>Samuel_Wirtz</td>\n",
       "      <td>POSTED</td>\n",
       "      <td>2022-01-06T21:23:11</td>\n",
       "      <td>NaN</td>\n",
       "      <td>NaN</td>\n",
       "      <td>8</td>\n",
       "      <td>4</td>\n",
       "      <td>NaN</td>\n",
       "      <td>NaN</td>\n",
       "    </tr>\n",
       "    <tr>\n",
       "      <th>42637</th>\n",
       "      <td>Water Break</td>\n",
       "      <td>6787</td>\n",
       "      <td>4938018</td>\n",
       "      <td>Charles_Linn</td>\n",
       "      <td>POSTED</td>\n",
       "      <td>2022-01-06T12:47:58</td>\n",
       "      <td>NaN</td>\n",
       "      <td>NaN</td>\n",
       "      <td>2</td>\n",
       "      <td>0</td>\n",
       "      <td>NaN</td>\n",
       "      <td>NaN</td>\n",
       "    </tr>\n",
       "    <tr>\n",
       "      <th>42682</th>\n",
       "      <td>Water Break</td>\n",
       "      <td>6787</td>\n",
       "      <td>4934808</td>\n",
       "      <td>Charles_Linn</td>\n",
       "      <td>POSTED</td>\n",
       "      <td>2022-01-05T12:54:45</td>\n",
       "      <td>NaN</td>\n",
       "      <td>NaN</td>\n",
       "      <td>5</td>\n",
       "      <td>3</td>\n",
       "      <td>NaN</td>\n",
       "      <td>NaN</td>\n",
       "    </tr>\n",
       "    <tr>\n",
       "      <th>42728</th>\n",
       "      <td>Water Break</td>\n",
       "      <td>6787</td>\n",
       "      <td>4931867</td>\n",
       "      <td>Charles_Linn</td>\n",
       "      <td>POSTED</td>\n",
       "      <td>2022-01-04T12:49:50</td>\n",
       "      <td>NaN</td>\n",
       "      <td>NaN</td>\n",
       "      <td>7</td>\n",
       "      <td>2</td>\n",
       "      <td>NaN</td>\n",
       "      <td>NaN</td>\n",
       "    </tr>\n",
       "  </tbody>\n",
       "</table>\n",
       "<p>228 rows × 12 columns</p>\n",
       "</div>"
      ],
      "text/plain": [
       "               stream_name  stream_id  post_id         poster  action  \\\n",
       "84             Water Break       6787  7607722     Laura_Land  POSTED   \n",
       "181            Water Break       6787  7600011  Anthony_Ingao  POSTED   \n",
       "692            Water Break       6787  7557309    Vera_Rivera  POSTED   \n",
       "1259   Safety & Operations       5745  7515525     Cody_Carey  POSTED   \n",
       "1596           Water Break       6787  7490996  Tracey_Worley  POSTED   \n",
       "...                    ...        ...      ...            ...     ...   \n",
       "42575          Water Break       6787  4941279   Charles_Linn  POSTED   \n",
       "42603          Water Break       6787  4939886   Samuel_Wirtz  POSTED   \n",
       "42637          Water Break       6787  4938018   Charles_Linn  POSTED   \n",
       "42682          Water Break       6787  4934808   Charles_Linn  POSTED   \n",
       "42728          Water Break       6787  4931867   Charles_Linn  POSTED   \n",
       "\n",
       "                   created title text  like_count  comment_countt mentions  \\\n",
       "84     2024-03-03T15:21:31   NaN  NaN           3               0      NaN   \n",
       "181    2024-03-01T11:53:46   NaN  NaN           1               0      NaN   \n",
       "692    2024-02-19T14:18:05   NaN  NaN           3               0      NaN   \n",
       "1259   2024-02-07T13:48:29   NaN  NaN          14               0      NaN   \n",
       "1596   2024-01-31T18:03:12   NaN  NaN          28               4      NaN   \n",
       "...                    ...   ...  ...         ...             ...      ...   \n",
       "42575  2022-01-07T12:31:40   NaN  NaN           3               0      NaN   \n",
       "42603  2022-01-06T21:23:11   NaN  NaN           8               4      NaN   \n",
       "42637  2022-01-06T12:47:58   NaN  NaN           2               0      NaN   \n",
       "42682  2022-01-05T12:54:45   NaN  NaN           5               3      NaN   \n",
       "42728  2022-01-04T12:49:50   NaN  NaN           7               2      NaN   \n",
       "\n",
       "      labels  \n",
       "84       NaN  \n",
       "181      NaN  \n",
       "692      NaN  \n",
       "1259     NaN  \n",
       "1596     NaN  \n",
       "...      ...  \n",
       "42575    NaN  \n",
       "42603    NaN  \n",
       "42637    NaN  \n",
       "42682    NaN  \n",
       "42728    NaN  \n",
       "\n",
       "[228 rows x 12 columns]"
      ]
     },
     "execution_count": 115,
     "metadata": {},
     "output_type": "execute_result"
    }
   ],
   "source": [
    "# print the rows where the text and title are missing\n",
    "data[data['text'].isnull() & data['title'].isnull()]"
   ]
  },
  {
   "cell_type": "code",
   "execution_count": 118,
   "id": "1e7cb8dd",
   "metadata": {},
   "outputs": [
    {
     "name": "stdout",
     "output_type": "stream",
     "text": [
      "The date range of posts is:\n",
      "Min date: 2022-01-01 00:55:41\n",
      "Max date: 2024-03-05 14:57:18\n",
      "Date range: 794 days 14:01:37\n",
      "(42654, 15)\n"
     ]
    },
    {
     "data": {
      "text/html": [
       "<div>\n",
       "<style scoped>\n",
       "    .dataframe tbody tr th:only-of-type {\n",
       "        vertical-align: middle;\n",
       "    }\n",
       "\n",
       "    .dataframe tbody tr th {\n",
       "        vertical-align: top;\n",
       "    }\n",
       "\n",
       "    .dataframe thead th {\n",
       "        text-align: right;\n",
       "    }\n",
       "</style>\n",
       "<table border=\"1\" class=\"dataframe\">\n",
       "  <thead>\n",
       "    <tr style=\"text-align: right;\">\n",
       "      <th></th>\n",
       "      <th>stream_name</th>\n",
       "      <th>stream_id</th>\n",
       "      <th>post_id</th>\n",
       "      <th>action</th>\n",
       "      <th>created</th>\n",
       "      <th>title</th>\n",
       "      <th>text</th>\n",
       "      <th>like_count</th>\n",
       "      <th>comment_countt</th>\n",
       "      <th>mentions</th>\n",
       "      <th>labels</th>\n",
       "      <th>username</th>\n",
       "      <th>author_user_id</th>\n",
       "      <th>author_position</th>\n",
       "      <th>author_status</th>\n",
       "    </tr>\n",
       "  </thead>\n",
       "  <tbody>\n",
       "    <tr>\n",
       "      <th>0</th>\n",
       "      <td>Jobs</td>\n",
       "      <td>9254</td>\n",
       "      <td>7615837</td>\n",
       "      <td>POSTED</td>\n",
       "      <td>2024-03-05 14:57:18</td>\n",
       "      <td>Cm Available anytime!</td>\n",
       "      <td>WNC CM available!</td>\n",
       "      <td>0</td>\n",
       "      <td>0</td>\n",
       "      <td>NaN</td>\n",
       "      <td>NaN</td>\n",
       "      <td>Lisa_Muegge</td>\n",
       "      <td>d52d678b-df08-4b69-9454-06ce860e0206</td>\n",
       "      <td>Crew Member</td>\n",
       "      <td>active</td>\n",
       "    </tr>\n",
       "    <tr>\n",
       "      <th>1</th>\n",
       "      <td>OSC, We Can Help</td>\n",
       "      <td>22708</td>\n",
       "      <td>7615091</td>\n",
       "      <td>POSTED</td>\n",
       "      <td>2024-03-05 12:39:48</td>\n",
       "      <td>Report</td>\n",
       "      <td>I'm reporting a serious matter I'm done with t...</td>\n",
       "      <td>2</td>\n",
       "      <td>2</td>\n",
       "      <td>NaN</td>\n",
       "      <td>NaN</td>\n",
       "      <td>Linsey_McGregor</td>\n",
       "      <td>8db5cc91-01fa-40bb-bbd0-218846cf229a</td>\n",
       "      <td>Advanced Crew Leader</td>\n",
       "      <td>active</td>\n",
       "    </tr>\n",
       "    <tr>\n",
       "      <th>2</th>\n",
       "      <td>Jobs</td>\n",
       "      <td>9254</td>\n",
       "      <td>7615025</td>\n",
       "      <td>POSTED</td>\n",
       "      <td>2024-03-05 12:32:24</td>\n",
       "      <td>OPEN JOBS - NOVA - 2 CM</td>\n",
       "      <td>1 CM\\nClient: Washington Gas\\nDate: 3/5/24\\nAd...</td>\n",
       "      <td>3</td>\n",
       "      <td>1</td>\n",
       "      <td>NaN</td>\n",
       "      <td>NaN</td>\n",
       "      <td>client_services_am</td>\n",
       "      <td>af09ca5c-59cd-427c-96be-9bc49f613b28</td>\n",
       "      <td>NaN</td>\n",
       "      <td>active</td>\n",
       "    </tr>\n",
       "    <tr>\n",
       "      <th>3</th>\n",
       "      <td>Water Break</td>\n",
       "      <td>6787</td>\n",
       "      <td>7610693</td>\n",
       "      <td>POSTED</td>\n",
       "      <td>2024-03-05 12:25:23</td>\n",
       "      <td>Week 9 of Our 2024 In-Field Promotions | Congr...</td>\n",
       "      <td>Congratulations, CLs, ACLs, and other new prom...</td>\n",
       "      <td>6</td>\n",
       "      <td>4</td>\n",
       "      <td>Rizear_Law,Joe_Hall,Leon_Witherspoon,Virginia_...</td>\n",
       "      <td>NaN</td>\n",
       "      <td>FlaggerForce</td>\n",
       "      <td>b701ab9f-563a-4425-a389-aff803a8da58</td>\n",
       "      <td>NaN</td>\n",
       "      <td>active</td>\n",
       "    </tr>\n",
       "    <tr>\n",
       "      <th>4</th>\n",
       "      <td>Jobs</td>\n",
       "      <td>9254</td>\n",
       "      <td>7614975</td>\n",
       "      <td>POSTED</td>\n",
       "      <td>2024-03-05 12:08:57</td>\n",
       "      <td>NaN</td>\n",
       "      <td>Available for emergencies…NOVA 🚨🏮🚥💦☔️❄️🤤👷🏾</td>\n",
       "      <td>4</td>\n",
       "      <td>0</td>\n",
       "      <td>NaN</td>\n",
       "      <td>NaN</td>\n",
       "      <td>Justin_House</td>\n",
       "      <td>5c1223af-c738-498b-84d6-455a9080c914</td>\n",
       "      <td>Crew Leader</td>\n",
       "      <td>active</td>\n",
       "    </tr>\n",
       "  </tbody>\n",
       "</table>\n",
       "</div>"
      ],
      "text/plain": [
       "        stream_name  stream_id  post_id  action             created  \\\n",
       "0              Jobs       9254  7615837  POSTED 2024-03-05 14:57:18   \n",
       "1  OSC, We Can Help      22708  7615091  POSTED 2024-03-05 12:39:48   \n",
       "2              Jobs       9254  7615025  POSTED 2024-03-05 12:32:24   \n",
       "3       Water Break       6787  7610693  POSTED 2024-03-05 12:25:23   \n",
       "4              Jobs       9254  7614975  POSTED 2024-03-05 12:08:57   \n",
       "\n",
       "                                               title  \\\n",
       "0                              Cm Available anytime!   \n",
       "1                                             Report   \n",
       "2                            OPEN JOBS - NOVA - 2 CM   \n",
       "3  Week 9 of Our 2024 In-Field Promotions | Congr...   \n",
       "4                                                NaN   \n",
       "\n",
       "                                                text  like_count  \\\n",
       "0                                  WNC CM available!           0   \n",
       "1  I'm reporting a serious matter I'm done with t...           2   \n",
       "2  1 CM\\nClient: Washington Gas\\nDate: 3/5/24\\nAd...           3   \n",
       "3  Congratulations, CLs, ACLs, and other new prom...           6   \n",
       "4         Available for emergencies…NOVA 🚨🏮🚥💦☔️❄️🤤👷🏾           4   \n",
       "\n",
       "   comment_countt                                           mentions labels  \\\n",
       "0               0                                                NaN    NaN   \n",
       "1               2                                                NaN    NaN   \n",
       "2               1                                                NaN    NaN   \n",
       "3               4  Rizear_Law,Joe_Hall,Leon_Witherspoon,Virginia_...    NaN   \n",
       "4               0                                                NaN    NaN   \n",
       "\n",
       "             username                        author_user_id  \\\n",
       "0         Lisa_Muegge  d52d678b-df08-4b69-9454-06ce860e0206   \n",
       "1     Linsey_McGregor  8db5cc91-01fa-40bb-bbd0-218846cf229a   \n",
       "2  client_services_am  af09ca5c-59cd-427c-96be-9bc49f613b28   \n",
       "3        FlaggerForce  b701ab9f-563a-4425-a389-aff803a8da58   \n",
       "4        Justin_House  5c1223af-c738-498b-84d6-455a9080c914   \n",
       "\n",
       "        author_position author_status  \n",
       "0           Crew Member        active  \n",
       "1  Advanced Crew Leader        active  \n",
       "2                   NaN        active  \n",
       "3                   NaN        active  \n",
       "4           Crew Leader        active  "
      ]
     },
     "execution_count": 118,
     "metadata": {},
     "output_type": "execute_result"
    }
   ],
   "source": [
    "# Function to preprocess the data\n",
    "df_posts = data.copy()\n",
    "\n",
    "def post_preprocess(posts, df_users):\n",
    "    # Change the date format\n",
    "    posts['created'] = pd.to_datetime(posts['created'], format='ISO8601')    \n",
    "    # Delete the rows where title and text are missing\n",
    "    posts = posts[~(posts['text'].isnull() & posts['title'].isnull())]       \n",
    "\n",
    "    # date range of posts\n",
    "    print(\"The date range of posts is:\")\n",
    "    print(f\"Min date: {posts['created'].min()}\")\n",
    "    print(f\"Max date: {posts['created'].max()}\")\n",
    "    print(f\"Date range: {posts['created'].max() - posts['created'].min()}\")\n",
    "    \n",
    "    \n",
    "    # Add a new column with the state from df_users_active, connecting 'id' with 'Author User ID'\n",
    "    df = posts.merge(df_users[['username', 'id','position','state']], left_on='poster', right_on='username', how='left')\n",
    "    # Delete username columns\n",
    "    df.drop(['poster'], axis=1, inplace=True)\n",
    "    # Rename poster columns\n",
    "    df.rename(columns={'id':'author_user_id','position':'author_position','state':'author_status'}, inplace=True)\n",
    "    # Reorder columns\n",
    "    new_order = ['stream_name', 'stream_id', 'post_id', 'action', 'created',                                  \n",
    "                'title', 'text', 'like_count', 'comment_countt', 'mentions', 'labels',\n",
    "                'username', 'author_user_id', 'author_position', 'author_status']\n",
    "    df = df[new_order]\n",
    "    \n",
    "    return df\n",
    "    \n",
    "    \n",
    "df_post_user = post_preprocess(df_posts,df_users)\n",
    "print(df_post_user.shape)\n",
    "df_post_user.head()\n"
   ]
  },
  {
   "cell_type": "code",
   "execution_count": 119,
   "id": "7f1a7a79",
   "metadata": {},
   "outputs": [
    {
     "name": "stdout",
     "output_type": "stream",
     "text": [
      "             stream_name  posts  Percentage\n",
      "0                   Jobs  27375        64.2\n",
      "1            Water Break   7532        17.7\n",
      "2    Safety & Operations   3547         8.3\n",
      "3       OSC, We Can Help   2797         6.6\n",
      "4         The Whiteboard    501         1.2\n",
      "5           Test Stream     455         1.1\n",
      "6  Flagger Force Connect    411         1.0\n",
      "7             FFWRX TEST     36         0.1\n"
     ]
    },
    {
     "data": {
      "application/vnd.plotly.v1+json": {
       "config": {
        "plotlyServerURL": "https://plot.ly"
       },
       "data": [
        {
         "alignmentgroup": "True",
         "hovertemplate": "posts=%{x}<br>stream_name=%{y}<extra></extra>",
         "legendgroup": "",
         "marker": {
          "color": "#636efa",
          "pattern": {
           "shape": ""
          }
         },
         "name": "",
         "offsetgroup": "",
         "orientation": "h",
         "showlegend": false,
         "textposition": "auto",
         "type": "bar",
         "x": [
          36,
          411,
          455,
          501,
          2797,
          3547,
          7532,
          27375
         ],
         "xaxis": "x",
         "y": [
          "FFWRX TEST",
          "Flagger Force Connect",
          "Test Stream ",
          "The Whiteboard",
          "OSC, We Can Help",
          "Safety & Operations",
          "Water Break",
          "Jobs"
         ],
         "yaxis": "y"
        }
       ],
       "layout": {
        "barmode": "relative",
        "height": 600,
        "legend": {
         "tracegroupgap": 0
        },
        "template": {
         "data": {
          "bar": [
           {
            "error_x": {
             "color": "#2a3f5f"
            },
            "error_y": {
             "color": "#2a3f5f"
            },
            "marker": {
             "line": {
              "color": "#E5ECF6",
              "width": 0.5
             },
             "pattern": {
              "fillmode": "overlay",
              "size": 10,
              "solidity": 0.2
             }
            },
            "type": "bar"
           }
          ],
          "barpolar": [
           {
            "marker": {
             "line": {
              "color": "#E5ECF6",
              "width": 0.5
             },
             "pattern": {
              "fillmode": "overlay",
              "size": 10,
              "solidity": 0.2
             }
            },
            "type": "barpolar"
           }
          ],
          "carpet": [
           {
            "aaxis": {
             "endlinecolor": "#2a3f5f",
             "gridcolor": "white",
             "linecolor": "white",
             "minorgridcolor": "white",
             "startlinecolor": "#2a3f5f"
            },
            "baxis": {
             "endlinecolor": "#2a3f5f",
             "gridcolor": "white",
             "linecolor": "white",
             "minorgridcolor": "white",
             "startlinecolor": "#2a3f5f"
            },
            "type": "carpet"
           }
          ],
          "choropleth": [
           {
            "colorbar": {
             "outlinewidth": 0,
             "ticks": ""
            },
            "type": "choropleth"
           }
          ],
          "contour": [
           {
            "colorbar": {
             "outlinewidth": 0,
             "ticks": ""
            },
            "colorscale": [
             [
              0,
              "#0d0887"
             ],
             [
              0.1111111111111111,
              "#46039f"
             ],
             [
              0.2222222222222222,
              "#7201a8"
             ],
             [
              0.3333333333333333,
              "#9c179e"
             ],
             [
              0.4444444444444444,
              "#bd3786"
             ],
             [
              0.5555555555555556,
              "#d8576b"
             ],
             [
              0.6666666666666666,
              "#ed7953"
             ],
             [
              0.7777777777777778,
              "#fb9f3a"
             ],
             [
              0.8888888888888888,
              "#fdca26"
             ],
             [
              1,
              "#f0f921"
             ]
            ],
            "type": "contour"
           }
          ],
          "contourcarpet": [
           {
            "colorbar": {
             "outlinewidth": 0,
             "ticks": ""
            },
            "type": "contourcarpet"
           }
          ],
          "heatmap": [
           {
            "colorbar": {
             "outlinewidth": 0,
             "ticks": ""
            },
            "colorscale": [
             [
              0,
              "#0d0887"
             ],
             [
              0.1111111111111111,
              "#46039f"
             ],
             [
              0.2222222222222222,
              "#7201a8"
             ],
             [
              0.3333333333333333,
              "#9c179e"
             ],
             [
              0.4444444444444444,
              "#bd3786"
             ],
             [
              0.5555555555555556,
              "#d8576b"
             ],
             [
              0.6666666666666666,
              "#ed7953"
             ],
             [
              0.7777777777777778,
              "#fb9f3a"
             ],
             [
              0.8888888888888888,
              "#fdca26"
             ],
             [
              1,
              "#f0f921"
             ]
            ],
            "type": "heatmap"
           }
          ],
          "heatmapgl": [
           {
            "colorbar": {
             "outlinewidth": 0,
             "ticks": ""
            },
            "colorscale": [
             [
              0,
              "#0d0887"
             ],
             [
              0.1111111111111111,
              "#46039f"
             ],
             [
              0.2222222222222222,
              "#7201a8"
             ],
             [
              0.3333333333333333,
              "#9c179e"
             ],
             [
              0.4444444444444444,
              "#bd3786"
             ],
             [
              0.5555555555555556,
              "#d8576b"
             ],
             [
              0.6666666666666666,
              "#ed7953"
             ],
             [
              0.7777777777777778,
              "#fb9f3a"
             ],
             [
              0.8888888888888888,
              "#fdca26"
             ],
             [
              1,
              "#f0f921"
             ]
            ],
            "type": "heatmapgl"
           }
          ],
          "histogram": [
           {
            "marker": {
             "pattern": {
              "fillmode": "overlay",
              "size": 10,
              "solidity": 0.2
             }
            },
            "type": "histogram"
           }
          ],
          "histogram2d": [
           {
            "colorbar": {
             "outlinewidth": 0,
             "ticks": ""
            },
            "colorscale": [
             [
              0,
              "#0d0887"
             ],
             [
              0.1111111111111111,
              "#46039f"
             ],
             [
              0.2222222222222222,
              "#7201a8"
             ],
             [
              0.3333333333333333,
              "#9c179e"
             ],
             [
              0.4444444444444444,
              "#bd3786"
             ],
             [
              0.5555555555555556,
              "#d8576b"
             ],
             [
              0.6666666666666666,
              "#ed7953"
             ],
             [
              0.7777777777777778,
              "#fb9f3a"
             ],
             [
              0.8888888888888888,
              "#fdca26"
             ],
             [
              1,
              "#f0f921"
             ]
            ],
            "type": "histogram2d"
           }
          ],
          "histogram2dcontour": [
           {
            "colorbar": {
             "outlinewidth": 0,
             "ticks": ""
            },
            "colorscale": [
             [
              0,
              "#0d0887"
             ],
             [
              0.1111111111111111,
              "#46039f"
             ],
             [
              0.2222222222222222,
              "#7201a8"
             ],
             [
              0.3333333333333333,
              "#9c179e"
             ],
             [
              0.4444444444444444,
              "#bd3786"
             ],
             [
              0.5555555555555556,
              "#d8576b"
             ],
             [
              0.6666666666666666,
              "#ed7953"
             ],
             [
              0.7777777777777778,
              "#fb9f3a"
             ],
             [
              0.8888888888888888,
              "#fdca26"
             ],
             [
              1,
              "#f0f921"
             ]
            ],
            "type": "histogram2dcontour"
           }
          ],
          "mesh3d": [
           {
            "colorbar": {
             "outlinewidth": 0,
             "ticks": ""
            },
            "type": "mesh3d"
           }
          ],
          "parcoords": [
           {
            "line": {
             "colorbar": {
              "outlinewidth": 0,
              "ticks": ""
             }
            },
            "type": "parcoords"
           }
          ],
          "pie": [
           {
            "automargin": true,
            "type": "pie"
           }
          ],
          "scatter": [
           {
            "fillpattern": {
             "fillmode": "overlay",
             "size": 10,
             "solidity": 0.2
            },
            "type": "scatter"
           }
          ],
          "scatter3d": [
           {
            "line": {
             "colorbar": {
              "outlinewidth": 0,
              "ticks": ""
             }
            },
            "marker": {
             "colorbar": {
              "outlinewidth": 0,
              "ticks": ""
             }
            },
            "type": "scatter3d"
           }
          ],
          "scattercarpet": [
           {
            "marker": {
             "colorbar": {
              "outlinewidth": 0,
              "ticks": ""
             }
            },
            "type": "scattercarpet"
           }
          ],
          "scattergeo": [
           {
            "marker": {
             "colorbar": {
              "outlinewidth": 0,
              "ticks": ""
             }
            },
            "type": "scattergeo"
           }
          ],
          "scattergl": [
           {
            "marker": {
             "colorbar": {
              "outlinewidth": 0,
              "ticks": ""
             }
            },
            "type": "scattergl"
           }
          ],
          "scattermapbox": [
           {
            "marker": {
             "colorbar": {
              "outlinewidth": 0,
              "ticks": ""
             }
            },
            "type": "scattermapbox"
           }
          ],
          "scatterpolar": [
           {
            "marker": {
             "colorbar": {
              "outlinewidth": 0,
              "ticks": ""
             }
            },
            "type": "scatterpolar"
           }
          ],
          "scatterpolargl": [
           {
            "marker": {
             "colorbar": {
              "outlinewidth": 0,
              "ticks": ""
             }
            },
            "type": "scatterpolargl"
           }
          ],
          "scatterternary": [
           {
            "marker": {
             "colorbar": {
              "outlinewidth": 0,
              "ticks": ""
             }
            },
            "type": "scatterternary"
           }
          ],
          "surface": [
           {
            "colorbar": {
             "outlinewidth": 0,
             "ticks": ""
            },
            "colorscale": [
             [
              0,
              "#0d0887"
             ],
             [
              0.1111111111111111,
              "#46039f"
             ],
             [
              0.2222222222222222,
              "#7201a8"
             ],
             [
              0.3333333333333333,
              "#9c179e"
             ],
             [
              0.4444444444444444,
              "#bd3786"
             ],
             [
              0.5555555555555556,
              "#d8576b"
             ],
             [
              0.6666666666666666,
              "#ed7953"
             ],
             [
              0.7777777777777778,
              "#fb9f3a"
             ],
             [
              0.8888888888888888,
              "#fdca26"
             ],
             [
              1,
              "#f0f921"
             ]
            ],
            "type": "surface"
           }
          ],
          "table": [
           {
            "cells": {
             "fill": {
              "color": "#EBF0F8"
             },
             "line": {
              "color": "white"
             }
            },
            "header": {
             "fill": {
              "color": "#C8D4E3"
             },
             "line": {
              "color": "white"
             }
            },
            "type": "table"
           }
          ]
         },
         "layout": {
          "annotationdefaults": {
           "arrowcolor": "#2a3f5f",
           "arrowhead": 0,
           "arrowwidth": 1
          },
          "autotypenumbers": "strict",
          "coloraxis": {
           "colorbar": {
            "outlinewidth": 0,
            "ticks": ""
           }
          },
          "colorscale": {
           "diverging": [
            [
             0,
             "#8e0152"
            ],
            [
             0.1,
             "#c51b7d"
            ],
            [
             0.2,
             "#de77ae"
            ],
            [
             0.3,
             "#f1b6da"
            ],
            [
             0.4,
             "#fde0ef"
            ],
            [
             0.5,
             "#f7f7f7"
            ],
            [
             0.6,
             "#e6f5d0"
            ],
            [
             0.7,
             "#b8e186"
            ],
            [
             0.8,
             "#7fbc41"
            ],
            [
             0.9,
             "#4d9221"
            ],
            [
             1,
             "#276419"
            ]
           ],
           "sequential": [
            [
             0,
             "#0d0887"
            ],
            [
             0.1111111111111111,
             "#46039f"
            ],
            [
             0.2222222222222222,
             "#7201a8"
            ],
            [
             0.3333333333333333,
             "#9c179e"
            ],
            [
             0.4444444444444444,
             "#bd3786"
            ],
            [
             0.5555555555555556,
             "#d8576b"
            ],
            [
             0.6666666666666666,
             "#ed7953"
            ],
            [
             0.7777777777777778,
             "#fb9f3a"
            ],
            [
             0.8888888888888888,
             "#fdca26"
            ],
            [
             1,
             "#f0f921"
            ]
           ],
           "sequentialminus": [
            [
             0,
             "#0d0887"
            ],
            [
             0.1111111111111111,
             "#46039f"
            ],
            [
             0.2222222222222222,
             "#7201a8"
            ],
            [
             0.3333333333333333,
             "#9c179e"
            ],
            [
             0.4444444444444444,
             "#bd3786"
            ],
            [
             0.5555555555555556,
             "#d8576b"
            ],
            [
             0.6666666666666666,
             "#ed7953"
            ],
            [
             0.7777777777777778,
             "#fb9f3a"
            ],
            [
             0.8888888888888888,
             "#fdca26"
            ],
            [
             1,
             "#f0f921"
            ]
           ]
          },
          "colorway": [
           "#636efa",
           "#EF553B",
           "#00cc96",
           "#ab63fa",
           "#FFA15A",
           "#19d3f3",
           "#FF6692",
           "#B6E880",
           "#FF97FF",
           "#FECB52"
          ],
          "font": {
           "color": "#2a3f5f"
          },
          "geo": {
           "bgcolor": "white",
           "lakecolor": "white",
           "landcolor": "#E5ECF6",
           "showlakes": true,
           "showland": true,
           "subunitcolor": "white"
          },
          "hoverlabel": {
           "align": "left"
          },
          "hovermode": "closest",
          "mapbox": {
           "style": "light"
          },
          "paper_bgcolor": "white",
          "plot_bgcolor": "#E5ECF6",
          "polar": {
           "angularaxis": {
            "gridcolor": "white",
            "linecolor": "white",
            "ticks": ""
           },
           "bgcolor": "#E5ECF6",
           "radialaxis": {
            "gridcolor": "white",
            "linecolor": "white",
            "ticks": ""
           }
          },
          "scene": {
           "xaxis": {
            "backgroundcolor": "#E5ECF6",
            "gridcolor": "white",
            "gridwidth": 2,
            "linecolor": "white",
            "showbackground": true,
            "ticks": "",
            "zerolinecolor": "white"
           },
           "yaxis": {
            "backgroundcolor": "#E5ECF6",
            "gridcolor": "white",
            "gridwidth": 2,
            "linecolor": "white",
            "showbackground": true,
            "ticks": "",
            "zerolinecolor": "white"
           },
           "zaxis": {
            "backgroundcolor": "#E5ECF6",
            "gridcolor": "white",
            "gridwidth": 2,
            "linecolor": "white",
            "showbackground": true,
            "ticks": "",
            "zerolinecolor": "white"
           }
          },
          "shapedefaults": {
           "line": {
            "color": "#2a3f5f"
           }
          },
          "ternary": {
           "aaxis": {
            "gridcolor": "white",
            "linecolor": "white",
            "ticks": ""
           },
           "baxis": {
            "gridcolor": "white",
            "linecolor": "white",
            "ticks": ""
           },
           "bgcolor": "#E5ECF6",
           "caxis": {
            "gridcolor": "white",
            "linecolor": "white",
            "ticks": ""
           }
          },
          "title": {
           "x": 0.05
          },
          "xaxis": {
           "automargin": true,
           "gridcolor": "white",
           "linecolor": "white",
           "ticks": "",
           "title": {
            "standoff": 15
           },
           "zerolinecolor": "white",
           "zerolinewidth": 2
          },
          "yaxis": {
           "automargin": true,
           "gridcolor": "white",
           "linecolor": "white",
           "ticks": "",
           "title": {
            "standoff": 15
           },
           "zerolinecolor": "white",
           "zerolinewidth": 2
          }
         }
        },
        "title": {
         "font": {
          "size": 20
         },
         "text": "Posts by stream_name",
         "x": 0.5
        },
        "width": 1000,
        "xaxis": {
         "anchor": "y",
         "domain": [
          0,
          1
         ],
         "title": {
          "text": "Number of Posts"
         }
        },
        "yaxis": {
         "anchor": "x",
         "domain": [
          0,
          1
         ],
         "title": {
          "text": "stream_name"
         }
        }
       }
      }
     },
     "metadata": {},
     "output_type": "display_data"
    }
   ],
   "source": [
    "# Distribution of posts by stream\n",
    "#posts_by_stream = df_post_user['stream_name'].value_counts()\n",
    "posts_by_stream = df_post_user.groupby('stream_name')['post_id'].size().sort_values(ascending=False)\n",
    "# add a column with the percentage of posts by stream\n",
    "posts_by_stream = posts_by_stream.to_frame().reset_index()\n",
    "posts_by_stream.columns = ['stream_name', 'posts']\n",
    "posts_by_stream['Percentage'] = round(posts_by_stream['posts'] / posts_by_stream['posts'].sum() * 100,1)\n",
    "print(posts_by_stream)\n",
    "\n",
    "# Sort the posts_by_stream DataFrame in descending order\n",
    "posts_by_stream = posts_by_stream.sort_values('posts', ascending=True)\n",
    "# Plotting\n",
    "fig = px.bar(posts_by_stream,              \n",
    "             x='posts',\n",
    "             y='stream_name',             \n",
    "             title='Posts by stream_name',\n",
    "             height=600,\n",
    "             width=1000            \n",
    "            )\n",
    "\n",
    "# Update the layout\n",
    "fig.update_layout(xaxis_title='Number of Posts',\n",
    "                  yaxis_title='stream_name',\n",
    "                  title_x=0.5,\n",
    "                  title_font_size=20)\n",
    "\n",
    "fig.show()"
   ]
  },
  {
   "cell_type": "code",
   "execution_count": 120,
   "id": "a7489eb6",
   "metadata": {},
   "outputs": [
    {
     "data": {
      "text/html": [
       "<div>\n",
       "<style scoped>\n",
       "    .dataframe tbody tr th:only-of-type {\n",
       "        vertical-align: middle;\n",
       "    }\n",
       "\n",
       "    .dataframe tbody tr th {\n",
       "        vertical-align: top;\n",
       "    }\n",
       "\n",
       "    .dataframe thead th {\n",
       "        text-align: right;\n",
       "    }\n",
       "</style>\n",
       "<table border=\"1\" class=\"dataframe\">\n",
       "  <thead>\n",
       "    <tr style=\"text-align: right;\">\n",
       "      <th></th>\n",
       "      <th>post_id</th>\n",
       "      <th>title</th>\n",
       "      <th>like_count</th>\n",
       "    </tr>\n",
       "  </thead>\n",
       "  <tbody>\n",
       "    <tr>\n",
       "      <th>24239</th>\n",
       "      <td>6714760</td>\n",
       "      <td>Danny Rice - Words cannot express my gratitude!</td>\n",
       "      <td>91</td>\n",
       "    </tr>\n",
       "    <tr>\n",
       "      <th>34503</th>\n",
       "      <td>7482280</td>\n",
       "      <td>A Safety Announcement (1.29.2024)</td>\n",
       "      <td>75</td>\n",
       "    </tr>\n",
       "    <tr>\n",
       "      <th>29667</th>\n",
       "      <td>7142545</td>\n",
       "      <td>Celebrating a decade of service to others - Ch...</td>\n",
       "      <td>69</td>\n",
       "    </tr>\n",
       "    <tr>\n",
       "      <th>6095</th>\n",
       "      <td>5319511</td>\n",
       "      <td>Celebrating 10 years of Dedication, Growth &amp; C...</td>\n",
       "      <td>64</td>\n",
       "    </tr>\n",
       "    <tr>\n",
       "      <th>27891</th>\n",
       "      <td>6996657</td>\n",
       "      <td>Safety Announcement</td>\n",
       "      <td>60</td>\n",
       "    </tr>\n",
       "    <tr>\n",
       "      <th>1734</th>\n",
       "      <td>5034038</td>\n",
       "      <td>1st in Flagger Force - History - Ron Brooks - ...</td>\n",
       "      <td>60</td>\n",
       "    </tr>\n",
       "    <tr>\n",
       "      <th>14642</th>\n",
       "      <td>5980180</td>\n",
       "      <td>Happy 5th Anniversary - Tamara...  AND ITZ!</td>\n",
       "      <td>60</td>\n",
       "    </tr>\n",
       "    <tr>\n",
       "      <th>32440</th>\n",
       "      <td>7358600</td>\n",
       "      <td>Celebrating an unsung hero of the OSC - Seth L...</td>\n",
       "      <td>59</td>\n",
       "    </tr>\n",
       "    <tr>\n",
       "      <th>29026</th>\n",
       "      <td>7083413</td>\n",
       "      <td>Celebrating 5 years of Paula Rosen supporting ...</td>\n",
       "      <td>59</td>\n",
       "    </tr>\n",
       "    <tr>\n",
       "      <th>4460</th>\n",
       "      <td>5221695</td>\n",
       "      <td>The Donna Hoffer Story</td>\n",
       "      <td>57</td>\n",
       "    </tr>\n",
       "  </tbody>\n",
       "</table>\n",
       "</div>"
      ],
      "text/plain": [
       "       post_id                                              title  like_count\n",
       "24239  6714760    Danny Rice - Words cannot express my gratitude!          91\n",
       "34503  7482280                  A Safety Announcement (1.29.2024)          75\n",
       "29667  7142545  Celebrating a decade of service to others - Ch...          69\n",
       "6095   5319511  Celebrating 10 years of Dedication, Growth & C...          64\n",
       "27891  6996657                                Safety Announcement          60\n",
       "1734   5034038  1st in Flagger Force - History - Ron Brooks - ...          60\n",
       "14642  5980180        Happy 5th Anniversary - Tamara...  AND ITZ!          60\n",
       "32440  7358600  Celebrating an unsung hero of the OSC - Seth L...          59\n",
       "29026  7083413  Celebrating 5 years of Paula Rosen supporting ...          59\n",
       "4460   5221695                             The Donna Hoffer Story          57"
      ]
     },
     "execution_count": 120,
     "metadata": {},
     "output_type": "execute_result"
    }
   ],
   "source": [
    "# Find the most popular posts\n",
    "# Group by post_id\n",
    "df_popular_post = df_post_user.groupby(['post_id','title','like_count']).size().reset_index(name='count')\n",
    "\n",
    "# Delete column count\n",
    "df_popular_post.drop('count', axis=1, inplace=True)\n",
    "df_popular_post.sort_values('like_count', ascending=False).head(10)"
   ]
  },
  {
   "cell_type": "code",
   "execution_count": 125,
   "id": "9e50a194",
   "metadata": {},
   "outputs": [
    {
     "data": {
      "text/plain": [
       "42654"
      ]
     },
     "execution_count": 125,
     "metadata": {},
     "output_type": "execute_result"
    }
   ],
   "source": [
    "len(df_post_user['post_id'].unique())"
   ]
  },
  {
   "cell_type": "code",
   "execution_count": 122,
   "id": "48b6f4c4",
   "metadata": {},
   "outputs": [
    {
     "name": "stdout",
     "output_type": "stream",
     "text": [
      "<class 'pandas.core.frame.DataFrame'>\n",
      "RangeIndex: 42654 entries, 0 to 42653\n",
      "Data columns (total 15 columns):\n",
      " #   Column           Non-Null Count  Dtype         \n",
      "---  ------           --------------  -----         \n",
      " 0   stream_name      42654 non-null  object        \n",
      " 1   stream_id        42654 non-null  int64         \n",
      " 2   post_id          42654 non-null  int64         \n",
      " 3   action           42654 non-null  object        \n",
      " 4   created          42654 non-null  datetime64[ns]\n",
      " 5   title            36070 non-null  object        \n",
      " 6   text             41829 non-null  object        \n",
      " 7   like_count       42654 non-null  int64         \n",
      " 8   comment_countt   42654 non-null  int64         \n",
      " 9   mentions         5830 non-null   object        \n",
      " 10  labels           6716 non-null   object        \n",
      " 11  username         42653 non-null  object        \n",
      " 12  author_user_id   42653 non-null  object        \n",
      " 13  author_position  34810 non-null  object        \n",
      " 14  author_status    42653 non-null  object        \n",
      "dtypes: datetime64[ns](1), int64(4), object(10)\n",
      "memory usage: 4.9+ MB\n"
     ]
    }
   ],
   "source": [
    "df_post_user.info()"
   ]
  },
  {
   "cell_type": "code",
   "execution_count": 121,
   "id": "2bd1be67",
   "metadata": {},
   "outputs": [],
   "source": [
    "# Export users data for further analysis\n",
    "# Save the data\n",
    "path = \"C:\\\\Users\\\\eduar\\\\Documents\\\\Master_Thesis\\\\GenAI_Thesis_Beekeeper\\\\data\\\\production_datasets\\\\cleaned_datasets\"\n",
    "file_name = \"posts_cleaned.csv\"\n",
    "file_path = os.path.join(path, file_name)\n",
    "df_post_user.to_csv(file_path, index=False)"
   ]
  },
  {
   "cell_type": "code",
   "execution_count": null,
   "id": "f3996ced",
   "metadata": {},
   "outputs": [],
   "source": []
  },
  {
   "cell_type": "markdown",
   "id": "c903353e",
   "metadata": {},
   "source": [
    "## 5. EDA for 'comments' data set"
   ]
  },
  {
   "cell_type": "code",
   "execution_count": 91,
   "id": "1296397f",
   "metadata": {},
   "outputs": [
    {
     "name": "stdout",
     "output_type": "stream",
     "text": [
      "<class 'pandas.core.frame.DataFrame'>\n",
      "RangeIndex: 140037 entries, 0 to 140036\n",
      "Data columns (total 8 columns):\n",
      " #   Column        Non-Null Count   Dtype \n",
      "---  ------        --------------   ----- \n",
      " 0   stream_name   140037 non-null  object\n",
      " 1   created_date  140037 non-null  object\n",
      " 2   post_id       140037 non-null  int64 \n",
      " 3   comment_id    140037 non-null  int64 \n",
      " 4   username      140037 non-null  object\n",
      " 5   comment_text  140035 non-null  object\n",
      " 6   like_count    140037 non-null  int64 \n",
      " 7   report_count  140037 non-null  int64 \n",
      "dtypes: int64(4), object(4)\n",
      "memory usage: 8.5+ MB\n",
      "None\n"
     ]
    },
    {
     "data": {
      "text/html": [
       "<div>\n",
       "<style scoped>\n",
       "    .dataframe tbody tr th:only-of-type {\n",
       "        vertical-align: middle;\n",
       "    }\n",
       "\n",
       "    .dataframe tbody tr th {\n",
       "        vertical-align: top;\n",
       "    }\n",
       "\n",
       "    .dataframe thead th {\n",
       "        text-align: right;\n",
       "    }\n",
       "</style>\n",
       "<table border=\"1\" class=\"dataframe\">\n",
       "  <thead>\n",
       "    <tr style=\"text-align: right;\">\n",
       "      <th></th>\n",
       "      <th>stream_name</th>\n",
       "      <th>created_date</th>\n",
       "      <th>post_id</th>\n",
       "      <th>comment_id</th>\n",
       "      <th>username</th>\n",
       "      <th>comment_text</th>\n",
       "      <th>like_count</th>\n",
       "      <th>report_count</th>\n",
       "    </tr>\n",
       "  </thead>\n",
       "  <tbody>\n",
       "    <tr>\n",
       "      <th>0</th>\n",
       "      <td>Water Break</td>\n",
       "      <td>2024-03-05T15:15:55</td>\n",
       "      <td>7612625</td>\n",
       "      <td>6866587</td>\n",
       "      <td>FlaggerForce</td>\n",
       "      <td>Congratulations and a great addition to the te...</td>\n",
       "      <td>0</td>\n",
       "      <td>0</td>\n",
       "    </tr>\n",
       "    <tr>\n",
       "      <th>1</th>\n",
       "      <td>Water Break</td>\n",
       "      <td>2024-03-05T15:10:47</td>\n",
       "      <td>7612663</td>\n",
       "      <td>6866567</td>\n",
       "      <td>FlaggerForce</td>\n",
       "      <td>Hello team, remember to have safety discussion...</td>\n",
       "      <td>0</td>\n",
       "      <td>0</td>\n",
       "    </tr>\n",
       "    <tr>\n",
       "      <th>2</th>\n",
       "      <td>Water Break</td>\n",
       "      <td>2024-03-05T15:08:29</td>\n",
       "      <td>7613861</td>\n",
       "      <td>6866561</td>\n",
       "      <td>FlaggerForce</td>\n",
       "      <td>@Larry_Broderick, both our moderation team and...</td>\n",
       "      <td>0</td>\n",
       "      <td>0</td>\n",
       "    </tr>\n",
       "    <tr>\n",
       "      <th>3</th>\n",
       "      <td>Safety &amp; Operations</td>\n",
       "      <td>2024-03-05T15:04:42</td>\n",
       "      <td>7613237</td>\n",
       "      <td>6866545</td>\n",
       "      <td>FlaggerForce</td>\n",
       "      <td>@William_Pulliam, we appreciate you being prou...</td>\n",
       "      <td>0</td>\n",
       "      <td>0</td>\n",
       "    </tr>\n",
       "    <tr>\n",
       "      <th>4</th>\n",
       "      <td>Safety &amp; Operations</td>\n",
       "      <td>2024-03-05T15:02:47</td>\n",
       "      <td>7613255</td>\n",
       "      <td>6866539</td>\n",
       "      <td>FlaggerForce</td>\n",
       "      <td>We appreciate you supporting @Dennis_Cumbie, @...</td>\n",
       "      <td>0</td>\n",
       "      <td>0</td>\n",
       "    </tr>\n",
       "  </tbody>\n",
       "</table>\n",
       "</div>"
      ],
      "text/plain": [
       "           stream_name         created_date  post_id  comment_id  \\\n",
       "0          Water Break  2024-03-05T15:15:55  7612625     6866587   \n",
       "1          Water Break  2024-03-05T15:10:47  7612663     6866567   \n",
       "2          Water Break  2024-03-05T15:08:29  7613861     6866561   \n",
       "3  Safety & Operations  2024-03-05T15:04:42  7613237     6866545   \n",
       "4  Safety & Operations  2024-03-05T15:02:47  7613255     6866539   \n",
       "\n",
       "       username                                       comment_text  \\\n",
       "0  FlaggerForce  Congratulations and a great addition to the te...   \n",
       "1  FlaggerForce  Hello team, remember to have safety discussion...   \n",
       "2  FlaggerForce  @Larry_Broderick, both our moderation team and...   \n",
       "3  FlaggerForce  @William_Pulliam, we appreciate you being prou...   \n",
       "4  FlaggerForce  We appreciate you supporting @Dennis_Cumbie, @...   \n",
       "\n",
       "   like_count  report_count  \n",
       "0           0             0  \n",
       "1           0             0  \n",
       "2           0             0  \n",
       "3           0             0  \n",
       "4           0             0  "
      ]
     },
     "execution_count": 91,
     "metadata": {},
     "output_type": "execute_result"
    }
   ],
   "source": [
    "# Users data\n",
    "path = \"C:\\\\Users\\\\eduar\\\\Documents\\\\Master_Thesis\\\\GenAI_Thesis_Beekeeper\\\\data\\\\production_datasets\\\\FlaggerForce\\\\StreamContent\"\n",
    "file_name = \"historical_comments_2022_2024Feb.csv\"\n",
    "file_path = os.path.join(path, file_name)\n",
    "data = pd.read_csv(file_path)\n",
    "print(data.info())\n",
    "# print(f'The columns are: {data.columns}')\n",
    "data.head()"
   ]
  },
  {
   "cell_type": "code",
   "execution_count": 96,
   "id": "54da0c28",
   "metadata": {},
   "outputs": [
    {
     "data": {
      "text/html": [
       "<div>\n",
       "<style scoped>\n",
       "    .dataframe tbody tr th:only-of-type {\n",
       "        vertical-align: middle;\n",
       "    }\n",
       "\n",
       "    .dataframe tbody tr th {\n",
       "        vertical-align: top;\n",
       "    }\n",
       "\n",
       "    .dataframe thead th {\n",
       "        text-align: right;\n",
       "    }\n",
       "</style>\n",
       "<table border=\"1\" class=\"dataframe\">\n",
       "  <thead>\n",
       "    <tr style=\"text-align: right;\">\n",
       "      <th></th>\n",
       "      <th>stream_name</th>\n",
       "      <th>created_date</th>\n",
       "      <th>post_id</th>\n",
       "      <th>comment_id</th>\n",
       "      <th>username</th>\n",
       "      <th>comment_text</th>\n",
       "      <th>like_count</th>\n",
       "      <th>report_count</th>\n",
       "    </tr>\n",
       "  </thead>\n",
       "  <tbody>\n",
       "    <tr>\n",
       "      <th>4811</th>\n",
       "      <td>Jobs</td>\n",
       "      <td>2024-02-03T17:41:11</td>\n",
       "      <td>7503907</td>\n",
       "      <td>6744767</td>\n",
       "      <td>David_Harrison</td>\n",
       "      <td>NaN</td>\n",
       "      <td>0</td>\n",
       "      <td>0</td>\n",
       "    </tr>\n",
       "    <tr>\n",
       "      <th>122638</th>\n",
       "      <td>Jobs</td>\n",
       "      <td>2022-04-06T12:22:24</td>\n",
       "      <td>5206040</td>\n",
       "      <td>4192982</td>\n",
       "      <td>Tiffany_Silver</td>\n",
       "      <td>NaN</td>\n",
       "      <td>0</td>\n",
       "      <td>1</td>\n",
       "    </tr>\n",
       "  </tbody>\n",
       "</table>\n",
       "</div>"
      ],
      "text/plain": [
       "       stream_name         created_date  post_id  comment_id        username  \\\n",
       "4811          Jobs  2024-02-03T17:41:11  7503907     6744767  David_Harrison   \n",
       "122638        Jobs  2022-04-06T12:22:24  5206040     4192982  Tiffany_Silver   \n",
       "\n",
       "       comment_text  like_count  report_count  \n",
       "4811            NaN           0             0  \n",
       "122638          NaN           0             1  "
      ]
     },
     "execution_count": 96,
     "metadata": {},
     "output_type": "execute_result"
    }
   ],
   "source": [
    "# print the rows where the text and title are missing\n",
    "data[data['comment_text'].isnull()]"
   ]
  },
  {
   "cell_type": "code",
   "execution_count": 100,
   "id": "50abede5",
   "metadata": {},
   "outputs": [
    {
     "name": "stdout",
     "output_type": "stream",
     "text": [
      "The date range of comments is:\n",
      "Min date: 2022-01-01 00:01:26\n",
      "Max date: 2024-03-05 15:15:55\n",
      "Date range: 794 days 15:14:29\n"
     ]
    },
    {
     "data": {
      "text/html": [
       "<div>\n",
       "<style scoped>\n",
       "    .dataframe tbody tr th:only-of-type {\n",
       "        vertical-align: middle;\n",
       "    }\n",
       "\n",
       "    .dataframe tbody tr th {\n",
       "        vertical-align: top;\n",
       "    }\n",
       "\n",
       "    .dataframe thead th {\n",
       "        text-align: right;\n",
       "    }\n",
       "</style>\n",
       "<table border=\"1\" class=\"dataframe\">\n",
       "  <thead>\n",
       "    <tr style=\"text-align: right;\">\n",
       "      <th></th>\n",
       "      <th>stream_name</th>\n",
       "      <th>created_date</th>\n",
       "      <th>post_id</th>\n",
       "      <th>comment_id</th>\n",
       "      <th>comment_text</th>\n",
       "      <th>like_count</th>\n",
       "      <th>report_count</th>\n",
       "      <th>username</th>\n",
       "      <th>author_user_id</th>\n",
       "      <th>author_position</th>\n",
       "      <th>author_status</th>\n",
       "    </tr>\n",
       "  </thead>\n",
       "  <tbody>\n",
       "    <tr>\n",
       "      <th>0</th>\n",
       "      <td>Water Break</td>\n",
       "      <td>2024-03-05 15:15:55</td>\n",
       "      <td>7612625</td>\n",
       "      <td>6866587</td>\n",
       "      <td>Congratulations and a great addition to the te...</td>\n",
       "      <td>0</td>\n",
       "      <td>0</td>\n",
       "      <td>FlaggerForce</td>\n",
       "      <td>b701ab9f-563a-4425-a389-aff803a8da58</td>\n",
       "      <td>NaN</td>\n",
       "      <td>active</td>\n",
       "    </tr>\n",
       "    <tr>\n",
       "      <th>1</th>\n",
       "      <td>Water Break</td>\n",
       "      <td>2024-03-05 15:10:47</td>\n",
       "      <td>7612663</td>\n",
       "      <td>6866567</td>\n",
       "      <td>Hello team, remember to have safety discussion...</td>\n",
       "      <td>0</td>\n",
       "      <td>0</td>\n",
       "      <td>FlaggerForce</td>\n",
       "      <td>b701ab9f-563a-4425-a389-aff803a8da58</td>\n",
       "      <td>NaN</td>\n",
       "      <td>active</td>\n",
       "    </tr>\n",
       "    <tr>\n",
       "      <th>2</th>\n",
       "      <td>Water Break</td>\n",
       "      <td>2024-03-05 15:08:29</td>\n",
       "      <td>7613861</td>\n",
       "      <td>6866561</td>\n",
       "      <td>@Larry_Broderick, both our moderation team and...</td>\n",
       "      <td>0</td>\n",
       "      <td>0</td>\n",
       "      <td>FlaggerForce</td>\n",
       "      <td>b701ab9f-563a-4425-a389-aff803a8da58</td>\n",
       "      <td>NaN</td>\n",
       "      <td>active</td>\n",
       "    </tr>\n",
       "    <tr>\n",
       "      <th>3</th>\n",
       "      <td>Safety &amp; Operations</td>\n",
       "      <td>2024-03-05 15:04:42</td>\n",
       "      <td>7613237</td>\n",
       "      <td>6866545</td>\n",
       "      <td>@William_Pulliam, we appreciate you being prou...</td>\n",
       "      <td>0</td>\n",
       "      <td>0</td>\n",
       "      <td>FlaggerForce</td>\n",
       "      <td>b701ab9f-563a-4425-a389-aff803a8da58</td>\n",
       "      <td>NaN</td>\n",
       "      <td>active</td>\n",
       "    </tr>\n",
       "    <tr>\n",
       "      <th>4</th>\n",
       "      <td>Safety &amp; Operations</td>\n",
       "      <td>2024-03-05 15:02:47</td>\n",
       "      <td>7613255</td>\n",
       "      <td>6866539</td>\n",
       "      <td>We appreciate you supporting @Dennis_Cumbie, @...</td>\n",
       "      <td>0</td>\n",
       "      <td>0</td>\n",
       "      <td>FlaggerForce</td>\n",
       "      <td>b701ab9f-563a-4425-a389-aff803a8da58</td>\n",
       "      <td>NaN</td>\n",
       "      <td>active</td>\n",
       "    </tr>\n",
       "  </tbody>\n",
       "</table>\n",
       "</div>"
      ],
      "text/plain": [
       "           stream_name        created_date  post_id  comment_id  \\\n",
       "0          Water Break 2024-03-05 15:15:55  7612625     6866587   \n",
       "1          Water Break 2024-03-05 15:10:47  7612663     6866567   \n",
       "2          Water Break 2024-03-05 15:08:29  7613861     6866561   \n",
       "3  Safety & Operations 2024-03-05 15:04:42  7613237     6866545   \n",
       "4  Safety & Operations 2024-03-05 15:02:47  7613255     6866539   \n",
       "\n",
       "                                        comment_text  like_count  \\\n",
       "0  Congratulations and a great addition to the te...           0   \n",
       "1  Hello team, remember to have safety discussion...           0   \n",
       "2  @Larry_Broderick, both our moderation team and...           0   \n",
       "3  @William_Pulliam, we appreciate you being prou...           0   \n",
       "4  We appreciate you supporting @Dennis_Cumbie, @...           0   \n",
       "\n",
       "   report_count      username                        author_user_id  \\\n",
       "0             0  FlaggerForce  b701ab9f-563a-4425-a389-aff803a8da58   \n",
       "1             0  FlaggerForce  b701ab9f-563a-4425-a389-aff803a8da58   \n",
       "2             0  FlaggerForce  b701ab9f-563a-4425-a389-aff803a8da58   \n",
       "3             0  FlaggerForce  b701ab9f-563a-4425-a389-aff803a8da58   \n",
       "4             0  FlaggerForce  b701ab9f-563a-4425-a389-aff803a8da58   \n",
       "\n",
       "  author_position author_status  \n",
       "0             NaN        active  \n",
       "1             NaN        active  \n",
       "2             NaN        active  \n",
       "3             NaN        active  \n",
       "4             NaN        active  "
      ]
     },
     "execution_count": 100,
     "metadata": {},
     "output_type": "execute_result"
    }
   ],
   "source": [
    "# Function to preprocess the data\n",
    "df_comments = data.copy()\n",
    "\n",
    "def preprocess_post(df, df_users):\n",
    "    # Change the date format\n",
    "    df['created_date'] = pd.to_datetime(df['created_date'], format='ISO8601')\n",
    "    # Delete the rows where text is missing\n",
    "    df = df[~df['comment_text'].isnull()]\n",
    "    \n",
    "   \n",
    "    # date range of df\n",
    "    print(\"The date range of comments is:\")\n",
    "    print(f\"Min date: {df['created_date'].min()}\")\n",
    "    print(f\"Max date: {df['created_date'].max()}\")\n",
    "    print(f\"Date range: {df['created_date'].max() - df['created_date'].min()}\")\n",
    "    \n",
    "    # Add a new column with the state from df_users_active, connecting 'id' with 'Author User ID'\n",
    "    df = df.merge(df_users[['username', 'id','position','state']], left_on='username', right_on='username', how='left')\n",
    "    \n",
    "    # Delete username columns\n",
    "    #df.drop(['username'], axis=1, inplace=True)\n",
    "    # Rename poster columns\n",
    "    df.rename(columns={'id':'author_user_id','position':'author_position','state':'author_status'}, inplace=True)\n",
    "    # Reorder columns\n",
    "    new_order = ['stream_name', 'created_date', 'post_id', 'comment_id', \n",
    "                'comment_text', 'like_count', 'report_count', 'username',\n",
    "                'author_user_id', 'author_position', 'author_status']\n",
    "    df = df[new_order]\n",
    "    \n",
    "    return df \n",
    "\n",
    "df_comment_user = preprocess_post(df_comments,df_users)\n",
    "df_comment_user.head()\n"
   ]
  },
  {
   "cell_type": "code",
   "execution_count": 102,
   "id": "8c183473",
   "metadata": {},
   "outputs": [
    {
     "data": {
      "text/plain": [
       "stream_name\n",
       "Jobs                     76204\n",
       "Water Break              27976\n",
       "Safety & Operations      21442\n",
       "OSC, We Can Help          8392\n",
       "Flagger Force Connect     4163\n",
       "Test Stream                916\n",
       "The Whiteboard             846\n",
       "FFWRX TEST                  96\n",
       "Name: count, dtype: int64"
      ]
     },
     "execution_count": 102,
     "metadata": {},
     "output_type": "execute_result"
    }
   ],
   "source": [
    "# which Stream Name gets the most comments\n",
    "most_commented_stream = df_comment_user['stream_name'].value_counts()\n",
    "most_commented_stream"
   ]
  },
  {
   "cell_type": "code",
   "execution_count": 105,
   "id": "2fcb41b4",
   "metadata": {},
   "outputs": [
    {
     "data": {
      "text/html": [
       "<div>\n",
       "<style scoped>\n",
       "    .dataframe tbody tr th:only-of-type {\n",
       "        vertical-align: middle;\n",
       "    }\n",
       "\n",
       "    .dataframe tbody tr th {\n",
       "        vertical-align: top;\n",
       "    }\n",
       "\n",
       "    .dataframe thead th {\n",
       "        text-align: right;\n",
       "    }\n",
       "</style>\n",
       "<table border=\"1\" class=\"dataframe\">\n",
       "  <thead>\n",
       "    <tr style=\"text-align: right;\">\n",
       "      <th></th>\n",
       "      <th>comment_id</th>\n",
       "      <th>comment_text</th>\n",
       "      <th>like_count</th>\n",
       "    </tr>\n",
       "  </thead>\n",
       "  <tbody>\n",
       "    <tr>\n",
       "      <th>125676</th>\n",
       "      <td>6553907</td>\n",
       "      <td>The world is a scary place. Its getting worse....</td>\n",
       "      <td>23</td>\n",
       "    </tr>\n",
       "    <tr>\n",
       "      <th>118325</th>\n",
       "      <td>6354487</td>\n",
       "      <td>Well, given the current state of the economy, ...</td>\n",
       "      <td>18</td>\n",
       "    </tr>\n",
       "    <tr>\n",
       "      <th>118326</th>\n",
       "      <td>6354524</td>\n",
       "      <td>People are afraid to get points for missing. I...</td>\n",
       "      <td>17</td>\n",
       "    </tr>\n",
       "    <tr>\n",
       "      <th>122430</th>\n",
       "      <td>6466166</td>\n",
       "      <td>I'm sorry but that's just like the opposite of...</td>\n",
       "      <td>16</td>\n",
       "    </tr>\n",
       "    <tr>\n",
       "      <th>139092</th>\n",
       "      <td>6840014</td>\n",
       "      <td>This is what I don't understand they want you ...</td>\n",
       "      <td>14</td>\n",
       "    </tr>\n",
       "    <tr>\n",
       "      <th>134475</th>\n",
       "      <td>6724772</td>\n",
       "      <td>Hi @Jacob_Mains, thank you for your thoughts. ...</td>\n",
       "      <td>14</td>\n",
       "    </tr>\n",
       "    <tr>\n",
       "      <th>139098</th>\n",
       "      <td>6840077</td>\n",
       "      <td>Points system. And some of us can't afford to ...</td>\n",
       "      <td>13</td>\n",
       "    </tr>\n",
       "    <tr>\n",
       "      <th>55360</th>\n",
       "      <td>4964546</td>\n",
       "      <td>Speaking as a former CL and ACL look at this i...</td>\n",
       "      <td>13</td>\n",
       "    </tr>\n",
       "    <tr>\n",
       "      <th>114840</th>\n",
       "      <td>6260001</td>\n",
       "      <td>A small investment (~$200 per truck, ~$300,000...</td>\n",
       "      <td>12</td>\n",
       "    </tr>\n",
       "    <tr>\n",
       "      <th>5721</th>\n",
       "      <td>3947897</td>\n",
       "      <td>Honestly We aren’t flying planes so the air mi...</td>\n",
       "      <td>12</td>\n",
       "    </tr>\n",
       "  </tbody>\n",
       "</table>\n",
       "</div>"
      ],
      "text/plain": [
       "        comment_id                                       comment_text  \\\n",
       "125676     6553907  The world is a scary place. Its getting worse....   \n",
       "118325     6354487  Well, given the current state of the economy, ...   \n",
       "118326     6354524  People are afraid to get points for missing. I...   \n",
       "122430     6466166  I'm sorry but that's just like the opposite of...   \n",
       "139092     6840014  This is what I don't understand they want you ...   \n",
       "134475     6724772  Hi @Jacob_Mains, thank you for your thoughts. ...   \n",
       "139098     6840077  Points system. And some of us can't afford to ...   \n",
       "55360      4964546  Speaking as a former CL and ACL look at this i...   \n",
       "114840     6260001  A small investment (~$200 per truck, ~$300,000...   \n",
       "5721       3947897  Honestly We aren’t flying planes so the air mi...   \n",
       "\n",
       "        like_count  \n",
       "125676          23  \n",
       "118325          18  \n",
       "118326          17  \n",
       "122430          16  \n",
       "139092          14  \n",
       "134475          14  \n",
       "139098          13  \n",
       "55360           13  \n",
       "114840          12  \n",
       "5721            12  "
      ]
     },
     "execution_count": 105,
     "metadata": {},
     "output_type": "execute_result"
    }
   ],
   "source": [
    "# Most popular commnets\n",
    "# Group by post_id\n",
    "df_popular_comment = df_comment_user.groupby(['comment_id','comment_text','like_count']).size().reset_index(name='count')\n",
    "\n",
    "# Delete column count\n",
    "df_popular_comment.drop('count', axis=1, inplace=True)\n",
    "df_popular_comment.sort_values('like_count', ascending=False).head(10)"
   ]
  },
  {
   "cell_type": "code",
   "execution_count": 106,
   "id": "5254c759",
   "metadata": {},
   "outputs": [],
   "source": [
    "# Export users data for further analysis\n",
    "# Save the data\n",
    "path = \"C:\\\\Users\\\\eduar\\\\Documents\\\\Master_Thesis\\\\GenAI_Thesis_Beekeeper\\\\data\\\\production_datasets\\\\cleaned_datasets\"\n",
    "file_name = \"comments_cleaned.csv\"\n",
    "file_path = os.path.join(path, file_name)\n",
    "df_comment_user.to_csv(file_path, index=False)"
   ]
  },
  {
   "cell_type": "markdown",
   "id": "5188244d",
   "metadata": {},
   "source": [
    "## 6. EDA for 'activity' data set"
   ]
  },
  {
   "cell_type": "code",
   "execution_count": 9,
   "id": "8668a3e3",
   "metadata": {},
   "outputs": [
    {
     "name": "stdout",
     "output_type": "stream",
     "text": [
      "<class 'pandas.core.frame.DataFrame'>\n",
      "RangeIndex: 6907801 entries, 0 to 6907800\n",
      "Data columns (total 16 columns):\n",
      " #   Column           Dtype \n",
      "---  ------           ----- \n",
      " 0   _inserted_at     object\n",
      " 1   _buffered_at     object\n",
      " 2   _consumer_id     object\n",
      " 3   _dwh_version     object\n",
      " 4   id               object\n",
      " 5   occurred_at      object\n",
      " 6   domain           object\n",
      " 7   user_id          object\n",
      " 8   is_bot           object\n",
      " 9   client           object\n",
      " 10  client_version   object\n",
      " 11  path             object\n",
      " 12  normalized_path  object\n",
      " 13  method           object\n",
      " 14  response_status  int64 \n",
      " 15  turnaround_time  int64 \n",
      "dtypes: int64(2), object(14)\n",
      "memory usage: 843.2+ MB\n",
      "None\n"
     ]
    },
    {
     "data": {
      "text/html": [
       "<div>\n",
       "<style scoped>\n",
       "    .dataframe tbody tr th:only-of-type {\n",
       "        vertical-align: middle;\n",
       "    }\n",
       "\n",
       "    .dataframe tbody tr th {\n",
       "        vertical-align: top;\n",
       "    }\n",
       "\n",
       "    .dataframe thead th {\n",
       "        text-align: right;\n",
       "    }\n",
       "</style>\n",
       "<table border=\"1\" class=\"dataframe\">\n",
       "  <thead>\n",
       "    <tr style=\"text-align: right;\">\n",
       "      <th></th>\n",
       "      <th>_inserted_at</th>\n",
       "      <th>_buffered_at</th>\n",
       "      <th>_consumer_id</th>\n",
       "      <th>_dwh_version</th>\n",
       "      <th>id</th>\n",
       "      <th>occurred_at</th>\n",
       "      <th>domain</th>\n",
       "      <th>user_id</th>\n",
       "      <th>is_bot</th>\n",
       "      <th>client</th>\n",
       "      <th>client_version</th>\n",
       "      <th>path</th>\n",
       "      <th>normalized_path</th>\n",
       "      <th>method</th>\n",
       "      <th>response_status</th>\n",
       "      <th>turnaround_time</th>\n",
       "    </tr>\n",
       "  </thead>\n",
       "  <tbody>\n",
       "    <tr>\n",
       "      <th>1720828</th>\n",
       "      <td>2022-02-07 10:46:30.462446</td>\n",
       "      <td>2022-02-02 09:50:48.020000</td>\n",
       "      <td>10.155.117.133</td>\n",
       "      <td>v4</td>\n",
       "      <td>0f3d8286-71b7-4965-8c41-0c66d8e54290</td>\n",
       "      <td>2022-02-02 09:50:47.950000</td>\n",
       "      <td>us.beekeeper.io</td>\n",
       "      <td>dbee6ce3-c1ab-44a4-86a5-7660cc27dd45</td>\n",
       "      <td>False</td>\n",
       "      <td>app-android</td>\n",
       "      <td>8.2.0b222</td>\n",
       "      <td>/api/2/streams</td>\n",
       "      <td>/api/2/streams</td>\n",
       "      <td>GET</td>\n",
       "      <td>200</td>\n",
       "      <td>143</td>\n",
       "    </tr>\n",
       "    <tr>\n",
       "      <th>6009839</th>\n",
       "      <td>2022-02-12 03:09:42.141746</td>\n",
       "      <td>2022-02-11 19:41:10.151000</td>\n",
       "      <td>10.155.117.133</td>\n",
       "      <td>v4</td>\n",
       "      <td>d393c472-4e9e-42b3-894a-d716f7f04766</td>\n",
       "      <td>2022-02-11 19:41:10.077000</td>\n",
       "      <td>us.beekeeper.io</td>\n",
       "      <td>62bac577-8594-4a16-b0d6-894d545e2b5d</td>\n",
       "      <td>False</td>\n",
       "      <td>app-ios</td>\n",
       "      <td>8.2.1b166</td>\n",
       "      <td>/api/2/posts/5039530/comments</td>\n",
       "      <td>/api/2/posts/{postid}/comments</td>\n",
       "      <td>GET</td>\n",
       "      <td>200</td>\n",
       "      <td>123</td>\n",
       "    </tr>\n",
       "  </tbody>\n",
       "</table>\n",
       "</div>"
      ],
      "text/plain": [
       "                       _inserted_at                _buffered_at  \\\n",
       "1720828  2022-02-07 10:46:30.462446  2022-02-02 09:50:48.020000   \n",
       "6009839  2022-02-12 03:09:42.141746  2022-02-11 19:41:10.151000   \n",
       "\n",
       "           _consumer_id _dwh_version                                    id  \\\n",
       "1720828  10.155.117.133           v4  0f3d8286-71b7-4965-8c41-0c66d8e54290   \n",
       "6009839  10.155.117.133           v4  d393c472-4e9e-42b3-894a-d716f7f04766   \n",
       "\n",
       "                        occurred_at           domain  \\\n",
       "1720828  2022-02-02 09:50:47.950000  us.beekeeper.io   \n",
       "6009839  2022-02-11 19:41:10.077000  us.beekeeper.io   \n",
       "\n",
       "                                      user_id is_bot       client  \\\n",
       "1720828  dbee6ce3-c1ab-44a4-86a5-7660cc27dd45  False  app-android   \n",
       "6009839  62bac577-8594-4a16-b0d6-894d545e2b5d  False      app-ios   \n",
       "\n",
       "        client_version                           path  \\\n",
       "1720828      8.2.0b222                 /api/2/streams   \n",
       "6009839      8.2.1b166  /api/2/posts/5039530/comments   \n",
       "\n",
       "                        normalized_path method  response_status  \\\n",
       "1720828                  /api/2/streams    GET              200   \n",
       "6009839  /api/2/posts/{postid}/comments    GET              200   \n",
       "\n",
       "         turnaround_time  \n",
       "1720828              143  \n",
       "6009839              123  "
      ]
     },
     "execution_count": 9,
     "metadata": {},
     "output_type": "execute_result"
    }
   ],
   "source": [
    "# Users data\n",
    "file_name = \"user_activity_logs.csv\"\n",
    "file_path = os.path.join(path, file_name)\n",
    "data = pd.read_csv(file_path)\n",
    "print(data.info())\n",
    "# print(f'The columns are: {data.columns}')\n",
    "data.sample(2)"
   ]
  },
  {
   "cell_type": "code",
   "execution_count": 13,
   "id": "fda1ace1",
   "metadata": {},
   "outputs": [
    {
     "data": {
      "text/html": [
       "<div>\n",
       "<style scoped>\n",
       "    .dataframe tbody tr th:only-of-type {\n",
       "        vertical-align: middle;\n",
       "    }\n",
       "\n",
       "    .dataframe tbody tr th {\n",
       "        vertical-align: top;\n",
       "    }\n",
       "\n",
       "    .dataframe thead th {\n",
       "        text-align: right;\n",
       "    }\n",
       "</style>\n",
       "<table border=\"1\" class=\"dataframe\">\n",
       "  <thead>\n",
       "    <tr style=\"text-align: right;\">\n",
       "      <th></th>\n",
       "      <th>_inserted_at</th>\n",
       "      <th>_buffered_at</th>\n",
       "      <th>_consumer_id</th>\n",
       "      <th>_dwh_version</th>\n",
       "      <th>id</th>\n",
       "      <th>occurred_at</th>\n",
       "      <th>domain</th>\n",
       "      <th>user_id</th>\n",
       "      <th>is_bot</th>\n",
       "      <th>client</th>\n",
       "      <th>client_version</th>\n",
       "      <th>path</th>\n",
       "      <th>normalized_path</th>\n",
       "      <th>method</th>\n",
       "      <th>response_status</th>\n",
       "      <th>turnaround_time</th>\n",
       "    </tr>\n",
       "  </thead>\n",
       "  <tbody>\n",
       "    <tr>\n",
       "      <th>0</th>\n",
       "      <td>2022-01-10 19:22:38.366080</td>\n",
       "      <td>2022-01-10 19:21:23.420000</td>\n",
       "      <td>10.155.117.137</td>\n",
       "      <td>v4</td>\n",
       "      <td>128d3ac8-1a59-4a36-a11b-619fd1d8988b</td>\n",
       "      <td>2022-01-10 19:21:23.362000</td>\n",
       "      <td>us.beekeeper.io</td>\n",
       "      <td>99d73931-1583-485d-afa7-ee1e20c05868</td>\n",
       "      <td>False</td>\n",
       "      <td>app-android</td>\n",
       "      <td>7.25.0b220</td>\n",
       "      <td>/api/2/status</td>\n",
       "      <td>/api/2/status</td>\n",
       "      <td>GET</td>\n",
       "      <td>200</td>\n",
       "      <td>54</td>\n",
       "    </tr>\n",
       "    <tr>\n",
       "      <th>1</th>\n",
       "      <td>2022-01-10 19:22:38.366080</td>\n",
       "      <td>2022-01-10 19:21:23.482000</td>\n",
       "      <td>10.155.117.137</td>\n",
       "      <td>v4</td>\n",
       "      <td>ddfdeb2d-a466-4ae0-a1d6-a1efc6628182</td>\n",
       "      <td>2022-01-10 19:21:23.423000</td>\n",
       "      <td>us.beekeeper.io</td>\n",
       "      <td>99d73931-1583-485d-afa7-ee1e20c05868</td>\n",
       "      <td>False</td>\n",
       "      <td>app-android</td>\n",
       "      <td>7.25.0b220</td>\n",
       "      <td>/api/2/prompts</td>\n",
       "      <td>/api/2/prompts</td>\n",
       "      <td>GET</td>\n",
       "      <td>200</td>\n",
       "      <td>125</td>\n",
       "    </tr>\n",
       "    <tr>\n",
       "      <th>2</th>\n",
       "      <td>2022-01-10 19:22:38.366080</td>\n",
       "      <td>2022-01-10 19:21:23.618000</td>\n",
       "      <td>10.155.117.137</td>\n",
       "      <td>v4</td>\n",
       "      <td>b3d0c5c5-cb23-4202-bc3d-8ac143f60ede</td>\n",
       "      <td>2022-01-10 19:21:23.548000</td>\n",
       "      <td>us.beekeeper.io</td>\n",
       "      <td>99d73931-1583-485d-afa7-ee1e20c05868</td>\n",
       "      <td>False</td>\n",
       "      <td>app-android</td>\n",
       "      <td>7.25.0b220</td>\n",
       "      <td>/api/2/streams</td>\n",
       "      <td>/api/2/streams</td>\n",
       "      <td>GET</td>\n",
       "      <td>200</td>\n",
       "      <td>250</td>\n",
       "    </tr>\n",
       "    <tr>\n",
       "      <th>3</th>\n",
       "      <td>2022-01-10 19:22:38.366080</td>\n",
       "      <td>2022-01-10 19:21:23.700000</td>\n",
       "      <td>10.155.117.137</td>\n",
       "      <td>v4</td>\n",
       "      <td>2cddeb85-5ff9-4423-a024-a88578c1bdd1</td>\n",
       "      <td>2022-01-10 19:21:23.628000</td>\n",
       "      <td>us.beekeeper.io</td>\n",
       "      <td>99d73931-1583-485d-afa7-ee1e20c05868</td>\n",
       "      <td>False</td>\n",
       "      <td>app-android</td>\n",
       "      <td>7.25.0b220</td>\n",
       "      <td>/api/2/notifications</td>\n",
       "      <td>/api/2/notifications</td>\n",
       "      <td>GET</td>\n",
       "      <td>200</td>\n",
       "      <td>318</td>\n",
       "    </tr>\n",
       "    <tr>\n",
       "      <th>4</th>\n",
       "      <td>2022-01-10 19:22:38.366080</td>\n",
       "      <td>2022-01-10 19:21:23.712000</td>\n",
       "      <td>10.155.117.137</td>\n",
       "      <td>v4</td>\n",
       "      <td>ecf9c8a5-da3f-4743-a39c-c4607a06f9f1</td>\n",
       "      <td>2022-01-10 19:21:23.643000</td>\n",
       "      <td>us.beekeeper.io</td>\n",
       "      <td>99d73931-1583-485d-afa7-ee1e20c05868</td>\n",
       "      <td>False</td>\n",
       "      <td>app-android</td>\n",
       "      <td>7.25.0b220</td>\n",
       "      <td>/api/2/artifacts/list</td>\n",
       "      <td>/api/2/artifacts/{path}</td>\n",
       "      <td>GET</td>\n",
       "      <td>200</td>\n",
       "      <td>104</td>\n",
       "    </tr>\n",
       "    <tr>\n",
       "      <th>5</th>\n",
       "      <td>2022-01-10 19:22:38.366080</td>\n",
       "      <td>2022-01-10 19:21:23.749000</td>\n",
       "      <td>10.155.117.137</td>\n",
       "      <td>v4</td>\n",
       "      <td>e1414245-db7c-4091-883d-a76c513c448f</td>\n",
       "      <td>2022-01-10 19:21:23.680000</td>\n",
       "      <td>us.beekeeper.io</td>\n",
       "      <td>99d73931-1583-485d-afa7-ee1e20c05868</td>\n",
       "      <td>False</td>\n",
       "      <td>app-android</td>\n",
       "      <td>7.25.0b220</td>\n",
       "      <td>/api/2/posts</td>\n",
       "      <td>/api/2/posts</td>\n",
       "      <td>GET</td>\n",
       "      <td>200</td>\n",
       "      <td>145</td>\n",
       "    </tr>\n",
       "    <tr>\n",
       "      <th>6</th>\n",
       "      <td>2022-01-10 19:22:38.366080</td>\n",
       "      <td>2022-01-10 19:21:25.711000</td>\n",
       "      <td>10.155.67.210</td>\n",
       "      <td>v4</td>\n",
       "      <td>bed12b71-9458-45de-b920-ed8927b923f0</td>\n",
       "      <td>2022-01-10 19:21:25.631000</td>\n",
       "      <td>us.beekeeper.io</td>\n",
       "      <td>a69bbff7-7cad-471c-812a-c89f4ff2911e</td>\n",
       "      <td>False</td>\n",
       "      <td>app-web</td>\n",
       "      <td>NaN</td>\n",
       "      <td>/api/2/streams</td>\n",
       "      <td>/api/2/streams</td>\n",
       "      <td>GET</td>\n",
       "      <td>200</td>\n",
       "      <td>412</td>\n",
       "    </tr>\n",
       "    <tr>\n",
       "      <th>7</th>\n",
       "      <td>2022-01-10 19:22:38.366080</td>\n",
       "      <td>2022-01-10 19:21:28.513000</td>\n",
       "      <td>10.155.67.210</td>\n",
       "      <td>v4</td>\n",
       "      <td>13502af8-9d77-4d6d-b988-bb22cc8fb32c</td>\n",
       "      <td>2022-01-10 19:21:28.444000</td>\n",
       "      <td>us.beekeeper.io</td>\n",
       "      <td>99d73931-1583-485d-afa7-ee1e20c05868</td>\n",
       "      <td>False</td>\n",
       "      <td>app-android</td>\n",
       "      <td>7.25.0b220</td>\n",
       "      <td>/api/2/streams/6787</td>\n",
       "      <td>/api/2/streams/{streamid}</td>\n",
       "      <td>GET</td>\n",
       "      <td>200</td>\n",
       "      <td>72</td>\n",
       "    </tr>\n",
       "    <tr>\n",
       "      <th>8</th>\n",
       "      <td>2022-01-10 19:22:38.366080</td>\n",
       "      <td>2022-01-10 19:21:28.538000</td>\n",
       "      <td>10.155.67.210</td>\n",
       "      <td>v4</td>\n",
       "      <td>c5a8e3ff-fbd1-4954-820b-229fd01acdf2</td>\n",
       "      <td>2022-01-10 19:21:28.481000</td>\n",
       "      <td>us.beekeeper.io</td>\n",
       "      <td>99d73931-1583-485d-afa7-ee1e20c05868</td>\n",
       "      <td>False</td>\n",
       "      <td>app-android</td>\n",
       "      <td>7.25.0b220</td>\n",
       "      <td>/api/2/streams/6787</td>\n",
       "      <td>/api/2/streams/{streamid}</td>\n",
       "      <td>GET</td>\n",
       "      <td>200</td>\n",
       "      <td>58</td>\n",
       "    </tr>\n",
       "    <tr>\n",
       "      <th>9</th>\n",
       "      <td>2022-01-10 19:22:38.366080</td>\n",
       "      <td>2022-01-10 19:21:28.549000</td>\n",
       "      <td>10.155.117.137</td>\n",
       "      <td>v4</td>\n",
       "      <td>67a37cf4-aada-4455-80cc-4676dd62e2e8</td>\n",
       "      <td>2022-01-10 19:21:28.491000</td>\n",
       "      <td>us.beekeeper.io</td>\n",
       "      <td>99d73931-1583-485d-afa7-ee1e20c05868</td>\n",
       "      <td>False</td>\n",
       "      <td>app-android</td>\n",
       "      <td>7.25.0b220</td>\n",
       "      <td>/api/2/streams/6787</td>\n",
       "      <td>/api/2/streams/{streamid}</td>\n",
       "      <td>GET</td>\n",
       "      <td>200</td>\n",
       "      <td>69</td>\n",
       "    </tr>\n",
       "    <tr>\n",
       "      <th>10</th>\n",
       "      <td>2022-01-10 19:22:38.366080</td>\n",
       "      <td>2022-01-10 19:21:28.707000</td>\n",
       "      <td>10.155.117.137</td>\n",
       "      <td>v4</td>\n",
       "      <td>029ee775-0788-4456-8a75-a75a7d1e119f</td>\n",
       "      <td>2022-01-10 19:21:28.636000</td>\n",
       "      <td>us.beekeeper.io</td>\n",
       "      <td>99d73931-1583-485d-afa7-ee1e20c05868</td>\n",
       "      <td>False</td>\n",
       "      <td>app-android</td>\n",
       "      <td>7.25.0b220</td>\n",
       "      <td>/api/2/posts/4947611</td>\n",
       "      <td>/api/2/posts/{postid}</td>\n",
       "      <td>GET</td>\n",
       "      <td>200</td>\n",
       "      <td>201</td>\n",
       "    </tr>\n",
       "    <tr>\n",
       "      <th>11</th>\n",
       "      <td>2022-01-10 19:22:38.366080</td>\n",
       "      <td>2022-01-10 19:21:29.985000</td>\n",
       "      <td>10.155.117.137</td>\n",
       "      <td>v4</td>\n",
       "      <td>59e328d7-24a9-4570-a486-f40ca6841cee</td>\n",
       "      <td>2022-01-10 19:21:29.916000</td>\n",
       "      <td>us.beekeeper.io</td>\n",
       "      <td>184a3b59-c5f6-41cd-8810-1f56356c7fe8</td>\n",
       "      <td>False</td>\n",
       "      <td>app-ios</td>\n",
       "      <td>7.25.1b159</td>\n",
       "      <td>/api/2/conversations</td>\n",
       "      <td>/api/2/conversations</td>\n",
       "      <td>GET</td>\n",
       "      <td>200</td>\n",
       "      <td>404</td>\n",
       "    </tr>\n",
       "    <tr>\n",
       "      <th>12</th>\n",
       "      <td>2022-01-10 19:22:38.366080</td>\n",
       "      <td>2022-01-10 19:21:30.046000</td>\n",
       "      <td>10.155.117.137</td>\n",
       "      <td>v4</td>\n",
       "      <td>7c135877-941d-43c1-b5d8-634f46b79304</td>\n",
       "      <td>2022-01-10 19:21:29.949000</td>\n",
       "      <td>us.beekeeper.io</td>\n",
       "      <td>86e82702-b139-4896-8694-f373917ee8cc</td>\n",
       "      <td>False</td>\n",
       "      <td>app-web</td>\n",
       "      <td>NaN</td>\n",
       "      <td>/api/2/streams</td>\n",
       "      <td>/api/2/streams</td>\n",
       "      <td>GET</td>\n",
       "      <td>200</td>\n",
       "      <td>332</td>\n",
       "    </tr>\n",
       "    <tr>\n",
       "      <th>13</th>\n",
       "      <td>2022-01-10 19:22:38.366080</td>\n",
       "      <td>2022-01-10 19:21:33.147000</td>\n",
       "      <td>10.155.67.210</td>\n",
       "      <td>v4</td>\n",
       "      <td>9b3d1d53-67f4-47f4-ae84-3ee65f4a631c</td>\n",
       "      <td>2022-01-10 19:21:33.065000</td>\n",
       "      <td>us.beekeeper.io</td>\n",
       "      <td>a01f9513-4def-423e-8fae-e8bf80969b31</td>\n",
       "      <td>False</td>\n",
       "      <td>app-android</td>\n",
       "      <td>7.25.0b220</td>\n",
       "      <td>/api/2/notifications</td>\n",
       "      <td>/api/2/notifications</td>\n",
       "      <td>GET</td>\n",
       "      <td>200</td>\n",
       "      <td>663</td>\n",
       "    </tr>\n",
       "    <tr>\n",
       "      <th>14</th>\n",
       "      <td>2022-01-10 19:22:38.366080</td>\n",
       "      <td>2022-01-10 19:21:33.635000</td>\n",
       "      <td>10.155.67.210</td>\n",
       "      <td>v4</td>\n",
       "      <td>3eb534bd-6d6c-4956-b655-649bd61bc5d3</td>\n",
       "      <td>2022-01-10 19:21:33.547000</td>\n",
       "      <td>us.beekeeper.io</td>\n",
       "      <td>a01f9513-4def-423e-8fae-e8bf80969b31</td>\n",
       "      <td>False</td>\n",
       "      <td>app-android</td>\n",
       "      <td>7.25.0b220</td>\n",
       "      <td>/api/2/notifications</td>\n",
       "      <td>/api/2/notifications</td>\n",
       "      <td>GET</td>\n",
       "      <td>200</td>\n",
       "      <td>274</td>\n",
       "    </tr>\n",
       "    <tr>\n",
       "      <th>15</th>\n",
       "      <td>2022-01-10 19:22:38.366080</td>\n",
       "      <td>2022-01-10 19:21:37.301000</td>\n",
       "      <td>10.155.67.210</td>\n",
       "      <td>v4</td>\n",
       "      <td>2a5256bb-47b7-4bad-8c40-36fb83f00be8</td>\n",
       "      <td>2022-01-10 19:21:37.246000</td>\n",
       "      <td>us.beekeeper.io</td>\n",
       "      <td>c8c44dba-2cb1-4ed9-a6cd-74011c1659cc</td>\n",
       "      <td>False</td>\n",
       "      <td>app-web</td>\n",
       "      <td>NaN</td>\n",
       "      <td>/api/2/streams</td>\n",
       "      <td>/api/2/streams</td>\n",
       "      <td>GET</td>\n",
       "      <td>200</td>\n",
       "      <td>342</td>\n",
       "    </tr>\n",
       "    <tr>\n",
       "      <th>16</th>\n",
       "      <td>2022-01-10 19:22:38.366080</td>\n",
       "      <td>2022-01-10 19:21:37.432000</td>\n",
       "      <td>10.155.67.210</td>\n",
       "      <td>v4</td>\n",
       "      <td>52befe83-c8f5-4976-9bb7-d4ba1e94017a</td>\n",
       "      <td>2022-01-10 19:21:37.364000</td>\n",
       "      <td>us.beekeeper.io</td>\n",
       "      <td>99d73931-1583-485d-afa7-ee1e20c05868</td>\n",
       "      <td>False</td>\n",
       "      <td>app-android</td>\n",
       "      <td>7.25.0b220</td>\n",
       "      <td>/api/2/streams/5745</td>\n",
       "      <td>/api/2/streams/{streamid}</td>\n",
       "      <td>GET</td>\n",
       "      <td>200</td>\n",
       "      <td>72</td>\n",
       "    </tr>\n",
       "    <tr>\n",
       "      <th>17</th>\n",
       "      <td>2022-01-10 19:22:38.366080</td>\n",
       "      <td>2022-01-10 19:21:37.773000</td>\n",
       "      <td>10.155.117.137</td>\n",
       "      <td>v4</td>\n",
       "      <td>b43def5b-d89c-4781-bc1a-e4726b0a9921</td>\n",
       "      <td>2022-01-10 19:21:37.426000</td>\n",
       "      <td>us.beekeeper.io</td>\n",
       "      <td>99d73931-1583-485d-afa7-ee1e20c05868</td>\n",
       "      <td>False</td>\n",
       "      <td>app-android</td>\n",
       "      <td>7.25.0b220</td>\n",
       "      <td>/api/2/streams/5745</td>\n",
       "      <td>/api/2/streams/{streamid}</td>\n",
       "      <td>GET</td>\n",
       "      <td>200</td>\n",
       "      <td>74</td>\n",
       "    </tr>\n",
       "    <tr>\n",
       "      <th>18</th>\n",
       "      <td>2022-01-10 19:22:38.366080</td>\n",
       "      <td>2022-01-10 19:21:37.845000</td>\n",
       "      <td>10.155.117.137</td>\n",
       "      <td>v4</td>\n",
       "      <td>1326875d-c1d5-46bb-a712-637b47e563d3</td>\n",
       "      <td>2022-01-10 19:21:37.470000</td>\n",
       "      <td>us.beekeeper.io</td>\n",
       "      <td>99d73931-1583-485d-afa7-ee1e20c05868</td>\n",
       "      <td>False</td>\n",
       "      <td>app-android</td>\n",
       "      <td>7.25.0b220</td>\n",
       "      <td>/api/2/streams/5745</td>\n",
       "      <td>/api/2/streams/{streamid}</td>\n",
       "      <td>GET</td>\n",
       "      <td>200</td>\n",
       "      <td>79</td>\n",
       "    </tr>\n",
       "    <tr>\n",
       "      <th>19</th>\n",
       "      <td>2022-01-10 19:22:38.366080</td>\n",
       "      <td>2022-01-10 19:21:37.904000</td>\n",
       "      <td>10.155.67.210</td>\n",
       "      <td>v4</td>\n",
       "      <td>107940da-6ccc-468d-9895-603522cd50ae</td>\n",
       "      <td>2022-01-10 19:21:37.821000</td>\n",
       "      <td>us.beekeeper.io</td>\n",
       "      <td>99d73931-1583-485d-afa7-ee1e20c05868</td>\n",
       "      <td>False</td>\n",
       "      <td>app-android</td>\n",
       "      <td>7.25.0b220</td>\n",
       "      <td>/api/2/posts/4947131</td>\n",
       "      <td>/api/2/posts/{postid}</td>\n",
       "      <td>GET</td>\n",
       "      <td>200</td>\n",
       "      <td>417</td>\n",
       "    </tr>\n",
       "  </tbody>\n",
       "</table>\n",
       "</div>"
      ],
      "text/plain": [
       "                  _inserted_at                _buffered_at    _consumer_id  \\\n",
       "0   2022-01-10 19:22:38.366080  2022-01-10 19:21:23.420000  10.155.117.137   \n",
       "1   2022-01-10 19:22:38.366080  2022-01-10 19:21:23.482000  10.155.117.137   \n",
       "2   2022-01-10 19:22:38.366080  2022-01-10 19:21:23.618000  10.155.117.137   \n",
       "3   2022-01-10 19:22:38.366080  2022-01-10 19:21:23.700000  10.155.117.137   \n",
       "4   2022-01-10 19:22:38.366080  2022-01-10 19:21:23.712000  10.155.117.137   \n",
       "5   2022-01-10 19:22:38.366080  2022-01-10 19:21:23.749000  10.155.117.137   \n",
       "6   2022-01-10 19:22:38.366080  2022-01-10 19:21:25.711000   10.155.67.210   \n",
       "7   2022-01-10 19:22:38.366080  2022-01-10 19:21:28.513000   10.155.67.210   \n",
       "8   2022-01-10 19:22:38.366080  2022-01-10 19:21:28.538000   10.155.67.210   \n",
       "9   2022-01-10 19:22:38.366080  2022-01-10 19:21:28.549000  10.155.117.137   \n",
       "10  2022-01-10 19:22:38.366080  2022-01-10 19:21:28.707000  10.155.117.137   \n",
       "11  2022-01-10 19:22:38.366080  2022-01-10 19:21:29.985000  10.155.117.137   \n",
       "12  2022-01-10 19:22:38.366080  2022-01-10 19:21:30.046000  10.155.117.137   \n",
       "13  2022-01-10 19:22:38.366080  2022-01-10 19:21:33.147000   10.155.67.210   \n",
       "14  2022-01-10 19:22:38.366080  2022-01-10 19:21:33.635000   10.155.67.210   \n",
       "15  2022-01-10 19:22:38.366080  2022-01-10 19:21:37.301000   10.155.67.210   \n",
       "16  2022-01-10 19:22:38.366080  2022-01-10 19:21:37.432000   10.155.67.210   \n",
       "17  2022-01-10 19:22:38.366080  2022-01-10 19:21:37.773000  10.155.117.137   \n",
       "18  2022-01-10 19:22:38.366080  2022-01-10 19:21:37.845000  10.155.117.137   \n",
       "19  2022-01-10 19:22:38.366080  2022-01-10 19:21:37.904000   10.155.67.210   \n",
       "\n",
       "   _dwh_version                                    id  \\\n",
       "0            v4  128d3ac8-1a59-4a36-a11b-619fd1d8988b   \n",
       "1            v4  ddfdeb2d-a466-4ae0-a1d6-a1efc6628182   \n",
       "2            v4  b3d0c5c5-cb23-4202-bc3d-8ac143f60ede   \n",
       "3            v4  2cddeb85-5ff9-4423-a024-a88578c1bdd1   \n",
       "4            v4  ecf9c8a5-da3f-4743-a39c-c4607a06f9f1   \n",
       "5            v4  e1414245-db7c-4091-883d-a76c513c448f   \n",
       "6            v4  bed12b71-9458-45de-b920-ed8927b923f0   \n",
       "7            v4  13502af8-9d77-4d6d-b988-bb22cc8fb32c   \n",
       "8            v4  c5a8e3ff-fbd1-4954-820b-229fd01acdf2   \n",
       "9            v4  67a37cf4-aada-4455-80cc-4676dd62e2e8   \n",
       "10           v4  029ee775-0788-4456-8a75-a75a7d1e119f   \n",
       "11           v4  59e328d7-24a9-4570-a486-f40ca6841cee   \n",
       "12           v4  7c135877-941d-43c1-b5d8-634f46b79304   \n",
       "13           v4  9b3d1d53-67f4-47f4-ae84-3ee65f4a631c   \n",
       "14           v4  3eb534bd-6d6c-4956-b655-649bd61bc5d3   \n",
       "15           v4  2a5256bb-47b7-4bad-8c40-36fb83f00be8   \n",
       "16           v4  52befe83-c8f5-4976-9bb7-d4ba1e94017a   \n",
       "17           v4  b43def5b-d89c-4781-bc1a-e4726b0a9921   \n",
       "18           v4  1326875d-c1d5-46bb-a712-637b47e563d3   \n",
       "19           v4  107940da-6ccc-468d-9895-603522cd50ae   \n",
       "\n",
       "                   occurred_at           domain  \\\n",
       "0   2022-01-10 19:21:23.362000  us.beekeeper.io   \n",
       "1   2022-01-10 19:21:23.423000  us.beekeeper.io   \n",
       "2   2022-01-10 19:21:23.548000  us.beekeeper.io   \n",
       "3   2022-01-10 19:21:23.628000  us.beekeeper.io   \n",
       "4   2022-01-10 19:21:23.643000  us.beekeeper.io   \n",
       "5   2022-01-10 19:21:23.680000  us.beekeeper.io   \n",
       "6   2022-01-10 19:21:25.631000  us.beekeeper.io   \n",
       "7   2022-01-10 19:21:28.444000  us.beekeeper.io   \n",
       "8   2022-01-10 19:21:28.481000  us.beekeeper.io   \n",
       "9   2022-01-10 19:21:28.491000  us.beekeeper.io   \n",
       "10  2022-01-10 19:21:28.636000  us.beekeeper.io   \n",
       "11  2022-01-10 19:21:29.916000  us.beekeeper.io   \n",
       "12  2022-01-10 19:21:29.949000  us.beekeeper.io   \n",
       "13  2022-01-10 19:21:33.065000  us.beekeeper.io   \n",
       "14  2022-01-10 19:21:33.547000  us.beekeeper.io   \n",
       "15  2022-01-10 19:21:37.246000  us.beekeeper.io   \n",
       "16  2022-01-10 19:21:37.364000  us.beekeeper.io   \n",
       "17  2022-01-10 19:21:37.426000  us.beekeeper.io   \n",
       "18  2022-01-10 19:21:37.470000  us.beekeeper.io   \n",
       "19  2022-01-10 19:21:37.821000  us.beekeeper.io   \n",
       "\n",
       "                                 user_id is_bot       client client_version  \\\n",
       "0   99d73931-1583-485d-afa7-ee1e20c05868  False  app-android     7.25.0b220   \n",
       "1   99d73931-1583-485d-afa7-ee1e20c05868  False  app-android     7.25.0b220   \n",
       "2   99d73931-1583-485d-afa7-ee1e20c05868  False  app-android     7.25.0b220   \n",
       "3   99d73931-1583-485d-afa7-ee1e20c05868  False  app-android     7.25.0b220   \n",
       "4   99d73931-1583-485d-afa7-ee1e20c05868  False  app-android     7.25.0b220   \n",
       "5   99d73931-1583-485d-afa7-ee1e20c05868  False  app-android     7.25.0b220   \n",
       "6   a69bbff7-7cad-471c-812a-c89f4ff2911e  False      app-web            NaN   \n",
       "7   99d73931-1583-485d-afa7-ee1e20c05868  False  app-android     7.25.0b220   \n",
       "8   99d73931-1583-485d-afa7-ee1e20c05868  False  app-android     7.25.0b220   \n",
       "9   99d73931-1583-485d-afa7-ee1e20c05868  False  app-android     7.25.0b220   \n",
       "10  99d73931-1583-485d-afa7-ee1e20c05868  False  app-android     7.25.0b220   \n",
       "11  184a3b59-c5f6-41cd-8810-1f56356c7fe8  False      app-ios     7.25.1b159   \n",
       "12  86e82702-b139-4896-8694-f373917ee8cc  False      app-web            NaN   \n",
       "13  a01f9513-4def-423e-8fae-e8bf80969b31  False  app-android     7.25.0b220   \n",
       "14  a01f9513-4def-423e-8fae-e8bf80969b31  False  app-android     7.25.0b220   \n",
       "15  c8c44dba-2cb1-4ed9-a6cd-74011c1659cc  False      app-web            NaN   \n",
       "16  99d73931-1583-485d-afa7-ee1e20c05868  False  app-android     7.25.0b220   \n",
       "17  99d73931-1583-485d-afa7-ee1e20c05868  False  app-android     7.25.0b220   \n",
       "18  99d73931-1583-485d-afa7-ee1e20c05868  False  app-android     7.25.0b220   \n",
       "19  99d73931-1583-485d-afa7-ee1e20c05868  False  app-android     7.25.0b220   \n",
       "\n",
       "                     path            normalized_path method  response_status  \\\n",
       "0           /api/2/status              /api/2/status    GET              200   \n",
       "1          /api/2/prompts             /api/2/prompts    GET              200   \n",
       "2          /api/2/streams             /api/2/streams    GET              200   \n",
       "3    /api/2/notifications       /api/2/notifications    GET              200   \n",
       "4   /api/2/artifacts/list    /api/2/artifacts/{path}    GET              200   \n",
       "5            /api/2/posts               /api/2/posts    GET              200   \n",
       "6          /api/2/streams             /api/2/streams    GET              200   \n",
       "7     /api/2/streams/6787  /api/2/streams/{streamid}    GET              200   \n",
       "8     /api/2/streams/6787  /api/2/streams/{streamid}    GET              200   \n",
       "9     /api/2/streams/6787  /api/2/streams/{streamid}    GET              200   \n",
       "10   /api/2/posts/4947611      /api/2/posts/{postid}    GET              200   \n",
       "11   /api/2/conversations       /api/2/conversations    GET              200   \n",
       "12         /api/2/streams             /api/2/streams    GET              200   \n",
       "13   /api/2/notifications       /api/2/notifications    GET              200   \n",
       "14   /api/2/notifications       /api/2/notifications    GET              200   \n",
       "15         /api/2/streams             /api/2/streams    GET              200   \n",
       "16    /api/2/streams/5745  /api/2/streams/{streamid}    GET              200   \n",
       "17    /api/2/streams/5745  /api/2/streams/{streamid}    GET              200   \n",
       "18    /api/2/streams/5745  /api/2/streams/{streamid}    GET              200   \n",
       "19   /api/2/posts/4947131      /api/2/posts/{postid}    GET              200   \n",
       "\n",
       "    turnaround_time  \n",
       "0                54  \n",
       "1               125  \n",
       "2               250  \n",
       "3               318  \n",
       "4               104  \n",
       "5               145  \n",
       "6               412  \n",
       "7                72  \n",
       "8                58  \n",
       "9                69  \n",
       "10              201  \n",
       "11              404  \n",
       "12              332  \n",
       "13              663  \n",
       "14              274  \n",
       "15              342  \n",
       "16               72  \n",
       "17               74  \n",
       "18               79  \n",
       "19              417  "
      ]
     },
     "execution_count": 13,
     "metadata": {},
     "output_type": "execute_result"
    }
   ],
   "source": [
    "data.head(20)"
   ]
  },
  {
   "cell_type": "code",
   "execution_count": 10,
   "id": "8c6061d5",
   "metadata": {},
   "outputs": [
    {
     "name": "stdout",
     "output_type": "stream",
     "text": [
      "The date range of activity is:\n",
      "Min date: 2022-01-01 00:01:20.488154\n",
      "Max date: 2022-03-01 03:02:59.666514\n",
      "Date range: 59 days 03:01:39.178360\n"
     ]
    },
    {
     "data": {
      "text/html": [
       "<div>\n",
       "<style scoped>\n",
       "    .dataframe tbody tr th:only-of-type {\n",
       "        vertical-align: middle;\n",
       "    }\n",
       "\n",
       "    .dataframe tbody tr th {\n",
       "        vertical-align: top;\n",
       "    }\n",
       "\n",
       "    .dataframe thead th {\n",
       "        text-align: right;\n",
       "    }\n",
       "</style>\n",
       "<table border=\"1\" class=\"dataframe\">\n",
       "  <thead>\n",
       "    <tr style=\"text-align: right;\">\n",
       "      <th></th>\n",
       "      <th>_inserted_at</th>\n",
       "      <th>id</th>\n",
       "      <th>user_id</th>\n",
       "      <th>path</th>\n",
       "      <th>normalized_path</th>\n",
       "      <th>action_path</th>\n",
       "      <th>method</th>\n",
       "      <th>response_status</th>\n",
       "      <th>turnaround_time</th>\n",
       "    </tr>\n",
       "  </thead>\n",
       "  <tbody>\n",
       "    <tr>\n",
       "      <th>619</th>\n",
       "      <td>2022-01-01 00:01:20.488154</td>\n",
       "      <td>af8b2384-4750-4fc2-992e-453b63d82102</td>\n",
       "      <td>d68ccf85-6b63-4e53-8614-dbcd3d28c14e</td>\n",
       "      <td>/api/2/prompts</td>\n",
       "      <td>/api/2/prompts</td>\n",
       "      <td>prompts</td>\n",
       "      <td>GET</td>\n",
       "      <td>200</td>\n",
       "      <td>150</td>\n",
       "    </tr>\n",
       "    <tr>\n",
       "      <th>1687</th>\n",
       "      <td>2022-01-01 00:01:20.488154</td>\n",
       "      <td>090de9c0-a721-4879-a3db-cf1858a1c2aa</td>\n",
       "      <td>e72cd514-2c97-4472-b2df-e296c8295428</td>\n",
       "      <td>/api/2/streams/9254/posts</td>\n",
       "      <td>/api/2/streams/{streamid}/posts</td>\n",
       "      <td>streams/{streamid}/posts</td>\n",
       "      <td>GET</td>\n",
       "      <td>200</td>\n",
       "      <td>42</td>\n",
       "    </tr>\n",
       "    <tr>\n",
       "      <th>3452136</th>\n",
       "      <td>2022-01-01 00:01:20.488154</td>\n",
       "      <td>ef299f2a-ae60-4129-9fd7-f2401bb89ca8</td>\n",
       "      <td>f8336fba-9e07-487c-b3c7-078070532f10</td>\n",
       "      <td>/api/2/posts</td>\n",
       "      <td>/api/2/posts</td>\n",
       "      <td>posts</td>\n",
       "      <td>GET</td>\n",
       "      <td>200</td>\n",
       "      <td>503</td>\n",
       "    </tr>\n",
       "    <tr>\n",
       "      <th>3452135</th>\n",
       "      <td>2022-01-01 00:01:20.488154</td>\n",
       "      <td>869bf1a3-aa63-4fbe-882b-5c21fd43a043</td>\n",
       "      <td>f8336fba-9e07-487c-b3c7-078070532f10</td>\n",
       "      <td>/api/2/streams</td>\n",
       "      <td>/api/2/streams</td>\n",
       "      <td>streams</td>\n",
       "      <td>GET</td>\n",
       "      <td>200</td>\n",
       "      <td>156</td>\n",
       "    </tr>\n",
       "    <tr>\n",
       "      <th>3452134</th>\n",
       "      <td>2022-01-01 00:01:20.488154</td>\n",
       "      <td>7a645500-797e-4770-bc0e-f73a9929cf5f</td>\n",
       "      <td>e72cd514-2c97-4472-b2df-e296c8295428</td>\n",
       "      <td>/api/2/notifications</td>\n",
       "      <td>/api/2/notifications</td>\n",
       "      <td>notifications</td>\n",
       "      <td>GET</td>\n",
       "      <td>200</td>\n",
       "      <td>1006</td>\n",
       "    </tr>\n",
       "  </tbody>\n",
       "</table>\n",
       "</div>"
      ],
      "text/plain": [
       "                      _inserted_at                                    id  \\\n",
       "619     2022-01-01 00:01:20.488154  af8b2384-4750-4fc2-992e-453b63d82102   \n",
       "1687    2022-01-01 00:01:20.488154  090de9c0-a721-4879-a3db-cf1858a1c2aa   \n",
       "3452136 2022-01-01 00:01:20.488154  ef299f2a-ae60-4129-9fd7-f2401bb89ca8   \n",
       "3452135 2022-01-01 00:01:20.488154  869bf1a3-aa63-4fbe-882b-5c21fd43a043   \n",
       "3452134 2022-01-01 00:01:20.488154  7a645500-797e-4770-bc0e-f73a9929cf5f   \n",
       "\n",
       "                                      user_id                       path  \\\n",
       "619      d68ccf85-6b63-4e53-8614-dbcd3d28c14e             /api/2/prompts   \n",
       "1687     e72cd514-2c97-4472-b2df-e296c8295428  /api/2/streams/9254/posts   \n",
       "3452136  f8336fba-9e07-487c-b3c7-078070532f10               /api/2/posts   \n",
       "3452135  f8336fba-9e07-487c-b3c7-078070532f10             /api/2/streams   \n",
       "3452134  e72cd514-2c97-4472-b2df-e296c8295428       /api/2/notifications   \n",
       "\n",
       "                         normalized_path               action_path method  \\\n",
       "619                       /api/2/prompts                   prompts    GET   \n",
       "1687     /api/2/streams/{streamid}/posts  streams/{streamid}/posts    GET   \n",
       "3452136                     /api/2/posts                     posts    GET   \n",
       "3452135                   /api/2/streams                   streams    GET   \n",
       "3452134             /api/2/notifications             notifications    GET   \n",
       "\n",
       "         response_status  turnaround_time  \n",
       "619                  200              150  \n",
       "1687                 200               42  \n",
       "3452136              200              503  \n",
       "3452135              200              156  \n",
       "3452134              200             1006  "
      ]
     },
     "execution_count": 10,
     "metadata": {},
     "output_type": "execute_result"
    }
   ],
   "source": [
    "# Define a function to preprocess the data\n",
    "df_logs = data.copy()\n",
    "def preprocess_activity(df):\n",
    "    # Change the date format\n",
    "    df['_inserted_at'] = pd.to_datetime(df['_inserted_at'])\n",
    "    # df['_buffered_at'] = pd.to_datetime(df['_buffered_at'])\n",
    "    # df['occurred_at'] = pd.to_datetime(df['occurred_at'])    \n",
    "    \n",
    "    # Extract specific path of the action\n",
    "    df['action_path'] = df['normalized_path'].str.extract(r'/api/2/(.*)')\n",
    "    \n",
    "    # Delete columns\n",
    "    #columns_to_keep = ['_inserted_at', '_buffered_at', '_consumer_id', '_dwh_version', 'id','occurred_at', 'domain', 'user_id', 'is_bot', 'client', 'client_version', 'path', 'normalized_path', 'method','response_status', 'turnaround_time']\n",
    "    columns_to_keep = ['_inserted_at', 'id', 'user_id', 'path', 'normalized_path', 'action_path', 'method','response_status', 'turnaround_time']\n",
    "    df = df[columns_to_keep]\n",
    "    \n",
    "    # date range of df\n",
    "    print(\"The date range of activity is:\")\n",
    "    print(f\"Min date: {df['_inserted_at'].min()}\")\n",
    "    print(f\"Max date: {df['_inserted_at'].max()}\")\n",
    "    print(f\"Date range: {df['_inserted_at'].max() - df['_inserted_at'].min()}\")\n",
    "    \n",
    "    return df\n",
    "\n",
    "df_activity = preprocess_activity(df_logs)\n",
    "df_activity.sort_values('_inserted_at', ascending=True, inplace=True)\n",
    "df_activity.head()"
   ]
  },
  {
   "cell_type": "code",
   "execution_count": 11,
   "id": "6684b4fa",
   "metadata": {},
   "outputs": [
    {
     "name": "stdout",
     "output_type": "stream",
     "text": [
      "145\n"
     ]
    },
    {
     "data": {
      "text/plain": [
       "normalized_path\n",
       "/api/2/streams                          1355406\n",
       "/api/2/notifications                     567223\n",
       "/api/2/streams/{streamid}                539227\n",
       "/api/2/prompts                           448189\n",
       "/api/2/status                            401710\n",
       "                                         ...   \n",
       "/api/2/conversations/{id}/mute                1\n",
       "/api/2/bots/{id}/token                        1\n",
       "/api/2/streams/{stream_id}/org_units          1\n",
       "/api/2/workerbees/{id}                        1\n",
       "/api/2/actions                                1\n",
       "Name: id, Length: 145, dtype: int64"
      ]
     },
     "execution_count": 11,
     "metadata": {},
     "output_type": "execute_result"
    }
   ],
   "source": [
    "actions_count = df_activity.groupby(by=['normalized_path'])['id'].count().sort_values(ascending=False)\n",
    "print(len(actions_count))\n",
    "actions_count"
   ]
  },
  {
   "cell_type": "code",
   "execution_count": 215,
   "id": "3526deb7",
   "metadata": {},
   "outputs": [
    {
     "data": {
      "text/plain": [
       "path                                                  method\n",
       "/api/2/conversations/11759824/messages/57198126/read  POST      1\n",
       "/api/2/conversations/11650625/messages/57259190/read  POST      1\n",
       "/api/2/conversations/11828861/messages                GET       1\n",
       "/api/2/conversations/12208344/messages                GET       1\n",
       "/api/2/conversations/11292564/messages/54707288/read  POST      1\n",
       "/api/2/notification/769097777/opened                  PUT       2\n",
       "/api/2/conversations/12046223                         GET       2\n",
       "/api/2/comments/3998562/likes                         GET       2\n",
       "/api/2/conversations/12243701/messages                POST      1\n",
       "/api/2/notification/759760368/opened                  PUT       4\n",
       "Name: id, dtype: int64"
      ]
     },
     "execution_count": 215,
     "metadata": {},
     "output_type": "execute_result"
    }
   ],
   "source": [
    "df_activity.groupby(by=['path','method'])['id'].count().sort_values(ascending=False).sample(10)"
   ]
  },
  {
   "cell_type": "code",
   "execution_count": 335,
   "id": "72629a79",
   "metadata": {},
   "outputs": [
    {
     "data": {
      "text/plain": [
       "method\n",
       "GET       6344966\n",
       "PUT        301240\n",
       "POST       259506\n",
       "DELETE       2089\n",
       "Name: count, dtype: int64"
      ]
     },
     "execution_count": 335,
     "metadata": {},
     "output_type": "execute_result"
    }
   ],
   "source": [
    "# RESTful API methods\n",
    "\"\"\" \n",
    "GET to retrieve a resource;\n",
    "PUT to change the state of or update a resource, which can be an object, file or block;\n",
    "POST to create that resource;\n",
    "DELETE to remove it.\n",
    "\"\"\"\n",
    "df_activity['method'].value_counts()"
   ]
  },
  {
   "cell_type": "code",
   "execution_count": 341,
   "id": "718d837e",
   "metadata": {},
   "outputs": [
    {
     "data": {
      "text/plain": [
       "response_status\n",
       "200    6896509\n",
       "401       5027\n",
       "404       2835\n",
       "500       2346\n",
       "400        825\n",
       "403        117\n",
       "201        116\n",
       "409         21\n",
       "405          4\n",
       "204          1\n",
       "Name: count, dtype: int64"
      ]
     },
     "execution_count": 341,
     "metadata": {},
     "output_type": "execute_result"
    }
   ],
   "source": [
    "df_activity['response_status'].value_counts()"
   ]
  },
  {
   "cell_type": "code",
   "execution_count": 216,
   "id": "afa3bb95",
   "metadata": {},
   "outputs": [
    {
     "data": {
      "text/plain": [
       "response_status  method\n",
       "200              GET       6334303\n",
       "                 PUT        301087\n",
       "                 POST       259037\n",
       "401              GET          4922\n",
       "404              GET          2770\n",
       "500              GET          2303\n",
       "200              DELETE       2082\n",
       "400              GET           555\n",
       "                 POST          160\n",
       "403              GET           112\n",
       "400              PUT           108\n",
       "401              POST          105\n",
       "201              POST          105\n",
       "404              POST           43\n",
       "500              POST           32\n",
       "404              PUT            22\n",
       "409              POST           20\n",
       "500              PUT            11\n",
       "201              PUT            11\n",
       "403              DELETE          4\n",
       "405              POST            3\n",
       "400              DELETE          2\n",
       "403              POST            1\n",
       "405              GET             1\n",
       "409              PUT             1\n",
       "204              DELETE          1\n",
       "Name: id, dtype: int64"
      ]
     },
     "execution_count": 216,
     "metadata": {},
     "output_type": "execute_result"
    }
   ],
   "source": [
    "df_activity.groupby(by=['response_status', 'method'])['id'].count().sort_values(ascending=False)"
   ]
  },
  {
   "cell_type": "code",
   "execution_count": 217,
   "id": "e08737fe",
   "metadata": {},
   "outputs": [
    {
     "data": {
      "text/plain": [
       "array([200, 400, 404, 401, 201, 403, 500, 409, 204, 405], dtype=int64)"
      ]
     },
     "execution_count": 217,
     "metadata": {},
     "output_type": "execute_result"
    }
   ],
   "source": [
    "df_activity['response_status'].unique()"
   ]
  },
  {
   "cell_type": "code",
   "execution_count": 218,
   "metadata": {},
   "outputs": [
    {
     "data": {
      "text/plain": [
       "response_status\n",
       "200    6896509\n",
       "401       5027\n",
       "404       2835\n",
       "500       2346\n",
       "400        825\n",
       "403        117\n",
       "201        116\n",
       "409         21\n",
       "405          4\n",
       "204          1\n",
       "Name: id, dtype: int64"
      ]
     },
     "execution_count": 218,
     "metadata": {},
     "output_type": "execute_result"
    }
   ],
   "source": [
    "df_activity.groupby(by=['response_status'])['id'].count().fillna(0).sort_values(ascending=False)"
   ]
  },
  {
   "cell_type": "markdown",
   "id": "87866096",
   "metadata": {},
   "source": [
    "### 5.2 Apply K-modes "
   ]
  },
  {
   "cell_type": "code",
   "execution_count": 390,
   "id": "acef9d96",
   "metadata": {},
   "outputs": [
    {
     "data": {
      "text/html": [
       "<div>\n",
       "<style scoped>\n",
       "    .dataframe tbody tr th:only-of-type {\n",
       "        vertical-align: middle;\n",
       "    }\n",
       "\n",
       "    .dataframe tbody tr th {\n",
       "        vertical-align: top;\n",
       "    }\n",
       "\n",
       "    .dataframe thead th {\n",
       "        text-align: right;\n",
       "    }\n",
       "</style>\n",
       "<table border=\"1\" class=\"dataframe\">\n",
       "  <thead>\n",
       "    <tr style=\"text-align: right;\">\n",
       "      <th></th>\n",
       "      <th>_inserted_at</th>\n",
       "      <th>id</th>\n",
       "      <th>user_id</th>\n",
       "      <th>path</th>\n",
       "      <th>normalized_path</th>\n",
       "      <th>action_path</th>\n",
       "      <th>method</th>\n",
       "      <th>response_status</th>\n",
       "      <th>turnaround_time</th>\n",
       "    </tr>\n",
       "  </thead>\n",
       "  <tbody>\n",
       "    <tr>\n",
       "      <th>0</th>\n",
       "      <td>2022-01-10 19:22:38.366080</td>\n",
       "      <td>128d3ac8-1a59-4a36-a11b-619fd1d8988b</td>\n",
       "      <td>99d73931-1583-485d-afa7-ee1e20c05868</td>\n",
       "      <td>/api/2/status</td>\n",
       "      <td>/api/2/status</td>\n",
       "      <td>status</td>\n",
       "      <td>GET</td>\n",
       "      <td>200</td>\n",
       "      <td>54</td>\n",
       "    </tr>\n",
       "    <tr>\n",
       "      <th>1</th>\n",
       "      <td>2022-01-10 19:22:38.366080</td>\n",
       "      <td>ddfdeb2d-a466-4ae0-a1d6-a1efc6628182</td>\n",
       "      <td>99d73931-1583-485d-afa7-ee1e20c05868</td>\n",
       "      <td>/api/2/prompts</td>\n",
       "      <td>/api/2/prompts</td>\n",
       "      <td>prompts</td>\n",
       "      <td>GET</td>\n",
       "      <td>200</td>\n",
       "      <td>125</td>\n",
       "    </tr>\n",
       "  </tbody>\n",
       "</table>\n",
       "</div>"
      ],
      "text/plain": [
       "                _inserted_at                                    id  \\\n",
       "0 2022-01-10 19:22:38.366080  128d3ac8-1a59-4a36-a11b-619fd1d8988b   \n",
       "1 2022-01-10 19:22:38.366080  ddfdeb2d-a466-4ae0-a1d6-a1efc6628182   \n",
       "\n",
       "                                user_id            path normalized_path  \\\n",
       "0  99d73931-1583-485d-afa7-ee1e20c05868   /api/2/status   /api/2/status   \n",
       "1  99d73931-1583-485d-afa7-ee1e20c05868  /api/2/prompts  /api/2/prompts   \n",
       "\n",
       "  action_path method response_status  turnaround_time  \n",
       "0      status    GET             200               54  \n",
       "1     prompts    GET             200              125  "
      ]
     },
     "execution_count": 390,
     "metadata": {},
     "output_type": "execute_result"
    }
   ],
   "source": [
    "df_activity.head(2)"
   ]
  },
  {
   "cell_type": "code",
   "execution_count": 411,
   "id": "04669e05",
   "metadata": {},
   "outputs": [
    {
     "data": {
      "text/plain": [
       "_inserted_at\n",
       "2022-01-01 00:01:20.488154        94\n",
       "2022-01-01 00:03:38.397752       264\n",
       "2022-01-01 00:05:50.006532       200\n",
       "2022-01-01 00:07:54.574998       125\n",
       "2022-01-01 00:10:13.131875        57\n",
       "                               ...  \n",
       "2022-02-25 18:31:21.110891    130541\n",
       "2022-02-26 03:03:29.709754    152155\n",
       "2022-02-27 03:03:22.351681     84076\n",
       "2022-02-28 03:04:02.482092     71512\n",
       "2022-03-01 03:02:59.666514    110817\n",
       "Name: method, Length: 15180, dtype: int64"
      ]
     },
     "execution_count": 411,
     "metadata": {},
     "output_type": "execute_result"
    }
   ],
   "source": [
    "df_activity.groupby(by=['action_path'])['id'].count().sort_values(ascending=False)\n",
    "df_inserted_at_grouped = df_activity.groupby(by=['_inserted_at'])['method'].count()\n",
    "\n",
    "df_inserted_at_grouped.to_frame().reset_index()\n",
    "# name the columns\n",
    "df_inserted_at_grouped.columns = ['_inserted_at', 'count']\n",
    "df_inserted_at_grouped"
   ]
  },
  {
   "cell_type": "code",
   "execution_count": 414,
   "id": "a4668dd7",
   "metadata": {},
   "outputs": [
    {
     "data": {
      "text/plain": [
       "_inserted_at\n",
       "2022-01-10 19:22:38.366080    469\n",
       "Name: method, dtype: int64"
      ]
     },
     "execution_count": 414,
     "metadata": {},
     "output_type": "execute_result"
    }
   ],
   "source": [
    "df_inserted_at_grouped[df_inserted_at_grouped.index == '2022-01-10 19:22:38.366080']"
   ]
  },
  {
   "cell_type": "code",
   "execution_count": null,
   "id": "b2428359",
   "metadata": {},
   "outputs": [],
   "source": []
  },
  {
   "cell_type": "code",
   "execution_count": 358,
   "id": "818727e5",
   "metadata": {},
   "outputs": [
    {
     "name": "stdout",
     "output_type": "stream",
     "text": [
      "Collecting kmodes\n",
      "  Downloading kmodes-0.12.2-py2.py3-none-any.whl.metadata (8.1 kB)\n",
      "Requirement already satisfied: numpy>=1.10.4 in c:\\users\\eduar\\appdata\\local\\programs\\python\\python311\\lib\\site-packages (from kmodes) (1.25.2)\n",
      "Collecting scikit-learn>=0.22.0 (from kmodes)\n",
      "  Downloading scikit_learn-1.4.1.post1-cp311-cp311-win_amd64.whl.metadata (11 kB)\n",
      "Requirement already satisfied: scipy>=0.13.3 in c:\\users\\eduar\\appdata\\local\\programs\\python\\python311\\lib\\site-packages (from kmodes) (1.11.4)\n",
      "Requirement already satisfied: joblib>=0.11 in c:\\users\\eduar\\appdata\\local\\programs\\python\\python311\\lib\\site-packages (from kmodes) (1.1.1)\n",
      "Collecting joblib>=0.11 (from kmodes)\n",
      "  Using cached joblib-1.3.2-py3-none-any.whl.metadata (5.4 kB)\n",
      "Collecting threadpoolctl>=2.0.0 (from scikit-learn>=0.22.0->kmodes)\n",
      "  Downloading threadpoolctl-3.4.0-py3-none-any.whl.metadata (13 kB)\n",
      "Downloading kmodes-0.12.2-py2.py3-none-any.whl (20 kB)\n",
      "Downloading scikit_learn-1.4.1.post1-cp311-cp311-win_amd64.whl (10.6 MB)\n",
      "   ---------------------------------------- 0.0/10.6 MB ? eta -:--:--\n",
      "    --------------------------------------- 0.2/10.6 MB 4.6 MB/s eta 0:00:03\n",
      "   --- ------------------------------------ 0.9/10.6 MB 9.9 MB/s eta 0:00:01\n",
      "   ------ --------------------------------- 1.7/10.6 MB 12.1 MB/s eta 0:00:01\n",
      "   -------- ------------------------------- 2.2/10.6 MB 11.7 MB/s eta 0:00:01\n",
      "   ----------- ---------------------------- 2.9/10.6 MB 12.5 MB/s eta 0:00:01\n",
      "   ------------- -------------------------- 3.7/10.6 MB 13.0 MB/s eta 0:00:01\n",
      "   ----------------- ---------------------- 4.6/10.6 MB 14.0 MB/s eta 0:00:01\n",
      "   -------------------- ------------------- 5.4/10.6 MB 14.3 MB/s eta 0:00:01\n",
      "   ----------------------- ---------------- 6.3/10.6 MB 15.5 MB/s eta 0:00:01\n",
      "   -------------------------- ------------- 7.2/10.6 MB 15.8 MB/s eta 0:00:01\n",
      "   ------------------------------ --------- 8.0/10.6 MB 16.0 MB/s eta 0:00:01\n",
      "   --------------------------------- ------ 8.9/10.6 MB 16.2 MB/s eta 0:00:01\n",
      "   ---------------------------------- ----- 9.1/10.6 MB 16.2 MB/s eta 0:00:01\n",
      "   -------------------------------------- - 10.2/10.6 MB 15.9 MB/s eta 0:00:01\n",
      "   ---------------------------------------  10.6/10.6 MB 16.8 MB/s eta 0:00:01\n",
      "   ---------------------------------------- 10.6/10.6 MB 16.0 MB/s eta 0:00:00\n",
      "Using cached joblib-1.3.2-py3-none-any.whl (302 kB)\n",
      "Downloading threadpoolctl-3.4.0-py3-none-any.whl (17 kB)\n",
      "Installing collected packages: threadpoolctl, joblib, scikit-learn, kmodes\n",
      "  Attempting uninstall: joblib\n",
      "    Found existing installation: joblib 1.1.1\n",
      "    Uninstalling joblib-1.1.1:\n",
      "      Successfully uninstalled joblib-1.1.1\n",
      "Successfully installed joblib-1.3.2 kmodes-0.12.2 scikit-learn-1.4.1.post1 threadpoolctl-3.4.0\n"
     ]
    },
    {
     "name": "stderr",
     "output_type": "stream",
     "text": [
      "ERROR: pip's dependency resolver does not currently take into account all the packages that are installed. This behaviour is the source of the following dependency conflicts.\n",
      "pandas-profiling 3.2.0 requires joblib~=1.1.0, but you have joblib 1.3.2 which is incompatible.\n",
      "pandas-profiling 3.2.0 requires visions[type_image_path]==0.7.4, but you have visions 0.7.5 which is incompatible.\n"
     ]
    }
   ],
   "source": [
    "! pip install kmodes"
   ]
  },
  {
   "cell_type": "code",
   "execution_count": 373,
   "id": "6e3abf6f",
   "metadata": {},
   "outputs": [
    {
     "data": {
      "text/plain": [
       "CategoricalDtype(categories=[200, 201, 204, 400, 401, 403, 404, 405, 409, 500], ordered=False, categories_dtype=int64)"
      ]
     },
     "execution_count": 373,
     "metadata": {},
     "output_type": "execute_result"
    }
   ],
   "source": [
    "# Set the values from the 'response_status' column to categorical\n",
    "df_activity['response_status'] = df_activity['response_status'].astype('category')\n",
    "df_activity['response_status'].dtype\n",
    "\n"
   ]
  },
  {
   "cell_type": "code",
   "execution_count": 374,
   "id": "129481fa",
   "metadata": {},
   "outputs": [
    {
     "data": {
      "text/html": [
       "<div>\n",
       "<style scoped>\n",
       "    .dataframe tbody tr th:only-of-type {\n",
       "        vertical-align: middle;\n",
       "    }\n",
       "\n",
       "    .dataframe tbody tr th {\n",
       "        vertical-align: top;\n",
       "    }\n",
       "\n",
       "    .dataframe thead th {\n",
       "        text-align: right;\n",
       "    }\n",
       "</style>\n",
       "<table border=\"1\" class=\"dataframe\">\n",
       "  <thead>\n",
       "    <tr style=\"text-align: right;\">\n",
       "      <th></th>\n",
       "      <th>path</th>\n",
       "      <th>normalized_path</th>\n",
       "      <th>method</th>\n",
       "      <th>response_status</th>\n",
       "    </tr>\n",
       "  </thead>\n",
       "  <tbody>\n",
       "    <tr>\n",
       "      <th>0</th>\n",
       "      <td>172516</td>\n",
       "      <td>100</td>\n",
       "      <td>1</td>\n",
       "      <td>0</td>\n",
       "    </tr>\n",
       "    <tr>\n",
       "      <th>1</th>\n",
       "      <td>172504</td>\n",
       "      <td>92</td>\n",
       "      <td>1</td>\n",
       "      <td>0</td>\n",
       "    </tr>\n",
       "    <tr>\n",
       "      <th>2</th>\n",
       "      <td>172517</td>\n",
       "      <td>101</td>\n",
       "      <td>1</td>\n",
       "      <td>0</td>\n",
       "    </tr>\n",
       "    <tr>\n",
       "      <th>3</th>\n",
       "      <td>143479</td>\n",
       "      <td>72</td>\n",
       "      <td>1</td>\n",
       "      <td>0</td>\n",
       "    </tr>\n",
       "    <tr>\n",
       "      <th>4</th>\n",
       "      <td>33</td>\n",
       "      <td>4</td>\n",
       "      <td>1</td>\n",
       "      <td>0</td>\n",
       "    </tr>\n",
       "  </tbody>\n",
       "</table>\n",
       "</div>"
      ],
      "text/plain": [
       "     path  normalized_path  method  response_status\n",
       "0  172516              100       1                0\n",
       "1  172504               92       1                0\n",
       "2  172517              101       1                0\n",
       "3  143479               72       1                0\n",
       "4      33                4       1                0"
      ]
     },
     "execution_count": 374,
     "metadata": {},
     "output_type": "execute_result"
    }
   ],
   "source": [
    "# Encode to labels all columns with categorical data\n",
    "from sklearn.preprocessing import LabelEncoder\n",
    "le = LabelEncoder()\n",
    "\n",
    "predictors_categorical = ['path', 'normalized_path', 'method','response_status']\n",
    "X = df_activity[predictors_categorical]\n",
    "\n",
    "X = X.apply(le.fit_transform)\n",
    "X.head()"
   ]
  },
  {
   "cell_type": "code",
   "execution_count": null,
   "id": "8170666c",
   "metadata": {},
   "outputs": [],
   "source": [
    "# Print the resulting clusters\n",
    "#print(clusters)\n",
    "print(km_cao.cluster_centroids_)"
   ]
  },
  {
   "cell_type": "code",
   "execution_count": 375,
   "id": "54ccf536",
   "metadata": {},
   "outputs": [
    {
     "name": "stdout",
     "output_type": "stream",
     "text": [
      "Init: initializing centroids\n",
      "Init: initializing clusters\n",
      "Starting iterations...\n",
      "Run 1, iteration: 1/100, moves: 0, cost: 10544471.0\n"
     ]
    }
   ],
   "source": [
    "# Importing Libraries\n",
    "from kmodes.kmodes import KModes\n",
    "import numpy as np\n",
    "\n",
    "# Perform k-modes clustering with \"cao\" initialization\n",
    "km_cao = KModes(n_clusters=2, init='Cao', n_init=1, verbose=1)\n",
    "fit_clusters_cao = km_cao.fit_predict(X)\n"
   ]
  },
  {
   "cell_type": "code",
   "execution_count": 378,
   "id": "3edd8580",
   "metadata": {},
   "outputs": [
    {
     "data": {
      "text/plain": [
       "array([0, 0, 0, ..., 0, 0, 1], dtype=uint16)"
      ]
     },
     "execution_count": 378,
     "metadata": {},
     "output_type": "execute_result"
    }
   ],
   "source": [
    "fit_clusters_cao"
   ]
  },
  {
   "cell_type": "code",
   "execution_count": 379,
   "id": "a781f1ef",
   "metadata": {},
   "outputs": [
    {
     "data": {
      "text/plain": [
       "array([[172517,    101,      1,      0],\n",
       "       [143479,     72,      1,      0]], dtype=int64)"
      ]
     },
     "execution_count": 379,
     "metadata": {},
     "output_type": "execute_result"
    }
   ],
   "source": [
    "km_cao.cluster_centroids_"
   ]
  },
  {
   "cell_type": "code",
   "execution_count": 381,
   "id": "b0427fb6",
   "metadata": {},
   "outputs": [
    {
     "data": {
      "text/html": [
       "<div>\n",
       "<style scoped>\n",
       "    .dataframe tbody tr th:only-of-type {\n",
       "        vertical-align: middle;\n",
       "    }\n",
       "\n",
       "    .dataframe tbody tr th {\n",
       "        vertical-align: top;\n",
       "    }\n",
       "\n",
       "    .dataframe thead th {\n",
       "        text-align: right;\n",
       "    }\n",
       "</style>\n",
       "<table border=\"1\" class=\"dataframe\">\n",
       "  <thead>\n",
       "    <tr style=\"text-align: right;\">\n",
       "      <th></th>\n",
       "      <th>path</th>\n",
       "      <th>normalized_path</th>\n",
       "      <th>method</th>\n",
       "      <th>response_status</th>\n",
       "    </tr>\n",
       "  </thead>\n",
       "  <tbody>\n",
       "    <tr>\n",
       "      <th>0</th>\n",
       "      <td>172517</td>\n",
       "      <td>101</td>\n",
       "      <td>1</td>\n",
       "      <td>0</td>\n",
       "    </tr>\n",
       "    <tr>\n",
       "      <th>1</th>\n",
       "      <td>143479</td>\n",
       "      <td>72</td>\n",
       "      <td>1</td>\n",
       "      <td>0</td>\n",
       "    </tr>\n",
       "  </tbody>\n",
       "</table>\n",
       "</div>"
      ],
      "text/plain": [
       "     path  normalized_path  method  response_status\n",
       "0  172517              101       1                0\n",
       "1  143479               72       1                0"
      ]
     },
     "execution_count": 381,
     "metadata": {},
     "output_type": "execute_result"
    }
   ],
   "source": [
    "df_clusterCentroids = pd.DataFrame(km_cao.cluster_centroids_)\n",
    "df_clusterCentroids.columns = X.columns\n",
    "df_clusterCentroids"
   ]
  },
  {
   "cell_type": "code",
   "execution_count": null,
   "id": "084ecac4",
   "metadata": {},
   "outputs": [],
   "source": []
  },
  {
   "cell_type": "code",
   "execution_count": 382,
   "id": "d0f5240b",
   "metadata": {},
   "outputs": [
    {
     "name": "stdout",
     "output_type": "stream",
     "text": [
      "Init: initializing centroids\n",
      "Init: initializing clusters\n",
      "Starting iterations...\n",
      "Run 1, iteration: 1/100, moves: 0, cost: 11377545.0\n"
     ]
    }
   ],
   "source": [
    "# Perform k-modes clustering with \"Huang\" initialization\n",
    "km_huang = KModes(n_clusters=2, init='Huang', n_init=1, verbose=1)\n",
    "fit_clusters_huang = km_huang.fit_predict(X)"
   ]
  },
  {
   "cell_type": "code",
   "execution_count": 383,
   "id": "543a7e4c",
   "metadata": {},
   "outputs": [
    {
     "data": {
      "text/plain": [
       "array([0, 0, 0, ..., 0, 0, 0], dtype=uint16)"
      ]
     },
     "execution_count": 383,
     "metadata": {},
     "output_type": "execute_result"
    }
   ],
   "source": [
    "fit_clusters_huang\n",
    "\n",
    "# Cao initialization has a lower cost"
   ]
  },
  {
   "cell_type": "code",
   "execution_count": 385,
   "id": "a05d79e6",
   "metadata": {},
   "outputs": [
    {
     "name": "stdout",
     "output_type": "stream",
     "text": [
      "Init: initializing centroids\n",
      "Init: initializing clusters\n",
      "Starting iterations...\n",
      "Run 1, iteration: 1/100, moves: 0, cost: 11678917.0\n",
      "Init: initializing centroids\n",
      "Init: initializing clusters\n",
      "Starting iterations...\n",
      "Run 1, iteration: 1/100, moves: 0, cost: 10544471.0\n",
      "Init: initializing centroids\n",
      "Init: initializing clusters\n",
      "Starting iterations...\n",
      "Run 1, iteration: 1/100, moves: 0, cost: 9648093.0\n",
      "Init: initializing centroids\n",
      "Init: initializing clusters\n",
      "Starting iterations...\n",
      "Run 1, iteration: 1/100, moves: 0, cost: 8792937.0\n"
     ]
    }
   ],
   "source": [
    "# Choosing K by comparing Cost against each K\n",
    "cost = []\n",
    "for num_clusters in list(range(1,5)):\n",
    "    kmode = KModes(n_clusters=num_clusters, init = \"Cao\", n_init = 1, verbose=1)\n",
    "    kmode.fit_predict(X)\n",
    "    cost.append(kmode.cost_)\n"
   ]
  },
  {
   "cell_type": "code",
   "execution_count": 386,
   "id": "c3dd7bfe",
   "metadata": {},
   "outputs": [
    {
     "data": {
      "text/plain": [
       "[<matplotlib.lines.Line2D at 0x22326432950>]"
      ]
     },
     "execution_count": 386,
     "metadata": {},
     "output_type": "execute_result"
    },
    {
     "data": {
      "image/png": "[encoded data removed]",
      "text/plain": [
       "<Figure size 640x480 with 1 Axes>"
      ]
     },
     "metadata": {},
     "output_type": "display_data"
    }
   ],
   "source": [
    "# Data viz lib\n",
    "import matplotlib.pyplot as plt\n",
    "import seaborn as sns\n",
    "%matplotlib inline\n",
    "from matplotlib.pyplot import xticks\n",
    "\n",
    "y = np.array([i for i in range(1,5,1)])\n",
    "plt.plot(y,cost)"
   ]
  },
  {
   "cell_type": "code",
   "execution_count": 387,
   "id": "81700ac2",
   "metadata": {},
   "outputs": [
    {
     "name": "stdout",
     "output_type": "stream",
     "text": [
      "Init: initializing centroids\n",
      "Init: initializing clusters\n",
      "Starting iterations...\n",
      "Run 1, iteration: 1/100, moves: 0, cost: 11678917.0\n",
      "Init: initializing centroids\n",
      "Init: initializing clusters\n",
      "Starting iterations...\n",
      "Run 1, iteration: 1/100, moves: 0, cost: 10544471.0\n",
      "Init: initializing centroids\n",
      "Init: initializing clusters\n",
      "Starting iterations...\n",
      "Run 1, iteration: 1/100, moves: 0, cost: 9648093.0\n",
      "Init: initializing centroids\n",
      "Init: initializing clusters\n",
      "Starting iterations...\n",
      "Run 1, iteration: 1/100, moves: 0, cost: 8792937.0\n",
      "Init: initializing centroids\n",
      "Init: initializing clusters\n",
      "Starting iterations...\n",
      "Run 1, iteration: 1/100, moves: 0, cost: 7989517.0\n",
      "Init: initializing centroids\n",
      "Init: initializing clusters\n",
      "Starting iterations...\n",
      "Run 1, iteration: 1/100, moves: 0, cost: 7232156.0\n",
      "Init: initializing centroids\n",
      "Init: initializing clusters\n",
      "Starting iterations...\n",
      "Run 1, iteration: 1/100, moves: 0, cost: 6541250.0\n",
      "Init: initializing centroids\n",
      "Init: initializing clusters\n",
      "Starting iterations...\n",
      "Run 1, iteration: 1/100, moves: 0, cost: 5862068.0\n",
      "Init: initializing centroids\n",
      "Init: initializing clusters\n",
      "Starting iterations...\n",
      "Run 1, iteration: 1/100, moves: 0, cost: 5274238.0\n"
     ]
    }
   ],
   "source": [
    "# Choosing K by comparing Cost against each K\n",
    "cost = []\n",
    "for num_clusters in list(range(1,10)):\n",
    "    kmode = KModes(n_clusters=num_clusters, init = \"Cao\", n_init = 1, verbose=1)\n",
    "    kmode.fit_predict(X)\n",
    "    cost.append(kmode.cost_)\n"
   ]
  },
  {
   "cell_type": "code",
   "execution_count": 389,
   "id": "aebdac76",
   "metadata": {},
   "outputs": [
    {
     "data": {
      "text/plain": [
       "[<matplotlib.lines.Line2D at 0x22326f57b50>]"
      ]
     },
     "execution_count": 389,
     "metadata": {},
     "output_type": "execute_result"
    },
    {
     "data": {
      "image/png": "[encoded data removed]",
      "text/plain": [
       "<Figure size 640x480 with 1 Axes>"
      ]
     },
     "metadata": {},
     "output_type": "display_data"
    }
   ],
   "source": [
    "# Data viz lib\n",
    "import matplotlib.pyplot as plt\n",
    "import seaborn as sns\n",
    "%matplotlib inline\n",
    "from matplotlib.pyplot import xticks\n",
    "\n",
    "y = np.array([i for i in range(1,10,1)])\n",
    "plt.plot(y,cost)"
   ]
  }
 ],
 "metadata": {
  "kernelspec": {
   "display_name": "Python 3 (ipykernel)",
   "language": "python",
   "name": "python3"
  },
  "language_info": {
   "codemirror_mode": {
    "name": "ipython",
    "version": 3
   },
   "file_extension": ".py",
   "mimetype": "text/x-python",
   "name": "python",
   "nbconvert_exporter": "python",
   "pygments_lexer": "ipython3",
   "version": "3.10.12"
  }
 },
 "nbformat": 4,
 "nbformat_minor": 5
}
