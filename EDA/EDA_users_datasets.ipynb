{
 "cells": [
  {
   "cell_type": "markdown",
   "id": "2f724083",
   "metadata": {},
   "source": [
    "# Exploratory Data Analysis"
   ]
  },
  {
   "cell_type": "markdown",
   "id": "bb264b86",
   "metadata": {},
   "source": [
    "Some introduction...\n",
    "\n",
    "## Dataset Descriptions\n",
    "\n",
    "### Streams\n",
    "The Streams dataset provides details about the different streams in the system. It includes information such as stream ID, stream name, and stream category.\n",
    "\n",
    "### Post Reports\n",
    "This dataset contains reports of posts made by users. It includes attributes such as post ID, user ID, report reason, and timestamp.\n",
    "\n",
    "### Comments Reports\n",
    "The Comments Reports dataset contains reports of comments made by users. It includes attributes such as comment ID, user ID, report reason, and timestamp.\n",
    "\n",
    "### User Activity\n",
    "The User Activity dataset captures the activity logs of users in the system. It includes attributes such as user ID, activity type, timestamp, and the normalized path of the activity.\n"
   ]
  },
  {
   "cell_type": "markdown",
   "id": "3a7403ea",
   "metadata": {},
   "source": [
    "## 1. Initial setup "
   ]
  },
  {
   "cell_type": "code",
   "execution_count": 8,
   "id": "49277a28",
   "metadata": {},
   "outputs": [
    {
     "name": "stdout",
     "output_type": "stream",
     "text": [
      "C:\\Users\\eduar\\Documents\\Master_Thesis\\GenAI_Thesis_Beekeeper\n"
     ]
    }
   ],
   "source": [
    "import pandas as pd\n",
    "pd.set_option('display.max_columns', None)\n",
    "#from IPython.display import display, HTML\n",
    "#display(HTML(\"<style>.container { width:100% !important; }</style>\"))\n",
    "\n",
    "# Needed Packages\n",
    "import pandas as pd\n",
    "import os\n",
    "import numpy as np\n",
    "from datetime import datetime\n",
    "#from pandas_profiling import ProfileReport\n",
    "#import ydata_profiling\n",
    "\n",
    "\n",
    "\n",
    "# Visualization packages\n",
    "import plotly.graph_objects as go\n",
    "import plotly.express as px\n",
    "import seaborn as sns\n",
    "import matplotlib.pyplot as plt\n",
    "\n",
    "# Display settings\n",
    "import warnings\n",
    "warnings.filterwarnings('ignore')\n",
    "#%matplotlib widget"
   ]
  },
  {
   "cell_type": "markdown",
   "id": "aa8849e6",
   "metadata": {},
   "source": [
    "## 2. EDA for 'users' data set\n",
    "\n",
    "This dataset contains information about the users in the system. It includes attributes such as user ID, name, age, and gender."
   ]
  },
  {
   "cell_type": "code",
   "execution_count": 3,
   "id": "eda16c69",
   "metadata": {},
   "outputs": [
    {
     "name": "stdout",
     "output_type": "stream",
     "text": [
      "<class 'pandas.core.frame.DataFrame'>\n",
      "RangeIndex: 17303 entries, 0 to 17302\n",
      "Data columns (total 19 columns):\n",
      " #   Column                        Non-Null Count  Dtype \n",
      "---  ------                        --------------  ----- \n",
      " 0   first_login                   15056 non-null  object\n",
      " 1   suspended                     17303 non-null  bool  \n",
      " 2   id                            17303 non-null  object\n",
      " 3   last_skipped_contact_details  15008 non-null  object\n",
      " 4   is_bot                        17303 non-null  bool  \n",
      " 5   state                         17303 non-null  object\n",
      " 6   role                          17303 non-null  object\n",
      " 7   last_login                    15056 non-null  object\n",
      " 8   tenantuserid                  10284 non-null  object\n",
      " 9   updated                       17303 non-null  object\n",
      " 10  used                          15055 non-null  object\n",
      " 11  display_name_extension        17207 non-null  object\n",
      " 12  suspended_at                  15171 non-null  object\n",
      " 13  username                      17303 non-null  object\n",
      " 14  language                      15042 non-null  object\n",
      " 15  created                       17303 non-null  object\n",
      " 16  department                    17028 non-null  object\n",
      " 17  location                      17033 non-null  object\n",
      " 18  position                      17197 non-null  object\n",
      "dtypes: bool(2), object(17)\n",
      "memory usage: 2.3+ MB\n",
      "None\n"
     ]
    }
   ],
   "source": [
    "# Users data\n",
    "# path = \"/home/ubuntu/thesis_GenAI/data/production_datasets/FlaggerForce/users_export\"   # path in vm\n",
    "path = \"C:\\\\Users\\\\eduar\\\\Documents\\\\Master_Thesis\\\\GenAI_Thesis_Beekeeper\\\\data\\\\production_datasets\\\\FlaggerForce\\\\users_export\"  # Local path\n",
    "\n",
    "file_name = \"flaggerforce_users_2024-03-05T23-44-35.xlsx\"\n",
    "file_path = os.path.join(path, file_name)\n",
    "data = pd.read_excel(file_path)\n",
    "print(data.info())\n",
    "# print(f'The columns are: {data.columns}')\n",
    "# data.sample(2)"
   ]
  },
  {
   "cell_type": "code",
   "execution_count": 4,
   "id": "e623b2bd",
   "metadata": {},
   "outputs": [
    {
     "name": "stdout",
     "output_type": "stream",
     "text": [
      "state\n",
      "suspended    15171\n",
      "active        2095\n",
      "created         37\n",
      "Name: count, dtype: int64\n"
     ]
    },
    {
     "data": {
      "image/png": "[encoded data removed]",
      "text/plain": [
       "<Figure size 800x600 with 1 Axes>"
      ]
     },
     "metadata": {},
     "output_type": "display_data"
    }
   ],
   "source": [
    "# Active Users by Department\n",
    "data_users = data.copy()\n",
    "# group by state \n",
    "print(data_users['state'].value_counts())\n",
    "\n",
    "import matplotlib.pyplot as plt\n",
    "\n",
    "# Active Users by Department\n",
    "data_users = data.copy()\n",
    "state_counts = data_users['state'].value_counts()\n",
    "\n",
    "# Plotting\n",
    "plt.figure(figsize=(8, 6))\n",
    "plt.bar(state_counts.index, state_counts.values)\n",
    "plt.xlabel('User State')\n",
    "plt.ylabel('Number of Users')\n",
    "plt.title(\"User's Status\")\n",
    "plt.show()\n"
   ]
  },
  {
   "cell_type": "code",
   "execution_count": 5,
   "id": "40bb8bcc",
   "metadata": {},
   "outputs": [
    {
     "data": {
      "text/html": [
       "<div>\n",
       "<style scoped>\n",
       "    .dataframe tbody tr th:only-of-type {\n",
       "        vertical-align: middle;\n",
       "    }\n",
       "\n",
       "    .dataframe tbody tr th {\n",
       "        vertical-align: top;\n",
       "    }\n",
       "\n",
       "    .dataframe thead th {\n",
       "        text-align: right;\n",
       "    }\n",
       "</style>\n",
       "<table border=\"1\" class=\"dataframe\">\n",
       "  <thead>\n",
       "    <tr style=\"text-align: right;\">\n",
       "      <th></th>\n",
       "      <th>first_login</th>\n",
       "      <th>suspended</th>\n",
       "      <th>id</th>\n",
       "      <th>last_skipped_contact_details</th>\n",
       "      <th>is_bot</th>\n",
       "      <th>state</th>\n",
       "      <th>role</th>\n",
       "      <th>last_login</th>\n",
       "      <th>tenantuserid</th>\n",
       "      <th>updated</th>\n",
       "      <th>used</th>\n",
       "      <th>display_name_extension</th>\n",
       "      <th>suspended_at</th>\n",
       "      <th>username</th>\n",
       "      <th>language</th>\n",
       "      <th>created</th>\n",
       "      <th>department</th>\n",
       "      <th>location</th>\n",
       "      <th>position</th>\n",
       "    </tr>\n",
       "  </thead>\n",
       "  <tbody>\n",
       "    <tr>\n",
       "      <th>0</th>\n",
       "      <td>2022-12-16T19:26:22</td>\n",
       "      <td>False</td>\n",
       "      <td>093c7a08-e32c-40eb-9eb6-a5e26c623be0</td>\n",
       "      <td>2024-02-05T21:31:03</td>\n",
       "      <td>False</td>\n",
       "      <td>active</td>\n",
       "      <td>member</td>\n",
       "      <td>2024-02-05T21:31:00</td>\n",
       "      <td>24193</td>\n",
       "      <td>2024-02-05T21:31:00</td>\n",
       "      <td>2024-03-05T22:26:00</td>\n",
       "      <td>Advanced Crew Leader, MD</td>\n",
       "      <td>NaN</td>\n",
       "      <td>Aaron_Burch</td>\n",
       "      <td>en</td>\n",
       "      <td>2022-12-16T18:02:51</td>\n",
       "      <td>Operations</td>\n",
       "      <td>MD</td>\n",
       "      <td>Advanced Crew Leader</td>\n",
       "    </tr>\n",
       "    <tr>\n",
       "      <th>1</th>\n",
       "      <td>2024-02-20T21:19:59</td>\n",
       "      <td>False</td>\n",
       "      <td>c9c1ce3b-2afa-453d-9c72-b521442b288f</td>\n",
       "      <td>2024-02-20T21:20:18</td>\n",
       "      <td>False</td>\n",
       "      <td>active</td>\n",
       "      <td>member</td>\n",
       "      <td>2024-02-20T21:19:59</td>\n",
       "      <td>28629</td>\n",
       "      <td>2024-02-21T03:01:52</td>\n",
       "      <td>2024-03-05T19:28:00</td>\n",
       "      <td>Crew Member, NEPA</td>\n",
       "      <td>NaN</td>\n",
       "      <td>Aaron_Cassatt</td>\n",
       "      <td>en</td>\n",
       "      <td>2024-02-20T20:01:20</td>\n",
       "      <td>Operations</td>\n",
       "      <td>NEPA</td>\n",
       "      <td>Crew Member</td>\n",
       "    </tr>\n",
       "    <tr>\n",
       "      <th>2</th>\n",
       "      <td>2023-12-11T20:19:18</td>\n",
       "      <td>False</td>\n",
       "      <td>eae780a3-9c68-457b-ad3f-c38210a46539</td>\n",
       "      <td>2023-12-11T20:20:07</td>\n",
       "      <td>False</td>\n",
       "      <td>active</td>\n",
       "      <td>member</td>\n",
       "      <td>2023-12-11T20:19:18</td>\n",
       "      <td>27878</td>\n",
       "      <td>2024-02-26T22:01:04</td>\n",
       "      <td>2024-03-05T22:24:00</td>\n",
       "      <td>Crew Leader, WNC</td>\n",
       "      <td>NaN</td>\n",
       "      <td>Aaron_Ervin</td>\n",
       "      <td>en</td>\n",
       "      <td>2023-12-11T18:02:40</td>\n",
       "      <td>Operations</td>\n",
       "      <td>WNC</td>\n",
       "      <td>Crew Leader</td>\n",
       "    </tr>\n",
       "  </tbody>\n",
       "</table>\n",
       "</div>"
      ],
      "text/plain": [
       "           first_login  suspended                                    id  \\\n",
       "0  2022-12-16T19:26:22      False  093c7a08-e32c-40eb-9eb6-a5e26c623be0   \n",
       "1  2024-02-20T21:19:59      False  c9c1ce3b-2afa-453d-9c72-b521442b288f   \n",
       "2  2023-12-11T20:19:18      False  eae780a3-9c68-457b-ad3f-c38210a46539   \n",
       "\n",
       "  last_skipped_contact_details  is_bot   state    role           last_login  \\\n",
       "0          2024-02-05T21:31:03   False  active  member  2024-02-05T21:31:00   \n",
       "1          2024-02-20T21:20:18   False  active  member  2024-02-20T21:19:59   \n",
       "2          2023-12-11T20:20:07   False  active  member  2023-12-11T20:19:18   \n",
       "\n",
       "  tenantuserid              updated                 used  \\\n",
       "0        24193  2024-02-05T21:31:00  2024-03-05T22:26:00   \n",
       "1        28629  2024-02-21T03:01:52  2024-03-05T19:28:00   \n",
       "2        27878  2024-02-26T22:01:04  2024-03-05T22:24:00   \n",
       "\n",
       "     display_name_extension suspended_at       username language  \\\n",
       "0  Advanced Crew Leader, MD          NaN    Aaron_Burch       en   \n",
       "1         Crew Member, NEPA          NaN  Aaron_Cassatt       en   \n",
       "2          Crew Leader, WNC          NaN    Aaron_Ervin       en   \n",
       "\n",
       "               created  department location              position  \n",
       "0  2022-12-16T18:02:51  Operations       MD  Advanced Crew Leader  \n",
       "1  2024-02-20T20:01:20  Operations     NEPA           Crew Member  \n",
       "2  2023-12-11T18:02:40  Operations      WNC           Crew Leader  "
      ]
     },
     "execution_count": 5,
     "metadata": {},
     "output_type": "execute_result"
    }
   ],
   "source": [
    "data_users.head(3)"
   ]
  },
  {
   "cell_type": "code",
   "execution_count": 6,
   "id": "fde7d011",
   "metadata": {},
   "outputs": [
    {
     "name": "stdout",
     "output_type": "stream",
     "text": [
      "The date range of users based on the creation date:\n",
      "Min date: 2017-12-20 04:30:24\n",
      "Max date: 2024-03-05 20:01:54\n"
     ]
    }
   ],
   "source": [
    "# Preprocessing users data function\n",
    "\n",
    "def preprocess_users(df):  \n",
    "    # Keep only active and suspended users\n",
    "    df = df[df['state'] != 'created']\n",
    "  \n",
    "    # Imputation of missing values\n",
    "    # Language \n",
    "    df['language'].fillna('en', inplace=True)\n",
    "    # Exclude rows with missing values in the column first_login\n",
    "    df = df[~df['first_login'].isnull()]\n",
    "\n",
    "    # Delete columns\n",
    "    # Columns to be deleted\n",
    "    cols_to_delete = ['is_bot','tenantuserid']    \n",
    "    df.drop(cols_to_delete, axis=1, inplace=True)\n",
    "    # Reorder columns\n",
    "    new_order = ['first_login', 'suspended', 'username', 'id', 'last_skipped_contact_details',\n",
    "                'state', 'role', 'last_login', 'updated', 'used', 'display_name_extension',\n",
    "                'suspended_at', 'language', 'created', 'department', 'location', 'position']\n",
    "    df = df[new_order]\n",
    "    \n",
    "    # Convert to datetime\n",
    "    df['first_login'] = pd.to_datetime(df['first_login'])\n",
    "    df['last_skipped_contact_details'] = pd.to_datetime(df['last_skipped_contact_details'])\n",
    "    df['last_login'] = pd.to_datetime(df['last_login'])\n",
    "    df['updated'] = pd.to_datetime(df['updated'])\n",
    "    df['used'] = pd.to_datetime(df['used'])\n",
    "    df['created'] = pd.to_datetime(df['created'])    \n",
    "\n",
    "    # date range of posts\n",
    "    print(\"The date range of users based on the creation date:\")\n",
    "    print(f\"Min date: {df['created'].min()}\")\n",
    "    print(f\"Max date: {df['created'].max()}\")\n",
    "    #print(f\"Date range: {df['created'].max() - df['created'].min()}\")\n",
    "    \n",
    "    \n",
    "    return df\n",
    "\n",
    "df_users = preprocess_users(data_users)"
   ]
  },
  {
   "cell_type": "code",
   "execution_count": 7,
   "id": "45f00894",
   "metadata": {},
   "outputs": [
    {
     "data": {
      "image/png": "[encoded data removed]",
      "text/plain": [
       "<Figure size 1000x600 with 1 Axes>"
      ]
     },
     "metadata": {},
     "output_type": "display_data"
    }
   ],
   "source": [
    "# print the rows containing missing values\n",
    "# df_users[df_users.isnull().any(axis=1)]\n",
    "\n",
    "# Check missing values\n",
    "df_nans = df_users.isnull().sum()\n",
    "\n",
    "# Create bar plot using Seaborn\n",
    "plt.figure(figsize=(10, 6))\n",
    "sns.barplot(x=df_nans.index, y=df_nans.values)\n",
    "plt.title('Missing Values')\n",
    "plt.xlabel('Columns')\n",
    "plt.ylabel('Number of Missing Values')\n",
    "plt.xticks(rotation=90)  # Rotate x-axis labels for better readability\n",
    "plt.tight_layout()\n",
    "plt.show()"
   ]
  },
  {
   "cell_type": "code",
   "execution_count": 9,
   "id": "b219f939",
   "metadata": {},
   "outputs": [
    {
     "name": "stdout",
     "output_type": "stream",
     "text": [
      "The number of unique positions names is 239\n"
     ]
    },
    {
     "data": {
      "application/vnd.plotly.v1+json": {
       "config": {
        "plotlyServerURL": "https://plot.ly"
       },
       "data": [
        {
         "alignmentgroup": "True",
         "hovertemplate": "active=%{x}<br>display_name_extension=%{y}<extra></extra>",
         "legendgroup": "",
         "marker": {
          "color": "#636efa",
          "pattern": {
           "shape": ""
          }
         },
         "name": "",
         "offsetgroup": "",
         "orientation": "h",
         "showlegend": false,
         "textposition": "auto",
         "type": "bar",
         "x": [
          179,
          155,
          122,
          109,
          95,
          91,
          88,
          84,
          82,
          80
         ],
         "xaxis": "x",
         "y": [
          "Crew Member, MD",
          "Crew Member, SEPA",
          "Crew Member, CPA",
          "Crew Member, WPA",
          "Crew Member, NEPA",
          "Advanced Crew Leader, MD",
          "Crew Member, WNC",
          "Crew Member, ENC",
          "Crew Member, SFL",
          "Advanced Crew Leader, SEPA"
         ],
         "yaxis": "y"
        }
       ],
       "layout": {
        "barmode": "stack",
        "height": 400,
        "legend": {
         "tracegroupgap": 0
        },
        "template": {
         "data": {
          "bar": [
           {
            "error_x": {
             "color": "#2a3f5f"
            },
            "error_y": {
             "color": "#2a3f5f"
            },
            "marker": {
             "line": {
              "color": "#E5ECF6",
              "width": 0.5
             },
             "pattern": {
              "fillmode": "overlay",
              "size": 10,
              "solidity": 0.2
             }
            },
            "type": "bar"
           }
          ],
          "barpolar": [
           {
            "marker": {
             "line": {
              "color": "#E5ECF6",
              "width": 0.5
             },
             "pattern": {
              "fillmode": "overlay",
              "size": 10,
              "solidity": 0.2
             }
            },
            "type": "barpolar"
           }
          ],
          "carpet": [
           {
            "aaxis": {
             "endlinecolor": "#2a3f5f",
             "gridcolor": "white",
             "linecolor": "white",
             "minorgridcolor": "white",
             "startlinecolor": "#2a3f5f"
            },
            "baxis": {
             "endlinecolor": "#2a3f5f",
             "gridcolor": "white",
             "linecolor": "white",
             "minorgridcolor": "white",
             "startlinecolor": "#2a3f5f"
            },
            "type": "carpet"
           }
          ],
          "choropleth": [
           {
            "colorbar": {
             "outlinewidth": 0,
             "ticks": ""
            },
            "type": "choropleth"
           }
          ],
          "contour": [
           {
            "colorbar": {
             "outlinewidth": 0,
             "ticks": ""
            },
            "colorscale": [
             [
              0,
              "#0d0887"
             ],
             [
              0.1111111111111111,
              "#46039f"
             ],
             [
              0.2222222222222222,
              "#7201a8"
             ],
             [
              0.3333333333333333,
              "#9c179e"
             ],
             [
              0.4444444444444444,
              "#bd3786"
             ],
             [
              0.5555555555555556,
              "#d8576b"
             ],
             [
              0.6666666666666666,
              "#ed7953"
             ],
             [
              0.7777777777777778,
              "#fb9f3a"
             ],
             [
              0.8888888888888888,
              "#fdca26"
             ],
             [
              1,
              "#f0f921"
             ]
            ],
            "type": "contour"
           }
          ],
          "contourcarpet": [
           {
            "colorbar": {
             "outlinewidth": 0,
             "ticks": ""
            },
            "type": "contourcarpet"
           }
          ],
          "heatmap": [
           {
            "colorbar": {
             "outlinewidth": 0,
             "ticks": ""
            },
            "colorscale": [
             [
              0,
              "#0d0887"
             ],
             [
              0.1111111111111111,
              "#46039f"
             ],
             [
              0.2222222222222222,
              "#7201a8"
             ],
             [
              0.3333333333333333,
              "#9c179e"
             ],
             [
              0.4444444444444444,
              "#bd3786"
             ],
             [
              0.5555555555555556,
              "#d8576b"
             ],
             [
              0.6666666666666666,
              "#ed7953"
             ],
             [
              0.7777777777777778,
              "#fb9f3a"
             ],
             [
              0.8888888888888888,
              "#fdca26"
             ],
             [
              1,
              "#f0f921"
             ]
            ],
            "type": "heatmap"
           }
          ],
          "heatmapgl": [
           {
            "colorbar": {
             "outlinewidth": 0,
             "ticks": ""
            },
            "colorscale": [
             [
              0,
              "#0d0887"
             ],
             [
              0.1111111111111111,
              "#46039f"
             ],
             [
              0.2222222222222222,
              "#7201a8"
             ],
             [
              0.3333333333333333,
              "#9c179e"
             ],
             [
              0.4444444444444444,
              "#bd3786"
             ],
             [
              0.5555555555555556,
              "#d8576b"
             ],
             [
              0.6666666666666666,
              "#ed7953"
             ],
             [
              0.7777777777777778,
              "#fb9f3a"
             ],
             [
              0.8888888888888888,
              "#fdca26"
             ],
             [
              1,
              "#f0f921"
             ]
            ],
            "type": "heatmapgl"
           }
          ],
          "histogram": [
           {
            "marker": {
             "pattern": {
              "fillmode": "overlay",
              "size": 10,
              "solidity": 0.2
             }
            },
            "type": "histogram"
           }
          ],
          "histogram2d": [
           {
            "colorbar": {
             "outlinewidth": 0,
             "ticks": ""
            },
            "colorscale": [
             [
              0,
              "#0d0887"
             ],
             [
              0.1111111111111111,
              "#46039f"
             ],
             [
              0.2222222222222222,
              "#7201a8"
             ],
             [
              0.3333333333333333,
              "#9c179e"
             ],
             [
              0.4444444444444444,
              "#bd3786"
             ],
             [
              0.5555555555555556,
              "#d8576b"
             ],
             [
              0.6666666666666666,
              "#ed7953"
             ],
             [
              0.7777777777777778,
              "#fb9f3a"
             ],
             [
              0.8888888888888888,
              "#fdca26"
             ],
             [
              1,
              "#f0f921"
             ]
            ],
            "type": "histogram2d"
           }
          ],
          "histogram2dcontour": [
           {
            "colorbar": {
             "outlinewidth": 0,
             "ticks": ""
            },
            "colorscale": [
             [
              0,
              "#0d0887"
             ],
             [
              0.1111111111111111,
              "#46039f"
             ],
             [
              0.2222222222222222,
              "#7201a8"
             ],
             [
              0.3333333333333333,
              "#9c179e"
             ],
             [
              0.4444444444444444,
              "#bd3786"
             ],
             [
              0.5555555555555556,
              "#d8576b"
             ],
             [
              0.6666666666666666,
              "#ed7953"
             ],
             [
              0.7777777777777778,
              "#fb9f3a"
             ],
             [
              0.8888888888888888,
              "#fdca26"
             ],
             [
              1,
              "#f0f921"
             ]
            ],
            "type": "histogram2dcontour"
           }
          ],
          "mesh3d": [
           {
            "colorbar": {
             "outlinewidth": 0,
             "ticks": ""
            },
            "type": "mesh3d"
           }
          ],
          "parcoords": [
           {
            "line": {
             "colorbar": {
              "outlinewidth": 0,
              "ticks": ""
             }
            },
            "type": "parcoords"
           }
          ],
          "pie": [
           {
            "automargin": true,
            "type": "pie"
           }
          ],
          "scatter": [
           {
            "fillpattern": {
             "fillmode": "overlay",
             "size": 10,
             "solidity": 0.2
            },
            "type": "scatter"
           }
          ],
          "scatter3d": [
           {
            "line": {
             "colorbar": {
              "outlinewidth": 0,
              "ticks": ""
             }
            },
            "marker": {
             "colorbar": {
              "outlinewidth": 0,
              "ticks": ""
             }
            },
            "type": "scatter3d"
           }
          ],
          "scattercarpet": [
           {
            "marker": {
             "colorbar": {
              "outlinewidth": 0,
              "ticks": ""
             }
            },
            "type": "scattercarpet"
           }
          ],
          "scattergeo": [
           {
            "marker": {
             "colorbar": {
              "outlinewidth": 0,
              "ticks": ""
             }
            },
            "type": "scattergeo"
           }
          ],
          "scattergl": [
           {
            "marker": {
             "colorbar": {
              "outlinewidth": 0,
              "ticks": ""
             }
            },
            "type": "scattergl"
           }
          ],
          "scattermapbox": [
           {
            "marker": {
             "colorbar": {
              "outlinewidth": 0,
              "ticks": ""
             }
            },
            "type": "scattermapbox"
           }
          ],
          "scatterpolar": [
           {
            "marker": {
             "colorbar": {
              "outlinewidth": 0,
              "ticks": ""
             }
            },
            "type": "scatterpolar"
           }
          ],
          "scatterpolargl": [
           {
            "marker": {
             "colorbar": {
              "outlinewidth": 0,
              "ticks": ""
             }
            },
            "type": "scatterpolargl"
           }
          ],
          "scatterternary": [
           {
            "marker": {
             "colorbar": {
              "outlinewidth": 0,
              "ticks": ""
             }
            },
            "type": "scatterternary"
           }
          ],
          "surface": [
           {
            "colorbar": {
             "outlinewidth": 0,
             "ticks": ""
            },
            "colorscale": [
             [
              0,
              "#0d0887"
             ],
             [
              0.1111111111111111,
              "#46039f"
             ],
             [
              0.2222222222222222,
              "#7201a8"
             ],
             [
              0.3333333333333333,
              "#9c179e"
             ],
             [
              0.4444444444444444,
              "#bd3786"
             ],
             [
              0.5555555555555556,
              "#d8576b"
             ],
             [
              0.6666666666666666,
              "#ed7953"
             ],
             [
              0.7777777777777778,
              "#fb9f3a"
             ],
             [
              0.8888888888888888,
              "#fdca26"
             ],
             [
              1,
              "#f0f921"
             ]
            ],
            "type": "surface"
           }
          ],
          "table": [
           {
            "cells": {
             "fill": {
              "color": "#EBF0F8"
             },
             "line": {
              "color": "white"
             }
            },
            "header": {
             "fill": {
              "color": "#C8D4E3"
             },
             "line": {
              "color": "white"
             }
            },
            "type": "table"
           }
          ]
         },
         "layout": {
          "annotationdefaults": {
           "arrowcolor": "#2a3f5f",
           "arrowhead": 0,
           "arrowwidth": 1
          },
          "autotypenumbers": "strict",
          "coloraxis": {
           "colorbar": {
            "outlinewidth": 0,
            "ticks": ""
           }
          },
          "colorscale": {
           "diverging": [
            [
             0,
             "#8e0152"
            ],
            [
             0.1,
             "#c51b7d"
            ],
            [
             0.2,
             "#de77ae"
            ],
            [
             0.3,
             "#f1b6da"
            ],
            [
             0.4,
             "#fde0ef"
            ],
            [
             0.5,
             "#f7f7f7"
            ],
            [
             0.6,
             "#e6f5d0"
            ],
            [
             0.7,
             "#b8e186"
            ],
            [
             0.8,
             "#7fbc41"
            ],
            [
             0.9,
             "#4d9221"
            ],
            [
             1,
             "#276419"
            ]
           ],
           "sequential": [
            [
             0,
             "#0d0887"
            ],
            [
             0.1111111111111111,
             "#46039f"
            ],
            [
             0.2222222222222222,
             "#7201a8"
            ],
            [
             0.3333333333333333,
             "#9c179e"
            ],
            [
             0.4444444444444444,
             "#bd3786"
            ],
            [
             0.5555555555555556,
             "#d8576b"
            ],
            [
             0.6666666666666666,
             "#ed7953"
            ],
            [
             0.7777777777777778,
             "#fb9f3a"
            ],
            [
             0.8888888888888888,
             "#fdca26"
            ],
            [
             1,
             "#f0f921"
            ]
           ],
           "sequentialminus": [
            [
             0,
             "#0d0887"
            ],
            [
             0.1111111111111111,
             "#46039f"
            ],
            [
             0.2222222222222222,
             "#7201a8"
            ],
            [
             0.3333333333333333,
             "#9c179e"
            ],
            [
             0.4444444444444444,
             "#bd3786"
            ],
            [
             0.5555555555555556,
             "#d8576b"
            ],
            [
             0.6666666666666666,
             "#ed7953"
            ],
            [
             0.7777777777777778,
             "#fb9f3a"
            ],
            [
             0.8888888888888888,
             "#fdca26"
            ],
            [
             1,
             "#f0f921"
            ]
           ]
          },
          "colorway": [
           "#636efa",
           "#EF553B",
           "#00cc96",
           "#ab63fa",
           "#FFA15A",
           "#19d3f3",
           "#FF6692",
           "#B6E880",
           "#FF97FF",
           "#FECB52"
          ],
          "font": {
           "color": "#2a3f5f"
          },
          "geo": {
           "bgcolor": "white",
           "lakecolor": "white",
           "landcolor": "#E5ECF6",
           "showlakes": true,
           "showland": true,
           "subunitcolor": "white"
          },
          "hoverlabel": {
           "align": "left"
          },
          "hovermode": "closest",
          "mapbox": {
           "style": "light"
          },
          "paper_bgcolor": "white",
          "plot_bgcolor": "#E5ECF6",
          "polar": {
           "angularaxis": {
            "gridcolor": "white",
            "linecolor": "white",
            "ticks": ""
           },
           "bgcolor": "#E5ECF6",
           "radialaxis": {
            "gridcolor": "white",
            "linecolor": "white",
            "ticks": ""
           }
          },
          "scene": {
           "xaxis": {
            "backgroundcolor": "#E5ECF6",
            "gridcolor": "white",
            "gridwidth": 2,
            "linecolor": "white",
            "showbackground": true,
            "ticks": "",
            "zerolinecolor": "white"
           },
           "yaxis": {
            "backgroundcolor": "#E5ECF6",
            "gridcolor": "white",
            "gridwidth": 2,
            "linecolor": "white",
            "showbackground": true,
            "ticks": "",
            "zerolinecolor": "white"
           },
           "zaxis": {
            "backgroundcolor": "#E5ECF6",
            "gridcolor": "white",
            "gridwidth": 2,
            "linecolor": "white",
            "showbackground": true,
            "ticks": "",
            "zerolinecolor": "white"
           }
          },
          "shapedefaults": {
           "line": {
            "color": "#2a3f5f"
           }
          },
          "ternary": {
           "aaxis": {
            "gridcolor": "white",
            "linecolor": "white",
            "ticks": ""
           },
           "baxis": {
            "gridcolor": "white",
            "linecolor": "white",
            "ticks": ""
           },
           "bgcolor": "#E5ECF6",
           "caxis": {
            "gridcolor": "white",
            "linecolor": "white",
            "ticks": ""
           }
          },
          "title": {
           "x": 0.05
          },
          "xaxis": {
           "automargin": true,
           "gridcolor": "white",
           "linecolor": "white",
           "ticks": "",
           "title": {
            "standoff": 15
           },
           "zerolinecolor": "white",
           "zerolinewidth": 2
          },
          "yaxis": {
           "automargin": true,
           "gridcolor": "white",
           "linecolor": "white",
           "ticks": "",
           "title": {
            "standoff": 15
           },
           "zerolinecolor": "white",
           "zerolinewidth": 2
          }
         }
        },
        "title": {
         "text": "Top10 Active Users by Position"
        },
        "xaxis": {
         "anchor": "y",
         "domain": [
          0,
          1
         ],
         "title": {
          "text": "active"
         }
        },
        "yaxis": {
         "anchor": "x",
         "domain": [
          0,
          1
         ],
         "title": {
          "text": "display_name_extension"
         }
        }
       }
      }
     },
     "metadata": {},
     "output_type": "display_data"
    }
   ],
   "source": [
    "# Active Users by Position\n",
    "# Active users\n",
    "df_users_active = df_users[df_users['state'] == 'active']\n",
    "\n",
    "# Group by display_name_extension\n",
    "print(f\"The number of unique positions names is {df_users_active['display_name_extension'].nunique()}\")\n",
    "position_size = df_users_active.groupby('display_name_extension')['state'].value_counts().unstack().fillna(0).sort_values('active', ascending=False).head(10)\n",
    "#print(position_size.sample(10))\n",
    "\n",
    "# Plotting\n",
    "fig = px.bar(position_size,              \n",
    "             x='active',            \n",
    "             title='Top10 Active Users by Position',\n",
    "             height=400\n",
    "             )\n",
    "\n",
    "# Update layout\n",
    "fig.update_layout(barmode='stack')\n",
    "\n",
    "fig.show()"
   ]
  },
  {
   "cell_type": "code",
   "execution_count": 12,
   "id": "af70088c",
   "metadata": {},
   "outputs": [
    {
     "data": {
      "image/png": "[encoded data removed]",
      "text/plain": [
       "<Figure size 1000x600 with 1 Axes>"
      ]
     },
     "metadata": {},
     "output_type": "display_data"
    }
   ],
   "source": [
    "import seaborn as sns\n",
    "import matplotlib.pyplot as plt\n",
    "\n",
    "# Active Users by Position\n",
    "# Filter active users\n",
    "df_users_active = df_users[df_users['state'] == 'active']\n",
    "\n",
    "# Group by display_name_extension and count active users\n",
    "position_size = df_users_active.groupby('display_name_extension')['state'].value_counts().unstack().fillna(0).sort_values('active', ascending=False).head(10)\n",
    "\n",
    "# Plotting with Seaborn\n",
    "plt.figure(figsize=(10, 6))\n",
    "sns.barplot(x=position_size['active'], y=position_size.index, palette='viridis')\n",
    "\n",
    "# Add annotations (number of active users and percentages)\n",
    "for i, (value, label) in enumerate(zip(position_size['active'], position_size.index)):\n",
    "    plt.text(value, i, f'{value} ({value / df_users_active.shape[0]:.1%})', va='center')\n",
    "\n",
    "plt.title('Top 10 Active Users by Position')\n",
    "plt.xlabel('Number of Active Users')\n",
    "plt.ylabel('Position')\n",
    "plt.tight_layout()\n",
    "plt.show()\n"
   ]
  },
  {
   "cell_type": "code",
   "execution_count": 23,
   "id": "8c1db995",
   "metadata": {},
   "outputs": [
    {
     "name": "stdout",
     "output_type": "stream",
     "text": [
      "Proportion of Active Users by Department:\n",
      "\n",
      "                        percentage\n",
      "department                        \n",
      "Operations                   94.04\n",
      "Finance                       1.01\n",
      "Risk                          0.67\n",
      "Field Operations              0.58\n",
      "Marketing                     0.43\n",
      "Warehouse                     0.38\n",
      "Business Development          0.38\n",
      "Human Resources               0.34\n",
      "HR                            0.34\n",
      "Technology                    0.34\n",
      "Risk & Safety                 0.29\n",
      "Training                      0.24\n",
      "Client Services               0.24\n",
      "Employee Services             0.19\n",
      "Information Technology        0.10\n",
      "Safety                        0.10\n",
      "Analytics                     0.10\n",
      "Asset Management              0.05\n",
      "OSC                           0.05\n",
      "Facilities                    0.05\n",
      "operations                    0.05\n",
      "Resource Allocation           0.05\n"
     ]
    }
   ],
   "source": [
    "# Active users by department\n",
    "operations_percent = df_users_active['department'].value_counts(normalize=True).mul(100).round(2).sort_values(ascending=False).to_frame()\n",
    "# Add a title to the percentage column\n",
    "operations_percent.columns = ['percentage']\n",
    "\n",
    "# Print the percentage of active users by department\n",
    "print(\"Proportion of Active Users by Department:\")\n",
    "print()\n",
    "print(operations_percent)"
   ]
  },
  {
   "cell_type": "code",
   "execution_count": 24,
   "id": "f03975ae",
   "metadata": {},
   "outputs": [],
   "source": [
    "# Export users data for further analysis\n",
    "# Save the data\n",
    "path = \"C:\\\\Users\\\\eduar\\\\Documents\\\\Master_Thesis\\\\GenAI_Thesis_Beekeeper\\\\data\\\\production_datasets\\\\cleaned_datasets\"\n",
    "file_name = \"users_cleaned.csv\"\n",
    "file_path = os.path.join(path, file_name)\n",
    "df_users.to_csv(file_path, index=False)"
   ]
  },
  {
   "cell_type": "markdown",
   "id": "0f5012b4",
   "metadata": {},
   "source": [
    "## 3. EDA for 'streams' data set"
   ]
  },
  {
   "cell_type": "code",
   "execution_count": 25,
   "id": "c6652afc",
   "metadata": {},
   "outputs": [
    {
     "name": "stdout",
     "output_type": "stream",
     "text": [
      "<class 'pandas.core.frame.DataFrame'>\n",
      "RangeIndex: 13 entries, 0 to 12\n",
      "Data columns (total 7 columns):\n",
      " #   Column       Non-Null Count  Dtype \n",
      "---  ------       --------------  ----- \n",
      " 0   created_at   13 non-null     object\n",
      " 1   stream_name  13 non-null     object\n",
      " 2   stream_path  13 non-null     object\n",
      " 3   stream_id    13 non-null     int64 \n",
      " 4   org_unit_id  4 non-null      object\n",
      " 5   hidden       13 non-null     bool  \n",
      " 6   description  13 non-null     object\n",
      "dtypes: bool(1), int64(1), object(5)\n",
      "memory usage: 769.0+ bytes\n",
      "None\n"
     ]
    },
    {
     "data": {
      "text/html": [
       "<div>\n",
       "<style scoped>\n",
       "    .dataframe tbody tr th:only-of-type {\n",
       "        vertical-align: middle;\n",
       "    }\n",
       "\n",
       "    .dataframe tbody tr th {\n",
       "        vertical-align: top;\n",
       "    }\n",
       "\n",
       "    .dataframe thead th {\n",
       "        text-align: right;\n",
       "    }\n",
       "</style>\n",
       "<table border=\"1\" class=\"dataframe\">\n",
       "  <thead>\n",
       "    <tr style=\"text-align: right;\">\n",
       "      <th></th>\n",
       "      <th>created_at</th>\n",
       "      <th>stream_name</th>\n",
       "      <th>stream_path</th>\n",
       "      <th>stream_id</th>\n",
       "      <th>org_unit_id</th>\n",
       "      <th>hidden</th>\n",
       "      <th>description</th>\n",
       "    </tr>\n",
       "  </thead>\n",
       "  <tbody>\n",
       "    <tr>\n",
       "      <th>0</th>\n",
       "      <td>2018-04-13T13:32:05</td>\n",
       "      <td>Water Break</td>\n",
       "      <td>waterbreak</td>\n",
       "      <td>6787</td>\n",
       "      <td>NaN</td>\n",
       "      <td>False</td>\n",
       "      <td>Share your thoughts and experiences to help us...</td>\n",
       "    </tr>\n",
       "    <tr>\n",
       "      <th>1</th>\n",
       "      <td>2018-06-11T19:09:41</td>\n",
       "      <td>Training</td>\n",
       "      <td>training</td>\n",
       "      <td>7981</td>\n",
       "      <td>NaN</td>\n",
       "      <td>True</td>\n",
       "      <td>The Official Stream for Training Info</td>\n",
       "    </tr>\n",
       "    <tr>\n",
       "      <th>2</th>\n",
       "      <td>2020-01-15T13:09:24</td>\n",
       "      <td>The Whiteboard</td>\n",
       "      <td>thewhiteboard</td>\n",
       "      <td>22706</td>\n",
       "      <td>89949fce-efd6-4d59-a214-e7164f2c9c9e</td>\n",
       "      <td>False</td>\n",
       "      <td>Connect with coworkers from the corporate camp...</td>\n",
       "    </tr>\n",
       "    <tr>\n",
       "      <th>3</th>\n",
       "      <td>2018-04-27T14:50:23</td>\n",
       "      <td>Test Stream</td>\n",
       "      <td>teststream</td>\n",
       "      <td>6943</td>\n",
       "      <td>NaN</td>\n",
       "      <td>False</td>\n",
       "      <td>For Testing Posts Before Going Live</td>\n",
       "    </tr>\n",
       "    <tr>\n",
       "      <th>4</th>\n",
       "      <td>2018-01-18T20:52:37</td>\n",
       "      <td>Safety &amp; Operations</td>\n",
       "      <td>safetyoperations</td>\n",
       "      <td>5745</td>\n",
       "      <td>NaN</td>\n",
       "      <td>False</td>\n",
       "      <td>Join weekly conversations led by our Safety an...</td>\n",
       "    </tr>\n",
       "  </tbody>\n",
       "</table>\n",
       "</div>"
      ],
      "text/plain": [
       "            created_at          stream_name       stream_path  stream_id  \\\n",
       "0  2018-04-13T13:32:05          Water Break        waterbreak       6787   \n",
       "1  2018-06-11T19:09:41             Training          training       7981   \n",
       "2  2020-01-15T13:09:24       The Whiteboard     thewhiteboard      22706   \n",
       "3  2018-04-27T14:50:23         Test Stream         teststream       6943   \n",
       "4  2018-01-18T20:52:37  Safety & Operations  safetyoperations       5745   \n",
       "\n",
       "                            org_unit_id  hidden  \\\n",
       "0                                   NaN   False   \n",
       "1                                   NaN    True   \n",
       "2  89949fce-efd6-4d59-a214-e7164f2c9c9e   False   \n",
       "3                                   NaN   False   \n",
       "4                                   NaN   False   \n",
       "\n",
       "                                         description  \n",
       "0  Share your thoughts and experiences to help us...  \n",
       "1              The Official Stream for Training Info  \n",
       "2  Connect with coworkers from the corporate camp...  \n",
       "3                For Testing Posts Before Going Live  \n",
       "4  Join weekly conversations led by our Safety an...  "
      ]
     },
     "execution_count": 25,
     "metadata": {},
     "output_type": "execute_result"
    }
   ],
   "source": [
    "# Streams data\n",
    "path = \"C:\\\\Users\\\\eduar\\\\Documents\\\\Master_Thesis\\\\GenAI_Thesis_Beekeeper\\\\data\\\\BKPR_Datasets_Samples\"\n",
    "file_name = \"streams.xlsx\"\n",
    "file_path = os.path.join(path, file_name)\n",
    "data = pd.read_excel(file_path)\n",
    "print(data.info())\n",
    "data.head()"
   ]
  },
  {
   "cell_type": "code",
   "execution_count": 26,
   "id": "1932b2cf",
   "metadata": {},
   "outputs": [
    {
     "data": {
      "text/html": [
       "<div>\n",
       "<style scoped>\n",
       "    .dataframe tbody tr th:only-of-type {\n",
       "        vertical-align: middle;\n",
       "    }\n",
       "\n",
       "    .dataframe tbody tr th {\n",
       "        vertical-align: top;\n",
       "    }\n",
       "\n",
       "    .dataframe thead th {\n",
       "        text-align: right;\n",
       "    }\n",
       "</style>\n",
       "<table border=\"1\" class=\"dataframe\">\n",
       "  <thead>\n",
       "    <tr style=\"text-align: right;\">\n",
       "      <th></th>\n",
       "      <th>created_at</th>\n",
       "      <th>stream_name</th>\n",
       "      <th>stream_path</th>\n",
       "      <th>stream_id</th>\n",
       "      <th>hidden</th>\n",
       "      <th>description</th>\n",
       "    </tr>\n",
       "  </thead>\n",
       "  <tbody>\n",
       "    <tr>\n",
       "      <th>0</th>\n",
       "      <td>2018-04-13 13:32:05</td>\n",
       "      <td>Water Break</td>\n",
       "      <td>waterbreak</td>\n",
       "      <td>6787</td>\n",
       "      <td>False</td>\n",
       "      <td>Share your thoughts and experiences to help us...</td>\n",
       "    </tr>\n",
       "    <tr>\n",
       "      <th>1</th>\n",
       "      <td>2020-01-15 13:09:24</td>\n",
       "      <td>The Whiteboard</td>\n",
       "      <td>thewhiteboard</td>\n",
       "      <td>22706</td>\n",
       "      <td>False</td>\n",
       "      <td>Connect with coworkers from the corporate camp...</td>\n",
       "    </tr>\n",
       "    <tr>\n",
       "      <th>2</th>\n",
       "      <td>2018-04-27 14:50:23</td>\n",
       "      <td>Test Stream</td>\n",
       "      <td>teststream</td>\n",
       "      <td>6943</td>\n",
       "      <td>False</td>\n",
       "      <td>For Testing Posts Before Going Live</td>\n",
       "    </tr>\n",
       "    <tr>\n",
       "      <th>3</th>\n",
       "      <td>2018-01-18 20:52:37</td>\n",
       "      <td>Safety &amp; Operations</td>\n",
       "      <td>safetyoperations</td>\n",
       "      <td>5745</td>\n",
       "      <td>False</td>\n",
       "      <td>Join weekly conversations led by our Safety an...</td>\n",
       "    </tr>\n",
       "    <tr>\n",
       "      <th>4</th>\n",
       "      <td>2020-01-15 13:31:43</td>\n",
       "      <td>OSC, We Can Help</td>\n",
       "      <td>oscwecanhelp</td>\n",
       "      <td>22708</td>\n",
       "      <td>False</td>\n",
       "      <td>Post your questions about payroll, HR, technol...</td>\n",
       "    </tr>\n",
       "    <tr>\n",
       "      <th>5</th>\n",
       "      <td>2018-08-01 12:57:09</td>\n",
       "      <td>Jobs</td>\n",
       "      <td>jobs</td>\n",
       "      <td>9254</td>\n",
       "      <td>False</td>\n",
       "      <td>Utilize this stream to view open jobs. Comment...</td>\n",
       "    </tr>\n",
       "    <tr>\n",
       "      <th>6</th>\n",
       "      <td>2017-12-20 04:30:23</td>\n",
       "      <td>Flagger Force Connect</td>\n",
       "      <td>general</td>\n",
       "      <td>5476</td>\n",
       "      <td>False</td>\n",
       "      <td>The company \"bulletin board\" and important upd...</td>\n",
       "    </tr>\n",
       "  </tbody>\n",
       "</table>\n",
       "</div>"
      ],
      "text/plain": [
       "           created_at            stream_name       stream_path  stream_id  \\\n",
       "0 2018-04-13 13:32:05            Water Break        waterbreak       6787   \n",
       "1 2020-01-15 13:09:24         The Whiteboard     thewhiteboard      22706   \n",
       "2 2018-04-27 14:50:23           Test Stream         teststream       6943   \n",
       "3 2018-01-18 20:52:37    Safety & Operations  safetyoperations       5745   \n",
       "4 2020-01-15 13:31:43       OSC, We Can Help      oscwecanhelp      22708   \n",
       "5 2018-08-01 12:57:09                   Jobs              jobs       9254   \n",
       "6 2017-12-20 04:30:23  Flagger Force Connect           general       5476   \n",
       "\n",
       "   hidden                                        description  \n",
       "0   False  Share your thoughts and experiences to help us...  \n",
       "1   False  Connect with coworkers from the corporate camp...  \n",
       "2   False                For Testing Posts Before Going Live  \n",
       "3   False  Join weekly conversations led by our Safety an...  \n",
       "4   False  Post your questions about payroll, HR, technol...  \n",
       "5   False  Utilize this stream to view open jobs. Comment...  \n",
       "6   False  The company \"bulletin board\" and important upd...  "
      ]
     },
     "execution_count": 26,
     "metadata": {},
     "output_type": "execute_result"
    }
   ],
   "source": [
    "# Active Streams\n",
    "df_streams_raw = data.copy()\n",
    "\n",
    "# Define a function to preprocess streams data\n",
    "\n",
    "def preprocess_streams(data):    \n",
    "    # Date to datetime\n",
    "    data['created_at'] = pd.to_datetime(data['created_at'])\n",
    "    \n",
    "    # Keep active streams\n",
    "    data = data[data['hidden'] == False]\n",
    "    data.drop('org_unit_id', axis=1, inplace=True)  \n",
    "    # reset index\n",
    "    data.reset_index(drop=True, inplace=True)   \n",
    "     \n",
    "    return data\n",
    "\n",
    "df_streams = preprocess_streams(df_streams_raw)\n",
    "df_streams"
   ]
  },
  {
   "cell_type": "code",
   "execution_count": 27,
   "id": "584953ff",
   "metadata": {},
   "outputs": [],
   "source": [
    "# Export streams data for further analysis\n",
    "# Save the data\n",
    "path = \"C:\\\\Users\\\\eduar\\\\Documents\\\\Master_Thesis\\\\GenAI_Thesis_Beekeeper\\\\data\\\\production_datasets\\\\cleaned_datasets\"\n",
    "file_name = \"streams_cleaned.csv\"\n",
    "file_path = os.path.join(path, file_name)\n",
    "df_streams.to_csv(file_path, index=False)"
   ]
  },
  {
   "cell_type": "markdown",
   "id": "64bff4d2",
   "metadata": {},
   "source": [
    "## 4. EDA for 'posts' data set"
   ]
  },
  {
   "cell_type": "code",
   "execution_count": 28,
   "id": "c4309900",
   "metadata": {},
   "outputs": [
    {
     "name": "stdout",
     "output_type": "stream",
     "text": [
      "<class 'pandas.core.frame.DataFrame'>\n",
      "RangeIndex: 42882 entries, 0 to 42881\n",
      "Data columns (total 12 columns):\n",
      " #   Column          Non-Null Count  Dtype \n",
      "---  ------          --------------  ----- \n",
      " 0   stream_name     42882 non-null  object\n",
      " 1   stream_id       42882 non-null  int64 \n",
      " 2   post_id         42882 non-null  int64 \n",
      " 3   poster          42881 non-null  object\n",
      " 4   action          42882 non-null  object\n",
      " 5   created         42882 non-null  object\n",
      " 6   title           36070 non-null  object\n",
      " 7   text            41829 non-null  object\n",
      " 8   like_count      42882 non-null  int64 \n",
      " 9   comment_countt  42882 non-null  int64 \n",
      " 10  mentions        5830 non-null   object\n",
      " 11  labels          6722 non-null   object\n",
      "dtypes: int64(4), object(8)\n",
      "memory usage: 3.9+ MB\n",
      "None\n"
     ]
    },
    {
     "data": {
      "text/html": [
       "<div>\n",
       "<style scoped>\n",
       "    .dataframe tbody tr th:only-of-type {\n",
       "        vertical-align: middle;\n",
       "    }\n",
       "\n",
       "    .dataframe tbody tr th {\n",
       "        vertical-align: top;\n",
       "    }\n",
       "\n",
       "    .dataframe thead th {\n",
       "        text-align: right;\n",
       "    }\n",
       "</style>\n",
       "<table border=\"1\" class=\"dataframe\">\n",
       "  <thead>\n",
       "    <tr style=\"text-align: right;\">\n",
       "      <th></th>\n",
       "      <th>stream_name</th>\n",
       "      <th>stream_id</th>\n",
       "      <th>post_id</th>\n",
       "      <th>poster</th>\n",
       "      <th>action</th>\n",
       "      <th>created</th>\n",
       "      <th>title</th>\n",
       "      <th>text</th>\n",
       "      <th>like_count</th>\n",
       "      <th>comment_countt</th>\n",
       "      <th>mentions</th>\n",
       "      <th>labels</th>\n",
       "    </tr>\n",
       "  </thead>\n",
       "  <tbody>\n",
       "    <tr>\n",
       "      <th>0</th>\n",
       "      <td>Jobs</td>\n",
       "      <td>9254</td>\n",
       "      <td>7615837</td>\n",
       "      <td>Lisa_Muegge</td>\n",
       "      <td>POSTED</td>\n",
       "      <td>2024-03-05T14:57:18</td>\n",
       "      <td>Cm Available anytime!</td>\n",
       "      <td>WNC CM available!</td>\n",
       "      <td>0</td>\n",
       "      <td>0</td>\n",
       "      <td>NaN</td>\n",
       "      <td>NaN</td>\n",
       "    </tr>\n",
       "    <tr>\n",
       "      <th>1</th>\n",
       "      <td>OSC, We Can Help</td>\n",
       "      <td>22708</td>\n",
       "      <td>7615091</td>\n",
       "      <td>Linsey_McGregor</td>\n",
       "      <td>POSTED</td>\n",
       "      <td>2024-03-05T12:39:48</td>\n",
       "      <td>Report</td>\n",
       "      <td>I'm reporting a serious matter I'm done with t...</td>\n",
       "      <td>2</td>\n",
       "      <td>2</td>\n",
       "      <td>NaN</td>\n",
       "      <td>NaN</td>\n",
       "    </tr>\n",
       "    <tr>\n",
       "      <th>2</th>\n",
       "      <td>Jobs</td>\n",
       "      <td>9254</td>\n",
       "      <td>7615025</td>\n",
       "      <td>client_services_am</td>\n",
       "      <td>POSTED</td>\n",
       "      <td>2024-03-05T12:32:24</td>\n",
       "      <td>OPEN JOBS - NOVA - 2 CM</td>\n",
       "      <td>1 CM\\nClient: Washington Gas\\nDate: 3/5/24\\nAd...</td>\n",
       "      <td>3</td>\n",
       "      <td>1</td>\n",
       "      <td>NaN</td>\n",
       "      <td>NaN</td>\n",
       "    </tr>\n",
       "    <tr>\n",
       "      <th>3</th>\n",
       "      <td>Water Break</td>\n",
       "      <td>6787</td>\n",
       "      <td>7610693</td>\n",
       "      <td>FlaggerForce</td>\n",
       "      <td>POSTED</td>\n",
       "      <td>2024-03-05T12:25:23</td>\n",
       "      <td>Week 9 of Our 2024 In-Field Promotions | Congr...</td>\n",
       "      <td>Congratulations, CLs, ACLs, and other new prom...</td>\n",
       "      <td>6</td>\n",
       "      <td>4</td>\n",
       "      <td>Rizear_Law,Joe_Hall,Leon_Witherspoon,Virginia_...</td>\n",
       "      <td>NaN</td>\n",
       "    </tr>\n",
       "    <tr>\n",
       "      <th>4</th>\n",
       "      <td>Jobs</td>\n",
       "      <td>9254</td>\n",
       "      <td>7614975</td>\n",
       "      <td>Justin_House</td>\n",
       "      <td>POSTED</td>\n",
       "      <td>2024-03-05T12:08:57</td>\n",
       "      <td>NaN</td>\n",
       "      <td>Available for emergencies…NOVA 🚨🏮🚥💦☔️❄️🤤👷🏾</td>\n",
       "      <td>4</td>\n",
       "      <td>0</td>\n",
       "      <td>NaN</td>\n",
       "      <td>NaN</td>\n",
       "    </tr>\n",
       "  </tbody>\n",
       "</table>\n",
       "</div>"
      ],
      "text/plain": [
       "        stream_name  stream_id  post_id              poster  action  \\\n",
       "0              Jobs       9254  7615837         Lisa_Muegge  POSTED   \n",
       "1  OSC, We Can Help      22708  7615091     Linsey_McGregor  POSTED   \n",
       "2              Jobs       9254  7615025  client_services_am  POSTED   \n",
       "3       Water Break       6787  7610693        FlaggerForce  POSTED   \n",
       "4              Jobs       9254  7614975        Justin_House  POSTED   \n",
       "\n",
       "               created                                              title  \\\n",
       "0  2024-03-05T14:57:18                              Cm Available anytime!   \n",
       "1  2024-03-05T12:39:48                                             Report   \n",
       "2  2024-03-05T12:32:24                            OPEN JOBS - NOVA - 2 CM   \n",
       "3  2024-03-05T12:25:23  Week 9 of Our 2024 In-Field Promotions | Congr...   \n",
       "4  2024-03-05T12:08:57                                                NaN   \n",
       "\n",
       "                                                text  like_count  \\\n",
       "0                                  WNC CM available!           0   \n",
       "1  I'm reporting a serious matter I'm done with t...           2   \n",
       "2  1 CM\\nClient: Washington Gas\\nDate: 3/5/24\\nAd...           3   \n",
       "3  Congratulations, CLs, ACLs, and other new prom...           6   \n",
       "4         Available for emergencies…NOVA 🚨🏮🚥💦☔️❄️🤤👷🏾           4   \n",
       "\n",
       "   comment_countt                                           mentions labels  \n",
       "0               0                                                NaN    NaN  \n",
       "1               2                                                NaN    NaN  \n",
       "2               1                                                NaN    NaN  \n",
       "3               4  Rizear_Law,Joe_Hall,Leon_Witherspoon,Virginia_...    NaN  \n",
       "4               0                                                NaN    NaN  "
      ]
     },
     "execution_count": 28,
     "metadata": {},
     "output_type": "execute_result"
    }
   ],
   "source": [
    "# Streams data\n",
    "path = \"C:\\\\Users\\\\eduar\\\\Documents\\\\Master_Thesis\\\\GenAI_Thesis_Beekeeper\\\\data\\\\production_datasets\\\\FlaggerForce\\\\StreamContent\"\n",
    "file_name = \"historical_posts_2022_Feb2024.csv\"\n",
    "file_path = os.path.join(path, file_name)\n",
    "data = pd.read_csv(file_path)\n",
    "print(data.info())\n",
    "data.head()"
   ]
  },
  {
   "cell_type": "code",
   "execution_count": 29,
   "id": "1e7cb8dd",
   "metadata": {},
   "outputs": [
    {
     "name": "stdout",
     "output_type": "stream",
     "text": [
      "The date range of posts is:\n",
      "Min date: 2022-01-01 00:55:41\n",
      "Max date: 2024-03-05 14:57:18\n",
      "Date range: 794 days 14:01:37\n",
      "(42654, 15)\n"
     ]
    },
    {
     "data": {
      "text/html": [
       "<div>\n",
       "<style scoped>\n",
       "    .dataframe tbody tr th:only-of-type {\n",
       "        vertical-align: middle;\n",
       "    }\n",
       "\n",
       "    .dataframe tbody tr th {\n",
       "        vertical-align: top;\n",
       "    }\n",
       "\n",
       "    .dataframe thead th {\n",
       "        text-align: right;\n",
       "    }\n",
       "</style>\n",
       "<table border=\"1\" class=\"dataframe\">\n",
       "  <thead>\n",
       "    <tr style=\"text-align: right;\">\n",
       "      <th></th>\n",
       "      <th>stream_name</th>\n",
       "      <th>stream_id</th>\n",
       "      <th>post_id</th>\n",
       "      <th>action</th>\n",
       "      <th>created</th>\n",
       "      <th>title</th>\n",
       "      <th>text</th>\n",
       "      <th>like_count</th>\n",
       "      <th>comment_countt</th>\n",
       "      <th>mentions</th>\n",
       "      <th>labels</th>\n",
       "      <th>username</th>\n",
       "      <th>author_user_id</th>\n",
       "      <th>author_position</th>\n",
       "      <th>author_status</th>\n",
       "    </tr>\n",
       "  </thead>\n",
       "  <tbody>\n",
       "    <tr>\n",
       "      <th>0</th>\n",
       "      <td>Jobs</td>\n",
       "      <td>9254</td>\n",
       "      <td>7615837</td>\n",
       "      <td>POSTED</td>\n",
       "      <td>2024-03-05 14:57:18</td>\n",
       "      <td>Cm Available anytime!</td>\n",
       "      <td>WNC CM available!</td>\n",
       "      <td>0</td>\n",
       "      <td>0</td>\n",
       "      <td>NaN</td>\n",
       "      <td>NaN</td>\n",
       "      <td>Lisa_Muegge</td>\n",
       "      <td>d52d678b-df08-4b69-9454-06ce860e0206</td>\n",
       "      <td>Crew Member</td>\n",
       "      <td>active</td>\n",
       "    </tr>\n",
       "    <tr>\n",
       "      <th>1</th>\n",
       "      <td>OSC, We Can Help</td>\n",
       "      <td>22708</td>\n",
       "      <td>7615091</td>\n",
       "      <td>POSTED</td>\n",
       "      <td>2024-03-05 12:39:48</td>\n",
       "      <td>Report</td>\n",
       "      <td>I'm reporting a serious matter I'm done with t...</td>\n",
       "      <td>2</td>\n",
       "      <td>2</td>\n",
       "      <td>NaN</td>\n",
       "      <td>NaN</td>\n",
       "      <td>Linsey_McGregor</td>\n",
       "      <td>8db5cc91-01fa-40bb-bbd0-218846cf229a</td>\n",
       "      <td>Advanced Crew Leader</td>\n",
       "      <td>active</td>\n",
       "    </tr>\n",
       "    <tr>\n",
       "      <th>2</th>\n",
       "      <td>Jobs</td>\n",
       "      <td>9254</td>\n",
       "      <td>7615025</td>\n",
       "      <td>POSTED</td>\n",
       "      <td>2024-03-05 12:32:24</td>\n",
       "      <td>OPEN JOBS - NOVA - 2 CM</td>\n",
       "      <td>1 CM\\nClient: Washington Gas\\nDate: 3/5/24\\nAd...</td>\n",
       "      <td>3</td>\n",
       "      <td>1</td>\n",
       "      <td>NaN</td>\n",
       "      <td>NaN</td>\n",
       "      <td>client_services_am</td>\n",
       "      <td>af09ca5c-59cd-427c-96be-9bc49f613b28</td>\n",
       "      <td>NaN</td>\n",
       "      <td>active</td>\n",
       "    </tr>\n",
       "    <tr>\n",
       "      <th>3</th>\n",
       "      <td>Water Break</td>\n",
       "      <td>6787</td>\n",
       "      <td>7610693</td>\n",
       "      <td>POSTED</td>\n",
       "      <td>2024-03-05 12:25:23</td>\n",
       "      <td>Week 9 of Our 2024 In-Field Promotions | Congr...</td>\n",
       "      <td>Congratulations, CLs, ACLs, and other new prom...</td>\n",
       "      <td>6</td>\n",
       "      <td>4</td>\n",
       "      <td>Rizear_Law,Joe_Hall,Leon_Witherspoon,Virginia_...</td>\n",
       "      <td>NaN</td>\n",
       "      <td>FlaggerForce</td>\n",
       "      <td>b701ab9f-563a-4425-a389-aff803a8da58</td>\n",
       "      <td>NaN</td>\n",
       "      <td>active</td>\n",
       "    </tr>\n",
       "    <tr>\n",
       "      <th>4</th>\n",
       "      <td>Jobs</td>\n",
       "      <td>9254</td>\n",
       "      <td>7614975</td>\n",
       "      <td>POSTED</td>\n",
       "      <td>2024-03-05 12:08:57</td>\n",
       "      <td>NaN</td>\n",
       "      <td>Available for emergencies…NOVA 🚨🏮🚥💦☔️❄️🤤👷🏾</td>\n",
       "      <td>4</td>\n",
       "      <td>0</td>\n",
       "      <td>NaN</td>\n",
       "      <td>NaN</td>\n",
       "      <td>Justin_House</td>\n",
       "      <td>5c1223af-c738-498b-84d6-455a9080c914</td>\n",
       "      <td>Crew Leader</td>\n",
       "      <td>active</td>\n",
       "    </tr>\n",
       "  </tbody>\n",
       "</table>\n",
       "</div>"
      ],
      "text/plain": [
       "        stream_name  stream_id  post_id  action             created  \\\n",
       "0              Jobs       9254  7615837  POSTED 2024-03-05 14:57:18   \n",
       "1  OSC, We Can Help      22708  7615091  POSTED 2024-03-05 12:39:48   \n",
       "2              Jobs       9254  7615025  POSTED 2024-03-05 12:32:24   \n",
       "3       Water Break       6787  7610693  POSTED 2024-03-05 12:25:23   \n",
       "4              Jobs       9254  7614975  POSTED 2024-03-05 12:08:57   \n",
       "\n",
       "                                               title  \\\n",
       "0                              Cm Available anytime!   \n",
       "1                                             Report   \n",
       "2                            OPEN JOBS - NOVA - 2 CM   \n",
       "3  Week 9 of Our 2024 In-Field Promotions | Congr...   \n",
       "4                                                NaN   \n",
       "\n",
       "                                                text  like_count  \\\n",
       "0                                  WNC CM available!           0   \n",
       "1  I'm reporting a serious matter I'm done with t...           2   \n",
       "2  1 CM\\nClient: Washington Gas\\nDate: 3/5/24\\nAd...           3   \n",
       "3  Congratulations, CLs, ACLs, and other new prom...           6   \n",
       "4         Available for emergencies…NOVA 🚨🏮🚥💦☔️❄️🤤👷🏾           4   \n",
       "\n",
       "   comment_countt                                           mentions labels  \\\n",
       "0               0                                                NaN    NaN   \n",
       "1               2                                                NaN    NaN   \n",
       "2               1                                                NaN    NaN   \n",
       "3               4  Rizear_Law,Joe_Hall,Leon_Witherspoon,Virginia_...    NaN   \n",
       "4               0                                                NaN    NaN   \n",
       "\n",
       "             username                        author_user_id  \\\n",
       "0         Lisa_Muegge  d52d678b-df08-4b69-9454-06ce860e0206   \n",
       "1     Linsey_McGregor  8db5cc91-01fa-40bb-bbd0-218846cf229a   \n",
       "2  client_services_am  af09ca5c-59cd-427c-96be-9bc49f613b28   \n",
       "3        FlaggerForce  b701ab9f-563a-4425-a389-aff803a8da58   \n",
       "4        Justin_House  5c1223af-c738-498b-84d6-455a9080c914   \n",
       "\n",
       "        author_position author_status  \n",
       "0           Crew Member        active  \n",
       "1  Advanced Crew Leader        active  \n",
       "2                   NaN        active  \n",
       "3                   NaN        active  \n",
       "4           Crew Leader        active  "
      ]
     },
     "execution_count": 29,
     "metadata": {},
     "output_type": "execute_result"
    }
   ],
   "source": [
    "# Function to preprocess the data\n",
    "df_posts = data.copy()\n",
    "\n",
    "def post_preprocess(posts, df_users):\n",
    "    # Change the date format\n",
    "    posts['created'] = pd.to_datetime(posts['created'], format='ISO8601')    \n",
    "    # Delete the rows where title and text are missing\n",
    "    posts = posts[~(posts['text'].isnull() & posts['title'].isnull())]       \n",
    "\n",
    "    # date range of posts\n",
    "    print(\"The date range of posts is:\")\n",
    "    print(f\"Min date: {posts['created'].min()}\")\n",
    "    print(f\"Max date: {posts['created'].max()}\")\n",
    "    print(f\"Date range: {posts['created'].max() - posts['created'].min()}\")\n",
    "    \n",
    "    \n",
    "    # Add a new column with the state from df_users_active, connecting 'id' with 'Author User ID'\n",
    "    df = posts.merge(df_users[['username', 'id','position','state']], left_on='poster', right_on='username', how='left')\n",
    "    # Delete username columns\n",
    "    df.drop(['poster'], axis=1, inplace=True)\n",
    "    # Rename poster columns\n",
    "    df.rename(columns={'id':'author_user_id','position':'author_position','state':'author_status'}, inplace=True)\n",
    "    # Reorder columns\n",
    "    new_order = ['stream_name', 'stream_id', 'post_id', 'action', 'created',                                  \n",
    "                'title', 'text', 'like_count', 'comment_countt', 'mentions', 'labels',\n",
    "                'username', 'author_user_id', 'author_position', 'author_status']\n",
    "    df = df[new_order]\n",
    "    \n",
    "    return df\n",
    "    \n",
    "    \n",
    "df_post_user = post_preprocess(df_posts,df_users)\n",
    "print(df_post_user.shape)\n",
    "df_post_user.head()\n"
   ]
  },
  {
   "cell_type": "code",
   "execution_count": 31,
   "id": "1c5fa8d7",
   "metadata": {},
   "outputs": [
    {
     "data": {
      "image/png": "[encoded data removed]",
      "text/plain": [
       "<Figure size 1000x600 with 1 Axes>"
      ]
     },
     "metadata": {},
     "output_type": "display_data"
    }
   ],
   "source": [
    "# Distribution of posts by stream\n",
    "posts_by_stream = df_post_user.groupby('stream_name')['post_id'].size().sort_values(ascending=False)\n",
    "# Add a column with the percentage of posts by stream\n",
    "posts_by_stream_df = posts_by_stream.to_frame().reset_index()\n",
    "posts_by_stream_df.columns = ['stream_name', 'posts']\n",
    "posts_by_stream_df['Percentage'] = round(posts_by_stream_df['posts'] / posts_by_stream_df['posts'].sum() * 100, 1)\n",
    "\n",
    "# Sort the posts_by_stream DataFrame in descending order\n",
    "posts_by_stream_df = posts_by_stream_df.sort_values('posts', ascending=False)\n",
    "\n",
    "# Plotting with Seaborn\n",
    "plt.figure(figsize=(10,6))\n",
    "sns.barplot(x='posts', y='stream_name', data=posts_by_stream_df, palette='viridis')\n",
    "\n",
    "# Add annotations (number of posts and percentage)\n",
    "for i, (value, label) in enumerate(zip(posts_by_stream_df['posts'], posts_by_stream_df['stream_name'])):\n",
    "    plt.text(value, i, f'{value} ({posts_by_stream_df[\"Percentage\"].iloc[i]}%)', va='center')\n",
    "\n",
    "plt.title('Posts by Stream Name')\n",
    "plt.xlabel('Number of Posts')\n",
    "plt.ylabel('Stream Name')\n",
    "plt.tight_layout()\n",
    "plt.show()"
   ]
  },
  {
   "cell_type": "code",
   "execution_count": 32,
   "id": "a7489eb6",
   "metadata": {},
   "outputs": [
    {
     "data": {
      "text/html": [
       "<div>\n",
       "<style scoped>\n",
       "    .dataframe tbody tr th:only-of-type {\n",
       "        vertical-align: middle;\n",
       "    }\n",
       "\n",
       "    .dataframe tbody tr th {\n",
       "        vertical-align: top;\n",
       "    }\n",
       "\n",
       "    .dataframe thead th {\n",
       "        text-align: right;\n",
       "    }\n",
       "</style>\n",
       "<table border=\"1\" class=\"dataframe\">\n",
       "  <thead>\n",
       "    <tr style=\"text-align: right;\">\n",
       "      <th></th>\n",
       "      <th>post_id</th>\n",
       "      <th>title</th>\n",
       "      <th>like_count</th>\n",
       "    </tr>\n",
       "  </thead>\n",
       "  <tbody>\n",
       "    <tr>\n",
       "      <th>24239</th>\n",
       "      <td>6714760</td>\n",
       "      <td>Danny Rice - Words cannot express my gratitude!</td>\n",
       "      <td>91</td>\n",
       "    </tr>\n",
       "    <tr>\n",
       "      <th>34503</th>\n",
       "      <td>7482280</td>\n",
       "      <td>A Safety Announcement (1.29.2024)</td>\n",
       "      <td>75</td>\n",
       "    </tr>\n",
       "    <tr>\n",
       "      <th>29667</th>\n",
       "      <td>7142545</td>\n",
       "      <td>Celebrating a decade of service to others - Ch...</td>\n",
       "      <td>69</td>\n",
       "    </tr>\n",
       "    <tr>\n",
       "      <th>6095</th>\n",
       "      <td>5319511</td>\n",
       "      <td>Celebrating 10 years of Dedication, Growth &amp; C...</td>\n",
       "      <td>64</td>\n",
       "    </tr>\n",
       "    <tr>\n",
       "      <th>27891</th>\n",
       "      <td>6996657</td>\n",
       "      <td>Safety Announcement</td>\n",
       "      <td>60</td>\n",
       "    </tr>\n",
       "    <tr>\n",
       "      <th>1734</th>\n",
       "      <td>5034038</td>\n",
       "      <td>1st in Flagger Force - History - Ron Brooks - ...</td>\n",
       "      <td>60</td>\n",
       "    </tr>\n",
       "    <tr>\n",
       "      <th>14642</th>\n",
       "      <td>5980180</td>\n",
       "      <td>Happy 5th Anniversary - Tamara...  AND ITZ!</td>\n",
       "      <td>60</td>\n",
       "    </tr>\n",
       "    <tr>\n",
       "      <th>32440</th>\n",
       "      <td>7358600</td>\n",
       "      <td>Celebrating an unsung hero of the OSC - Seth L...</td>\n",
       "      <td>59</td>\n",
       "    </tr>\n",
       "    <tr>\n",
       "      <th>29026</th>\n",
       "      <td>7083413</td>\n",
       "      <td>Celebrating 5 years of Paula Rosen supporting ...</td>\n",
       "      <td>59</td>\n",
       "    </tr>\n",
       "    <tr>\n",
       "      <th>4460</th>\n",
       "      <td>5221695</td>\n",
       "      <td>The Donna Hoffer Story</td>\n",
       "      <td>57</td>\n",
       "    </tr>\n",
       "  </tbody>\n",
       "</table>\n",
       "</div>"
      ],
      "text/plain": [
       "       post_id                                              title  like_count\n",
       "24239  6714760    Danny Rice - Words cannot express my gratitude!          91\n",
       "34503  7482280                  A Safety Announcement (1.29.2024)          75\n",
       "29667  7142545  Celebrating a decade of service to others - Ch...          69\n",
       "6095   5319511  Celebrating 10 years of Dedication, Growth & C...          64\n",
       "27891  6996657                                Safety Announcement          60\n",
       "1734   5034038  1st in Flagger Force - History - Ron Brooks - ...          60\n",
       "14642  5980180        Happy 5th Anniversary - Tamara...  AND ITZ!          60\n",
       "32440  7358600  Celebrating an unsung hero of the OSC - Seth L...          59\n",
       "29026  7083413  Celebrating 5 years of Paula Rosen supporting ...          59\n",
       "4460   5221695                             The Donna Hoffer Story          57"
      ]
     },
     "execution_count": 32,
     "metadata": {},
     "output_type": "execute_result"
    }
   ],
   "source": [
    "# Find the most popular posts\n",
    "# Group by post_id\n",
    "df_popular_post = df_post_user.groupby(['post_id','title','like_count']).size().reset_index(name='count')\n",
    "\n",
    "# Delete column count\n",
    "df_popular_post.drop('count', axis=1, inplace=True)\n",
    "df_popular_post.sort_values('like_count', ascending=False).head(10)"
   ]
  },
  {
   "cell_type": "code",
   "execution_count": 33,
   "id": "2bd1be67",
   "metadata": {},
   "outputs": [],
   "source": [
    "# Export users data for further analysis\n",
    "# Save the data\n",
    "path = \"C:\\\\Users\\\\eduar\\\\Documents\\\\Master_Thesis\\\\GenAI_Thesis_Beekeeper\\\\data\\\\production_datasets\\\\cleaned_datasets\"\n",
    "file_name = \"posts_cleaned.csv\"\n",
    "file_path = os.path.join(path, file_name)\n",
    "df_post_user.to_csv(file_path, index=False)"
   ]
  },
  {
   "cell_type": "markdown",
   "id": "c903353e",
   "metadata": {},
   "source": [
    "## 5. EDA for 'comments' data set"
   ]
  },
  {
   "cell_type": "code",
   "execution_count": 34,
   "id": "1296397f",
   "metadata": {},
   "outputs": [
    {
     "name": "stdout",
     "output_type": "stream",
     "text": [
      "<class 'pandas.core.frame.DataFrame'>\n",
      "RangeIndex: 140037 entries, 0 to 140036\n",
      "Data columns (total 8 columns):\n",
      " #   Column        Non-Null Count   Dtype \n",
      "---  ------        --------------   ----- \n",
      " 0   stream_name   140037 non-null  object\n",
      " 1   created_date  140037 non-null  object\n",
      " 2   post_id       140037 non-null  int64 \n",
      " 3   comment_id    140037 non-null  int64 \n",
      " 4   username      140037 non-null  object\n",
      " 5   comment_text  140035 non-null  object\n",
      " 6   like_count    140037 non-null  int64 \n",
      " 7   report_count  140037 non-null  int64 \n",
      "dtypes: int64(4), object(4)\n",
      "memory usage: 8.5+ MB\n",
      "None\n"
     ]
    },
    {
     "data": {
      "text/html": [
       "<div>\n",
       "<style scoped>\n",
       "    .dataframe tbody tr th:only-of-type {\n",
       "        vertical-align: middle;\n",
       "    }\n",
       "\n",
       "    .dataframe tbody tr th {\n",
       "        vertical-align: top;\n",
       "    }\n",
       "\n",
       "    .dataframe thead th {\n",
       "        text-align: right;\n",
       "    }\n",
       "</style>\n",
       "<table border=\"1\" class=\"dataframe\">\n",
       "  <thead>\n",
       "    <tr style=\"text-align: right;\">\n",
       "      <th></th>\n",
       "      <th>stream_name</th>\n",
       "      <th>created_date</th>\n",
       "      <th>post_id</th>\n",
       "      <th>comment_id</th>\n",
       "      <th>username</th>\n",
       "      <th>comment_text</th>\n",
       "      <th>like_count</th>\n",
       "      <th>report_count</th>\n",
       "    </tr>\n",
       "  </thead>\n",
       "  <tbody>\n",
       "    <tr>\n",
       "      <th>0</th>\n",
       "      <td>Water Break</td>\n",
       "      <td>2024-03-05T15:15:55</td>\n",
       "      <td>7612625</td>\n",
       "      <td>6866587</td>\n",
       "      <td>FlaggerForce</td>\n",
       "      <td>Congratulations and a great addition to the te...</td>\n",
       "      <td>0</td>\n",
       "      <td>0</td>\n",
       "    </tr>\n",
       "    <tr>\n",
       "      <th>1</th>\n",
       "      <td>Water Break</td>\n",
       "      <td>2024-03-05T15:10:47</td>\n",
       "      <td>7612663</td>\n",
       "      <td>6866567</td>\n",
       "      <td>FlaggerForce</td>\n",
       "      <td>Hello team, remember to have safety discussion...</td>\n",
       "      <td>0</td>\n",
       "      <td>0</td>\n",
       "    </tr>\n",
       "    <tr>\n",
       "      <th>2</th>\n",
       "      <td>Water Break</td>\n",
       "      <td>2024-03-05T15:08:29</td>\n",
       "      <td>7613861</td>\n",
       "      <td>6866561</td>\n",
       "      <td>FlaggerForce</td>\n",
       "      <td>@Larry_Broderick, both our moderation team and...</td>\n",
       "      <td>0</td>\n",
       "      <td>0</td>\n",
       "    </tr>\n",
       "    <tr>\n",
       "      <th>3</th>\n",
       "      <td>Safety &amp; Operations</td>\n",
       "      <td>2024-03-05T15:04:42</td>\n",
       "      <td>7613237</td>\n",
       "      <td>6866545</td>\n",
       "      <td>FlaggerForce</td>\n",
       "      <td>@William_Pulliam, we appreciate you being prou...</td>\n",
       "      <td>0</td>\n",
       "      <td>0</td>\n",
       "    </tr>\n",
       "    <tr>\n",
       "      <th>4</th>\n",
       "      <td>Safety &amp; Operations</td>\n",
       "      <td>2024-03-05T15:02:47</td>\n",
       "      <td>7613255</td>\n",
       "      <td>6866539</td>\n",
       "      <td>FlaggerForce</td>\n",
       "      <td>We appreciate you supporting @Dennis_Cumbie, @...</td>\n",
       "      <td>0</td>\n",
       "      <td>0</td>\n",
       "    </tr>\n",
       "  </tbody>\n",
       "</table>\n",
       "</div>"
      ],
      "text/plain": [
       "           stream_name         created_date  post_id  comment_id  \\\n",
       "0          Water Break  2024-03-05T15:15:55  7612625     6866587   \n",
       "1          Water Break  2024-03-05T15:10:47  7612663     6866567   \n",
       "2          Water Break  2024-03-05T15:08:29  7613861     6866561   \n",
       "3  Safety & Operations  2024-03-05T15:04:42  7613237     6866545   \n",
       "4  Safety & Operations  2024-03-05T15:02:47  7613255     6866539   \n",
       "\n",
       "       username                                       comment_text  \\\n",
       "0  FlaggerForce  Congratulations and a great addition to the te...   \n",
       "1  FlaggerForce  Hello team, remember to have safety discussion...   \n",
       "2  FlaggerForce  @Larry_Broderick, both our moderation team and...   \n",
       "3  FlaggerForce  @William_Pulliam, we appreciate you being prou...   \n",
       "4  FlaggerForce  We appreciate you supporting @Dennis_Cumbie, @...   \n",
       "\n",
       "   like_count  report_count  \n",
       "0           0             0  \n",
       "1           0             0  \n",
       "2           0             0  \n",
       "3           0             0  \n",
       "4           0             0  "
      ]
     },
     "execution_count": 34,
     "metadata": {},
     "output_type": "execute_result"
    }
   ],
   "source": [
    "# Users data\n",
    "path = \"C:\\\\Users\\\\eduar\\\\Documents\\\\Master_Thesis\\\\GenAI_Thesis_Beekeeper\\\\data\\\\production_datasets\\\\FlaggerForce\\\\StreamContent\"\n",
    "file_name = \"historical_comments_2022_2024Feb.csv\"\n",
    "file_path = os.path.join(path, file_name)\n",
    "data = pd.read_csv(file_path)\n",
    "print(data.info())\n",
    "# print(f'The columns are: {data.columns}')\n",
    "data.head()"
   ]
  },
  {
   "cell_type": "code",
   "execution_count": 35,
   "id": "50abede5",
   "metadata": {},
   "outputs": [
    {
     "name": "stdout",
     "output_type": "stream",
     "text": [
      "The date range of comments is:\n",
      "Min date: 2022-01-01 00:01:26\n",
      "Max date: 2024-03-05 15:15:55\n",
      "Date range: 794 days 15:14:29\n"
     ]
    },
    {
     "data": {
      "text/html": [
       "<div>\n",
       "<style scoped>\n",
       "    .dataframe tbody tr th:only-of-type {\n",
       "        vertical-align: middle;\n",
       "    }\n",
       "\n",
       "    .dataframe tbody tr th {\n",
       "        vertical-align: top;\n",
       "    }\n",
       "\n",
       "    .dataframe thead th {\n",
       "        text-align: right;\n",
       "    }\n",
       "</style>\n",
       "<table border=\"1\" class=\"dataframe\">\n",
       "  <thead>\n",
       "    <tr style=\"text-align: right;\">\n",
       "      <th></th>\n",
       "      <th>stream_name</th>\n",
       "      <th>created_date</th>\n",
       "      <th>post_id</th>\n",
       "      <th>comment_id</th>\n",
       "      <th>comment_text</th>\n",
       "      <th>like_count</th>\n",
       "      <th>report_count</th>\n",
       "      <th>username</th>\n",
       "      <th>author_user_id</th>\n",
       "      <th>author_position</th>\n",
       "      <th>author_status</th>\n",
       "    </tr>\n",
       "  </thead>\n",
       "  <tbody>\n",
       "    <tr>\n",
       "      <th>0</th>\n",
       "      <td>Water Break</td>\n",
       "      <td>2024-03-05 15:15:55</td>\n",
       "      <td>7612625</td>\n",
       "      <td>6866587</td>\n",
       "      <td>Congratulations and a great addition to the te...</td>\n",
       "      <td>0</td>\n",
       "      <td>0</td>\n",
       "      <td>FlaggerForce</td>\n",
       "      <td>b701ab9f-563a-4425-a389-aff803a8da58</td>\n",
       "      <td>NaN</td>\n",
       "      <td>active</td>\n",
       "    </tr>\n",
       "    <tr>\n",
       "      <th>1</th>\n",
       "      <td>Water Break</td>\n",
       "      <td>2024-03-05 15:10:47</td>\n",
       "      <td>7612663</td>\n",
       "      <td>6866567</td>\n",
       "      <td>Hello team, remember to have safety discussion...</td>\n",
       "      <td>0</td>\n",
       "      <td>0</td>\n",
       "      <td>FlaggerForce</td>\n",
       "      <td>b701ab9f-563a-4425-a389-aff803a8da58</td>\n",
       "      <td>NaN</td>\n",
       "      <td>active</td>\n",
       "    </tr>\n",
       "    <tr>\n",
       "      <th>2</th>\n",
       "      <td>Water Break</td>\n",
       "      <td>2024-03-05 15:08:29</td>\n",
       "      <td>7613861</td>\n",
       "      <td>6866561</td>\n",
       "      <td>@Larry_Broderick, both our moderation team and...</td>\n",
       "      <td>0</td>\n",
       "      <td>0</td>\n",
       "      <td>FlaggerForce</td>\n",
       "      <td>b701ab9f-563a-4425-a389-aff803a8da58</td>\n",
       "      <td>NaN</td>\n",
       "      <td>active</td>\n",
       "    </tr>\n",
       "    <tr>\n",
       "      <th>3</th>\n",
       "      <td>Safety &amp; Operations</td>\n",
       "      <td>2024-03-05 15:04:42</td>\n",
       "      <td>7613237</td>\n",
       "      <td>6866545</td>\n",
       "      <td>@William_Pulliam, we appreciate you being prou...</td>\n",
       "      <td>0</td>\n",
       "      <td>0</td>\n",
       "      <td>FlaggerForce</td>\n",
       "      <td>b701ab9f-563a-4425-a389-aff803a8da58</td>\n",
       "      <td>NaN</td>\n",
       "      <td>active</td>\n",
       "    </tr>\n",
       "    <tr>\n",
       "      <th>4</th>\n",
       "      <td>Safety &amp; Operations</td>\n",
       "      <td>2024-03-05 15:02:47</td>\n",
       "      <td>7613255</td>\n",
       "      <td>6866539</td>\n",
       "      <td>We appreciate you supporting @Dennis_Cumbie, @...</td>\n",
       "      <td>0</td>\n",
       "      <td>0</td>\n",
       "      <td>FlaggerForce</td>\n",
       "      <td>b701ab9f-563a-4425-a389-aff803a8da58</td>\n",
       "      <td>NaN</td>\n",
       "      <td>active</td>\n",
       "    </tr>\n",
       "  </tbody>\n",
       "</table>\n",
       "</div>"
      ],
      "text/plain": [
       "           stream_name        created_date  post_id  comment_id  \\\n",
       "0          Water Break 2024-03-05 15:15:55  7612625     6866587   \n",
       "1          Water Break 2024-03-05 15:10:47  7612663     6866567   \n",
       "2          Water Break 2024-03-05 15:08:29  7613861     6866561   \n",
       "3  Safety & Operations 2024-03-05 15:04:42  7613237     6866545   \n",
       "4  Safety & Operations 2024-03-05 15:02:47  7613255     6866539   \n",
       "\n",
       "                                        comment_text  like_count  \\\n",
       "0  Congratulations and a great addition to the te...           0   \n",
       "1  Hello team, remember to have safety discussion...           0   \n",
       "2  @Larry_Broderick, both our moderation team and...           0   \n",
       "3  @William_Pulliam, we appreciate you being prou...           0   \n",
       "4  We appreciate you supporting @Dennis_Cumbie, @...           0   \n",
       "\n",
       "   report_count      username                        author_user_id  \\\n",
       "0             0  FlaggerForce  b701ab9f-563a-4425-a389-aff803a8da58   \n",
       "1             0  FlaggerForce  b701ab9f-563a-4425-a389-aff803a8da58   \n",
       "2             0  FlaggerForce  b701ab9f-563a-4425-a389-aff803a8da58   \n",
       "3             0  FlaggerForce  b701ab9f-563a-4425-a389-aff803a8da58   \n",
       "4             0  FlaggerForce  b701ab9f-563a-4425-a389-aff803a8da58   \n",
       "\n",
       "  author_position author_status  \n",
       "0             NaN        active  \n",
       "1             NaN        active  \n",
       "2             NaN        active  \n",
       "3             NaN        active  \n",
       "4             NaN        active  "
      ]
     },
     "execution_count": 35,
     "metadata": {},
     "output_type": "execute_result"
    }
   ],
   "source": [
    "# Function to preprocess the data\n",
    "df_comments = data.copy()\n",
    "\n",
    "def preprocess_post(df, df_users):\n",
    "    # Change the date format\n",
    "    df['created_date'] = pd.to_datetime(df['created_date'], format='ISO8601')\n",
    "    # Delete the rows where text is missing\n",
    "    df = df[~df['comment_text'].isnull()]\n",
    "    \n",
    "   \n",
    "    # date range of df\n",
    "    print(\"The date range of comments is:\")\n",
    "    print(f\"Min date: {df['created_date'].min()}\")\n",
    "    print(f\"Max date: {df['created_date'].max()}\")\n",
    "    print(f\"Date range: {df['created_date'].max() - df['created_date'].min()}\")\n",
    "    \n",
    "    # Add a new column with the state from df_users_active, connecting 'id' with 'Author User ID'\n",
    "    df = df.merge(df_users[['username', 'id','position','state']], left_on='username', right_on='username', how='left')\n",
    "    \n",
    "    # Delete username columns\n",
    "    #df.drop(['username'], axis=1, inplace=True)\n",
    "    # Rename poster columns\n",
    "    df.rename(columns={'id':'author_user_id','position':'author_position','state':'author_status'}, inplace=True)\n",
    "    # Reorder columns\n",
    "    new_order = ['stream_name', 'created_date', 'post_id', 'comment_id', \n",
    "                'comment_text', 'like_count', 'report_count', 'username',\n",
    "                'author_user_id', 'author_position', 'author_status']\n",
    "    df = df[new_order]\n",
    "    \n",
    "    return df \n",
    "\n",
    "df_comment_user = preprocess_post(df_comments,df_users)\n",
    "df_comment_user.head()\n"
   ]
  },
  {
   "cell_type": "code",
   "execution_count": 40,
   "id": "8c183473",
   "metadata": {},
   "outputs": [
    {
     "data": {
      "image/png": "[encoded data removed]",
      "text/plain": [
       "<Figure size 1000x600 with 1 Axes>"
      ]
     },
     "metadata": {},
     "output_type": "display_data"
    }
   ],
   "source": [
    "# which Stream Name gets the most comments\n",
    "most_commented_stream = df_comment_user['stream_name'].value_counts()\n",
    "most_commented_stream\n",
    "\n",
    "# Plotting with Seaborn\n",
    "plt.figure(figsize=(10,6))\n",
    "sns.barplot(x=most_commented_stream.values, y=most_commented_stream.index, palette='viridis')\n",
    "\n",
    "# Add annotations (percentage of comments)\n",
    "for i, (value, label) in enumerate(zip(most_commented_stream.values, most_commented_stream.index)):\n",
    "    plt.text(value, i, f'{value} ({value / df_comment_user.shape[0]:.1%})', va='center')\n",
    "    \n",
    "plt.title('Most Commented Stream Name')\n",
    "plt.xlabel('Number of Comments')\n",
    "plt.ylabel('Stream Name')\n",
    "plt.tight_layout()\n",
    "plt.show()"
   ]
  },
  {
   "cell_type": "code",
   "execution_count": 38,
   "id": "2fcb41b4",
   "metadata": {},
   "outputs": [
    {
     "data": {
      "text/html": [
       "<div>\n",
       "<style scoped>\n",
       "    .dataframe tbody tr th:only-of-type {\n",
       "        vertical-align: middle;\n",
       "    }\n",
       "\n",
       "    .dataframe tbody tr th {\n",
       "        vertical-align: top;\n",
       "    }\n",
       "\n",
       "    .dataframe thead th {\n",
       "        text-align: right;\n",
       "    }\n",
       "</style>\n",
       "<table border=\"1\" class=\"dataframe\">\n",
       "  <thead>\n",
       "    <tr style=\"text-align: right;\">\n",
       "      <th></th>\n",
       "      <th>created_date</th>\n",
       "      <th>comment_id</th>\n",
       "      <th>comment_text</th>\n",
       "      <th>like_count</th>\n",
       "      <th>username</th>\n",
       "      <th>author_position</th>\n",
       "    </tr>\n",
       "  </thead>\n",
       "  <tbody>\n",
       "    <tr>\n",
       "      <th>121063</th>\n",
       "      <td>2023-12-15 14:36:47</td>\n",
       "      <td>6553907</td>\n",
       "      <td>The world is a scary place. Its getting worse....</td>\n",
       "      <td>23</td>\n",
       "      <td>christopher10_williams</td>\n",
       "      <td>Crew Member</td>\n",
       "    </tr>\n",
       "    <tr>\n",
       "      <th>114075</th>\n",
       "      <td>2023-10-24 14:40:10</td>\n",
       "      <td>6354487</td>\n",
       "      <td>Well, given the current state of the economy, ...</td>\n",
       "      <td>18</td>\n",
       "      <td>Stephan_Kuyper</td>\n",
       "      <td>Crew Member</td>\n",
       "    </tr>\n",
       "    <tr>\n",
       "      <th>114076</th>\n",
       "      <td>2023-10-24 14:48:34</td>\n",
       "      <td>6354524</td>\n",
       "      <td>People are afraid to get points for missing. I...</td>\n",
       "      <td>17</td>\n",
       "      <td>Karen_Stroup</td>\n",
       "      <td>Crew Leader</td>\n",
       "    </tr>\n",
       "    <tr>\n",
       "      <th>117995</th>\n",
       "      <td>2023-11-21 20:16:46</td>\n",
       "      <td>6466166</td>\n",
       "      <td>I'm sorry but that's just like the opposite of...</td>\n",
       "      <td>16</td>\n",
       "      <td>Julie_Snedeker</td>\n",
       "      <td>Crew Member</td>\n",
       "    </tr>\n",
       "    <tr>\n",
       "      <th>133972</th>\n",
       "      <td>2024-02-28 10:16:09</td>\n",
       "      <td>6840014</td>\n",
       "      <td>This is what I don't understand they want you ...</td>\n",
       "      <td>14</td>\n",
       "      <td>Logan_Clemens</td>\n",
       "      <td>Crew Member</td>\n",
       "    </tr>\n",
       "    <tr>\n",
       "      <th>133978</th>\n",
       "      <td>2024-02-28 11:22:09</td>\n",
       "      <td>6840077</td>\n",
       "      <td>Points system. And some of us can't afford to ...</td>\n",
       "      <td>13</td>\n",
       "      <td>Dennis_Cumbie</td>\n",
       "      <td>Crew Member</td>\n",
       "    </tr>\n",
       "    <tr>\n",
       "      <th>52875</th>\n",
       "      <td>2022-10-27 13:30:09</td>\n",
       "      <td>4964546</td>\n",
       "      <td>Speaking as a former CL and ACL look at this i...</td>\n",
       "      <td>13</td>\n",
       "      <td>Charles_Linn</td>\n",
       "      <td>Employee Services Specialist</td>\n",
       "    </tr>\n",
       "    <tr>\n",
       "      <th>93633</th>\n",
       "      <td>2023-06-21 21:08:10</td>\n",
       "      <td>5877897</td>\n",
       "      <td>Don't need to buy gear if jobs keep getting ca...</td>\n",
       "      <td>12</td>\n",
       "      <td>Gregory_Parsons</td>\n",
       "      <td>Crew Member</td>\n",
       "    </tr>\n",
       "    <tr>\n",
       "      <th>72805</th>\n",
       "      <td>2023-02-21 16:59:56</td>\n",
       "      <td>5401233</td>\n",
       "      <td>A HUGE shout out to these teams. They work inc...</td>\n",
       "      <td>12</td>\n",
       "      <td>Ed_Vaughen</td>\n",
       "      <td>Director of Operation Services</td>\n",
       "    </tr>\n",
       "    <tr>\n",
       "      <th>5400</th>\n",
       "      <td>2022-02-01 14:42:21</td>\n",
       "      <td>3947897</td>\n",
       "      <td>Honestly We aren’t flying planes so the air mi...</td>\n",
       "      <td>12</td>\n",
       "      <td>Jacob_DaltonMcClain</td>\n",
       "      <td>Crew Leader</td>\n",
       "    </tr>\n",
       "  </tbody>\n",
       "</table>\n",
       "</div>"
      ],
      "text/plain": [
       "              created_date  comment_id  \\\n",
       "121063 2023-12-15 14:36:47     6553907   \n",
       "114075 2023-10-24 14:40:10     6354487   \n",
       "114076 2023-10-24 14:48:34     6354524   \n",
       "117995 2023-11-21 20:16:46     6466166   \n",
       "133972 2024-02-28 10:16:09     6840014   \n",
       "133978 2024-02-28 11:22:09     6840077   \n",
       "52875  2022-10-27 13:30:09     4964546   \n",
       "93633  2023-06-21 21:08:10     5877897   \n",
       "72805  2023-02-21 16:59:56     5401233   \n",
       "5400   2022-02-01 14:42:21     3947897   \n",
       "\n",
       "                                             comment_text  like_count  \\\n",
       "121063  The world is a scary place. Its getting worse....          23   \n",
       "114075  Well, given the current state of the economy, ...          18   \n",
       "114076  People are afraid to get points for missing. I...          17   \n",
       "117995  I'm sorry but that's just like the opposite of...          16   \n",
       "133972  This is what I don't understand they want you ...          14   \n",
       "133978  Points system. And some of us can't afford to ...          13   \n",
       "52875   Speaking as a former CL and ACL look at this i...          13   \n",
       "93633   Don't need to buy gear if jobs keep getting ca...          12   \n",
       "72805   A HUGE shout out to these teams. They work inc...          12   \n",
       "5400    Honestly We aren’t flying planes so the air mi...          12   \n",
       "\n",
       "                      username                 author_position  \n",
       "121063  christopher10_williams                     Crew Member  \n",
       "114075          Stephan_Kuyper                     Crew Member  \n",
       "114076            Karen_Stroup                     Crew Leader  \n",
       "117995          Julie_Snedeker                     Crew Member  \n",
       "133972           Logan_Clemens                     Crew Member  \n",
       "133978           Dennis_Cumbie                     Crew Member  \n",
       "52875             Charles_Linn    Employee Services Specialist  \n",
       "93633          Gregory_Parsons                     Crew Member  \n",
       "72805               Ed_Vaughen  Director of Operation Services  \n",
       "5400       Jacob_DaltonMcClain                     Crew Leader  "
      ]
     },
     "execution_count": 38,
     "metadata": {},
     "output_type": "execute_result"
    }
   ],
   "source": [
    "# Most popular comments\n",
    "# Group by post_id\n",
    "df_popular_comment = df_comment_user.groupby(['created_date','comment_id','comment_text','like_count','username','author_position']).size().reset_index(name='count')\n",
    "\n",
    "# Delete column count\n",
    "df_popular_comment.drop('count', axis=1, inplace=True)\n",
    "df_popular_comment.sort_values('like_count', ascending=False).head(10)"
   ]
  },
  {
   "cell_type": "code",
   "execution_count": 106,
   "id": "5254c759",
   "metadata": {},
   "outputs": [],
   "source": [
    "# Export users data for further analysis\n",
    "# Save the data\n",
    "path = \"C:\\\\Users\\\\eduar\\\\Documents\\\\Master_Thesis\\\\GenAI_Thesis_Beekeeper\\\\data\\\\production_datasets\\\\cleaned_datasets\"\n",
    "file_name = \"comments_cleaned.csv\"\n",
    "file_path = os.path.join(path, file_name)\n",
    "df_comment_user.to_csv(file_path, index=False)"
   ]
  },
  {
   "cell_type": "markdown",
   "id": "5188244d",
   "metadata": {},
   "source": [
    "## 6. EDA for 'activity' data set"
   ]
  },
  {
   "cell_type": "code",
   "execution_count": 41,
   "id": "8668a3e3",
   "metadata": {},
   "outputs": [
    {
     "ename": "FileNotFoundError",
     "evalue": "[Errno 2] No such file or directory: 'C:\\\\Users\\\\eduar\\\\Documents\\\\Master_Thesis\\\\GenAI_Thesis_Beekeeper\\\\data\\\\production_datasets\\\\FlaggerForce\\\\StreamContent\\\\user_activity_logs.csv'",
     "output_type": "error",
     "traceback": [
      "\u001b[1;31m---------------------------------------------------------------------------\u001b[0m",
      "\u001b[1;31mFileNotFoundError\u001b[0m                         Traceback (most recent call last)",
      "Cell \u001b[1;32mIn[41], line 4\u001b[0m\n\u001b[0;32m      2\u001b[0m file_name \u001b[38;5;241m=\u001b[39m \u001b[38;5;124m\"\u001b[39m\u001b[38;5;124muser_activity_logs.csv\u001b[39m\u001b[38;5;124m\"\u001b[39m\n\u001b[0;32m      3\u001b[0m file_path \u001b[38;5;241m=\u001b[39m os\u001b[38;5;241m.\u001b[39mpath\u001b[38;5;241m.\u001b[39mjoin(path, file_name)\n\u001b[1;32m----> 4\u001b[0m data \u001b[38;5;241m=\u001b[39m \u001b[43mpd\u001b[49m\u001b[38;5;241;43m.\u001b[39;49m\u001b[43mread_csv\u001b[49m\u001b[43m(\u001b[49m\u001b[43mfile_path\u001b[49m\u001b[43m)\u001b[49m\n\u001b[0;32m      5\u001b[0m \u001b[38;5;28mprint\u001b[39m(data\u001b[38;5;241m.\u001b[39minfo())\n\u001b[0;32m      6\u001b[0m \u001b[38;5;66;03m# print(f'The columns are: {data.columns}')\u001b[39;00m\n",
      "File \u001b[1;32mc:\\Users\\eduar\\AppData\\Local\\Programs\\Python\\Python311\\Lib\\site-packages\\pandas\\io\\parsers\\readers.py:948\u001b[0m, in \u001b[0;36mread_csv\u001b[1;34m(filepath_or_buffer, sep, delimiter, header, names, index_col, usecols, dtype, engine, converters, true_values, false_values, skipinitialspace, skiprows, skipfooter, nrows, na_values, keep_default_na, na_filter, verbose, skip_blank_lines, parse_dates, infer_datetime_format, keep_date_col, date_parser, date_format, dayfirst, cache_dates, iterator, chunksize, compression, thousands, decimal, lineterminator, quotechar, quoting, doublequote, escapechar, comment, encoding, encoding_errors, dialect, on_bad_lines, delim_whitespace, low_memory, memory_map, float_precision, storage_options, dtype_backend)\u001b[0m\n\u001b[0;32m    935\u001b[0m kwds_defaults \u001b[38;5;241m=\u001b[39m _refine_defaults_read(\n\u001b[0;32m    936\u001b[0m     dialect,\n\u001b[0;32m    937\u001b[0m     delimiter,\n\u001b[1;32m   (...)\u001b[0m\n\u001b[0;32m    944\u001b[0m     dtype_backend\u001b[38;5;241m=\u001b[39mdtype_backend,\n\u001b[0;32m    945\u001b[0m )\n\u001b[0;32m    946\u001b[0m kwds\u001b[38;5;241m.\u001b[39mupdate(kwds_defaults)\n\u001b[1;32m--> 948\u001b[0m \u001b[38;5;28;01mreturn\u001b[39;00m \u001b[43m_read\u001b[49m\u001b[43m(\u001b[49m\u001b[43mfilepath_or_buffer\u001b[49m\u001b[43m,\u001b[49m\u001b[43m \u001b[49m\u001b[43mkwds\u001b[49m\u001b[43m)\u001b[49m\n",
      "File \u001b[1;32mc:\\Users\\eduar\\AppData\\Local\\Programs\\Python\\Python311\\Lib\\site-packages\\pandas\\io\\parsers\\readers.py:611\u001b[0m, in \u001b[0;36m_read\u001b[1;34m(filepath_or_buffer, kwds)\u001b[0m\n\u001b[0;32m    608\u001b[0m _validate_names(kwds\u001b[38;5;241m.\u001b[39mget(\u001b[38;5;124m\"\u001b[39m\u001b[38;5;124mnames\u001b[39m\u001b[38;5;124m\"\u001b[39m, \u001b[38;5;28;01mNone\u001b[39;00m))\n\u001b[0;32m    610\u001b[0m \u001b[38;5;66;03m# Create the parser.\u001b[39;00m\n\u001b[1;32m--> 611\u001b[0m parser \u001b[38;5;241m=\u001b[39m \u001b[43mTextFileReader\u001b[49m\u001b[43m(\u001b[49m\u001b[43mfilepath_or_buffer\u001b[49m\u001b[43m,\u001b[49m\u001b[43m \u001b[49m\u001b[38;5;241;43m*\u001b[39;49m\u001b[38;5;241;43m*\u001b[39;49m\u001b[43mkwds\u001b[49m\u001b[43m)\u001b[49m\n\u001b[0;32m    613\u001b[0m \u001b[38;5;28;01mif\u001b[39;00m chunksize \u001b[38;5;129;01mor\u001b[39;00m iterator:\n\u001b[0;32m    614\u001b[0m     \u001b[38;5;28;01mreturn\u001b[39;00m parser\n",
      "File \u001b[1;32mc:\\Users\\eduar\\AppData\\Local\\Programs\\Python\\Python311\\Lib\\site-packages\\pandas\\io\\parsers\\readers.py:1448\u001b[0m, in \u001b[0;36mTextFileReader.__init__\u001b[1;34m(self, f, engine, **kwds)\u001b[0m\n\u001b[0;32m   1445\u001b[0m     \u001b[38;5;28mself\u001b[39m\u001b[38;5;241m.\u001b[39moptions[\u001b[38;5;124m\"\u001b[39m\u001b[38;5;124mhas_index_names\u001b[39m\u001b[38;5;124m\"\u001b[39m] \u001b[38;5;241m=\u001b[39m kwds[\u001b[38;5;124m\"\u001b[39m\u001b[38;5;124mhas_index_names\u001b[39m\u001b[38;5;124m\"\u001b[39m]\n\u001b[0;32m   1447\u001b[0m \u001b[38;5;28mself\u001b[39m\u001b[38;5;241m.\u001b[39mhandles: IOHandles \u001b[38;5;241m|\u001b[39m \u001b[38;5;28;01mNone\u001b[39;00m \u001b[38;5;241m=\u001b[39m \u001b[38;5;28;01mNone\u001b[39;00m\n\u001b[1;32m-> 1448\u001b[0m \u001b[38;5;28mself\u001b[39m\u001b[38;5;241m.\u001b[39m_engine \u001b[38;5;241m=\u001b[39m \u001b[38;5;28;43mself\u001b[39;49m\u001b[38;5;241;43m.\u001b[39;49m\u001b[43m_make_engine\u001b[49m\u001b[43m(\u001b[49m\u001b[43mf\u001b[49m\u001b[43m,\u001b[49m\u001b[43m \u001b[49m\u001b[38;5;28;43mself\u001b[39;49m\u001b[38;5;241;43m.\u001b[39;49m\u001b[43mengine\u001b[49m\u001b[43m)\u001b[49m\n",
      "File \u001b[1;32mc:\\Users\\eduar\\AppData\\Local\\Programs\\Python\\Python311\\Lib\\site-packages\\pandas\\io\\parsers\\readers.py:1705\u001b[0m, in \u001b[0;36mTextFileReader._make_engine\u001b[1;34m(self, f, engine)\u001b[0m\n\u001b[0;32m   1703\u001b[0m     \u001b[38;5;28;01mif\u001b[39;00m \u001b[38;5;124m\"\u001b[39m\u001b[38;5;124mb\u001b[39m\u001b[38;5;124m\"\u001b[39m \u001b[38;5;129;01mnot\u001b[39;00m \u001b[38;5;129;01min\u001b[39;00m mode:\n\u001b[0;32m   1704\u001b[0m         mode \u001b[38;5;241m+\u001b[39m\u001b[38;5;241m=\u001b[39m \u001b[38;5;124m\"\u001b[39m\u001b[38;5;124mb\u001b[39m\u001b[38;5;124m\"\u001b[39m\n\u001b[1;32m-> 1705\u001b[0m \u001b[38;5;28mself\u001b[39m\u001b[38;5;241m.\u001b[39mhandles \u001b[38;5;241m=\u001b[39m \u001b[43mget_handle\u001b[49m\u001b[43m(\u001b[49m\n\u001b[0;32m   1706\u001b[0m \u001b[43m    \u001b[49m\u001b[43mf\u001b[49m\u001b[43m,\u001b[49m\n\u001b[0;32m   1707\u001b[0m \u001b[43m    \u001b[49m\u001b[43mmode\u001b[49m\u001b[43m,\u001b[49m\n\u001b[0;32m   1708\u001b[0m \u001b[43m    \u001b[49m\u001b[43mencoding\u001b[49m\u001b[38;5;241;43m=\u001b[39;49m\u001b[38;5;28;43mself\u001b[39;49m\u001b[38;5;241;43m.\u001b[39;49m\u001b[43moptions\u001b[49m\u001b[38;5;241;43m.\u001b[39;49m\u001b[43mget\u001b[49m\u001b[43m(\u001b[49m\u001b[38;5;124;43m\"\u001b[39;49m\u001b[38;5;124;43mencoding\u001b[39;49m\u001b[38;5;124;43m\"\u001b[39;49m\u001b[43m,\u001b[49m\u001b[43m \u001b[49m\u001b[38;5;28;43;01mNone\u001b[39;49;00m\u001b[43m)\u001b[49m\u001b[43m,\u001b[49m\n\u001b[0;32m   1709\u001b[0m \u001b[43m    \u001b[49m\u001b[43mcompression\u001b[49m\u001b[38;5;241;43m=\u001b[39;49m\u001b[38;5;28;43mself\u001b[39;49m\u001b[38;5;241;43m.\u001b[39;49m\u001b[43moptions\u001b[49m\u001b[38;5;241;43m.\u001b[39;49m\u001b[43mget\u001b[49m\u001b[43m(\u001b[49m\u001b[38;5;124;43m\"\u001b[39;49m\u001b[38;5;124;43mcompression\u001b[39;49m\u001b[38;5;124;43m\"\u001b[39;49m\u001b[43m,\u001b[49m\u001b[43m \u001b[49m\u001b[38;5;28;43;01mNone\u001b[39;49;00m\u001b[43m)\u001b[49m\u001b[43m,\u001b[49m\n\u001b[0;32m   1710\u001b[0m \u001b[43m    \u001b[49m\u001b[43mmemory_map\u001b[49m\u001b[38;5;241;43m=\u001b[39;49m\u001b[38;5;28;43mself\u001b[39;49m\u001b[38;5;241;43m.\u001b[39;49m\u001b[43moptions\u001b[49m\u001b[38;5;241;43m.\u001b[39;49m\u001b[43mget\u001b[49m\u001b[43m(\u001b[49m\u001b[38;5;124;43m\"\u001b[39;49m\u001b[38;5;124;43mmemory_map\u001b[39;49m\u001b[38;5;124;43m\"\u001b[39;49m\u001b[43m,\u001b[49m\u001b[43m \u001b[49m\u001b[38;5;28;43;01mFalse\u001b[39;49;00m\u001b[43m)\u001b[49m\u001b[43m,\u001b[49m\n\u001b[0;32m   1711\u001b[0m \u001b[43m    \u001b[49m\u001b[43mis_text\u001b[49m\u001b[38;5;241;43m=\u001b[39;49m\u001b[43mis_text\u001b[49m\u001b[43m,\u001b[49m\n\u001b[0;32m   1712\u001b[0m \u001b[43m    \u001b[49m\u001b[43merrors\u001b[49m\u001b[38;5;241;43m=\u001b[39;49m\u001b[38;5;28;43mself\u001b[39;49m\u001b[38;5;241;43m.\u001b[39;49m\u001b[43moptions\u001b[49m\u001b[38;5;241;43m.\u001b[39;49m\u001b[43mget\u001b[49m\u001b[43m(\u001b[49m\u001b[38;5;124;43m\"\u001b[39;49m\u001b[38;5;124;43mencoding_errors\u001b[39;49m\u001b[38;5;124;43m\"\u001b[39;49m\u001b[43m,\u001b[49m\u001b[43m \u001b[49m\u001b[38;5;124;43m\"\u001b[39;49m\u001b[38;5;124;43mstrict\u001b[39;49m\u001b[38;5;124;43m\"\u001b[39;49m\u001b[43m)\u001b[49m\u001b[43m,\u001b[49m\n\u001b[0;32m   1713\u001b[0m \u001b[43m    \u001b[49m\u001b[43mstorage_options\u001b[49m\u001b[38;5;241;43m=\u001b[39;49m\u001b[38;5;28;43mself\u001b[39;49m\u001b[38;5;241;43m.\u001b[39;49m\u001b[43moptions\u001b[49m\u001b[38;5;241;43m.\u001b[39;49m\u001b[43mget\u001b[49m\u001b[43m(\u001b[49m\u001b[38;5;124;43m\"\u001b[39;49m\u001b[38;5;124;43mstorage_options\u001b[39;49m\u001b[38;5;124;43m\"\u001b[39;49m\u001b[43m,\u001b[49m\u001b[43m \u001b[49m\u001b[38;5;28;43;01mNone\u001b[39;49;00m\u001b[43m)\u001b[49m\u001b[43m,\u001b[49m\n\u001b[0;32m   1714\u001b[0m \u001b[43m\u001b[49m\u001b[43m)\u001b[49m\n\u001b[0;32m   1715\u001b[0m \u001b[38;5;28;01massert\u001b[39;00m \u001b[38;5;28mself\u001b[39m\u001b[38;5;241m.\u001b[39mhandles \u001b[38;5;129;01mis\u001b[39;00m \u001b[38;5;129;01mnot\u001b[39;00m \u001b[38;5;28;01mNone\u001b[39;00m\n\u001b[0;32m   1716\u001b[0m f \u001b[38;5;241m=\u001b[39m \u001b[38;5;28mself\u001b[39m\u001b[38;5;241m.\u001b[39mhandles\u001b[38;5;241m.\u001b[39mhandle\n",
      "File \u001b[1;32mc:\\Users\\eduar\\AppData\\Local\\Programs\\Python\\Python311\\Lib\\site-packages\\pandas\\io\\common.py:863\u001b[0m, in \u001b[0;36mget_handle\u001b[1;34m(path_or_buf, mode, encoding, compression, memory_map, is_text, errors, storage_options)\u001b[0m\n\u001b[0;32m    858\u001b[0m \u001b[38;5;28;01melif\u001b[39;00m \u001b[38;5;28misinstance\u001b[39m(handle, \u001b[38;5;28mstr\u001b[39m):\n\u001b[0;32m    859\u001b[0m     \u001b[38;5;66;03m# Check whether the filename is to be opened in binary mode.\u001b[39;00m\n\u001b[0;32m    860\u001b[0m     \u001b[38;5;66;03m# Binary mode does not support 'encoding' and 'newline'.\u001b[39;00m\n\u001b[0;32m    861\u001b[0m     \u001b[38;5;28;01mif\u001b[39;00m ioargs\u001b[38;5;241m.\u001b[39mencoding \u001b[38;5;129;01mand\u001b[39;00m \u001b[38;5;124m\"\u001b[39m\u001b[38;5;124mb\u001b[39m\u001b[38;5;124m\"\u001b[39m \u001b[38;5;129;01mnot\u001b[39;00m \u001b[38;5;129;01min\u001b[39;00m ioargs\u001b[38;5;241m.\u001b[39mmode:\n\u001b[0;32m    862\u001b[0m         \u001b[38;5;66;03m# Encoding\u001b[39;00m\n\u001b[1;32m--> 863\u001b[0m         handle \u001b[38;5;241m=\u001b[39m \u001b[38;5;28mopen\u001b[39m(\n\u001b[0;32m    864\u001b[0m             handle,\n\u001b[0;32m    865\u001b[0m             ioargs\u001b[38;5;241m.\u001b[39mmode,\n\u001b[0;32m    866\u001b[0m             encoding\u001b[38;5;241m=\u001b[39mioargs\u001b[38;5;241m.\u001b[39mencoding,\n\u001b[0;32m    867\u001b[0m             errors\u001b[38;5;241m=\u001b[39merrors,\n\u001b[0;32m    868\u001b[0m             newline\u001b[38;5;241m=\u001b[39m\u001b[38;5;124m\"\u001b[39m\u001b[38;5;124m\"\u001b[39m,\n\u001b[0;32m    869\u001b[0m         )\n\u001b[0;32m    870\u001b[0m     \u001b[38;5;28;01melse\u001b[39;00m:\n\u001b[0;32m    871\u001b[0m         \u001b[38;5;66;03m# Binary mode\u001b[39;00m\n\u001b[0;32m    872\u001b[0m         handle \u001b[38;5;241m=\u001b[39m \u001b[38;5;28mopen\u001b[39m(handle, ioargs\u001b[38;5;241m.\u001b[39mmode)\n",
      "\u001b[1;31mFileNotFoundError\u001b[0m: [Errno 2] No such file or directory: 'C:\\\\Users\\\\eduar\\\\Documents\\\\Master_Thesis\\\\GenAI_Thesis_Beekeeper\\\\data\\\\production_datasets\\\\FlaggerForce\\\\StreamContent\\\\user_activity_logs.csv'"
     ]
    }
   ],
   "source": [
    "# Users data\n",
    "file_name = \"user_activity_logs.csv\"\n",
    "file_path = os.path.join(path, file_name)\n",
    "data = pd.read_csv(file_path)\n",
    "print(data.info())\n",
    "# print(f'The columns are: {data.columns}')\n",
    "data.sample(2)"
   ]
  },
  {
   "cell_type": "code",
   "execution_count": 10,
   "id": "8c6061d5",
   "metadata": {},
   "outputs": [
    {
     "name": "stdout",
     "output_type": "stream",
     "text": [
      "The date range of activity is:\n",
      "Min date: 2022-01-01 00:01:20.488154\n",
      "Max date: 2022-03-01 03:02:59.666514\n",
      "Date range: 59 days 03:01:39.178360\n"
     ]
    },
    {
     "data": {
      "text/html": [
       "<div>\n",
       "<style scoped>\n",
       "    .dataframe tbody tr th:only-of-type {\n",
       "        vertical-align: middle;\n",
       "    }\n",
       "\n",
       "    .dataframe tbody tr th {\n",
       "        vertical-align: top;\n",
       "    }\n",
       "\n",
       "    .dataframe thead th {\n",
       "        text-align: right;\n",
       "    }\n",
       "</style>\n",
       "<table border=\"1\" class=\"dataframe\">\n",
       "  <thead>\n",
       "    <tr style=\"text-align: right;\">\n",
       "      <th></th>\n",
       "      <th>_inserted_at</th>\n",
       "      <th>id</th>\n",
       "      <th>user_id</th>\n",
       "      <th>path</th>\n",
       "      <th>normalized_path</th>\n",
       "      <th>action_path</th>\n",
       "      <th>method</th>\n",
       "      <th>response_status</th>\n",
       "      <th>turnaround_time</th>\n",
       "    </tr>\n",
       "  </thead>\n",
       "  <tbody>\n",
       "    <tr>\n",
       "      <th>619</th>\n",
       "      <td>2022-01-01 00:01:20.488154</td>\n",
       "      <td>af8b2384-4750-4fc2-992e-453b63d82102</td>\n",
       "      <td>d68ccf85-6b63-4e53-8614-dbcd3d28c14e</td>\n",
       "      <td>/api/2/prompts</td>\n",
       "      <td>/api/2/prompts</td>\n",
       "      <td>prompts</td>\n",
       "      <td>GET</td>\n",
       "      <td>200</td>\n",
       "      <td>150</td>\n",
       "    </tr>\n",
       "    <tr>\n",
       "      <th>1687</th>\n",
       "      <td>2022-01-01 00:01:20.488154</td>\n",
       "      <td>090de9c0-a721-4879-a3db-cf1858a1c2aa</td>\n",
       "      <td>e72cd514-2c97-4472-b2df-e296c8295428</td>\n",
       "      <td>/api/2/streams/9254/posts</td>\n",
       "      <td>/api/2/streams/{streamid}/posts</td>\n",
       "      <td>streams/{streamid}/posts</td>\n",
       "      <td>GET</td>\n",
       "      <td>200</td>\n",
       "      <td>42</td>\n",
       "    </tr>\n",
       "    <tr>\n",
       "      <th>3452136</th>\n",
       "      <td>2022-01-01 00:01:20.488154</td>\n",
       "      <td>ef299f2a-ae60-4129-9fd7-f2401bb89ca8</td>\n",
       "      <td>f8336fba-9e07-487c-b3c7-078070532f10</td>\n",
       "      <td>/api/2/posts</td>\n",
       "      <td>/api/2/posts</td>\n",
       "      <td>posts</td>\n",
       "      <td>GET</td>\n",
       "      <td>200</td>\n",
       "      <td>503</td>\n",
       "    </tr>\n",
       "    <tr>\n",
       "      <th>3452135</th>\n",
       "      <td>2022-01-01 00:01:20.488154</td>\n",
       "      <td>869bf1a3-aa63-4fbe-882b-5c21fd43a043</td>\n",
       "      <td>f8336fba-9e07-487c-b3c7-078070532f10</td>\n",
       "      <td>/api/2/streams</td>\n",
       "      <td>/api/2/streams</td>\n",
       "      <td>streams</td>\n",
       "      <td>GET</td>\n",
       "      <td>200</td>\n",
       "      <td>156</td>\n",
       "    </tr>\n",
       "    <tr>\n",
       "      <th>3452134</th>\n",
       "      <td>2022-01-01 00:01:20.488154</td>\n",
       "      <td>7a645500-797e-4770-bc0e-f73a9929cf5f</td>\n",
       "      <td>e72cd514-2c97-4472-b2df-e296c8295428</td>\n",
       "      <td>/api/2/notifications</td>\n",
       "      <td>/api/2/notifications</td>\n",
       "      <td>notifications</td>\n",
       "      <td>GET</td>\n",
       "      <td>200</td>\n",
       "      <td>1006</td>\n",
       "    </tr>\n",
       "  </tbody>\n",
       "</table>\n",
       "</div>"
      ],
      "text/plain": [
       "                      _inserted_at                                    id  \\\n",
       "619     2022-01-01 00:01:20.488154  af8b2384-4750-4fc2-992e-453b63d82102   \n",
       "1687    2022-01-01 00:01:20.488154  090de9c0-a721-4879-a3db-cf1858a1c2aa   \n",
       "3452136 2022-01-01 00:01:20.488154  ef299f2a-ae60-4129-9fd7-f2401bb89ca8   \n",
       "3452135 2022-01-01 00:01:20.488154  869bf1a3-aa63-4fbe-882b-5c21fd43a043   \n",
       "3452134 2022-01-01 00:01:20.488154  7a645500-797e-4770-bc0e-f73a9929cf5f   \n",
       "\n",
       "                                      user_id                       path  \\\n",
       "619      d68ccf85-6b63-4e53-8614-dbcd3d28c14e             /api/2/prompts   \n",
       "1687     e72cd514-2c97-4472-b2df-e296c8295428  /api/2/streams/9254/posts   \n",
       "3452136  f8336fba-9e07-487c-b3c7-078070532f10               /api/2/posts   \n",
       "3452135  f8336fba-9e07-487c-b3c7-078070532f10             /api/2/streams   \n",
       "3452134  e72cd514-2c97-4472-b2df-e296c8295428       /api/2/notifications   \n",
       "\n",
       "                         normalized_path               action_path method  \\\n",
       "619                       /api/2/prompts                   prompts    GET   \n",
       "1687     /api/2/streams/{streamid}/posts  streams/{streamid}/posts    GET   \n",
       "3452136                     /api/2/posts                     posts    GET   \n",
       "3452135                   /api/2/streams                   streams    GET   \n",
       "3452134             /api/2/notifications             notifications    GET   \n",
       "\n",
       "         response_status  turnaround_time  \n",
       "619                  200              150  \n",
       "1687                 200               42  \n",
       "3452136              200              503  \n",
       "3452135              200              156  \n",
       "3452134              200             1006  "
      ]
     },
     "execution_count": 10,
     "metadata": {},
     "output_type": "execute_result"
    }
   ],
   "source": [
    "# Define a function to preprocess the data\n",
    "df_logs = data.copy()\n",
    "def preprocess_activity(df):\n",
    "    # Change the date format\n",
    "    df['_inserted_at'] = pd.to_datetime(df['_inserted_at'])\n",
    "    # df['_buffered_at'] = pd.to_datetime(df['_buffered_at'])\n",
    "    # df['occurred_at'] = pd.to_datetime(df['occurred_at'])    \n",
    "    \n",
    "    # Extract specific path of the action\n",
    "    df['action_path'] = df['normalized_path'].str.extract(r'/api/2/(.*)')\n",
    "    \n",
    "    # Delete columns\n",
    "    #columns_to_keep = ['_inserted_at', '_buffered_at', '_consumer_id', '_dwh_version', 'id','occurred_at', 'domain', 'user_id', 'is_bot', 'client', 'client_version', 'path', 'normalized_path', 'method','response_status', 'turnaround_time']\n",
    "    columns_to_keep = ['_inserted_at', 'id', 'user_id', 'path', 'normalized_path', 'action_path', 'method','response_status', 'turnaround_time']\n",
    "    df = df[columns_to_keep]\n",
    "    \n",
    "    # date range of df\n",
    "    print(\"The date range of activity is:\")\n",
    "    print(f\"Min date: {df['_inserted_at'].min()}\")\n",
    "    print(f\"Max date: {df['_inserted_at'].max()}\")\n",
    "    print(f\"Date range: {df['_inserted_at'].max() - df['_inserted_at'].min()}\")\n",
    "    \n",
    "    return df\n",
    "\n",
    "df_activity = preprocess_activity(df_logs)\n",
    "df_activity.sort_values('_inserted_at', ascending=True, inplace=True)\n",
    "df_activity.head()"
   ]
  },
  {
   "cell_type": "code",
   "execution_count": 11,
   "id": "6684b4fa",
   "metadata": {},
   "outputs": [
    {
     "name": "stdout",
     "output_type": "stream",
     "text": [
      "145\n"
     ]
    },
    {
     "data": {
      "text/plain": [
       "normalized_path\n",
       "/api/2/streams                          1355406\n",
       "/api/2/notifications                     567223\n",
       "/api/2/streams/{streamid}                539227\n",
       "/api/2/prompts                           448189\n",
       "/api/2/status                            401710\n",
       "                                         ...   \n",
       "/api/2/conversations/{id}/mute                1\n",
       "/api/2/bots/{id}/token                        1\n",
       "/api/2/streams/{stream_id}/org_units          1\n",
       "/api/2/workerbees/{id}                        1\n",
       "/api/2/actions                                1\n",
       "Name: id, Length: 145, dtype: int64"
      ]
     },
     "execution_count": 11,
     "metadata": {},
     "output_type": "execute_result"
    }
   ],
   "source": [
    "actions_count = df_activity.groupby(by=['normalized_path'])['id'].count().sort_values(ascending=False)\n",
    "print(len(actions_count))\n",
    "actions_count"
   ]
  },
  {
   "cell_type": "code",
   "execution_count": 215,
   "id": "3526deb7",
   "metadata": {},
   "outputs": [
    {
     "data": {
      "text/plain": [
       "path                                                  method\n",
       "/api/2/conversations/11759824/messages/57198126/read  POST      1\n",
       "/api/2/conversations/11650625/messages/57259190/read  POST      1\n",
       "/api/2/conversations/11828861/messages                GET       1\n",
       "/api/2/conversations/12208344/messages                GET       1\n",
       "/api/2/conversations/11292564/messages/54707288/read  POST      1\n",
       "/api/2/notification/769097777/opened                  PUT       2\n",
       "/api/2/conversations/12046223                         GET       2\n",
       "/api/2/comments/3998562/likes                         GET       2\n",
       "/api/2/conversations/12243701/messages                POST      1\n",
       "/api/2/notification/759760368/opened                  PUT       4\n",
       "Name: id, dtype: int64"
      ]
     },
     "execution_count": 215,
     "metadata": {},
     "output_type": "execute_result"
    }
   ],
   "source": [
    "df_activity.groupby(by=['path','method'])['id'].count().sort_values(ascending=False).sample(10)"
   ]
  },
  {
   "cell_type": "code",
   "execution_count": 335,
   "id": "72629a79",
   "metadata": {},
   "outputs": [
    {
     "data": {
      "text/plain": [
       "method\n",
       "GET       6344966\n",
       "PUT        301240\n",
       "POST       259506\n",
       "DELETE       2089\n",
       "Name: count, dtype: int64"
      ]
     },
     "execution_count": 335,
     "metadata": {},
     "output_type": "execute_result"
    }
   ],
   "source": [
    "# RESTful API methods\n",
    "\"\"\" \n",
    "GET to retrieve a resource;\n",
    "PUT to change the state of or update a resource, which can be an object, file or block;\n",
    "POST to create that resource;\n",
    "DELETE to remove it.\n",
    "\"\"\"\n",
    "df_activity['method'].value_counts()"
   ]
  },
  {
   "cell_type": "code",
   "execution_count": 341,
   "id": "718d837e",
   "metadata": {},
   "outputs": [
    {
     "data": {
      "text/plain": [
       "response_status\n",
       "200    6896509\n",
       "401       5027\n",
       "404       2835\n",
       "500       2346\n",
       "400        825\n",
       "403        117\n",
       "201        116\n",
       "409         21\n",
       "405          4\n",
       "204          1\n",
       "Name: count, dtype: int64"
      ]
     },
     "execution_count": 341,
     "metadata": {},
     "output_type": "execute_result"
    }
   ],
   "source": [
    "df_activity['response_status'].value_counts()"
   ]
  },
  {
   "cell_type": "code",
   "execution_count": 216,
   "id": "afa3bb95",
   "metadata": {},
   "outputs": [
    {
     "data": {
      "text/plain": [
       "response_status  method\n",
       "200              GET       6334303\n",
       "                 PUT        301087\n",
       "                 POST       259037\n",
       "401              GET          4922\n",
       "404              GET          2770\n",
       "500              GET          2303\n",
       "200              DELETE       2082\n",
       "400              GET           555\n",
       "                 POST          160\n",
       "403              GET           112\n",
       "400              PUT           108\n",
       "401              POST          105\n",
       "201              POST          105\n",
       "404              POST           43\n",
       "500              POST           32\n",
       "404              PUT            22\n",
       "409              POST           20\n",
       "500              PUT            11\n",
       "201              PUT            11\n",
       "403              DELETE          4\n",
       "405              POST            3\n",
       "400              DELETE          2\n",
       "403              POST            1\n",
       "405              GET             1\n",
       "409              PUT             1\n",
       "204              DELETE          1\n",
       "Name: id, dtype: int64"
      ]
     },
     "execution_count": 216,
     "metadata": {},
     "output_type": "execute_result"
    }
   ],
   "source": [
    "df_activity.groupby(by=['response_status', 'method'])['id'].count().sort_values(ascending=False)"
   ]
  },
  {
   "cell_type": "code",
   "execution_count": 217,
   "id": "e08737fe",
   "metadata": {},
   "outputs": [
    {
     "data": {
      "text/plain": [
       "array([200, 400, 404, 401, 201, 403, 500, 409, 204, 405], dtype=int64)"
      ]
     },
     "execution_count": 217,
     "metadata": {},
     "output_type": "execute_result"
    }
   ],
   "source": [
    "df_activity['response_status'].unique()"
   ]
  },
  {
   "cell_type": "code",
   "execution_count": 218,
   "metadata": {},
   "outputs": [
    {
     "data": {
      "text/plain": [
       "response_status\n",
       "200    6896509\n",
       "401       5027\n",
       "404       2835\n",
       "500       2346\n",
       "400        825\n",
       "403        117\n",
       "201        116\n",
       "409         21\n",
       "405          4\n",
       "204          1\n",
       "Name: id, dtype: int64"
      ]
     },
     "execution_count": 218,
     "metadata": {},
     "output_type": "execute_result"
    }
   ],
   "source": [
    "df_activity.groupby(by=['response_status'])['id'].count().fillna(0).sort_values(ascending=False)"
   ]
  },
  {
   "cell_type": "markdown",
   "id": "87866096",
   "metadata": {},
   "source": [
    "### 5.2 Apply K-modes "
   ]
  },
  {
   "cell_type": "code",
   "execution_count": 390,
   "id": "acef9d96",
   "metadata": {},
   "outputs": [
    {
     "data": {
      "text/html": [
       "<div>\n",
       "<style scoped>\n",
       "    .dataframe tbody tr th:only-of-type {\n",
       "        vertical-align: middle;\n",
       "    }\n",
       "\n",
       "    .dataframe tbody tr th {\n",
       "        vertical-align: top;\n",
       "    }\n",
       "\n",
       "    .dataframe thead th {\n",
       "        text-align: right;\n",
       "    }\n",
       "</style>\n",
       "<table border=\"1\" class=\"dataframe\">\n",
       "  <thead>\n",
       "    <tr style=\"text-align: right;\">\n",
       "      <th></th>\n",
       "      <th>_inserted_at</th>\n",
       "      <th>id</th>\n",
       "      <th>user_id</th>\n",
       "      <th>path</th>\n",
       "      <th>normalized_path</th>\n",
       "      <th>action_path</th>\n",
       "      <th>method</th>\n",
       "      <th>response_status</th>\n",
       "      <th>turnaround_time</th>\n",
       "    </tr>\n",
       "  </thead>\n",
       "  <tbody>\n",
       "    <tr>\n",
       "      <th>0</th>\n",
       "      <td>2022-01-10 19:22:38.366080</td>\n",
       "      <td>128d3ac8-1a59-4a36-a11b-619fd1d8988b</td>\n",
       "      <td>99d73931-1583-485d-afa7-ee1e20c05868</td>\n",
       "      <td>/api/2/status</td>\n",
       "      <td>/api/2/status</td>\n",
       "      <td>status</td>\n",
       "      <td>GET</td>\n",
       "      <td>200</td>\n",
       "      <td>54</td>\n",
       "    </tr>\n",
       "    <tr>\n",
       "      <th>1</th>\n",
       "      <td>2022-01-10 19:22:38.366080</td>\n",
       "      <td>ddfdeb2d-a466-4ae0-a1d6-a1efc6628182</td>\n",
       "      <td>99d73931-1583-485d-afa7-ee1e20c05868</td>\n",
       "      <td>/api/2/prompts</td>\n",
       "      <td>/api/2/prompts</td>\n",
       "      <td>prompts</td>\n",
       "      <td>GET</td>\n",
       "      <td>200</td>\n",
       "      <td>125</td>\n",
       "    </tr>\n",
       "  </tbody>\n",
       "</table>\n",
       "</div>"
      ],
      "text/plain": [
       "                _inserted_at                                    id  \\\n",
       "0 2022-01-10 19:22:38.366080  128d3ac8-1a59-4a36-a11b-619fd1d8988b   \n",
       "1 2022-01-10 19:22:38.366080  ddfdeb2d-a466-4ae0-a1d6-a1efc6628182   \n",
       "\n",
       "                                user_id            path normalized_path  \\\n",
       "0  99d73931-1583-485d-afa7-ee1e20c05868   /api/2/status   /api/2/status   \n",
       "1  99d73931-1583-485d-afa7-ee1e20c05868  /api/2/prompts  /api/2/prompts   \n",
       "\n",
       "  action_path method response_status  turnaround_time  \n",
       "0      status    GET             200               54  \n",
       "1     prompts    GET             200              125  "
      ]
     },
     "execution_count": 390,
     "metadata": {},
     "output_type": "execute_result"
    }
   ],
   "source": [
    "df_activity.head(2)"
   ]
  },
  {
   "cell_type": "code",
   "execution_count": 411,
   "id": "04669e05",
   "metadata": {},
   "outputs": [
    {
     "data": {
      "text/plain": [
       "_inserted_at\n",
       "2022-01-01 00:01:20.488154        94\n",
       "2022-01-01 00:03:38.397752       264\n",
       "2022-01-01 00:05:50.006532       200\n",
       "2022-01-01 00:07:54.574998       125\n",
       "2022-01-01 00:10:13.131875        57\n",
       "                               ...  \n",
       "2022-02-25 18:31:21.110891    130541\n",
       "2022-02-26 03:03:29.709754    152155\n",
       "2022-02-27 03:03:22.351681     84076\n",
       "2022-02-28 03:04:02.482092     71512\n",
       "2022-03-01 03:02:59.666514    110817\n",
       "Name: method, Length: 15180, dtype: int64"
      ]
     },
     "execution_count": 411,
     "metadata": {},
     "output_type": "execute_result"
    }
   ],
   "source": [
    "df_activity.groupby(by=['action_path'])['id'].count().sort_values(ascending=False)\n",
    "df_inserted_at_grouped = df_activity.groupby(by=['_inserted_at'])['method'].count()\n",
    "\n",
    "df_inserted_at_grouped.to_frame().reset_index()\n",
    "# name the columns\n",
    "df_inserted_at_grouped.columns = ['_inserted_at', 'count']\n",
    "df_inserted_at_grouped"
   ]
  },
  {
   "cell_type": "code",
   "execution_count": 414,
   "id": "a4668dd7",
   "metadata": {},
   "outputs": [
    {
     "data": {
      "text/plain": [
       "_inserted_at\n",
       "2022-01-10 19:22:38.366080    469\n",
       "Name: method, dtype: int64"
      ]
     },
     "execution_count": 414,
     "metadata": {},
     "output_type": "execute_result"
    }
   ],
   "source": [
    "df_inserted_at_grouped[df_inserted_at_grouped.index == '2022-01-10 19:22:38.366080']"
   ]
  },
  {
   "cell_type": "code",
   "execution_count": null,
   "id": "b2428359",
   "metadata": {},
   "outputs": [],
   "source": []
  },
  {
   "cell_type": "code",
   "execution_count": 358,
   "id": "818727e5",
   "metadata": {},
   "outputs": [
    {
     "name": "stdout",
     "output_type": "stream",
     "text": [
      "Collecting kmodes\n",
      "  Downloading kmodes-0.12.2-py2.py3-none-any.whl.metadata (8.1 kB)\n",
      "Requirement already satisfied: numpy>=1.10.4 in c:\\users\\eduar\\appdata\\local\\programs\\python\\python311\\lib\\site-packages (from kmodes) (1.25.2)\n",
      "Collecting scikit-learn>=0.22.0 (from kmodes)\n",
      "  Downloading scikit_learn-1.4.1.post1-cp311-cp311-win_amd64.whl.metadata (11 kB)\n",
      "Requirement already satisfied: scipy>=0.13.3 in c:\\users\\eduar\\appdata\\local\\programs\\python\\python311\\lib\\site-packages (from kmodes) (1.11.4)\n",
      "Requirement already satisfied: joblib>=0.11 in c:\\users\\eduar\\appdata\\local\\programs\\python\\python311\\lib\\site-packages (from kmodes) (1.1.1)\n",
      "Collecting joblib>=0.11 (from kmodes)\n",
      "  Using cached joblib-1.3.2-py3-none-any.whl.metadata (5.4 kB)\n",
      "Collecting threadpoolctl>=2.0.0 (from scikit-learn>=0.22.0->kmodes)\n",
      "  Downloading threadpoolctl-3.4.0-py3-none-any.whl.metadata (13 kB)\n",
      "Downloading kmodes-0.12.2-py2.py3-none-any.whl (20 kB)\n",
      "Downloading scikit_learn-1.4.1.post1-cp311-cp311-win_amd64.whl (10.6 MB)\n",
      "   ---------------------------------------- 0.0/10.6 MB ? eta -:--:--\n",
      "    --------------------------------------- 0.2/10.6 MB 4.6 MB/s eta 0:00:03\n",
      "   --- ------------------------------------ 0.9/10.6 MB 9.9 MB/s eta 0:00:01\n",
      "   ------ --------------------------------- 1.7/10.6 MB 12.1 MB/s eta 0:00:01\n",
      "   -------- ------------------------------- 2.2/10.6 MB 11.7 MB/s eta 0:00:01\n",
      "   ----------- ---------------------------- 2.9/10.6 MB 12.5 MB/s eta 0:00:01\n",
      "   ------------- -------------------------- 3.7/10.6 MB 13.0 MB/s eta 0:00:01\n",
      "   ----------------- ---------------------- 4.6/10.6 MB 14.0 MB/s eta 0:00:01\n",
      "   -------------------- ------------------- 5.4/10.6 MB 14.3 MB/s eta 0:00:01\n",
      "   ----------------------- ---------------- 6.3/10.6 MB 15.5 MB/s eta 0:00:01\n",
      "   -------------------------- ------------- 7.2/10.6 MB 15.8 MB/s eta 0:00:01\n",
      "   ------------------------------ --------- 8.0/10.6 MB 16.0 MB/s eta 0:00:01\n",
      "   --------------------------------- ------ 8.9/10.6 MB 16.2 MB/s eta 0:00:01\n",
      "   ---------------------------------- ----- 9.1/10.6 MB 16.2 MB/s eta 0:00:01\n",
      "   -------------------------------------- - 10.2/10.6 MB 15.9 MB/s eta 0:00:01\n",
      "   ---------------------------------------  10.6/10.6 MB 16.8 MB/s eta 0:00:01\n",
      "   ---------------------------------------- 10.6/10.6 MB 16.0 MB/s eta 0:00:00\n",
      "Using cached joblib-1.3.2-py3-none-any.whl (302 kB)\n",
      "Downloading threadpoolctl-3.4.0-py3-none-any.whl (17 kB)\n",
      "Installing collected packages: threadpoolctl, joblib, scikit-learn, kmodes\n",
      "  Attempting uninstall: joblib\n",
      "    Found existing installation: joblib 1.1.1\n",
      "    Uninstalling joblib-1.1.1:\n",
      "      Successfully uninstalled joblib-1.1.1\n",
      "Successfully installed joblib-1.3.2 kmodes-0.12.2 scikit-learn-1.4.1.post1 threadpoolctl-3.4.0\n"
     ]
    },
    {
     "name": "stderr",
     "output_type": "stream",
     "text": [
      "ERROR: pip's dependency resolver does not currently take into account all the packages that are installed. This behaviour is the source of the following dependency conflicts.\n",
      "pandas-profiling 3.2.0 requires joblib~=1.1.0, but you have joblib 1.3.2 which is incompatible.\n",
      "pandas-profiling 3.2.0 requires visions[type_image_path]==0.7.4, but you have visions 0.7.5 which is incompatible.\n"
     ]
    }
   ],
   "source": [
    "! pip install kmodes"
   ]
  },
  {
   "cell_type": "code",
   "execution_count": 373,
   "id": "6e3abf6f",
   "metadata": {},
   "outputs": [
    {
     "data": {
      "text/plain": [
       "CategoricalDtype(categories=[200, 201, 204, 400, 401, 403, 404, 405, 409, 500], ordered=False, categories_dtype=int64)"
      ]
     },
     "execution_count": 373,
     "metadata": {},
     "output_type": "execute_result"
    }
   ],
   "source": [
    "# Set the values from the 'response_status' column to categorical\n",
    "df_activity['response_status'] = df_activity['response_status'].astype('category')\n",
    "df_activity['response_status'].dtype\n",
    "\n"
   ]
  },
  {
   "cell_type": "code",
   "execution_count": 374,
   "id": "129481fa",
   "metadata": {},
   "outputs": [
    {
     "data": {
      "text/html": [
       "<div>\n",
       "<style scoped>\n",
       "    .dataframe tbody tr th:only-of-type {\n",
       "        vertical-align: middle;\n",
       "    }\n",
       "\n",
       "    .dataframe tbody tr th {\n",
       "        vertical-align: top;\n",
       "    }\n",
       "\n",
       "    .dataframe thead th {\n",
       "        text-align: right;\n",
       "    }\n",
       "</style>\n",
       "<table border=\"1\" class=\"dataframe\">\n",
       "  <thead>\n",
       "    <tr style=\"text-align: right;\">\n",
       "      <th></th>\n",
       "      <th>path</th>\n",
       "      <th>normalized_path</th>\n",
       "      <th>method</th>\n",
       "      <th>response_status</th>\n",
       "    </tr>\n",
       "  </thead>\n",
       "  <tbody>\n",
       "    <tr>\n",
       "      <th>0</th>\n",
       "      <td>172516</td>\n",
       "      <td>100</td>\n",
       "      <td>1</td>\n",
       "      <td>0</td>\n",
       "    </tr>\n",
       "    <tr>\n",
       "      <th>1</th>\n",
       "      <td>172504</td>\n",
       "      <td>92</td>\n",
       "      <td>1</td>\n",
       "      <td>0</td>\n",
       "    </tr>\n",
       "    <tr>\n",
       "      <th>2</th>\n",
       "      <td>172517</td>\n",
       "      <td>101</td>\n",
       "      <td>1</td>\n",
       "      <td>0</td>\n",
       "    </tr>\n",
       "    <tr>\n",
       "      <th>3</th>\n",
       "      <td>143479</td>\n",
       "      <td>72</td>\n",
       "      <td>1</td>\n",
       "      <td>0</td>\n",
       "    </tr>\n",
       "    <tr>\n",
       "      <th>4</th>\n",
       "      <td>33</td>\n",
       "      <td>4</td>\n",
       "      <td>1</td>\n",
       "      <td>0</td>\n",
       "    </tr>\n",
       "  </tbody>\n",
       "</table>\n",
       "</div>"
      ],
      "text/plain": [
       "     path  normalized_path  method  response_status\n",
       "0  172516              100       1                0\n",
       "1  172504               92       1                0\n",
       "2  172517              101       1                0\n",
       "3  143479               72       1                0\n",
       "4      33                4       1                0"
      ]
     },
     "execution_count": 374,
     "metadata": {},
     "output_type": "execute_result"
    }
   ],
   "source": [
    "# Encode to labels all columns with categorical data\n",
    "from sklearn.preprocessing import LabelEncoder\n",
    "le = LabelEncoder()\n",
    "\n",
    "predictors_categorical = ['path', 'normalized_path', 'method','response_status']\n",
    "X = df_activity[predictors_categorical]\n",
    "\n",
    "X = X.apply(le.fit_transform)\n",
    "X.head()"
   ]
  },
  {
   "cell_type": "code",
   "execution_count": null,
   "id": "8170666c",
   "metadata": {},
   "outputs": [],
   "source": [
    "# Print the resulting clusters\n",
    "#print(clusters)\n",
    "print(km_cao.cluster_centroids_)"
   ]
  },
  {
   "cell_type": "code",
   "execution_count": 375,
   "id": "54ccf536",
   "metadata": {},
   "outputs": [
    {
     "name": "stdout",
     "output_type": "stream",
     "text": [
      "Init: initializing centroids\n",
      "Init: initializing clusters\n",
      "Starting iterations...\n",
      "Run 1, iteration: 1/100, moves: 0, cost: 10544471.0\n"
     ]
    }
   ],
   "source": [
    "# Importing Libraries\n",
    "from kmodes.kmodes import KModes\n",
    "import numpy as np\n",
    "\n",
    "# Perform k-modes clustering with \"cao\" initialization\n",
    "km_cao = KModes(n_clusters=2, init='Cao', n_init=1, verbose=1)\n",
    "fit_clusters_cao = km_cao.fit_predict(X)\n"
   ]
  },
  {
   "cell_type": "code",
   "execution_count": 378,
   "id": "3edd8580",
   "metadata": {},
   "outputs": [
    {
     "data": {
      "text/plain": [
       "array([0, 0, 0, ..., 0, 0, 1], dtype=uint16)"
      ]
     },
     "execution_count": 378,
     "metadata": {},
     "output_type": "execute_result"
    }
   ],
   "source": [
    "fit_clusters_cao"
   ]
  },
  {
   "cell_type": "code",
   "execution_count": 379,
   "id": "a781f1ef",
   "metadata": {},
   "outputs": [
    {
     "data": {
      "text/plain": [
       "array([[172517,    101,      1,      0],\n",
       "       [143479,     72,      1,      0]], dtype=int64)"
      ]
     },
     "execution_count": 379,
     "metadata": {},
     "output_type": "execute_result"
    }
   ],
   "source": [
    "km_cao.cluster_centroids_"
   ]
  },
  {
   "cell_type": "code",
   "execution_count": 381,
   "id": "b0427fb6",
   "metadata": {},
   "outputs": [
    {
     "data": {
      "text/html": [
       "<div>\n",
       "<style scoped>\n",
       "    .dataframe tbody tr th:only-of-type {\n",
       "        vertical-align: middle;\n",
       "    }\n",
       "\n",
       "    .dataframe tbody tr th {\n",
       "        vertical-align: top;\n",
       "    }\n",
       "\n",
       "    .dataframe thead th {\n",
       "        text-align: right;\n",
       "    }\n",
       "</style>\n",
       "<table border=\"1\" class=\"dataframe\">\n",
       "  <thead>\n",
       "    <tr style=\"text-align: right;\">\n",
       "      <th></th>\n",
       "      <th>path</th>\n",
       "      <th>normalized_path</th>\n",
       "      <th>method</th>\n",
       "      <th>response_status</th>\n",
       "    </tr>\n",
       "  </thead>\n",
       "  <tbody>\n",
       "    <tr>\n",
       "      <th>0</th>\n",
       "      <td>172517</td>\n",
       "      <td>101</td>\n",
       "      <td>1</td>\n",
       "      <td>0</td>\n",
       "    </tr>\n",
       "    <tr>\n",
       "      <th>1</th>\n",
       "      <td>143479</td>\n",
       "      <td>72</td>\n",
       "      <td>1</td>\n",
       "      <td>0</td>\n",
       "    </tr>\n",
       "  </tbody>\n",
       "</table>\n",
       "</div>"
      ],
      "text/plain": [
       "     path  normalized_path  method  response_status\n",
       "0  172517              101       1                0\n",
       "1  143479               72       1                0"
      ]
     },
     "execution_count": 381,
     "metadata": {},
     "output_type": "execute_result"
    }
   ],
   "source": [
    "df_clusterCentroids = pd.DataFrame(km_cao.cluster_centroids_)\n",
    "df_clusterCentroids.columns = X.columns\n",
    "df_clusterCentroids"
   ]
  },
  {
   "cell_type": "code",
   "execution_count": null,
   "id": "084ecac4",
   "metadata": {},
   "outputs": [],
   "source": []
  },
  {
   "cell_type": "code",
   "execution_count": 382,
   "id": "d0f5240b",
   "metadata": {},
   "outputs": [
    {
     "name": "stdout",
     "output_type": "stream",
     "text": [
      "Init: initializing centroids\n",
      "Init: initializing clusters\n",
      "Starting iterations...\n",
      "Run 1, iteration: 1/100, moves: 0, cost: 11377545.0\n"
     ]
    }
   ],
   "source": [
    "# Perform k-modes clustering with \"Huang\" initialization\n",
    "km_huang = KModes(n_clusters=2, init='Huang', n_init=1, verbose=1)\n",
    "fit_clusters_huang = km_huang.fit_predict(X)"
   ]
  },
  {
   "cell_type": "code",
   "execution_count": 383,
   "id": "543a7e4c",
   "metadata": {},
   "outputs": [
    {
     "data": {
      "text/plain": [
       "array([0, 0, 0, ..., 0, 0, 0], dtype=uint16)"
      ]
     },
     "execution_count": 383,
     "metadata": {},
     "output_type": "execute_result"
    }
   ],
   "source": [
    "fit_clusters_huang\n",
    "\n",
    "# Cao initialization has a lower cost"
   ]
  },
  {
   "cell_type": "code",
   "execution_count": 385,
   "id": "a05d79e6",
   "metadata": {},
   "outputs": [
    {
     "name": "stdout",
     "output_type": "stream",
     "text": [
      "Init: initializing centroids\n",
      "Init: initializing clusters\n",
      "Starting iterations...\n",
      "Run 1, iteration: 1/100, moves: 0, cost: 11678917.0\n",
      "Init: initializing centroids\n",
      "Init: initializing clusters\n",
      "Starting iterations...\n",
      "Run 1, iteration: 1/100, moves: 0, cost: 10544471.0\n",
      "Init: initializing centroids\n",
      "Init: initializing clusters\n",
      "Starting iterations...\n",
      "Run 1, iteration: 1/100, moves: 0, cost: 9648093.0\n",
      "Init: initializing centroids\n",
      "Init: initializing clusters\n",
      "Starting iterations...\n",
      "Run 1, iteration: 1/100, moves: 0, cost: 8792937.0\n"
     ]
    }
   ],
   "source": [
    "# Choosing K by comparing Cost against each K\n",
    "cost = []\n",
    "for num_clusters in list(range(1,5)):\n",
    "    kmode = KModes(n_clusters=num_clusters, init = \"Cao\", n_init = 1, verbose=1)\n",
    "    kmode.fit_predict(X)\n",
    "    cost.append(kmode.cost_)\n"
   ]
  },
  {
   "cell_type": "code",
   "execution_count": 386,
   "id": "c3dd7bfe",
   "metadata": {},
   "outputs": [
    {
     "data": {
      "text/plain": [
       "[<matplotlib.lines.Line2D at 0x22326432950>]"
      ]
     },
     "execution_count": 386,
     "metadata": {},
     "output_type": "execute_result"
    },
    {
     "data": {
      "image/png": "[encoded data removed]",
      "text/plain": [
       "<Figure size 640x480 with 1 Axes>"
      ]
     },
     "metadata": {},
     "output_type": "display_data"
    }
   ],
   "source": [
    "# Data viz lib\n",
    "import matplotlib.pyplot as plt\n",
    "import seaborn as sns\n",
    "%matplotlib inline\n",
    "from matplotlib.pyplot import xticks\n",
    "\n",
    "y = np.array([i for i in range(1,5,1)])\n",
    "plt.plot(y,cost)"
   ]
  },
  {
   "cell_type": "code",
   "execution_count": 387,
   "id": "81700ac2",
   "metadata": {},
   "outputs": [
    {
     "name": "stdout",
     "output_type": "stream",
     "text": [
      "Init: initializing centroids\n",
      "Init: initializing clusters\n",
      "Starting iterations...\n",
      "Run 1, iteration: 1/100, moves: 0, cost: 11678917.0\n",
      "Init: initializing centroids\n",
      "Init: initializing clusters\n",
      "Starting iterations...\n",
      "Run 1, iteration: 1/100, moves: 0, cost: 10544471.0\n",
      "Init: initializing centroids\n",
      "Init: initializing clusters\n",
      "Starting iterations...\n",
      "Run 1, iteration: 1/100, moves: 0, cost: 9648093.0\n",
      "Init: initializing centroids\n",
      "Init: initializing clusters\n",
      "Starting iterations...\n",
      "Run 1, iteration: 1/100, moves: 0, cost: 8792937.0\n",
      "Init: initializing centroids\n",
      "Init: initializing clusters\n",
      "Starting iterations...\n",
      "Run 1, iteration: 1/100, moves: 0, cost: 7989517.0\n",
      "Init: initializing centroids\n",
      "Init: initializing clusters\n",
      "Starting iterations...\n",
      "Run 1, iteration: 1/100, moves: 0, cost: 7232156.0\n",
      "Init: initializing centroids\n",
      "Init: initializing clusters\n",
      "Starting iterations...\n",
      "Run 1, iteration: 1/100, moves: 0, cost: 6541250.0\n",
      "Init: initializing centroids\n",
      "Init: initializing clusters\n",
      "Starting iterations...\n",
      "Run 1, iteration: 1/100, moves: 0, cost: 5862068.0\n",
      "Init: initializing centroids\n",
      "Init: initializing clusters\n",
      "Starting iterations...\n",
      "Run 1, iteration: 1/100, moves: 0, cost: 5274238.0\n"
     ]
    }
   ],
   "source": [
    "# Choosing K by comparing Cost against each K\n",
    "cost = []\n",
    "for num_clusters in list(range(1,10)):\n",
    "    kmode = KModes(n_clusters=num_clusters, init = \"Cao\", n_init = 1, verbose=1)\n",
    "    kmode.fit_predict(X)\n",
    "    cost.append(kmode.cost_)\n"
   ]
  },
  {
   "cell_type": "code",
   "execution_count": 389,
   "id": "aebdac76",
   "metadata": {},
   "outputs": [
    {
     "data": {
      "text/plain": [
       "[<matplotlib.lines.Line2D at 0x22326f57b50>]"
      ]
     },
     "execution_count": 389,
     "metadata": {},
     "output_type": "execute_result"
    },
    {
     "data": {
      "image/png": "[encoded data removed]",
      "text/plain": [
       "<Figure size 640x480 with 1 Axes>"
      ]
     },
     "metadata": {},
     "output_type": "display_data"
    }
   ],
   "source": [
    "# Data viz lib\n",
    "import matplotlib.pyplot as plt\n",
    "import seaborn as sns\n",
    "%matplotlib inline\n",
    "from matplotlib.pyplot import xticks\n",
    "\n",
    "y = np.array([i for i in range(1,10,1)])\n",
    "plt.plot(y,cost)"
   ]
  }
 ],
 "metadata": {
  "kernelspec": {
   "display_name": "Python 3 (ipykernel)",
   "language": "python",
   "name": "python3"
  },
  "language_info": {
   "codemirror_mode": {
    "name": "ipython",
    "version": 3
   },
   "file_extension": ".py",
   "mimetype": "text/x-python",
   "name": "python",
   "nbconvert_exporter": "python",
   "pygments_lexer": "ipython3",
   "version": "3.11.6"
  }
 },
 "nbformat": 4,
 "nbformat_minor": 5
}
