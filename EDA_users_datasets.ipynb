{
 "cells": [
  {
   "cell_type": "markdown",
   "id": "2f724083",
   "metadata": {},
   "source": [
    "# Exploratory Data Analysis"
   ]
  },
  {
   "cell_type": "markdown",
   "id": "bb264b86",
   "metadata": {},
   "source": [
    "Some introduction...\n",
    "\n",
    "## Dataset Descriptions\n",
    "\n",
    "### Users\n",
    "This dataset contains information about the users in the system. It includes attributes such as user ID, name, age, and gender.\n",
    "\n",
    "### Streams\n",
    "The Streams dataset provides details about the different streams in the system. It includes information such as stream ID, stream name, and stream category.\n",
    "\n",
    "### Post Reports\n",
    "This dataset contains reports of posts made by users. It includes attributes such as post ID, user ID, report reason, and timestamp.\n",
    "\n",
    "### Comments Reports\n",
    "The Comments Reports dataset contains reports of comments made by users. It includes attributes such as comment ID, user ID, report reason, and timestamp.\n",
    "\n",
    "### User Activity\n",
    "The User Activity dataset captures the activity logs of users in the system. It includes attributes such as user ID, activity type, timestamp, and the normalized path of the activity.\n"
   ]
  },
  {
   "cell_type": "markdown",
   "id": "3a7403ea",
   "metadata": {},
   "source": [
    "## 1. Initial setup "
   ]
  },
  {
   "cell_type": "code",
   "execution_count": 2,
   "id": "270c617f",
   "metadata": {},
   "outputs": [
    {
     "name": "stdout",
     "output_type": "stream",
     "text": [
      "Requirement already satisfied: pandas in c:\\users\\eduar\\onedrive - hochschule luzern\\desktop\\ids\\master_thesis\\genai_thesis_beekeeper\\.venv\\lib\\site-packages (from -r requirements.txt (line 1)) (2.2.1)\n",
      "Requirement already satisfied: numpy in c:\\users\\eduar\\onedrive - hochschule luzern\\desktop\\ids\\master_thesis\\genai_thesis_beekeeper\\.venv\\lib\\site-packages (from -r requirements.txt (line 2)) (1.26.4)\n",
      "Collecting matplotlib (from -r requirements.txt (line 3))\n",
      "  Downloading matplotlib-3.8.4-cp311-cp311-win_amd64.whl.metadata (5.9 kB)\n",
      "Collecting plotly (from -r requirements.txt (line 4))\n",
      "  Downloading plotly-5.20.0-py3-none-any.whl.metadata (7.0 kB)\n",
      "Collecting pandas_profiling (from -r requirements.txt (line 5))\n",
      "  Downloading pandas_profiling-3.2.0-py2.py3-none-any.whl.metadata (21 kB)\n",
      "Collecting ydata_profiling (from -r requirements.txt (line 6))\n",
      "  Downloading ydata_profiling-4.7.0-py2.py3-none-any.whl.metadata (20 kB)\n",
      "Requirement already satisfied: python-dateutil>=2.8.2 in c:\\users\\eduar\\onedrive - hochschule luzern\\desktop\\ids\\master_thesis\\genai_thesis_beekeeper\\.venv\\lib\\site-packages (from pandas->-r requirements.txt (line 1)) (2.9.0.post0)\n",
      "Requirement already satisfied: pytz>=2020.1 in c:\\users\\eduar\\onedrive - hochschule luzern\\desktop\\ids\\master_thesis\\genai_thesis_beekeeper\\.venv\\lib\\site-packages (from pandas->-r requirements.txt (line 1)) (2024.1)\n",
      "Requirement already satisfied: tzdata>=2022.7 in c:\\users\\eduar\\onedrive - hochschule luzern\\desktop\\ids\\master_thesis\\genai_thesis_beekeeper\\.venv\\lib\\site-packages (from pandas->-r requirements.txt (line 1)) (2024.1)\n",
      "Collecting contourpy>=1.0.1 (from matplotlib->-r requirements.txt (line 3))\n",
      "  Downloading contourpy-1.2.1-cp311-cp311-win_amd64.whl.metadata (5.8 kB)\n",
      "Collecting cycler>=0.10 (from matplotlib->-r requirements.txt (line 3))\n",
      "  Using cached cycler-0.12.1-py3-none-any.whl.metadata (3.8 kB)\n",
      "Collecting fonttools>=4.22.0 (from matplotlib->-r requirements.txt (line 3))\n",
      "  Downloading fonttools-4.51.0-cp311-cp311-win_amd64.whl.metadata (162 kB)\n",
      "     ---------------------------------------- 0.0/162.8 kB ? eta -:--:--\n",
      "     ----------------------------------- -- 153.6/162.8 kB 9.6 MB/s eta 0:00:01\n",
      "     -------------------------------------- 162.8/162.8 kB 3.2 MB/s eta 0:00:00\n",
      "Collecting kiwisolver>=1.3.1 (from matplotlib->-r requirements.txt (line 3))\n",
      "  Using cached kiwisolver-1.4.5-cp311-cp311-win_amd64.whl.metadata (6.5 kB)\n",
      "Requirement already satisfied: packaging>=20.0 in c:\\users\\eduar\\onedrive - hochschule luzern\\desktop\\ids\\master_thesis\\genai_thesis_beekeeper\\.venv\\lib\\site-packages (from matplotlib->-r requirements.txt (line 3)) (24.0)\n",
      "Collecting pillow>=8 (from matplotlib->-r requirements.txt (line 3))\n",
      "  Downloading pillow-10.3.0-cp311-cp311-win_amd64.whl.metadata (9.4 kB)\n",
      "Collecting pyparsing>=2.3.1 (from matplotlib->-r requirements.txt (line 3))\n",
      "  Using cached pyparsing-3.1.2-py3-none-any.whl.metadata (5.1 kB)\n",
      "Collecting tenacity>=6.2.0 (from plotly->-r requirements.txt (line 4))\n",
      "  Using cached tenacity-8.2.3-py3-none-any.whl.metadata (1.0 kB)\n",
      "Collecting joblib~=1.1.0 (from pandas_profiling->-r requirements.txt (line 5))\n",
      "  Downloading joblib-1.1.1-py2.py3-none-any.whl.metadata (5.2 kB)\n",
      "Collecting scipy>=1.4.1 (from pandas_profiling->-r requirements.txt (line 5))\n",
      "  Downloading scipy-1.13.0-cp311-cp311-win_amd64.whl.metadata (60 kB)\n",
      "     ---------------------------------------- 0.0/60.6 kB ? eta -:--:--\n",
      "     ---------------------------------------- 60.6/60.6 kB 3.4 MB/s eta 0:00:00\n",
      "Requirement already satisfied: pydantic>=1.8.1 in c:\\users\\eduar\\onedrive - hochschule luzern\\desktop\\ids\\master_thesis\\genai_thesis_beekeeper\\.venv\\lib\\site-packages (from pandas_profiling->-r requirements.txt (line 5)) (2.6.3)\n",
      "Requirement already satisfied: PyYAML>=5.0.0 in c:\\users\\eduar\\onedrive - hochschule luzern\\desktop\\ids\\master_thesis\\genai_thesis_beekeeper\\.venv\\lib\\site-packages (from pandas_profiling->-r requirements.txt (line 5)) (6.0.1)\n",
      "Collecting jinja2>=2.11.1 (from pandas_profiling->-r requirements.txt (line 5))\n",
      "  Using cached Jinja2-3.1.3-py3-none-any.whl.metadata (3.3 kB)\n",
      "Collecting markupsafe~=2.1.1 (from pandas_profiling->-r requirements.txt (line 5))\n",
      "  Using cached MarkupSafe-2.1.5-cp311-cp311-win_amd64.whl.metadata (3.1 kB)\n",
      "Collecting visions==0.7.4 (from visions[type_image_path]==0.7.4->pandas_profiling->-r requirements.txt (line 5))\n",
      "  Downloading visions-0.7.4-py3-none-any.whl.metadata (5.9 kB)\n",
      "Collecting htmlmin>=0.1.12 (from pandas_profiling->-r requirements.txt (line 5))\n",
      "  Using cached htmlmin-0.1.12-py3-none-any.whl\n",
      "Collecting missingno>=0.4.2 (from pandas_profiling->-r requirements.txt (line 5))\n",
      "  Downloading missingno-0.5.2-py3-none-any.whl.metadata (639 bytes)\n",
      "Collecting phik>=0.11.1 (from pandas_profiling->-r requirements.txt (line 5))\n",
      "  Downloading phik-0.12.4-cp311-cp311-win_amd64.whl.metadata (5.6 kB)\n",
      "Collecting tangled-up-in-unicode==0.2.0 (from pandas_profiling->-r requirements.txt (line 5))\n",
      "  Downloading tangled_up_in_unicode-0.2.0-py3-none-any.whl.metadata (4.8 kB)\n",
      "Requirement already satisfied: requests>=2.24.0 in c:\\users\\eduar\\onedrive - hochschule luzern\\desktop\\ids\\master_thesis\\genai_thesis_beekeeper\\.venv\\lib\\site-packages (from pandas_profiling->-r requirements.txt (line 5)) (2.31.0)\n",
      "Requirement already satisfied: tqdm>=4.48.2 in c:\\users\\eduar\\onedrive - hochschule luzern\\desktop\\ids\\master_thesis\\genai_thesis_beekeeper\\.venv\\lib\\site-packages (from pandas_profiling->-r requirements.txt (line 5)) (4.66.2)\n",
      "Collecting seaborn>=0.10.1 (from pandas_profiling->-r requirements.txt (line 5))\n",
      "  Downloading seaborn-0.13.2-py3-none-any.whl.metadata (5.4 kB)\n",
      "Collecting multimethod>=1.4 (from pandas_profiling->-r requirements.txt (line 5))\n",
      "  Downloading multimethod-1.11.2-py3-none-any.whl.metadata (9.1 kB)\n",
      "Collecting attrs>=19.3.0 (from visions==0.7.4->visions[type_image_path]==0.7.4->pandas_profiling->-r requirements.txt (line 5))\n",
      "  Using cached attrs-23.2.0-py3-none-any.whl.metadata (9.5 kB)\n",
      "Collecting networkx>=2.4 (from visions==0.7.4->visions[type_image_path]==0.7.4->pandas_profiling->-r requirements.txt (line 5))\n",
      "  Downloading networkx-3.3-py3-none-any.whl.metadata (5.1 kB)\n",
      "Collecting imagehash (from visions[type_image_path]==0.7.4->pandas_profiling->-r requirements.txt (line 5))\n",
      "  Downloading ImageHash-4.3.1-py2.py3-none-any.whl.metadata (8.0 kB)\n",
      "Collecting scipy>=1.4.1 (from pandas_profiling->-r requirements.txt (line 5))\n",
      "  Using cached scipy-1.11.4-cp311-cp311-win_amd64.whl.metadata (60 kB)\n",
      "INFO: pip is looking at multiple versions of ydata-profiling to determine which version is compatible with other requirements. This could take a while.\n",
      "Collecting ydata_profiling (from -r requirements.txt (line 6))\n",
      "  Downloading ydata_profiling-4.6.5-py2.py3-none-any.whl.metadata (20 kB)\n",
      "  Downloading ydata_profiling-4.6.4-py2.py3-none-any.whl.metadata (20 kB)\n",
      "  Using cached ydata_profiling-4.6.3-py2.py3-none-any.whl.metadata (20 kB)\n",
      "  Downloading ydata_profiling-4.6.2-py2.py3-none-any.whl.metadata (20 kB)\n",
      "Collecting pandas (from -r requirements.txt (line 1))\n",
      "  Downloading pandas-2.0.3-cp311-cp311-win_amd64.whl.metadata (18 kB)\n",
      "Collecting matplotlib (from -r requirements.txt (line 3))\n",
      "  Downloading matplotlib-3.7.3-cp311-cp311-win_amd64.whl.metadata (5.8 kB)\n",
      "Collecting ydata_profiling (from -r requirements.txt (line 6))\n",
      "  Downloading ydata_profiling-4.6.1-py2.py3-none-any.whl.metadata (20 kB)\n",
      "  Downloading ydata_profiling-4.6.0-py2.py3-none-any.whl.metadata (20 kB)\n",
      "Collecting pydantic>=1.8.1 (from pandas_profiling->-r requirements.txt (line 5))\n",
      "  Downloading pydantic-1.10.15-cp311-cp311-win_amd64.whl.metadata (152 kB)\n",
      "     ---------------------------------------- 0.0/152.0 kB ? eta -:--:--\n",
      "     ------------------------------------- -- 143.4/152.0 kB ? eta -:--:--\n",
      "     -------------------------------------- 152.0/152.0 kB 4.4 MB/s eta 0:00:00\n",
      "Collecting ydata_profiling (from -r requirements.txt (line 6))\n",
      "  Downloading ydata_profiling-4.5.1-py2.py3-none-any.whl.metadata (20 kB)\n",
      "INFO: pip is still looking at multiple versions of ydata-profiling to determine which version is compatible with other requirements. This could take a while.\n",
      "  Downloading ydata_profiling-4.5.0-py2.py3-none-any.whl.metadata (20 kB)\n",
      "  Downloading ydata_profiling-4.4.0-py2.py3-none-any.whl.metadata (20 kB)\n",
      "  Downloading ydata_profiling-4.3.2-py2.py3-none-any.whl.metadata (19 kB)\n",
      "Collecting scipy>=1.4.1 (from pandas_profiling->-r requirements.txt (line 5))\n",
      "  Downloading scipy-1.10.1-cp311-cp311-win_amd64.whl.metadata (58 kB)\n",
      "     ---------------------------------------- 0.0/59.0 kB ? eta -:--:--\n",
      "     ---------------------------------------- 59.0/59.0 kB 3.2 MB/s eta 0:00:00\n",
      "Collecting ydata_profiling (from -r requirements.txt (line 6))\n",
      "  Downloading ydata_profiling-4.3.1-py2.py3-none-any.whl.metadata (19 kB)\n",
      "  Downloading ydata_profiling-4.3.0-py2.py3-none-any.whl.metadata (19 kB)\n",
      "INFO: This is taking longer than usual. You might need to provide the dependency resolver with stricter constraints to reduce runtime. See https://pip.pypa.io/warnings/backtracking for guidance. If you want to abort this run, press Ctrl + C.\n",
      "  Downloading ydata_profiling-4.2.0-py2.py3-none-any.whl.metadata (19 kB)\n",
      "Collecting pandas (from -r requirements.txt (line 1))\n",
      "  Downloading pandas-1.5.3-cp311-cp311-win_amd64.whl.metadata (12 kB)\n",
      "Collecting ydata_profiling (from -r requirements.txt (line 6))\n",
      "  Downloading ydata_profiling-4.1.2-py2.py3-none-any.whl.metadata (20 kB)\n",
      "Collecting scipy>=1.4.1 (from pandas_profiling->-r requirements.txt (line 5))\n",
      "  Downloading scipy-1.9.3-cp311-cp311-win_amd64.whl.metadata (58 kB)\n",
      "     ---------------------------------------- 0.0/58.5 kB ? eta -:--:--\n",
      "     ---------------------------------------- 58.5/58.5 kB 1.6 MB/s eta 0:00:00\n",
      "Collecting matplotlib (from -r requirements.txt (line 3))\n",
      "  Downloading matplotlib-3.6.3-cp311-cp311-win_amd64.whl.metadata (6.8 kB)\n",
      "Collecting ydata_profiling (from -r requirements.txt (line 6))\n",
      "  Downloading ydata_profiling-4.1.1-py2.py3-none-any.whl.metadata (20 kB)\n",
      "  Downloading ydata_profiling-4.1.0-py2.py3-none-any.whl.metadata (20 kB)\n",
      "Collecting pandas_profiling (from -r requirements.txt (line 5))\n",
      "  Downloading pandas_profiling-3.1.0-py2.py3-none-any.whl.metadata (23 kB)\n",
      "Collecting joblib~=1.0.1 (from pandas_profiling->-r requirements.txt (line 5))\n",
      "  Downloading joblib-1.0.1-py3-none-any.whl.metadata (6.8 kB)\n",
      "Collecting markupsafe~=2.0.1 (from pandas_profiling->-r requirements.txt (line 5))\n",
      "  Downloading MarkupSafe-2.0.1.tar.gz (18 kB)\n",
      "  Installing build dependencies: started\n",
      "  Installing build dependencies: finished with status 'done'\n",
      "  Getting requirements to build wheel: started\n",
      "  Getting requirements to build wheel: finished with status 'done'\n",
      "  Installing backend dependencies: started\n",
      "  Installing backend dependencies: finished with status 'done'\n",
      "  Preparing metadata (pyproject.toml): started\n",
      "  Preparing metadata (pyproject.toml): finished with status 'done'\n",
      "Collecting tangled-up-in-unicode==0.1.0 (from pandas_profiling->-r requirements.txt (line 5))\n",
      "  Downloading tangled_up_in_unicode-0.1.0-py3-none-any.whl.metadata (4.7 kB)\n",
      "Collecting pandas_profiling (from -r requirements.txt (line 5))\n",
      "  Downloading pandas_profiling-3.0.0-py2.py3-none-any.whl.metadata (21 kB)\n",
      "Collecting joblib (from pandas_profiling->-r requirements.txt (line 5))\n",
      "  Downloading joblib-1.4.0-py3-none-any.whl.metadata (5.4 kB)\n",
      "Collecting visions==0.7.1 (from visions[type_image_path]==0.7.1->pandas_profiling->-r requirements.txt (line 5))\n",
      "  Downloading visions-0.7.1-py3-none-any.whl.metadata (5.5 kB)\n",
      "Collecting bottleneck (from visions==0.7.1->visions[type_image_path]==0.7.1->pandas_profiling->-r requirements.txt (line 5))\n",
      "  Downloading Bottleneck-1.3.8-cp311-cp311-win_amd64.whl.metadata (8.1 kB)\n",
      "Collecting multimethod==1.4 (from visions==0.7.1->visions[type_image_path]==0.7.1->pandas_profiling->-r requirements.txt (line 5))\n",
      "  Downloading multimethod-1.4-py2.py3-none-any.whl.metadata (6.9 kB)\n",
      "\n",
      "The conflict is caused by:\n",
      "    pandas-profiling 3.0.0 depends on visions==0.7.1\n",
      "    visions[type-image-path] 0.7.1 depends on visions 0.7.1 (from https://files.pythonhosted.org/packages/80/96/01e4ba22cef96ae5035dbcf0451c2f4f859f8f17393b98406b23f0034279/visions-0.7.1-py3-none-any.whl (from https://pypi.org/simple/visions/) (requires-python:>=3.6))\n",
      "    ydata-profiling 4.7.0 depends on visions<0.7.7 and >=0.7.5\n",
      "    pandas-profiling 3.0.0 depends on visions==0.7.1\n",
      "    visions[type-image-path] 0.7.1 depends on visions 0.7.1 (from https://files.pythonhosted.org/packages/80/96/01e4ba22cef96ae5035dbcf0451c2f4f859f8f17393b98406b23f0034279/visions-0.7.1-py3-none-any.whl (from https://pypi.org/simple/visions/) (requires-python:>=3.6))\n",
      "    ydata-profiling 4.6.5 depends on visions==0.7.5\n",
      "    pandas-profiling 3.0.0 depends on visions==0.7.1\n",
      "    visions[type-image-path] 0.7.1 depends on visions 0.7.1 (from https://files.pythonhosted.org/packages/80/96/01e4ba22cef96ae5035dbcf0451c2f4f859f8f17393b98406b23f0034279/visions-0.7.1-py3-none-any.whl (from https://pypi.org/simple/visions/) (requires-python:>=3.6))\n",
      "    ydata-profiling 4.6.4 depends on visions==0.7.5\n",
      "    pandas-profiling 3.0.0 depends on visions==0.7.1\n",
      "    visions[type-image-path] 0.7.1 depends on visions 0.7.1 (from https://files.pythonhosted.org/packages/80/96/01e4ba22cef96ae5035dbcf0451c2f4f859f8f17393b98406b23f0034279/visions-0.7.1-py3-none-any.whl (from https://pypi.org/simple/visions/) (requires-python:>=3.6))\n",
      "    ydata-profiling 4.6.3 depends on visions==0.7.5\n",
      "    pandas-profiling 3.0.0 depends on visions==0.7.1\n",
      "    visions[type-image-path] 0.7.1 depends on visions 0.7.1 (from https://files.pythonhosted.org/packages/80/96/01e4ba22cef96ae5035dbcf0451c2f4f859f8f17393b98406b23f0034279/visions-0.7.1-py3-none-any.whl (from https://pypi.org/simple/visions/) (requires-python:>=3.6))\n",
      "    ydata-profiling 4.6.2 depends on visions==0.7.5\n",
      "    pandas-profiling 3.0.0 depends on visions==0.7.1\n",
      "    visions[type-image-path] 0.7.1 depends on visions 0.7.1 (from https://files.pythonhosted.org/packages/80/96/01e4ba22cef96ae5035dbcf0451c2f4f859f8f17393b98406b23f0034279/visions-0.7.1-py3-none-any.whl (from https://pypi.org/simple/visions/) (requires-python:>=3.6))\n",
      "    ydata-profiling 4.6.1 depends on visions==0.7.5\n",
      "    pandas-profiling 3.0.0 depends on visions==0.7.1\n",
      "    visions[type-image-path] 0.7.1 depends on visions 0.7.1 (from https://files.pythonhosted.org/packages/80/96/01e4ba22cef96ae5035dbcf0451c2f4f859f8f17393b98406b23f0034279/visions-0.7.1-py3-none-any.whl (from https://pypi.org/simple/visions/) (requires-python:>=3.6))\n",
      "    ydata-profiling 4.6.0 depends on visions==0.7.5\n",
      "    pandas-profiling 3.0.0 depends on visions==0.7.1\n",
      "    visions[type-image-path] 0.7.1 depends on visions 0.7.1 (from https://files.pythonhosted.org/packages/80/96/01e4ba22cef96ae5035dbcf0451c2f4f859f8f17393b98406b23f0034279/visions-0.7.1-py3-none-any.whl (from https://pypi.org/simple/visions/) (requires-python:>=3.6))\n",
      "    ydata-profiling 4.5.1 depends on visions==0.7.5\n",
      "    pandas-profiling 3.0.0 depends on visions==0.7.1\n",
      "    visions[type-image-path] 0.7.1 depends on visions 0.7.1 (from https://files.pythonhosted.org/packages/80/96/01e4ba22cef96ae5035dbcf0451c2f4f859f8f17393b98406b23f0034279/visions-0.7.1-py3-none-any.whl (from https://pypi.org/simple/visions/) (requires-python:>=3.6))\n",
      "    ydata-profiling 4.5.0 depends on visions==0.7.5\n",
      "    pandas-profiling 3.0.0 depends on visions==0.7.1\n",
      "    visions[type-image-path] 0.7.1 depends on visions 0.7.1 (from https://files.pythonhosted.org/packages/80/96/01e4ba22cef96ae5035dbcf0451c2f4f859f8f17393b98406b23f0034279/visions-0.7.1-py3-none-any.whl (from https://pypi.org/simple/visions/) (requires-python:>=3.6))\n",
      "    ydata-profiling 4.4.0 depends on visions==0.7.5\n",
      "    pandas-profiling 3.0.0 depends on visions==0.7.1\n",
      "    visions[type-image-path] 0.7.1 depends on visions 0.7.1 (from https://files.pythonhosted.org/packages/80/96/01e4ba22cef96ae5035dbcf0451c2f4f859f8f17393b98406b23f0034279/visions-0.7.1-py3-none-any.whl (from https://pypi.org/simple/visions/) (requires-python:>=3.6))\n",
      "    ydata-profiling 4.3.2 depends on visions==0.7.5\n",
      "    pandas-profiling 3.0.0 depends on visions==0.7.1\n",
      "    visions[type-image-path] 0.7.1 depends on visions 0.7.1 (from https://files.pythonhosted.org/packages/80/96/01e4ba22cef96ae5035dbcf0451c2f4f859f8f17393b98406b23f0034279/visions-0.7.1-py3-none-any.whl (from https://pypi.org/simple/visions/) (requires-python:>=3.6))\n",
      "    ydata-profiling 4.3.1 depends on visions==0.7.5\n",
      "    pandas-profiling 3.0.0 depends on visions==0.7.1\n",
      "    visions[type-image-path] 0.7.1 depends on visions 0.7.1 (from https://files.pythonhosted.org/packages/80/96/01e4ba22cef96ae5035dbcf0451c2f4f859f8f17393b98406b23f0034279/visions-0.7.1-py3-none-any.whl (from https://pypi.org/simple/visions/) (requires-python:>=3.6))\n",
      "    ydata-profiling 4.3.0 depends on visions==0.7.5\n",
      "    pandas-profiling 3.0.0 depends on visions==0.7.1\n",
      "    visions[type-image-path] 0.7.1 depends on visions 0.7.1 (from https://files.pythonhosted.org/packages/80/96/01e4ba22cef96ae5035dbcf0451c2f4f859f8f17393b98406b23f0034279/visions-0.7.1-py3-none-any.whl (from https://pypi.org/simple/visions/) (requires-python:>=3.6))\n",
      "    ydata-profiling 4.2.0 depends on visions==0.7.5\n",
      "    pandas-profiling 3.0.0 depends on visions==0.7.1\n",
      "    visions[type-image-path] 0.7.1 depends on visions 0.7.1 (from https://files.pythonhosted.org/packages/80/96/01e4ba22cef96ae5035dbcf0451c2f4f859f8f17393b98406b23f0034279/visions-0.7.1-py3-none-any.whl (from https://pypi.org/simple/visions/) (requires-python:>=3.6))\n",
      "    ydata-profiling 4.1.2 depends on visions==0.7.5\n",
      "    pandas-profiling 3.0.0 depends on visions==0.7.1\n",
      "    visions[type-image-path] 0.7.1 depends on visions 0.7.1 (from https://files.pythonhosted.org/packages/80/96/01e4ba22cef96ae5035dbcf0451c2f4f859f8f17393b98406b23f0034279/visions-0.7.1-py3-none-any.whl (from https://pypi.org/simple/visions/) (requires-python:>=3.6))\n",
      "    ydata-profiling 4.1.1 depends on visions==0.7.5"
     ]
    },
    {
     "name": "stderr",
     "output_type": "stream",
     "text": [
      "ERROR: Cannot install -r requirements.txt (line 5), -r requirements.txt (line 6) and visions[type-image-path]==0.7.1 because these package versions have conflicting dependencies.\n",
      "ERROR: ResolutionImpossible: for help visit https://pip.pypa.io/en/latest/topics/dependency-resolution/#dealing-with-dependency-conflicts\n"
     ]
    },
    {
     "name": "stdout",
     "output_type": "stream",
     "text": [
      "\n",
      "    pandas-profiling 3.0.0 depends on visions==0.7.1\n",
      "    visions[type-image-path] 0.7.1 depends on visions 0.7.1 (from https://files.pythonhosted.org/packages/80/96/01e4ba22cef96ae5035dbcf0451c2f4f859f8f17393b98406b23f0034279/visions-0.7.1-py3-none-any.whl (from https://pypi.org/simple/visions/) (requires-python:>=3.6))\n",
      "    ydata-profiling 4.1.0 depends on visions==0.7.5\n",
      "\n",
      "To fix this you could try to:\n",
      "1. loosen the range of package versions you've specified\n",
      "2. remove package versions to allow pip attempt to solve the dependency conflict\n",
      "\n"
     ]
    }
   ],
   "source": [
    "# install the requirements.txt\n",
    "# ! pip install -r requirements.txt"
   ]
  },
  {
   "cell_type": "code",
   "execution_count": 1,
   "id": "49277a28",
   "metadata": {},
   "outputs": [],
   "source": [
    "import pandas as pd\n",
    "pd.set_option('display.max_columns', None)\n",
    "#from IPython.display import display, HTML\n",
    "#display(HTML(\"<style>.container { width:100% !important; }</style>\"))\n",
    "\n",
    "# Needed Packages\n",
    "import pandas as pd\n",
    "import os\n",
    "import numpy as np\n",
    "from datetime import datetime\n",
    "#from pandas_profiling import ProfileReport\n",
    "#import ydata_profiling\n",
    "\n",
    "\n",
    "# Visualization packages\n",
    "import plotly.graph_objects as go\n",
    "import plotly.express as px\n",
    "\n",
    "# Display settings\n",
    "import warnings\n",
    "warnings.filterwarnings('ignore')\n",
    "#%matplotlib widget"
   ]
  },
  {
   "cell_type": "markdown",
   "id": "aa8849e6",
   "metadata": {},
   "source": [
    "## 2. EDA for 'users' data set"
   ]
  },
  {
   "cell_type": "code",
   "execution_count": 14,
   "id": "eda16c69",
   "metadata": {},
   "outputs": [
    {
     "name": "stdout",
     "output_type": "stream",
     "text": [
      "<class 'pandas.core.frame.DataFrame'>\n",
      "RangeIndex: 9467 entries, 0 to 9466\n",
      "Data columns (total 37 columns):\n",
      " #   Column                        Non-Null Count  Dtype  \n",
      "---  ------                        --------------  -----  \n",
      " 0   first_login                   7499 non-null   object \n",
      " 1   review_status                 9467 non-null   object \n",
      " 2   provisioned_by_signin_method  9467 non-null   object \n",
      " 3   suspended                     9467 non-null   bool   \n",
      " 4   streamid                      9466 non-null   float64\n",
      " 5   timezone                      4700 non-null   object \n",
      " 6   id                            9467 non-null   object \n",
      " 7   confirmed                     9467 non-null   bool   \n",
      " 8   password_needs_change         9467 non-null   bool   \n",
      " 9   last_skipped_contact_details  7478 non-null   object \n",
      " 10  is_bot                        9467 non-null   bool   \n",
      " 11  org_unit_ids                  9467 non-null   object \n",
      " 12  state                         9467 non-null   object \n",
      " 13  role                          9467 non-null   object \n",
      " 14  avatar_anonymous              0 non-null      float64\n",
      " 15  last_login                    7499 non-null   object \n",
      " 16  tenantuserid                  6914 non-null   object \n",
      " 17  updated                       9467 non-null   object \n",
      " 18  used                          7498 non-null   object \n",
      " 19  display_name_extension        9390 non-null   object \n",
      " 20  suspended_at                  7921 non-null   object \n",
      " 21  notifications                 9467 non-null   bool   \n",
      " 22  beta                          9467 non-null   bool   \n",
      " 23  email_confirmed               9467 non-null   bool   \n",
      " 24  anonymous                     9467 non-null   bool   \n",
      " 25  is_beekeeper_aware            9467 non-null   bool   \n",
      " 26  notifications_public          9467 non-null   object \n",
      " 27  digest_mails                  9467 non-null   bool   \n",
      " 28  language                      7489 non-null   object \n",
      " 29  created                       9467 non-null   object \n",
      " 30  mobile_confirmed              9467 non-null   bool   \n",
      " 31  push                          9467 non-null   bool   \n",
      " 32  accepted_coc                  7488 non-null   object \n",
      " 33  last_skipped_password         402 non-null    object \n",
      " 34  department                    9211 non-null   object \n",
      " 35  location                      9216 non-null   object \n",
      " 36  position                      9388 non-null   object \n",
      "dtypes: bool(12), float64(2), object(23)\n",
      "memory usage: 1.9+ MB\n",
      "None\n"
     ]
    }
   ],
   "source": [
    "# Users data\n",
    "path = \"C:\\\\Users\\\\eduar\\\\Documents\\\\Master_Thesis\\\\GenAI_Thesis_Beekeeper\\\\data\\\\BKPR_Datasets_Samples\"\n",
    "file_name = \"users.xlsx\"\n",
    "file_path = os.path.join(path, file_name)\n",
    "data = pd.read_excel(file_path)\n",
    "print(data.info())\n",
    "# print(f'The columns are: {data.columns}')\n",
    "# data.sample(2)"
   ]
  },
  {
   "cell_type": "code",
   "execution_count": 6,
   "id": "e623b2bd",
   "metadata": {},
   "outputs": [
    {
     "name": "stdout",
     "output_type": "stream",
     "text": [
      "state\n",
      "suspended    7921\n",
      "active       1494\n",
      "created        52\n",
      "Name: count, dtype: int64\n"
     ]
    },
    {
     "data": {
      "image/png": "[encoded data removed]",
      "text/plain": [
       "<Figure size 800x600 with 1 Axes>"
      ]
     },
     "metadata": {},
     "output_type": "display_data"
    }
   ],
   "source": [
    "# Active Users by Department\n",
    "df_users = data.copy()\n",
    "# group by state \n",
    "print(df_users['state'].value_counts())\n",
    "\n",
    "import matplotlib.pyplot as plt\n",
    "\n",
    "# Active Users by Department\n",
    "df_users = data.copy()\n",
    "state_counts = df_users['state'].value_counts()\n",
    "\n",
    "# Plotting\n",
    "plt.figure(figsize=(8, 6))\n",
    "plt.bar(state_counts.index, state_counts.values)\n",
    "plt.xlabel('User State')\n",
    "plt.ylabel('Number of Users')\n",
    "plt.title(\"User's Status\")\n",
    "plt.show()\n"
   ]
  },
  {
   "cell_type": "code",
   "execution_count": 7,
   "id": "6497a1f3",
   "metadata": {},
   "outputs": [
    {
     "data": {
      "text/html": [
       "<div>\n",
       "<style scoped>\n",
       "    .dataframe tbody tr th:only-of-type {\n",
       "        vertical-align: middle;\n",
       "    }\n",
       "\n",
       "    .dataframe tbody tr th {\n",
       "        vertical-align: top;\n",
       "    }\n",
       "\n",
       "    .dataframe thead th {\n",
       "        text-align: right;\n",
       "    }\n",
       "</style>\n",
       "<table border=\"1\" class=\"dataframe\">\n",
       "  <thead>\n",
       "    <tr style=\"text-align: right;\">\n",
       "      <th></th>\n",
       "      <th>first_login</th>\n",
       "      <th>review_status</th>\n",
       "      <th>provisioned_by_signin_method</th>\n",
       "      <th>suspended</th>\n",
       "      <th>streamid</th>\n",
       "      <th>timezone</th>\n",
       "      <th>id</th>\n",
       "      <th>confirmed</th>\n",
       "      <th>password_needs_change</th>\n",
       "      <th>last_skipped_contact_details</th>\n",
       "      <th>is_bot</th>\n",
       "      <th>org_unit_ids</th>\n",
       "      <th>state</th>\n",
       "      <th>role</th>\n",
       "      <th>avatar_anonymous</th>\n",
       "      <th>last_login</th>\n",
       "      <th>tenantuserid</th>\n",
       "      <th>updated</th>\n",
       "      <th>used</th>\n",
       "      <th>display_name_extension</th>\n",
       "      <th>suspended_at</th>\n",
       "      <th>notifications</th>\n",
       "      <th>beta</th>\n",
       "      <th>email_confirmed</th>\n",
       "      <th>anonymous</th>\n",
       "      <th>is_beekeeper_aware</th>\n",
       "      <th>notifications_public</th>\n",
       "      <th>digest_mails</th>\n",
       "      <th>language</th>\n",
       "      <th>created</th>\n",
       "      <th>mobile_confirmed</th>\n",
       "      <th>push</th>\n",
       "      <th>accepted_coc</th>\n",
       "      <th>last_skipped_password</th>\n",
       "      <th>department</th>\n",
       "      <th>location</th>\n",
       "      <th>position</th>\n",
       "    </tr>\n",
       "  </thead>\n",
       "  <tbody>\n",
       "  </tbody>\n",
       "</table>\n",
       "</div>"
      ],
      "text/plain": [
       "Empty DataFrame\n",
       "Columns: [first_login, review_status, provisioned_by_signin_method, suspended, streamid, timezone, id, confirmed, password_needs_change, last_skipped_contact_details, is_bot, org_unit_ids, state, role, avatar_anonymous, last_login, tenantuserid, updated, used, display_name_extension, suspended_at, notifications, beta, email_confirmed, anonymous, is_beekeeper_aware, notifications_public, digest_mails, language, created, mobile_confirmed, push, accepted_coc, last_skipped_password, department, location, position]\n",
       "Index: []"
      ]
     },
     "execution_count": 7,
     "metadata": {},
     "output_type": "execute_result"
    }
   ],
   "source": [
    "df_users[df_users['id'] == \"973511e1-3b2d-4ec6-87b3-7780269d3843\"]"
   ]
  },
  {
   "cell_type": "code",
   "execution_count": 274,
   "id": "38576ef6",
   "metadata": {},
   "outputs": [
    {
     "name": "stdout",
     "output_type": "stream",
     "text": [
      "<class 'pandas.core.frame.DataFrame'>\n",
      "Index: 1494 entries, 0 to 1545\n",
      "Data columns (total 37 columns):\n",
      " #   Column                        Non-Null Count  Dtype  \n",
      "---  ------                        --------------  -----  \n",
      " 0   first_login                   1494 non-null   object \n",
      " 1   review_status                 1494 non-null   object \n",
      " 2   provisioned_by_signin_method  1494 non-null   object \n",
      " 3   suspended                     1494 non-null   bool   \n",
      " 4   streamid                      1494 non-null   float64\n",
      " 5   timezone                      895 non-null    object \n",
      " 6   id                            1494 non-null   object \n",
      " 7   confirmed                     1494 non-null   bool   \n",
      " 8   password_needs_change         1494 non-null   bool   \n",
      " 9   last_skipped_contact_details  1487 non-null   object \n",
      " 10  is_bot                        1494 non-null   bool   \n",
      " 11  org_unit_ids                  1494 non-null   object \n",
      " 12  state                         1494 non-null   object \n",
      " 13  role                          1494 non-null   object \n",
      " 14  avatar_anonymous              0 non-null      float64\n",
      " 15  last_login                    1494 non-null   object \n",
      " 16  tenantuserid                  1463 non-null   object \n",
      " 17  updated                       1494 non-null   object \n",
      " 18  used                          1494 non-null   object \n",
      " 19  display_name_extension        1476 non-null   object \n",
      " 20  suspended_at                  0 non-null      object \n",
      " 21  notifications                 1494 non-null   bool   \n",
      " 22  beta                          1494 non-null   bool   \n",
      " 23  email_confirmed               1494 non-null   bool   \n",
      " 24  anonymous                     1494 non-null   bool   \n",
      " 25  is_beekeeper_aware            1494 non-null   bool   \n",
      " 26  notifications_public          1494 non-null   object \n",
      " 27  digest_mails                  1494 non-null   bool   \n",
      " 28  language                      1493 non-null   object \n",
      " 29  created                       1494 non-null   object \n",
      " 30  mobile_confirmed              1494 non-null   bool   \n",
      " 31  push                          1494 non-null   bool   \n",
      " 32  accepted_coc                  1494 non-null   object \n",
      " 33  last_skipped_password         145 non-null    object \n",
      " 34  department                    1477 non-null   object \n",
      " 35  location                      1476 non-null   object \n",
      " 36  position                      1474 non-null   object \n",
      "dtypes: bool(12), float64(2), object(23)\n",
      "memory usage: 321.0+ KB\n",
      "None\n"
     ]
    }
   ],
   "source": [
    "# Keep only not suspended users\n",
    "df_users_active = df_users[df_users['state'] == 'active']\n",
    "print(df_users_active.info())"
   ]
  },
  {
   "cell_type": "code",
   "execution_count": 8,
   "id": "fde7d011",
   "metadata": {},
   "outputs": [
    {
     "name": "stdout",
     "output_type": "stream",
     "text": [
      "The date range of users based on the creation date:\n",
      "Min date: 2017-12-20 04:30:24\n",
      "Max date: 2021-12-17 18:03:04\n"
     ]
    }
   ],
   "source": [
    "# Preprocessing users data function\n",
    "\n",
    "def preprocess_users(df_users):  \n",
    "    # Keep only not suspended users\n",
    "    df_users_active = df_users[df_users['state'] == 'active']\n",
    "  \n",
    "    # Imputation of missing values\n",
    "    # Language \n",
    "    df_users_active['language'].fillna('en', inplace=True)\n",
    "\n",
    "    # Delete columns\n",
    "    # Columns to be deleted\n",
    "    cols_to_delete = ['suspended_at', 'avatar_anonymous', 'last_skipped_password', 'review_status', 'suspended',\n",
    "                    'push', 'mobile_confirmed', 'anonymous','provisioned_by_signin_method','beta','is_beekeeper_aware',\n",
    "                    'is_bot','streamid','password_needs_change','confirmed']    \n",
    "    df_users_active.drop(cols_to_delete, axis=1, inplace=True)\n",
    "    \n",
    "    # Convert to datetime\n",
    "    df_users_active['first_login'] = pd.to_datetime(df_users_active['first_login'])\n",
    "    df_users_active['last_skipped_contact_details'] = pd.to_datetime(df_users_active['last_skipped_contact_details'])\n",
    "    df_users_active['last_login'] = pd.to_datetime(df_users_active['last_login'])\n",
    "    df_users_active['updated'] = pd.to_datetime(df_users_active['updated'])\n",
    "    df_users_active['used'] = pd.to_datetime(df_users_active['used'])\n",
    "    df_users_active['created'] = pd.to_datetime(df_users_active['created'])\n",
    "    df_users_active['accepted_coc'] = pd.to_datetime(df_users_active['accepted_coc'])\n",
    "\n",
    "    # date range of posts\n",
    "    print(\"The date range of users based on the creation date:\")\n",
    "    print(f\"Min date: {df_users_active['created'].min()}\")\n",
    "    print(f\"Max date: {df_users_active['created'].max()}\")\n",
    "    #print(f\"Date range: {df_users_active['created'].max() - df_users_active['created'].min()}\")\n",
    "    \n",
    "    \n",
    "    return df_users_active\n",
    "\n",
    "df_users_active = preprocess_users(df_users)"
   ]
  },
  {
   "cell_type": "code",
   "execution_count": 10,
   "id": "fe88a856",
   "metadata": {},
   "outputs": [
    {
     "data": {
      "application/vnd.plotly.v1+json": {
       "config": {
        "plotlyServerURL": "https://plot.ly"
       },
       "data": [
        {
         "alignmentgroup": "True",
         "hovertemplate": "index=%{x}<br>y=%{y}<extra></extra>",
         "legendgroup": "",
         "marker": {
          "color": "#636efa",
          "pattern": {
           "shape": ""
          }
         },
         "name": "",
         "offsetgroup": "",
         "orientation": "v",
         "showlegend": false,
         "textposition": "auto",
         "type": "bar",
         "x": [
          "first_login",
          "timezone",
          "id",
          "last_skipped_contact_details",
          "org_unit_ids",
          "state",
          "role",
          "last_login",
          "tenantuserid",
          "updated",
          "used",
          "display_name_extension",
          "notifications",
          "email_confirmed",
          "notifications_public",
          "digest_mails",
          "language",
          "created",
          "accepted_coc",
          "department",
          "location",
          "position"
         ],
         "xaxis": "x",
         "y": [
          0,
          599,
          0,
          7,
          0,
          0,
          0,
          0,
          31,
          0,
          0,
          18,
          0,
          0,
          0,
          0,
          0,
          0,
          0,
          17,
          18,
          20
         ],
         "yaxis": "y"
        }
       ],
       "layout": {
        "barmode": "relative",
        "height": 600,
        "legend": {
         "tracegroupgap": 0
        },
        "template": {
         "data": {
          "bar": [
           {
            "error_x": {
             "color": "#2a3f5f"
            },
            "error_y": {
             "color": "#2a3f5f"
            },
            "marker": {
             "line": {
              "color": "#E5ECF6",
              "width": 0.5
             },
             "pattern": {
              "fillmode": "overlay",
              "size": 10,
              "solidity": 0.2
             }
            },
            "type": "bar"
           }
          ],
          "barpolar": [
           {
            "marker": {
             "line": {
              "color": "#E5ECF6",
              "width": 0.5
             },
             "pattern": {
              "fillmode": "overlay",
              "size": 10,
              "solidity": 0.2
             }
            },
            "type": "barpolar"
           }
          ],
          "carpet": [
           {
            "aaxis": {
             "endlinecolor": "#2a3f5f",
             "gridcolor": "white",
             "linecolor": "white",
             "minorgridcolor": "white",
             "startlinecolor": "#2a3f5f"
            },
            "baxis": {
             "endlinecolor": "#2a3f5f",
             "gridcolor": "white",
             "linecolor": "white",
             "minorgridcolor": "white",
             "startlinecolor": "#2a3f5f"
            },
            "type": "carpet"
           }
          ],
          "choropleth": [
           {
            "colorbar": {
             "outlinewidth": 0,
             "ticks": ""
            },
            "type": "choropleth"
           }
          ],
          "contour": [
           {
            "colorbar": {
             "outlinewidth": 0,
             "ticks": ""
            },
            "colorscale": [
             [
              0,
              "#0d0887"
             ],
             [
              0.1111111111111111,
              "#46039f"
             ],
             [
              0.2222222222222222,
              "#7201a8"
             ],
             [
              0.3333333333333333,
              "#9c179e"
             ],
             [
              0.4444444444444444,
              "#bd3786"
             ],
             [
              0.5555555555555556,
              "#d8576b"
             ],
             [
              0.6666666666666666,
              "#ed7953"
             ],
             [
              0.7777777777777778,
              "#fb9f3a"
             ],
             [
              0.8888888888888888,
              "#fdca26"
             ],
             [
              1,
              "#f0f921"
             ]
            ],
            "type": "contour"
           }
          ],
          "contourcarpet": [
           {
            "colorbar": {
             "outlinewidth": 0,
             "ticks": ""
            },
            "type": "contourcarpet"
           }
          ],
          "heatmap": [
           {
            "colorbar": {
             "outlinewidth": 0,
             "ticks": ""
            },
            "colorscale": [
             [
              0,
              "#0d0887"
             ],
             [
              0.1111111111111111,
              "#46039f"
             ],
             [
              0.2222222222222222,
              "#7201a8"
             ],
             [
              0.3333333333333333,
              "#9c179e"
             ],
             [
              0.4444444444444444,
              "#bd3786"
             ],
             [
              0.5555555555555556,
              "#d8576b"
             ],
             [
              0.6666666666666666,
              "#ed7953"
             ],
             [
              0.7777777777777778,
              "#fb9f3a"
             ],
             [
              0.8888888888888888,
              "#fdca26"
             ],
             [
              1,
              "#f0f921"
             ]
            ],
            "type": "heatmap"
           }
          ],
          "heatmapgl": [
           {
            "colorbar": {
             "outlinewidth": 0,
             "ticks": ""
            },
            "colorscale": [
             [
              0,
              "#0d0887"
             ],
             [
              0.1111111111111111,
              "#46039f"
             ],
             [
              0.2222222222222222,
              "#7201a8"
             ],
             [
              0.3333333333333333,
              "#9c179e"
             ],
             [
              0.4444444444444444,
              "#bd3786"
             ],
             [
              0.5555555555555556,
              "#d8576b"
             ],
             [
              0.6666666666666666,
              "#ed7953"
             ],
             [
              0.7777777777777778,
              "#fb9f3a"
             ],
             [
              0.8888888888888888,
              "#fdca26"
             ],
             [
              1,
              "#f0f921"
             ]
            ],
            "type": "heatmapgl"
           }
          ],
          "histogram": [
           {
            "marker": {
             "pattern": {
              "fillmode": "overlay",
              "size": 10,
              "solidity": 0.2
             }
            },
            "type": "histogram"
           }
          ],
          "histogram2d": [
           {
            "colorbar": {
             "outlinewidth": 0,
             "ticks": ""
            },
            "colorscale": [
             [
              0,
              "#0d0887"
             ],
             [
              0.1111111111111111,
              "#46039f"
             ],
             [
              0.2222222222222222,
              "#7201a8"
             ],
             [
              0.3333333333333333,
              "#9c179e"
             ],
             [
              0.4444444444444444,
              "#bd3786"
             ],
             [
              0.5555555555555556,
              "#d8576b"
             ],
             [
              0.6666666666666666,
              "#ed7953"
             ],
             [
              0.7777777777777778,
              "#fb9f3a"
             ],
             [
              0.8888888888888888,
              "#fdca26"
             ],
             [
              1,
              "#f0f921"
             ]
            ],
            "type": "histogram2d"
           }
          ],
          "histogram2dcontour": [
           {
            "colorbar": {
             "outlinewidth": 0,
             "ticks": ""
            },
            "colorscale": [
             [
              0,
              "#0d0887"
             ],
             [
              0.1111111111111111,
              "#46039f"
             ],
             [
              0.2222222222222222,
              "#7201a8"
             ],
             [
              0.3333333333333333,
              "#9c179e"
             ],
             [
              0.4444444444444444,
              "#bd3786"
             ],
             [
              0.5555555555555556,
              "#d8576b"
             ],
             [
              0.6666666666666666,
              "#ed7953"
             ],
             [
              0.7777777777777778,
              "#fb9f3a"
             ],
             [
              0.8888888888888888,
              "#fdca26"
             ],
             [
              1,
              "#f0f921"
             ]
            ],
            "type": "histogram2dcontour"
           }
          ],
          "mesh3d": [
           {
            "colorbar": {
             "outlinewidth": 0,
             "ticks": ""
            },
            "type": "mesh3d"
           }
          ],
          "parcoords": [
           {
            "line": {
             "colorbar": {
              "outlinewidth": 0,
              "ticks": ""
             }
            },
            "type": "parcoords"
           }
          ],
          "pie": [
           {
            "automargin": true,
            "type": "pie"
           }
          ],
          "scatter": [
           {
            "fillpattern": {
             "fillmode": "overlay",
             "size": 10,
             "solidity": 0.2
            },
            "type": "scatter"
           }
          ],
          "scatter3d": [
           {
            "line": {
             "colorbar": {
              "outlinewidth": 0,
              "ticks": ""
             }
            },
            "marker": {
             "colorbar": {
              "outlinewidth": 0,
              "ticks": ""
             }
            },
            "type": "scatter3d"
           }
          ],
          "scattercarpet": [
           {
            "marker": {
             "colorbar": {
              "outlinewidth": 0,
              "ticks": ""
             }
            },
            "type": "scattercarpet"
           }
          ],
          "scattergeo": [
           {
            "marker": {
             "colorbar": {
              "outlinewidth": 0,
              "ticks": ""
             }
            },
            "type": "scattergeo"
           }
          ],
          "scattergl": [
           {
            "marker": {
             "colorbar": {
              "outlinewidth": 0,
              "ticks": ""
             }
            },
            "type": "scattergl"
           }
          ],
          "scattermapbox": [
           {
            "marker": {
             "colorbar": {
              "outlinewidth": 0,
              "ticks": ""
             }
            },
            "type": "scattermapbox"
           }
          ],
          "scatterpolar": [
           {
            "marker": {
             "colorbar": {
              "outlinewidth": 0,
              "ticks": ""
             }
            },
            "type": "scatterpolar"
           }
          ],
          "scatterpolargl": [
           {
            "marker": {
             "colorbar": {
              "outlinewidth": 0,
              "ticks": ""
             }
            },
            "type": "scatterpolargl"
           }
          ],
          "scatterternary": [
           {
            "marker": {
             "colorbar": {
              "outlinewidth": 0,
              "ticks": ""
             }
            },
            "type": "scatterternary"
           }
          ],
          "surface": [
           {
            "colorbar": {
             "outlinewidth": 0,
             "ticks": ""
            },
            "colorscale": [
             [
              0,
              "#0d0887"
             ],
             [
              0.1111111111111111,
              "#46039f"
             ],
             [
              0.2222222222222222,
              "#7201a8"
             ],
             [
              0.3333333333333333,
              "#9c179e"
             ],
             [
              0.4444444444444444,
              "#bd3786"
             ],
             [
              0.5555555555555556,
              "#d8576b"
             ],
             [
              0.6666666666666666,
              "#ed7953"
             ],
             [
              0.7777777777777778,
              "#fb9f3a"
             ],
             [
              0.8888888888888888,
              "#fdca26"
             ],
             [
              1,
              "#f0f921"
             ]
            ],
            "type": "surface"
           }
          ],
          "table": [
           {
            "cells": {
             "fill": {
              "color": "#EBF0F8"
             },
             "line": {
              "color": "white"
             }
            },
            "header": {
             "fill": {
              "color": "#C8D4E3"
             },
             "line": {
              "color": "white"
             }
            },
            "type": "table"
           }
          ]
         },
         "layout": {
          "annotationdefaults": {
           "arrowcolor": "#2a3f5f",
           "arrowhead": 0,
           "arrowwidth": 1
          },
          "autotypenumbers": "strict",
          "coloraxis": {
           "colorbar": {
            "outlinewidth": 0,
            "ticks": ""
           }
          },
          "colorscale": {
           "diverging": [
            [
             0,
             "#8e0152"
            ],
            [
             0.1,
             "#c51b7d"
            ],
            [
             0.2,
             "#de77ae"
            ],
            [
             0.3,
             "#f1b6da"
            ],
            [
             0.4,
             "#fde0ef"
            ],
            [
             0.5,
             "#f7f7f7"
            ],
            [
             0.6,
             "#e6f5d0"
            ],
            [
             0.7,
             "#b8e186"
            ],
            [
             0.8,
             "#7fbc41"
            ],
            [
             0.9,
             "#4d9221"
            ],
            [
             1,
             "#276419"
            ]
           ],
           "sequential": [
            [
             0,
             "#0d0887"
            ],
            [
             0.1111111111111111,
             "#46039f"
            ],
            [
             0.2222222222222222,
             "#7201a8"
            ],
            [
             0.3333333333333333,
             "#9c179e"
            ],
            [
             0.4444444444444444,
             "#bd3786"
            ],
            [
             0.5555555555555556,
             "#d8576b"
            ],
            [
             0.6666666666666666,
             "#ed7953"
            ],
            [
             0.7777777777777778,
             "#fb9f3a"
            ],
            [
             0.8888888888888888,
             "#fdca26"
            ],
            [
             1,
             "#f0f921"
            ]
           ],
           "sequentialminus": [
            [
             0,
             "#0d0887"
            ],
            [
             0.1111111111111111,
             "#46039f"
            ],
            [
             0.2222222222222222,
             "#7201a8"
            ],
            [
             0.3333333333333333,
             "#9c179e"
            ],
            [
             0.4444444444444444,
             "#bd3786"
            ],
            [
             0.5555555555555556,
             "#d8576b"
            ],
            [
             0.6666666666666666,
             "#ed7953"
            ],
            [
             0.7777777777777778,
             "#fb9f3a"
            ],
            [
             0.8888888888888888,
             "#fdca26"
            ],
            [
             1,
             "#f0f921"
            ]
           ]
          },
          "colorway": [
           "#636efa",
           "#EF553B",
           "#00cc96",
           "#ab63fa",
           "#FFA15A",
           "#19d3f3",
           "#FF6692",
           "#B6E880",
           "#FF97FF",
           "#FECB52"
          ],
          "font": {
           "color": "#2a3f5f"
          },
          "geo": {
           "bgcolor": "white",
           "lakecolor": "white",
           "landcolor": "#E5ECF6",
           "showlakes": true,
           "showland": true,
           "subunitcolor": "white"
          },
          "hoverlabel": {
           "align": "left"
          },
          "hovermode": "closest",
          "mapbox": {
           "style": "light"
          },
          "paper_bgcolor": "white",
          "plot_bgcolor": "#E5ECF6",
          "polar": {
           "angularaxis": {
            "gridcolor": "white",
            "linecolor": "white",
            "ticks": ""
           },
           "bgcolor": "#E5ECF6",
           "radialaxis": {
            "gridcolor": "white",
            "linecolor": "white",
            "ticks": ""
           }
          },
          "scene": {
           "xaxis": {
            "backgroundcolor": "#E5ECF6",
            "gridcolor": "white",
            "gridwidth": 2,
            "linecolor": "white",
            "showbackground": true,
            "ticks": "",
            "zerolinecolor": "white"
           },
           "yaxis": {
            "backgroundcolor": "#E5ECF6",
            "gridcolor": "white",
            "gridwidth": 2,
            "linecolor": "white",
            "showbackground": true,
            "ticks": "",
            "zerolinecolor": "white"
           },
           "zaxis": {
            "backgroundcolor": "#E5ECF6",
            "gridcolor": "white",
            "gridwidth": 2,
            "linecolor": "white",
            "showbackground": true,
            "ticks": "",
            "zerolinecolor": "white"
           }
          },
          "shapedefaults": {
           "line": {
            "color": "#2a3f5f"
           }
          },
          "ternary": {
           "aaxis": {
            "gridcolor": "white",
            "linecolor": "white",
            "ticks": ""
           },
           "baxis": {
            "gridcolor": "white",
            "linecolor": "white",
            "ticks": ""
           },
           "bgcolor": "#E5ECF6",
           "caxis": {
            "gridcolor": "white",
            "linecolor": "white",
            "ticks": ""
           }
          },
          "title": {
           "x": 0.05
          },
          "xaxis": {
           "automargin": true,
           "gridcolor": "white",
           "linecolor": "white",
           "ticks": "",
           "title": {
            "standoff": 15
           },
           "zerolinecolor": "white",
           "zerolinewidth": 2
          },
          "yaxis": {
           "automargin": true,
           "gridcolor": "white",
           "linecolor": "white",
           "ticks": "",
           "title": {
            "standoff": 15
           },
           "zerolinecolor": "white",
           "zerolinewidth": 2
          }
         }
        },
        "title": {
         "text": "Missing Values"
        },
        "width": 800,
        "xaxis": {
         "anchor": "y",
         "domain": [
          0,
          1
         ],
         "title": {
          "text": "index"
         }
        },
        "yaxis": {
         "anchor": "x",
         "domain": [
          0,
          1
         ],
         "title": {
          "text": "y"
         }
        }
       }
      }
     },
     "metadata": {},
     "output_type": "display_data"
    }
   ],
   "source": [
    "# Check missing values\n",
    "df_nans =  df_users_active.isnull().sum()  \n",
    "\n",
    "fig = px.bar(df_nans,             \n",
    "             y=df_nans.values,\n",
    "             x=df_nans.index,             \n",
    "             title='Missing Values',\n",
    "             height=600,\n",
    "             width=800,)\n",
    "fig.show()"
   ]
  },
  {
   "cell_type": "code",
   "execution_count": 278,
   "id": "fb410983",
   "metadata": {},
   "outputs": [
    {
     "data": {
      "text/plain": [
       "' #EDA using pandas-profiling\\nprofile = ProfileReport(df_users, explorative=True)\\n#Saving results to a HTML file\\nprofile.to_file(\"users_eda.html\") '"
      ]
     },
     "execution_count": 278,
     "metadata": {},
     "output_type": "execute_result"
    }
   ],
   "source": [
    "\"\"\" #EDA using pandas-profiling\n",
    "profile = ProfileReport(df_users, explorative=True)\n",
    "#Saving results to a HTML file\n",
    "profile.to_file(\"users_eda.html\") \"\"\""
   ]
  },
  {
   "cell_type": "code",
   "execution_count": 12,
   "id": "b219f939",
   "metadata": {},
   "outputs": [
    {
     "name": "stdout",
     "output_type": "stream",
     "text": [
      "The number of unique positions names is 194\n"
     ]
    },
    {
     "data": {
      "application/vnd.plotly.v1+json": {
       "config": {
        "plotlyServerURL": "https://plot.ly"
       },
       "data": [
        {
         "alignmentgroup": "True",
         "hovertemplate": "active=%{x}<br>display_name_extension=%{y}<extra></extra>",
         "legendgroup": "",
         "marker": {
          "color": "#636efa",
          "pattern": {
           "shape": ""
          }
         },
         "name": "",
         "offsetgroup": "",
         "orientation": "h",
         "showlegend": false,
         "textposition": "auto",
         "type": "bar",
         "x": [
          128,
          123,
          90,
          90,
          70,
          61,
          60,
          51,
          49,
          49
         ],
         "xaxis": "x",
         "y": [
          "Crew Member, SEPA",
          "Crew Member, MD",
          "Crew Member, WPA",
          "Crew Member, NOVA",
          "Crew Leader, WPA",
          "Advanced Crew Leader, SEPA",
          "Crew Member, CPA",
          "Advanced Crew Leader, MD",
          "Advanced Crew Leader, CPA",
          "Advanced Crew Leader, WPA"
         ],
         "yaxis": "y"
        }
       ],
       "layout": {
        "barmode": "stack",
        "height": 400,
        "legend": {
         "tracegroupgap": 0
        },
        "template": {
         "data": {
          "bar": [
           {
            "error_x": {
             "color": "#2a3f5f"
            },
            "error_y": {
             "color": "#2a3f5f"
            },
            "marker": {
             "line": {
              "color": "#E5ECF6",
              "width": 0.5
             },
             "pattern": {
              "fillmode": "overlay",
              "size": 10,
              "solidity": 0.2
             }
            },
            "type": "bar"
           }
          ],
          "barpolar": [
           {
            "marker": {
             "line": {
              "color": "#E5ECF6",
              "width": 0.5
             },
             "pattern": {
              "fillmode": "overlay",
              "size": 10,
              "solidity": 0.2
             }
            },
            "type": "barpolar"
           }
          ],
          "carpet": [
           {
            "aaxis": {
             "endlinecolor": "#2a3f5f",
             "gridcolor": "white",
             "linecolor": "white",
             "minorgridcolor": "white",
             "startlinecolor": "#2a3f5f"
            },
            "baxis": {
             "endlinecolor": "#2a3f5f",
             "gridcolor": "white",
             "linecolor": "white",
             "minorgridcolor": "white",
             "startlinecolor": "#2a3f5f"
            },
            "type": "carpet"
           }
          ],
          "choropleth": [
           {
            "colorbar": {
             "outlinewidth": 0,
             "ticks": ""
            },
            "type": "choropleth"
           }
          ],
          "contour": [
           {
            "colorbar": {
             "outlinewidth": 0,
             "ticks": ""
            },
            "colorscale": [
             [
              0,
              "#0d0887"
             ],
             [
              0.1111111111111111,
              "#46039f"
             ],
             [
              0.2222222222222222,
              "#7201a8"
             ],
             [
              0.3333333333333333,
              "#9c179e"
             ],
             [
              0.4444444444444444,
              "#bd3786"
             ],
             [
              0.5555555555555556,
              "#d8576b"
             ],
             [
              0.6666666666666666,
              "#ed7953"
             ],
             [
              0.7777777777777778,
              "#fb9f3a"
             ],
             [
              0.8888888888888888,
              "#fdca26"
             ],
             [
              1,
              "#f0f921"
             ]
            ],
            "type": "contour"
           }
          ],
          "contourcarpet": [
           {
            "colorbar": {
             "outlinewidth": 0,
             "ticks": ""
            },
            "type": "contourcarpet"
           }
          ],
          "heatmap": [
           {
            "colorbar": {
             "outlinewidth": 0,
             "ticks": ""
            },
            "colorscale": [
             [
              0,
              "#0d0887"
             ],
             [
              0.1111111111111111,
              "#46039f"
             ],
             [
              0.2222222222222222,
              "#7201a8"
             ],
             [
              0.3333333333333333,
              "#9c179e"
             ],
             [
              0.4444444444444444,
              "#bd3786"
             ],
             [
              0.5555555555555556,
              "#d8576b"
             ],
             [
              0.6666666666666666,
              "#ed7953"
             ],
             [
              0.7777777777777778,
              "#fb9f3a"
             ],
             [
              0.8888888888888888,
              "#fdca26"
             ],
             [
              1,
              "#f0f921"
             ]
            ],
            "type": "heatmap"
           }
          ],
          "heatmapgl": [
           {
            "colorbar": {
             "outlinewidth": 0,
             "ticks": ""
            },
            "colorscale": [
             [
              0,
              "#0d0887"
             ],
             [
              0.1111111111111111,
              "#46039f"
             ],
             [
              0.2222222222222222,
              "#7201a8"
             ],
             [
              0.3333333333333333,
              "#9c179e"
             ],
             [
              0.4444444444444444,
              "#bd3786"
             ],
             [
              0.5555555555555556,
              "#d8576b"
             ],
             [
              0.6666666666666666,
              "#ed7953"
             ],
             [
              0.7777777777777778,
              "#fb9f3a"
             ],
             [
              0.8888888888888888,
              "#fdca26"
             ],
             [
              1,
              "#f0f921"
             ]
            ],
            "type": "heatmapgl"
           }
          ],
          "histogram": [
           {
            "marker": {
             "pattern": {
              "fillmode": "overlay",
              "size": 10,
              "solidity": 0.2
             }
            },
            "type": "histogram"
           }
          ],
          "histogram2d": [
           {
            "colorbar": {
             "outlinewidth": 0,
             "ticks": ""
            },
            "colorscale": [
             [
              0,
              "#0d0887"
             ],
             [
              0.1111111111111111,
              "#46039f"
             ],
             [
              0.2222222222222222,
              "#7201a8"
             ],
             [
              0.3333333333333333,
              "#9c179e"
             ],
             [
              0.4444444444444444,
              "#bd3786"
             ],
             [
              0.5555555555555556,
              "#d8576b"
             ],
             [
              0.6666666666666666,
              "#ed7953"
             ],
             [
              0.7777777777777778,
              "#fb9f3a"
             ],
             [
              0.8888888888888888,
              "#fdca26"
             ],
             [
              1,
              "#f0f921"
             ]
            ],
            "type": "histogram2d"
           }
          ],
          "histogram2dcontour": [
           {
            "colorbar": {
             "outlinewidth": 0,
             "ticks": ""
            },
            "colorscale": [
             [
              0,
              "#0d0887"
             ],
             [
              0.1111111111111111,
              "#46039f"
             ],
             [
              0.2222222222222222,
              "#7201a8"
             ],
             [
              0.3333333333333333,
              "#9c179e"
             ],
             [
              0.4444444444444444,
              "#bd3786"
             ],
             [
              0.5555555555555556,
              "#d8576b"
             ],
             [
              0.6666666666666666,
              "#ed7953"
             ],
             [
              0.7777777777777778,
              "#fb9f3a"
             ],
             [
              0.8888888888888888,
              "#fdca26"
             ],
             [
              1,
              "#f0f921"
             ]
            ],
            "type": "histogram2dcontour"
           }
          ],
          "mesh3d": [
           {
            "colorbar": {
             "outlinewidth": 0,
             "ticks": ""
            },
            "type": "mesh3d"
           }
          ],
          "parcoords": [
           {
            "line": {
             "colorbar": {
              "outlinewidth": 0,
              "ticks": ""
             }
            },
            "type": "parcoords"
           }
          ],
          "pie": [
           {
            "automargin": true,
            "type": "pie"
           }
          ],
          "scatter": [
           {
            "fillpattern": {
             "fillmode": "overlay",
             "size": 10,
             "solidity": 0.2
            },
            "type": "scatter"
           }
          ],
          "scatter3d": [
           {
            "line": {
             "colorbar": {
              "outlinewidth": 0,
              "ticks": ""
             }
            },
            "marker": {
             "colorbar": {
              "outlinewidth": 0,
              "ticks": ""
             }
            },
            "type": "scatter3d"
           }
          ],
          "scattercarpet": [
           {
            "marker": {
             "colorbar": {
              "outlinewidth": 0,
              "ticks": ""
             }
            },
            "type": "scattercarpet"
           }
          ],
          "scattergeo": [
           {
            "marker": {
             "colorbar": {
              "outlinewidth": 0,
              "ticks": ""
             }
            },
            "type": "scattergeo"
           }
          ],
          "scattergl": [
           {
            "marker": {
             "colorbar": {
              "outlinewidth": 0,
              "ticks": ""
             }
            },
            "type": "scattergl"
           }
          ],
          "scattermapbox": [
           {
            "marker": {
             "colorbar": {
              "outlinewidth": 0,
              "ticks": ""
             }
            },
            "type": "scattermapbox"
           }
          ],
          "scatterpolar": [
           {
            "marker": {
             "colorbar": {
              "outlinewidth": 0,
              "ticks": ""
             }
            },
            "type": "scatterpolar"
           }
          ],
          "scatterpolargl": [
           {
            "marker": {
             "colorbar": {
              "outlinewidth": 0,
              "ticks": ""
             }
            },
            "type": "scatterpolargl"
           }
          ],
          "scatterternary": [
           {
            "marker": {
             "colorbar": {
              "outlinewidth": 0,
              "ticks": ""
             }
            },
            "type": "scatterternary"
           }
          ],
          "surface": [
           {
            "colorbar": {
             "outlinewidth": 0,
             "ticks": ""
            },
            "colorscale": [
             [
              0,
              "#0d0887"
             ],
             [
              0.1111111111111111,
              "#46039f"
             ],
             [
              0.2222222222222222,
              "#7201a8"
             ],
             [
              0.3333333333333333,
              "#9c179e"
             ],
             [
              0.4444444444444444,
              "#bd3786"
             ],
             [
              0.5555555555555556,
              "#d8576b"
             ],
             [
              0.6666666666666666,
              "#ed7953"
             ],
             [
              0.7777777777777778,
              "#fb9f3a"
             ],
             [
              0.8888888888888888,
              "#fdca26"
             ],
             [
              1,
              "#f0f921"
             ]
            ],
            "type": "surface"
           }
          ],
          "table": [
           {
            "cells": {
             "fill": {
              "color": "#EBF0F8"
             },
             "line": {
              "color": "white"
             }
            },
            "header": {
             "fill": {
              "color": "#C8D4E3"
             },
             "line": {
              "color": "white"
             }
            },
            "type": "table"
           }
          ]
         },
         "layout": {
          "annotationdefaults": {
           "arrowcolor": "#2a3f5f",
           "arrowhead": 0,
           "arrowwidth": 1
          },
          "autotypenumbers": "strict",
          "coloraxis": {
           "colorbar": {
            "outlinewidth": 0,
            "ticks": ""
           }
          },
          "colorscale": {
           "diverging": [
            [
             0,
             "#8e0152"
            ],
            [
             0.1,
             "#c51b7d"
            ],
            [
             0.2,
             "#de77ae"
            ],
            [
             0.3,
             "#f1b6da"
            ],
            [
             0.4,
             "#fde0ef"
            ],
            [
             0.5,
             "#f7f7f7"
            ],
            [
             0.6,
             "#e6f5d0"
            ],
            [
             0.7,
             "#b8e186"
            ],
            [
             0.8,
             "#7fbc41"
            ],
            [
             0.9,
             "#4d9221"
            ],
            [
             1,
             "#276419"
            ]
           ],
           "sequential": [
            [
             0,
             "#0d0887"
            ],
            [
             0.1111111111111111,
             "#46039f"
            ],
            [
             0.2222222222222222,
             "#7201a8"
            ],
            [
             0.3333333333333333,
             "#9c179e"
            ],
            [
             0.4444444444444444,
             "#bd3786"
            ],
            [
             0.5555555555555556,
             "#d8576b"
            ],
            [
             0.6666666666666666,
             "#ed7953"
            ],
            [
             0.7777777777777778,
             "#fb9f3a"
            ],
            [
             0.8888888888888888,
             "#fdca26"
            ],
            [
             1,
             "#f0f921"
            ]
           ],
           "sequentialminus": [
            [
             0,
             "#0d0887"
            ],
            [
             0.1111111111111111,
             "#46039f"
            ],
            [
             0.2222222222222222,
             "#7201a8"
            ],
            [
             0.3333333333333333,
             "#9c179e"
            ],
            [
             0.4444444444444444,
             "#bd3786"
            ],
            [
             0.5555555555555556,
             "#d8576b"
            ],
            [
             0.6666666666666666,
             "#ed7953"
            ],
            [
             0.7777777777777778,
             "#fb9f3a"
            ],
            [
             0.8888888888888888,
             "#fdca26"
            ],
            [
             1,
             "#f0f921"
            ]
           ]
          },
          "colorway": [
           "#636efa",
           "#EF553B",
           "#00cc96",
           "#ab63fa",
           "#FFA15A",
           "#19d3f3",
           "#FF6692",
           "#B6E880",
           "#FF97FF",
           "#FECB52"
          ],
          "font": {
           "color": "#2a3f5f"
          },
          "geo": {
           "bgcolor": "white",
           "lakecolor": "white",
           "landcolor": "#E5ECF6",
           "showlakes": true,
           "showland": true,
           "subunitcolor": "white"
          },
          "hoverlabel": {
           "align": "left"
          },
          "hovermode": "closest",
          "mapbox": {
           "style": "light"
          },
          "paper_bgcolor": "white",
          "plot_bgcolor": "#E5ECF6",
          "polar": {
           "angularaxis": {
            "gridcolor": "white",
            "linecolor": "white",
            "ticks": ""
           },
           "bgcolor": "#E5ECF6",
           "radialaxis": {
            "gridcolor": "white",
            "linecolor": "white",
            "ticks": ""
           }
          },
          "scene": {
           "xaxis": {
            "backgroundcolor": "#E5ECF6",
            "gridcolor": "white",
            "gridwidth": 2,
            "linecolor": "white",
            "showbackground": true,
            "ticks": "",
            "zerolinecolor": "white"
           },
           "yaxis": {
            "backgroundcolor": "#E5ECF6",
            "gridcolor": "white",
            "gridwidth": 2,
            "linecolor": "white",
            "showbackground": true,
            "ticks": "",
            "zerolinecolor": "white"
           },
           "zaxis": {
            "backgroundcolor": "#E5ECF6",
            "gridcolor": "white",
            "gridwidth": 2,
            "linecolor": "white",
            "showbackground": true,
            "ticks": "",
            "zerolinecolor": "white"
           }
          },
          "shapedefaults": {
           "line": {
            "color": "#2a3f5f"
           }
          },
          "ternary": {
           "aaxis": {
            "gridcolor": "white",
            "linecolor": "white",
            "ticks": ""
           },
           "baxis": {
            "gridcolor": "white",
            "linecolor": "white",
            "ticks": ""
           },
           "bgcolor": "#E5ECF6",
           "caxis": {
            "gridcolor": "white",
            "linecolor": "white",
            "ticks": ""
           }
          },
          "title": {
           "x": 0.05
          },
          "xaxis": {
           "automargin": true,
           "gridcolor": "white",
           "linecolor": "white",
           "ticks": "",
           "title": {
            "standoff": 15
           },
           "zerolinecolor": "white",
           "zerolinewidth": 2
          },
          "yaxis": {
           "automargin": true,
           "gridcolor": "white",
           "linecolor": "white",
           "ticks": "",
           "title": {
            "standoff": 15
           },
           "zerolinecolor": "white",
           "zerolinewidth": 2
          }
         }
        },
        "title": {
         "text": "Top10 Active Users by Position"
        },
        "xaxis": {
         "anchor": "y",
         "domain": [
          0,
          1
         ],
         "title": {
          "text": "active"
         }
        },
        "yaxis": {
         "anchor": "x",
         "domain": [
          0,
          1
         ],
         "title": {
          "text": "display_name_extension"
         }
        }
       }
      }
     },
     "metadata": {},
     "output_type": "display_data"
    }
   ],
   "source": [
    "# Active Users by Position\n",
    "# Group by display_name_extension\n",
    "print(f\"The number of unique positions names is {df_users_active['display_name_extension'].nunique()}\")\n",
    "position_size = df_users_active.groupby('display_name_extension')['state'].value_counts().unstack().fillna(0).sort_values('active', ascending=False).head(10)\n",
    "#print(position_size.sample(10))\n",
    "\n",
    "# Plotting\n",
    "fig = px.bar(position_size,              \n",
    "             x='active',            \n",
    "             title='Top10 Active Users by Position',\n",
    "             height=400\n",
    "             )\n",
    "\n",
    "# Update layout\n",
    "fig.update_layout(barmode='stack')\n",
    "\n",
    "fig.show()"
   ]
  },
  {
   "cell_type": "code",
   "execution_count": 13,
   "id": "8c1db995",
   "metadata": {},
   "outputs": [
    {
     "name": "stdout",
     "output_type": "stream",
     "text": [
      "Proportion of Active Users by Department:\n",
      "department\n",
      "Operations              95.19\n",
      "Finance                  1.15\n",
      "HR                       0.68\n",
      "Human Resources          0.47\n",
      "Field Operations         0.47\n",
      "Technology               0.41\n",
      "Business Development     0.34\n",
      "Training                 0.20\n",
      "Risk                     0.20\n",
      "Marketing                0.20\n",
      "Fleet                    0.14\n",
      "Customer Experience      0.14\n",
      "Safety                   0.14\n",
      "Analytics                0.07\n",
      "RISK                     0.07\n",
      "Asset Management         0.07\n",
      "Sales & Marketing        0.07\n",
      "Name: proportion, dtype: float64\n"
     ]
    }
   ],
   "source": [
    "# Active users proportions by department\n",
    "operations_percent = df_users_active['department'].value_counts(normalize=True).mul(100).round(2).sort_values(ascending=False)\n",
    "print(\"Proportion of Active Users by Department:\")\n",
    "print(operations_percent)"
   ]
  },
  {
   "cell_type": "markdown",
   "id": "0f5012b4",
   "metadata": {},
   "source": [
    "## 3. EDA for 'streams' data set"
   ]
  },
  {
   "cell_type": "code",
   "execution_count": 23,
   "id": "c6652afc",
   "metadata": {},
   "outputs": [
    {
     "name": "stdout",
     "output_type": "stream",
     "text": [
      "<class 'pandas.core.frame.DataFrame'>\n",
      "RangeIndex: 13 entries, 0 to 12\n",
      "Data columns (total 7 columns):\n",
      " #   Column       Non-Null Count  Dtype \n",
      "---  ------       --------------  ----- \n",
      " 0   created_at   13 non-null     object\n",
      " 1   stream_name  13 non-null     object\n",
      " 2   stream_path  13 non-null     object\n",
      " 3   stream_id    13 non-null     int64 \n",
      " 4   org_unit_id  4 non-null      object\n",
      " 5   hidden       13 non-null     bool  \n",
      " 6   description  13 non-null     object\n",
      "dtypes: bool(1), int64(1), object(5)\n",
      "memory usage: 769.0+ bytes\n",
      "None\n"
     ]
    },
    {
     "data": {
      "text/html": [
       "<div>\n",
       "<style scoped>\n",
       "    .dataframe tbody tr th:only-of-type {\n",
       "        vertical-align: middle;\n",
       "    }\n",
       "\n",
       "    .dataframe tbody tr th {\n",
       "        vertical-align: top;\n",
       "    }\n",
       "\n",
       "    .dataframe thead th {\n",
       "        text-align: right;\n",
       "    }\n",
       "</style>\n",
       "<table border=\"1\" class=\"dataframe\">\n",
       "  <thead>\n",
       "    <tr style=\"text-align: right;\">\n",
       "      <th></th>\n",
       "      <th>created_at</th>\n",
       "      <th>stream_name</th>\n",
       "      <th>stream_path</th>\n",
       "      <th>stream_id</th>\n",
       "      <th>org_unit_id</th>\n",
       "      <th>hidden</th>\n",
       "      <th>description</th>\n",
       "    </tr>\n",
       "  </thead>\n",
       "  <tbody>\n",
       "    <tr>\n",
       "      <th>0</th>\n",
       "      <td>2018-04-13T13:32:05</td>\n",
       "      <td>Water Break</td>\n",
       "      <td>waterbreak</td>\n",
       "      <td>6787</td>\n",
       "      <td>NaN</td>\n",
       "      <td>False</td>\n",
       "      <td>Share your thoughts and experiences to help us...</td>\n",
       "    </tr>\n",
       "    <tr>\n",
       "      <th>1</th>\n",
       "      <td>2018-06-11T19:09:41</td>\n",
       "      <td>Training</td>\n",
       "      <td>training</td>\n",
       "      <td>7981</td>\n",
       "      <td>NaN</td>\n",
       "      <td>True</td>\n",
       "      <td>The Official Stream for Training Info</td>\n",
       "    </tr>\n",
       "    <tr>\n",
       "      <th>2</th>\n",
       "      <td>2020-01-15T13:09:24</td>\n",
       "      <td>The Whiteboard</td>\n",
       "      <td>thewhiteboard</td>\n",
       "      <td>22706</td>\n",
       "      <td>89949fce-efd6-4d59-a214-e7164f2c9c9e</td>\n",
       "      <td>False</td>\n",
       "      <td>Connect with coworkers from the corporate camp...</td>\n",
       "    </tr>\n",
       "    <tr>\n",
       "      <th>3</th>\n",
       "      <td>2018-04-27T14:50:23</td>\n",
       "      <td>Test Stream</td>\n",
       "      <td>teststream</td>\n",
       "      <td>6943</td>\n",
       "      <td>NaN</td>\n",
       "      <td>False</td>\n",
       "      <td>For Testing Posts Before Going Live</td>\n",
       "    </tr>\n",
       "    <tr>\n",
       "      <th>4</th>\n",
       "      <td>2018-01-18T20:52:37</td>\n",
       "      <td>Safety &amp; Operations</td>\n",
       "      <td>safetyoperations</td>\n",
       "      <td>5745</td>\n",
       "      <td>NaN</td>\n",
       "      <td>False</td>\n",
       "      <td>Join weekly conversations led by our Safety an...</td>\n",
       "    </tr>\n",
       "  </tbody>\n",
       "</table>\n",
       "</div>"
      ],
      "text/plain": [
       "            created_at          stream_name       stream_path  stream_id  \\\n",
       "0  2018-04-13T13:32:05          Water Break        waterbreak       6787   \n",
       "1  2018-06-11T19:09:41             Training          training       7981   \n",
       "2  2020-01-15T13:09:24       The Whiteboard     thewhiteboard      22706   \n",
       "3  2018-04-27T14:50:23         Test Stream         teststream       6943   \n",
       "4  2018-01-18T20:52:37  Safety & Operations  safetyoperations       5745   \n",
       "\n",
       "                            org_unit_id  hidden  \\\n",
       "0                                   NaN   False   \n",
       "1                                   NaN    True   \n",
       "2  89949fce-efd6-4d59-a214-e7164f2c9c9e   False   \n",
       "3                                   NaN   False   \n",
       "4                                   NaN   False   \n",
       "\n",
       "                                         description  \n",
       "0  Share your thoughts and experiences to help us...  \n",
       "1              The Official Stream for Training Info  \n",
       "2  Connect with coworkers from the corporate camp...  \n",
       "3                For Testing Posts Before Going Live  \n",
       "4  Join weekly conversations led by our Safety an...  "
      ]
     },
     "execution_count": 23,
     "metadata": {},
     "output_type": "execute_result"
    }
   ],
   "source": [
    "# Streams data\n",
    "path = \"C:\\\\Users\\\\eduar\\\\Documents\\\\Master_Thesis\\\\GenAI_Thesis_Beekeeper\\\\data\\\\BKPR_Datasets_Samples\"\n",
    "file_name = \"streams.xlsx\"\n",
    "file_path = os.path.join(path, file_name)\n",
    "data = pd.read_excel(file_path)\n",
    "print(data.info())\n",
    "data.head()"
   ]
  },
  {
   "cell_type": "code",
   "execution_count": 22,
   "id": "1932b2cf",
   "metadata": {},
   "outputs": [
    {
     "data": {
      "text/html": [
       "<div>\n",
       "<style scoped>\n",
       "    .dataframe tbody tr th:only-of-type {\n",
       "        vertical-align: middle;\n",
       "    }\n",
       "\n",
       "    .dataframe tbody tr th {\n",
       "        vertical-align: top;\n",
       "    }\n",
       "\n",
       "    .dataframe thead th {\n",
       "        text-align: right;\n",
       "    }\n",
       "</style>\n",
       "<table border=\"1\" class=\"dataframe\">\n",
       "  <thead>\n",
       "    <tr style=\"text-align: right;\">\n",
       "      <th></th>\n",
       "      <th>created_at</th>\n",
       "      <th>stream_name</th>\n",
       "      <th>stream_path</th>\n",
       "      <th>stream_id</th>\n",
       "      <th>hidden</th>\n",
       "      <th>description</th>\n",
       "    </tr>\n",
       "  </thead>\n",
       "  <tbody>\n",
       "    <tr>\n",
       "      <th>0</th>\n",
       "      <td>2018-04-13 13:32:05</td>\n",
       "      <td>Water Break</td>\n",
       "      <td>waterbreak</td>\n",
       "      <td>6787</td>\n",
       "      <td>False</td>\n",
       "      <td>Share your thoughts and experiences to help us...</td>\n",
       "    </tr>\n",
       "    <tr>\n",
       "      <th>1</th>\n",
       "      <td>2020-01-15 13:09:24</td>\n",
       "      <td>The Whiteboard</td>\n",
       "      <td>thewhiteboard</td>\n",
       "      <td>22706</td>\n",
       "      <td>False</td>\n",
       "      <td>Connect with coworkers from the corporate camp...</td>\n",
       "    </tr>\n",
       "    <tr>\n",
       "      <th>2</th>\n",
       "      <td>2018-04-27 14:50:23</td>\n",
       "      <td>Test Stream</td>\n",
       "      <td>teststream</td>\n",
       "      <td>6943</td>\n",
       "      <td>False</td>\n",
       "      <td>For Testing Posts Before Going Live</td>\n",
       "    </tr>\n",
       "    <tr>\n",
       "      <th>3</th>\n",
       "      <td>2018-01-18 20:52:37</td>\n",
       "      <td>Safety &amp; Operations</td>\n",
       "      <td>safetyoperations</td>\n",
       "      <td>5745</td>\n",
       "      <td>False</td>\n",
       "      <td>Join weekly conversations led by our Safety an...</td>\n",
       "    </tr>\n",
       "    <tr>\n",
       "      <th>4</th>\n",
       "      <td>2020-01-15 13:31:43</td>\n",
       "      <td>OSC, We Can Help</td>\n",
       "      <td>oscwecanhelp</td>\n",
       "      <td>22708</td>\n",
       "      <td>False</td>\n",
       "      <td>Post your questions about payroll, HR, technol...</td>\n",
       "    </tr>\n",
       "    <tr>\n",
       "      <th>5</th>\n",
       "      <td>2018-08-01 12:57:09</td>\n",
       "      <td>Jobs</td>\n",
       "      <td>jobs</td>\n",
       "      <td>9254</td>\n",
       "      <td>False</td>\n",
       "      <td>Utilize this stream to view open jobs. Comment...</td>\n",
       "    </tr>\n",
       "    <tr>\n",
       "      <th>6</th>\n",
       "      <td>2017-12-20 04:30:23</td>\n",
       "      <td>Flagger Force Connect</td>\n",
       "      <td>general</td>\n",
       "      <td>5476</td>\n",
       "      <td>False</td>\n",
       "      <td>The company \"bulletin board\" and important upd...</td>\n",
       "    </tr>\n",
       "  </tbody>\n",
       "</table>\n",
       "</div>"
      ],
      "text/plain": [
       "           created_at            stream_name       stream_path  stream_id  \\\n",
       "0 2018-04-13 13:32:05            Water Break        waterbreak       6787   \n",
       "1 2020-01-15 13:09:24         The Whiteboard     thewhiteboard      22706   \n",
       "2 2018-04-27 14:50:23           Test Stream         teststream       6943   \n",
       "3 2018-01-18 20:52:37    Safety & Operations  safetyoperations       5745   \n",
       "4 2020-01-15 13:31:43       OSC, We Can Help      oscwecanhelp      22708   \n",
       "5 2018-08-01 12:57:09                   Jobs              jobs       9254   \n",
       "6 2017-12-20 04:30:23  Flagger Force Connect           general       5476   \n",
       "\n",
       "   hidden                                        description  \n",
       "0   False  Share your thoughts and experiences to help us...  \n",
       "1   False  Connect with coworkers from the corporate camp...  \n",
       "2   False                For Testing Posts Before Going Live  \n",
       "3   False  Join weekly conversations led by our Safety an...  \n",
       "4   False  Post your questions about payroll, HR, technol...  \n",
       "5   False  Utilize this stream to view open jobs. Comment...  \n",
       "6   False  The company \"bulletin board\" and important upd...  "
      ]
     },
     "execution_count": 22,
     "metadata": {},
     "output_type": "execute_result"
    }
   ],
   "source": [
    "# Active Streams\n",
    "df_streams_raw = data.copy()\n",
    "\n",
    "# Define a function to preprocess streams data\n",
    "\n",
    "def preprocess_streams(data):\n",
    "    \n",
    "    # Keep active streams\n",
    "    data = data[data['hidden'] == False]\n",
    "    data.drop('org_unit_id', axis=1, inplace=True)\n",
    "    \n",
    "    # Date to datetime\n",
    "    data['created_at'] = pd.to_datetime(data['created_at'])\n",
    "    \n",
    "    # reset index\n",
    "    data.reset_index(drop=True, inplace=True)    \n",
    "    return data\n",
    "\n",
    "df_streams = preprocess_streams(df_streams_raw)\n",
    "df_streams"
   ]
  },
  {
   "cell_type": "markdown",
   "id": "64bff4d2",
   "metadata": {},
   "source": [
    "## 4. EDA for 'posts' data set"
   ]
  },
  {
   "cell_type": "code",
   "execution_count": 24,
   "id": "c4309900",
   "metadata": {},
   "outputs": [
    {
     "name": "stdout",
     "output_type": "stream",
     "text": [
      "<class 'pandas.core.frame.DataFrame'>\n",
      "RangeIndex: 3030 entries, 0 to 3029\n",
      "Data columns (total 11 columns):\n",
      " #   Column                 Non-Null Count  Dtype \n",
      "---  ------                 --------------  ----- \n",
      " 0   Post ID                3030 non-null   int64 \n",
      " 1   Post Created At        3030 non-null   object\n",
      " 2   Post Title             2568 non-null   object\n",
      " 3   Post Text              2933 non-null   object\n",
      " 4   Post Like Count        3030 non-null   int64 \n",
      " 5   Post Comment Count     3030 non-null   int64 \n",
      " 6   Post Labels            475 non-null    object\n",
      " 7   Post Attachment Count  3030 non-null   int64 \n",
      " 8   Stream Name            3030 non-null   object\n",
      " 9   Author User Id         3030 non-null   object\n",
      " 10  Author Position        2546 non-null   object\n",
      "dtypes: int64(4), object(7)\n",
      "memory usage: 260.5+ KB\n",
      "None\n"
     ]
    },
    {
     "data": {
      "text/html": [
       "<div>\n",
       "<style scoped>\n",
       "    .dataframe tbody tr th:only-of-type {\n",
       "        vertical-align: middle;\n",
       "    }\n",
       "\n",
       "    .dataframe tbody tr th {\n",
       "        vertical-align: top;\n",
       "    }\n",
       "\n",
       "    .dataframe thead th {\n",
       "        text-align: right;\n",
       "    }\n",
       "</style>\n",
       "<table border=\"1\" class=\"dataframe\">\n",
       "  <thead>\n",
       "    <tr style=\"text-align: right;\">\n",
       "      <th></th>\n",
       "      <th>Post ID</th>\n",
       "      <th>Post Created At</th>\n",
       "      <th>Post Title</th>\n",
       "      <th>Post Text</th>\n",
       "      <th>Post Like Count</th>\n",
       "      <th>Post Comment Count</th>\n",
       "      <th>Post Labels</th>\n",
       "      <th>Post Attachment Count</th>\n",
       "      <th>Stream Name</th>\n",
       "      <th>Author User Id</th>\n",
       "      <th>Author Position</th>\n",
       "    </tr>\n",
       "  </thead>\n",
       "  <tbody>\n",
       "    <tr>\n",
       "      <th>0</th>\n",
       "      <td>5109965</td>\n",
       "      <td>2022-03-05T22:12:48</td>\n",
       "      <td>NaN</td>\n",
       "      <td>Available tonight</td>\n",
       "      <td>1</td>\n",
       "      <td>0</td>\n",
       "      <td>NaN</td>\n",
       "      <td>0</td>\n",
       "      <td>Jobs</td>\n",
       "      <td>16184226-02f1-4e93-b983-d91fbb4899fa</td>\n",
       "      <td>Crew Leader</td>\n",
       "    </tr>\n",
       "    <tr>\n",
       "      <th>1</th>\n",
       "      <td>5109913</td>\n",
       "      <td>2022-03-05T21:42:10</td>\n",
       "      <td>NaN</td>\n",
       "      <td>I‚Äôm available for Sunday morning work in MD‚Ä¶</td>\n",
       "      <td>0</td>\n",
       "      <td>1</td>\n",
       "      <td>NaN</td>\n",
       "      <td>0</td>\n",
       "      <td>Jobs</td>\n",
       "      <td>019f9d5d-3a51-4d58-9984-280ef1994e42</td>\n",
       "      <td>Crew Member</td>\n",
       "    </tr>\n",
       "    <tr>\n",
       "      <th>2</th>\n",
       "      <td>5109901</td>\n",
       "      <td>2022-03-05T21:38:28</td>\n",
       "      <td>Crew Member</td>\n",
       "      <td>I‚Äôm available for anything today still and I...</td>\n",
       "      <td>0</td>\n",
       "      <td>0</td>\n",
       "      <td>NaN</td>\n",
       "      <td>0</td>\n",
       "      <td>Jobs</td>\n",
       "      <td>72045c92-677b-4227-9e71-ba485e9211f9</td>\n",
       "      <td>Crew Member</td>\n",
       "    </tr>\n",
       "    <tr>\n",
       "      <th>3</th>\n",
       "      <td>5109897</td>\n",
       "      <td>2022-03-05T21:36:55</td>\n",
       "      <td>Available</td>\n",
       "      <td>Available üë∑üèæ‚ö†Ô∏èüöß</td>\n",
       "      <td>1</td>\n",
       "      <td>0</td>\n",
       "      <td>NaN</td>\n",
       "      <td>0</td>\n",
       "      <td>Jobs</td>\n",
       "      <td>bfd175ca-7fd5-46ec-b087-b4178001c3d0</td>\n",
       "      <td>Crew Member</td>\n",
       "    </tr>\n",
       "    <tr>\n",
       "      <th>4</th>\n",
       "      <td>5109835</td>\n",
       "      <td>2022-03-05T21:01:49</td>\n",
       "      <td>Don't understand</td>\n",
       "      <td>I been with this company for a couple years no...</td>\n",
       "      <td>1</td>\n",
       "      <td>3</td>\n",
       "      <td>NaN</td>\n",
       "      <td>0</td>\n",
       "      <td>Water Break</td>\n",
       "      <td>01776515-70ab-446b-9473-74cb79fc6d11</td>\n",
       "      <td>Crew Leader</td>\n",
       "    </tr>\n",
       "  </tbody>\n",
       "</table>\n",
       "</div>"
      ],
      "text/plain": [
       "   Post ID      Post Created At        Post Title  \\\n",
       "0  5109965  2022-03-05T22:12:48               NaN   \n",
       "1  5109913  2022-03-05T21:42:10               NaN   \n",
       "2  5109901  2022-03-05T21:38:28       Crew Member   \n",
       "3  5109897  2022-03-05T21:36:55         Available   \n",
       "4  5109835  2022-03-05T21:01:49  Don't understand   \n",
       "\n",
       "                                           Post Text  Post Like Count  \\\n",
       "0                                  Available tonight                1   \n",
       "1   I‚Äôm available for Sunday morning work in MD‚Ä¶                0   \n",
       "2  I‚Äôm available for anything today still and I...                0   \n",
       "3                       Available üë∑üèæ‚ö†Ô∏èüöß                1   \n",
       "4  I been with this company for a couple years no...                1   \n",
       "\n",
       "   Post Comment Count Post Labels  Post Attachment Count  Stream Name  \\\n",
       "0                   0         NaN                      0         Jobs   \n",
       "1                   1         NaN                      0         Jobs   \n",
       "2                   0         NaN                      0         Jobs   \n",
       "3                   0         NaN                      0         Jobs   \n",
       "4                   3         NaN                      0  Water Break   \n",
       "\n",
       "                         Author User Id Author Position  \n",
       "0  16184226-02f1-4e93-b983-d91fbb4899fa     Crew Leader  \n",
       "1  019f9d5d-3a51-4d58-9984-280ef1994e42     Crew Member  \n",
       "2  72045c92-677b-4227-9e71-ba485e9211f9     Crew Member  \n",
       "3  bfd175ca-7fd5-46ec-b087-b4178001c3d0     Crew Member  \n",
       "4  01776515-70ab-446b-9473-74cb79fc6d11     Crew Leader  "
      ]
     },
     "execution_count": 24,
     "metadata": {},
     "output_type": "execute_result"
    }
   ],
   "source": [
    "# Streams data\n",
    "path = \"C:\\\\Users\\\\eduar\\\\Documents\\\\Master_Thesis\\\\GenAI_Thesis_Beekeeper\\\\data\\\\BKPR_Datasets_Samples\"\n",
    "file_name = \"post_report.xlsx\"\n",
    "file_path = os.path.join(path, file_name)\n",
    "data = pd.read_excel(file_path)\n",
    "print(data.info())\n",
    "data.head()"
   ]
  },
  {
   "cell_type": "code",
   "execution_count": 29,
   "id": "1e7cb8dd",
   "metadata": {},
   "outputs": [
    {
     "name": "stdout",
     "output_type": "stream",
     "text": [
      "The date range of posts is:\n",
      "Min date: 2022-01-04 01:21:35\n",
      "Max date: 2022-03-05 21:38:28\n",
      "Date range: 60 days 20:16:53\n",
      "(2504, 13)\n"
     ]
    },
    {
     "data": {
      "text/html": [
       "<div>\n",
       "<style scoped>\n",
       "    .dataframe tbody tr th:only-of-type {\n",
       "        vertical-align: middle;\n",
       "    }\n",
       "\n",
       "    .dataframe tbody tr th {\n",
       "        vertical-align: top;\n",
       "    }\n",
       "\n",
       "    .dataframe thead th {\n",
       "        text-align: right;\n",
       "    }\n",
       "</style>\n",
       "<table border=\"1\" class=\"dataframe\">\n",
       "  <thead>\n",
       "    <tr style=\"text-align: right;\">\n",
       "      <th></th>\n",
       "      <th>Post ID</th>\n",
       "      <th>Post Created At</th>\n",
       "      <th>Post Title</th>\n",
       "      <th>Post Text</th>\n",
       "      <th>Post Like Count</th>\n",
       "      <th>Post Comment Count</th>\n",
       "      <th>Post Labels</th>\n",
       "      <th>Post Attachment Count</th>\n",
       "      <th>Stream Name</th>\n",
       "      <th>Author User Id</th>\n",
       "      <th>Author Position</th>\n",
       "      <th>id</th>\n",
       "      <th>state</th>\n",
       "    </tr>\n",
       "  </thead>\n",
       "  <tbody>\n",
       "    <tr>\n",
       "      <th>0</th>\n",
       "      <td>5109901</td>\n",
       "      <td>2022-03-05 21:38:28</td>\n",
       "      <td>Crew Member</td>\n",
       "      <td>I am available for anything today still and In...</td>\n",
       "      <td>0</td>\n",
       "      <td>0</td>\n",
       "      <td>NaN</td>\n",
       "      <td>0</td>\n",
       "      <td>Jobs</td>\n",
       "      <td>72045c92-677b-4227-9e71-ba485e9211f9</td>\n",
       "      <td>Crew Member</td>\n",
       "      <td>NaN</td>\n",
       "      <td>NaN</td>\n",
       "    </tr>\n",
       "    <tr>\n",
       "      <th>1</th>\n",
       "      <td>5109897</td>\n",
       "      <td>2022-03-05 21:36:55</td>\n",
       "      <td>Available</td>\n",
       "      <td>Available üë∑üèæ‚ö†Ô∏èüöß</td>\n",
       "      <td>1</td>\n",
       "      <td>0</td>\n",
       "      <td>NaN</td>\n",
       "      <td>0</td>\n",
       "      <td>Jobs</td>\n",
       "      <td>bfd175ca-7fd5-46ec-b087-b4178001c3d0</td>\n",
       "      <td>Crew Member</td>\n",
       "      <td>bfd175ca-7fd5-46ec-b087-b4178001c3d0</td>\n",
       "      <td>active</td>\n",
       "    </tr>\n",
       "    <tr>\n",
       "      <th>2</th>\n",
       "      <td>5109835</td>\n",
       "      <td>2022-03-05 21:01:49</td>\n",
       "      <td>Don't understand</td>\n",
       "      <td>I been with this company for a couple years no...</td>\n",
       "      <td>1</td>\n",
       "      <td>3</td>\n",
       "      <td>NaN</td>\n",
       "      <td>0</td>\n",
       "      <td>Water Break</td>\n",
       "      <td>01776515-70ab-446b-9473-74cb79fc6d11</td>\n",
       "      <td>Crew Leader</td>\n",
       "      <td>01776515-70ab-446b-9473-74cb79fc6d11</td>\n",
       "      <td>active</td>\n",
       "    </tr>\n",
       "    <tr>\n",
       "      <th>3</th>\n",
       "      <td>5109538</td>\n",
       "      <td>2022-03-05 18:47:36</td>\n",
       "      <td>I am jus trying to be nosy</td>\n",
       "      <td>Who in truck 14030 in my neighborhood</td>\n",
       "      <td>0</td>\n",
       "      <td>0</td>\n",
       "      <td>NaN</td>\n",
       "      <td>0</td>\n",
       "      <td>Water Break</td>\n",
       "      <td>6e89af7c-c527-493a-93f7-a8c0205c331d</td>\n",
       "      <td>Advanced Crew Leader</td>\n",
       "      <td>6e89af7c-c527-493a-93f7-a8c0205c331d</td>\n",
       "      <td>active</td>\n",
       "    </tr>\n",
       "    <tr>\n",
       "      <th>4</th>\n",
       "      <td>5109359</td>\n",
       "      <td>2022-03-05 17:41:24</td>\n",
       "      <td>Firestone</td>\n",
       "      <td>Taking truck 14095 to Firestone</td>\n",
       "      <td>0</td>\n",
       "      <td>0</td>\n",
       "      <td>NaN</td>\n",
       "      <td>0</td>\n",
       "      <td>OSC, We Can Help</td>\n",
       "      <td>df4cd5ff-bc76-4998-aca7-1b36aae16b5c</td>\n",
       "      <td>Crew Leader</td>\n",
       "      <td>df4cd5ff-bc76-4998-aca7-1b36aae16b5c</td>\n",
       "      <td>active</td>\n",
       "    </tr>\n",
       "  </tbody>\n",
       "</table>\n",
       "</div>"
      ],
      "text/plain": [
       "   Post ID     Post Created At                  Post Title  \\\n",
       "0  5109901 2022-03-05 21:38:28                 Crew Member   \n",
       "1  5109897 2022-03-05 21:36:55                   Available   \n",
       "2  5109835 2022-03-05 21:01:49            Don't understand   \n",
       "3  5109538 2022-03-05 18:47:36  I am jus trying to be nosy   \n",
       "4  5109359 2022-03-05 17:41:24                   Firestone   \n",
       "\n",
       "                                           Post Text  Post Like Count  \\\n",
       "0  I am available for anything today still and In...                0   \n",
       "1                       Available üë∑üèæ‚ö†Ô∏èüöß                1   \n",
       "2  I been with this company for a couple years no...                1   \n",
       "3              Who in truck 14030 in my neighborhood                0   \n",
       "4                    Taking truck 14095 to Firestone                0   \n",
       "\n",
       "   Post Comment Count Post Labels  Post Attachment Count       Stream Name  \\\n",
       "0                   0         NaN                      0              Jobs   \n",
       "1                   0         NaN                      0              Jobs   \n",
       "2                   3         NaN                      0       Water Break   \n",
       "3                   0         NaN                      0       Water Break   \n",
       "4                   0         NaN                      0  OSC, We Can Help   \n",
       "\n",
       "                         Author User Id       Author Position  \\\n",
       "0  72045c92-677b-4227-9e71-ba485e9211f9           Crew Member   \n",
       "1  bfd175ca-7fd5-46ec-b087-b4178001c3d0           Crew Member   \n",
       "2  01776515-70ab-446b-9473-74cb79fc6d11           Crew Leader   \n",
       "3  6e89af7c-c527-493a-93f7-a8c0205c331d  Advanced Crew Leader   \n",
       "4  df4cd5ff-bc76-4998-aca7-1b36aae16b5c           Crew Leader   \n",
       "\n",
       "                                     id   state  \n",
       "0                                   NaN     NaN  \n",
       "1  bfd175ca-7fd5-46ec-b087-b4178001c3d0  active  \n",
       "2  01776515-70ab-446b-9473-74cb79fc6d11  active  \n",
       "3  6e89af7c-c527-493a-93f7-a8c0205c331d  active  \n",
       "4  df4cd5ff-bc76-4998-aca7-1b36aae16b5c  active  "
      ]
     },
     "execution_count": 29,
     "metadata": {},
     "output_type": "execute_result"
    }
   ],
   "source": [
    "# Function to preprocess the data\n",
    "df_posts = data.copy()\n",
    "\n",
    "\n",
    "def post_preprocess(posts, df_users):\n",
    "    # Change the date format\n",
    "    posts['Post Created At'] = pd.to_datetime(posts['Post Created At'])\n",
    "    \n",
    "    # Delete post with missing values in both Post Title and Post Text\n",
    "    posts.dropna(subset='Post Title', how='all', inplace=True)\n",
    "    posts.dropna(subset='Post Text', how='all', inplace=True)\n",
    "\n",
    "    #table_nan = posts.isna().sum()\n",
    "    \n",
    "    # Dealing with strange characters in 'Post Text'  \n",
    "    posts['Post Text'] = posts['Post Text'].str.replace(\"(<br/>)\", \"\")\n",
    "    posts['Post Text'] = posts['Post Text'].str.replace('(<a).*(>).*(</a>)', '')\n",
    "    posts['Post Text'] = posts['Post Text'].str.replace('(&amp)', '')\n",
    "    posts['Post Text'] = posts['Post Text'].str.replace('(&gt)', '')\n",
    "    posts['Post Text'] = posts['Post Text'].str.replace('(&lt)', '')\n",
    "    posts['Post Text'] = posts['Post Text'].str.replace('(\\xa0)', ' ')  \n",
    "    posts['Post Text'] = posts['Post Text'].str.replace('\\n', ' ')    \n",
    "    posts['Post Text'] = posts['Post Text'].str.replace('I‚Äôm', 'I am')\n",
    "    posts['Post Text'] = posts['Post Text'].str.replace('¬†¬†', '')\n",
    "    posts['Post Text'] = posts['Post Text'].str.replace('¬†', '')\n",
    "    posts['Post Text'] = posts['Post Text'].str.replace('I‚ÄôVE ', 'I have')    \n",
    "    posts['Post Text'] = posts['Post Text'].str.replace('ü•∂......', '')    \n",
    "    posts['Post Text'] = posts['Post Text'].str.replace('It‚Äôs', 'It is')\n",
    "    posts['Post Text'] = posts['Post Text'].str.replace('you‚Äôre', 'you are')\n",
    "    posts['Post Text'] = posts['Post Text'].str.replace(' ¬∑', '')    \n",
    "    posts['Post Text'] = posts['Post Text'].str.replace('IT‚ÄôS', 'IT IS')    \n",
    "    posts['Post Text'] = posts['Post Text'].str.replace('‚Äôs', \"'s\")\n",
    "    posts['Post Text'] = posts['Post Text'].str.replace(' ‚Äì', ' -')\n",
    "    posts['Post Text'] = posts['Post Text'].str.replace('‚Ä¢', '')\n",
    "    posts['Post Text'] = posts['Post Text'].str.replace('‚Äú', '')\n",
    "    posts['Post Text'] = posts['Post Text'].str.replace('‚Äù', '')\n",
    "    posts['Post Text'] = posts['Post Text'].str.replace('You‚Äôll', 'You will')\n",
    "    posts['Post Text'] = posts['Post Text'].str.replace('you‚Äôll', 'you will')\n",
    "    posts['Post Text'] = posts['Post Text'].str.replace('‚shouldn‚Äôt', 'should not')\n",
    "    posts['Post Text'] = posts['Post Text'].str.replace('‚Ä¶üó£', '!')\n",
    "    posts['Post Text'] = posts['Post Text'].str.replace('you‚Äôd', 'you would')\n",
    "    \n",
    "    # Dealing with strange characters in 'Post Title'  \n",
    "    posts['Post Title'] = posts['Post Title'].str.replace(\"(<br/>)\", \"\")\n",
    "    posts['Post Title'] = posts['Post Title'].str.replace('(<a).*(>).*(</a>)', '')\n",
    "    posts['Post Title'] = posts['Post Title'].str.replace('(&amp)', '')\n",
    "    posts['Post Title'] = posts['Post Title'].str.replace('(&gt)', '')\n",
    "    posts['Post Title'] = posts['Post Title'].str.replace('(&lt)', '')\n",
    "    posts['Post Title'] = posts['Post Title'].str.replace('(\\xa0)', ' ')  \n",
    "    posts['Post Title'] = posts['Post Title'].str.replace('\\n', ' ')    \n",
    "    posts['Post Title'] = posts['Post Title'].str.replace('I‚Äôm', 'I am')\n",
    "    posts['Post Title'] = posts['Post Title'].str.replace('¬†¬†', '')\n",
    "    posts['Post Title'] = posts['Post Title'].str.replace('¬†', '')\n",
    "    posts['Post Title'] = posts['Post Title'].str.replace('I‚ÄôVE ', 'I have')    \n",
    "    posts['Post Title'] = posts['Post Title'].str.replace('ü•∂......', '')    \n",
    "    posts['Post Title'] = posts['Post Title'].str.replace('It‚Äôs', 'It is')\n",
    "    posts['Post Title'] = posts['Post Title'].str.replace('you‚Äôre', 'you are')\n",
    "    posts['Post Title'] = posts['Post Title'].str.replace(' ¬∑', '')    \n",
    "    posts['Post Title'] = posts['Post Title'].str.replace('IT‚ÄôS', 'IT IS')    \n",
    "    posts['Post Title'] = posts['Post Title'].str.replace('‚Äôs', \"'s\")\n",
    "    posts['Post Title'] = posts['Post Title'].str.replace(' ‚Äì', ' -')\n",
    "    posts['Post Title'] = posts['Post Title'].str.replace('‚Ä¢', '')\n",
    "    posts['Post Title'] = posts['Post Title'].str.replace('‚Äú', '')\n",
    "    posts['Post Title'] = posts['Post Title'].str.replace('‚Äù', '')\n",
    "    posts['Post Title'] = posts['Post Title'].str.replace('You‚Äôll', 'You will')\n",
    "    posts['Post Title'] = posts['Post Title'].str.replace('you‚Äôll', 'you will')\n",
    "    posts['Post Title'] = posts['Post Title'].str.replace('‚shouldn‚Äôt', 'should not')\n",
    "    posts['Post Title'] = posts['Post Title'].str.replace('‚Ä¶üó£', '!')\n",
    "    posts['Post Title'] = posts['Post Title'].str.replace('you‚Äôd', 'you would')\n",
    "\n",
    "    # date range of posts\n",
    "    print(\"The date range of posts is:\")\n",
    "    print(f\"Min date: {posts['Post Created At'].min()}\")\n",
    "    print(f\"Max date: {posts['Post Created At'].max()}\")\n",
    "    print(f\"Date range: {posts['Post Created At'].max() - posts['Post Created At'].min()}\")\n",
    "    \n",
    "    # Add a new column with the state from df_users_active, connecting 'id' with 'Author User ID'\n",
    "    df = posts.merge(df_users[['id','state']], left_on='Author User Id', right_on='id', how='left')\n",
    "    \n",
    "    return df\n",
    "    #return posts\n",
    "\n",
    "df_post_user = post_preprocess(df_posts,df_users)\n",
    "print(df_post_user.shape)\n",
    "df_post_user.head()\n"
   ]
  },
  {
   "cell_type": "code",
   "execution_count": 30,
   "id": "7f1a7a79",
   "metadata": {},
   "outputs": [
    {
     "name": "stdout",
     "output_type": "stream",
     "text": [
      "             Stream Name  Posts  Percentage\n",
      "0                   Jobs   1402        56.0\n",
      "1            Water Break    440        17.6\n",
      "2    Safety & Operations    286        11.4\n",
      "3       OSC, We Can Help    281        11.2\n",
      "4         The Whiteboard     52         2.1\n",
      "5  Flagger Force Connect     29         1.2\n",
      "6           Test Stream      14         0.6\n"
     ]
    },
    {
     "data": {
      "application/vnd.plotly.v1+json": {
       "config": {
        "plotlyServerURL": "https://plot.ly"
       },
       "data": [
        {
         "alignmentgroup": "True",
         "hovertemplate": "Posts=%{x}<br>Stream Name=%{y}<extra></extra>",
         "legendgroup": "",
         "marker": {
          "color": "#636efa",
          "pattern": {
           "shape": ""
          }
         },
         "name": "",
         "offsetgroup": "",
         "orientation": "h",
         "showlegend": false,
         "textposition": "auto",
         "type": "bar",
         "x": [
          14,
          29,
          52,
          281,
          286,
          440,
          1402
         ],
         "xaxis": "x",
         "y": [
          "Test Stream ",
          "Flagger Force Connect",
          "The Whiteboard",
          "OSC, We Can Help",
          "Safety & Operations",
          "Water Break",
          "Jobs"
         ],
         "yaxis": "y"
        }
       ],
       "layout": {
        "barmode": "relative",
        "height": 600,
        "legend": {
         "tracegroupgap": 0
        },
        "template": {
         "data": {
          "bar": [
           {
            "error_x": {
             "color": "#2a3f5f"
            },
            "error_y": {
             "color": "#2a3f5f"
            },
            "marker": {
             "line": {
              "color": "#E5ECF6",
              "width": 0.5
             },
             "pattern": {
              "fillmode": "overlay",
              "size": 10,
              "solidity": 0.2
             }
            },
            "type": "bar"
           }
          ],
          "barpolar": [
           {
            "marker": {
             "line": {
              "color": "#E5ECF6",
              "width": 0.5
             },
             "pattern": {
              "fillmode": "overlay",
              "size": 10,
              "solidity": 0.2
             }
            },
            "type": "barpolar"
           }
          ],
          "carpet": [
           {
            "aaxis": {
             "endlinecolor": "#2a3f5f",
             "gridcolor": "white",
             "linecolor": "white",
             "minorgridcolor": "white",
             "startlinecolor": "#2a3f5f"
            },
            "baxis": {
             "endlinecolor": "#2a3f5f",
             "gridcolor": "white",
             "linecolor": "white",
             "minorgridcolor": "white",
             "startlinecolor": "#2a3f5f"
            },
            "type": "carpet"
           }
          ],
          "choropleth": [
           {
            "colorbar": {
             "outlinewidth": 0,
             "ticks": ""
            },
            "type": "choropleth"
           }
          ],
          "contour": [
           {
            "colorbar": {
             "outlinewidth": 0,
             "ticks": ""
            },
            "colorscale": [
             [
              0,
              "#0d0887"
             ],
             [
              0.1111111111111111,
              "#46039f"
             ],
             [
              0.2222222222222222,
              "#7201a8"
             ],
             [
              0.3333333333333333,
              "#9c179e"
             ],
             [
              0.4444444444444444,
              "#bd3786"
             ],
             [
              0.5555555555555556,
              "#d8576b"
             ],
             [
              0.6666666666666666,
              "#ed7953"
             ],
             [
              0.7777777777777778,
              "#fb9f3a"
             ],
             [
              0.8888888888888888,
              "#fdca26"
             ],
             [
              1,
              "#f0f921"
             ]
            ],
            "type": "contour"
           }
          ],
          "contourcarpet": [
           {
            "colorbar": {
             "outlinewidth": 0,
             "ticks": ""
            },
            "type": "contourcarpet"
           }
          ],
          "heatmap": [
           {
            "colorbar": {
             "outlinewidth": 0,
             "ticks": ""
            },
            "colorscale": [
             [
              0,
              "#0d0887"
             ],
             [
              0.1111111111111111,
              "#46039f"
             ],
             [
              0.2222222222222222,
              "#7201a8"
             ],
             [
              0.3333333333333333,
              "#9c179e"
             ],
             [
              0.4444444444444444,
              "#bd3786"
             ],
             [
              0.5555555555555556,
              "#d8576b"
             ],
             [
              0.6666666666666666,
              "#ed7953"
             ],
             [
              0.7777777777777778,
              "#fb9f3a"
             ],
             [
              0.8888888888888888,
              "#fdca26"
             ],
             [
              1,
              "#f0f921"
             ]
            ],
            "type": "heatmap"
           }
          ],
          "heatmapgl": [
           {
            "colorbar": {
             "outlinewidth": 0,
             "ticks": ""
            },
            "colorscale": [
             [
              0,
              "#0d0887"
             ],
             [
              0.1111111111111111,
              "#46039f"
             ],
             [
              0.2222222222222222,
              "#7201a8"
             ],
             [
              0.3333333333333333,
              "#9c179e"
             ],
             [
              0.4444444444444444,
              "#bd3786"
             ],
             [
              0.5555555555555556,
              "#d8576b"
             ],
             [
              0.6666666666666666,
              "#ed7953"
             ],
             [
              0.7777777777777778,
              "#fb9f3a"
             ],
             [
              0.8888888888888888,
              "#fdca26"
             ],
             [
              1,
              "#f0f921"
             ]
            ],
            "type": "heatmapgl"
           }
          ],
          "histogram": [
           {
            "marker": {
             "pattern": {
              "fillmode": "overlay",
              "size": 10,
              "solidity": 0.2
             }
            },
            "type": "histogram"
           }
          ],
          "histogram2d": [
           {
            "colorbar": {
             "outlinewidth": 0,
             "ticks": ""
            },
            "colorscale": [
             [
              0,
              "#0d0887"
             ],
             [
              0.1111111111111111,
              "#46039f"
             ],
             [
              0.2222222222222222,
              "#7201a8"
             ],
             [
              0.3333333333333333,
              "#9c179e"
             ],
             [
              0.4444444444444444,
              "#bd3786"
             ],
             [
              0.5555555555555556,
              "#d8576b"
             ],
             [
              0.6666666666666666,
              "#ed7953"
             ],
             [
              0.7777777777777778,
              "#fb9f3a"
             ],
             [
              0.8888888888888888,
              "#fdca26"
             ],
             [
              1,
              "#f0f921"
             ]
            ],
            "type": "histogram2d"
           }
          ],
          "histogram2dcontour": [
           {
            "colorbar": {
             "outlinewidth": 0,
             "ticks": ""
            },
            "colorscale": [
             [
              0,
              "#0d0887"
             ],
             [
              0.1111111111111111,
              "#46039f"
             ],
             [
              0.2222222222222222,
              "#7201a8"
             ],
             [
              0.3333333333333333,
              "#9c179e"
             ],
             [
              0.4444444444444444,
              "#bd3786"
             ],
             [
              0.5555555555555556,
              "#d8576b"
             ],
             [
              0.6666666666666666,
              "#ed7953"
             ],
             [
              0.7777777777777778,
              "#fb9f3a"
             ],
             [
              0.8888888888888888,
              "#fdca26"
             ],
             [
              1,
              "#f0f921"
             ]
            ],
            "type": "histogram2dcontour"
           }
          ],
          "mesh3d": [
           {
            "colorbar": {
             "outlinewidth": 0,
             "ticks": ""
            },
            "type": "mesh3d"
           }
          ],
          "parcoords": [
           {
            "line": {
             "colorbar": {
              "outlinewidth": 0,
              "ticks": ""
             }
            },
            "type": "parcoords"
           }
          ],
          "pie": [
           {
            "automargin": true,
            "type": "pie"
           }
          ],
          "scatter": [
           {
            "fillpattern": {
             "fillmode": "overlay",
             "size": 10,
             "solidity": 0.2
            },
            "type": "scatter"
           }
          ],
          "scatter3d": [
           {
            "line": {
             "colorbar": {
              "outlinewidth": 0,
              "ticks": ""
             }
            },
            "marker": {
             "colorbar": {
              "outlinewidth": 0,
              "ticks": ""
             }
            },
            "type": "scatter3d"
           }
          ],
          "scattercarpet": [
           {
            "marker": {
             "colorbar": {
              "outlinewidth": 0,
              "ticks": ""
             }
            },
            "type": "scattercarpet"
           }
          ],
          "scattergeo": [
           {
            "marker": {
             "colorbar": {
              "outlinewidth": 0,
              "ticks": ""
             }
            },
            "type": "scattergeo"
           }
          ],
          "scattergl": [
           {
            "marker": {
             "colorbar": {
              "outlinewidth": 0,
              "ticks": ""
             }
            },
            "type": "scattergl"
           }
          ],
          "scattermapbox": [
           {
            "marker": {
             "colorbar": {
              "outlinewidth": 0,
              "ticks": ""
             }
            },
            "type": "scattermapbox"
           }
          ],
          "scatterpolar": [
           {
            "marker": {
             "colorbar": {
              "outlinewidth": 0,
              "ticks": ""
             }
            },
            "type": "scatterpolar"
           }
          ],
          "scatterpolargl": [
           {
            "marker": {
             "colorbar": {
              "outlinewidth": 0,
              "ticks": ""
             }
            },
            "type": "scatterpolargl"
           }
          ],
          "scatterternary": [
           {
            "marker": {
             "colorbar": {
              "outlinewidth": 0,
              "ticks": ""
             }
            },
            "type": "scatterternary"
           }
          ],
          "surface": [
           {
            "colorbar": {
             "outlinewidth": 0,
             "ticks": ""
            },
            "colorscale": [
             [
              0,
              "#0d0887"
             ],
             [
              0.1111111111111111,
              "#46039f"
             ],
             [
              0.2222222222222222,
              "#7201a8"
             ],
             [
              0.3333333333333333,
              "#9c179e"
             ],
             [
              0.4444444444444444,
              "#bd3786"
             ],
             [
              0.5555555555555556,
              "#d8576b"
             ],
             [
              0.6666666666666666,
              "#ed7953"
             ],
             [
              0.7777777777777778,
              "#fb9f3a"
             ],
             [
              0.8888888888888888,
              "#fdca26"
             ],
             [
              1,
              "#f0f921"
             ]
            ],
            "type": "surface"
           }
          ],
          "table": [
           {
            "cells": {
             "fill": {
              "color": "#EBF0F8"
             },
             "line": {
              "color": "white"
             }
            },
            "header": {
             "fill": {
              "color": "#C8D4E3"
             },
             "line": {
              "color": "white"
             }
            },
            "type": "table"
           }
          ]
         },
         "layout": {
          "annotationdefaults": {
           "arrowcolor": "#2a3f5f",
           "arrowhead": 0,
           "arrowwidth": 1
          },
          "autotypenumbers": "strict",
          "coloraxis": {
           "colorbar": {
            "outlinewidth": 0,
            "ticks": ""
           }
          },
          "colorscale": {
           "diverging": [
            [
             0,
             "#8e0152"
            ],
            [
             0.1,
             "#c51b7d"
            ],
            [
             0.2,
             "#de77ae"
            ],
            [
             0.3,
             "#f1b6da"
            ],
            [
             0.4,
             "#fde0ef"
            ],
            [
             0.5,
             "#f7f7f7"
            ],
            [
             0.6,
             "#e6f5d0"
            ],
            [
             0.7,
             "#b8e186"
            ],
            [
             0.8,
             "#7fbc41"
            ],
            [
             0.9,
             "#4d9221"
            ],
            [
             1,
             "#276419"
            ]
           ],
           "sequential": [
            [
             0,
             "#0d0887"
            ],
            [
             0.1111111111111111,
             "#46039f"
            ],
            [
             0.2222222222222222,
             "#7201a8"
            ],
            [
             0.3333333333333333,
             "#9c179e"
            ],
            [
             0.4444444444444444,
             "#bd3786"
            ],
            [
             0.5555555555555556,
             "#d8576b"
            ],
            [
             0.6666666666666666,
             "#ed7953"
            ],
            [
             0.7777777777777778,
             "#fb9f3a"
            ],
            [
             0.8888888888888888,
             "#fdca26"
            ],
            [
             1,
             "#f0f921"
            ]
           ],
           "sequentialminus": [
            [
             0,
             "#0d0887"
            ],
            [
             0.1111111111111111,
             "#46039f"
            ],
            [
             0.2222222222222222,
             "#7201a8"
            ],
            [
             0.3333333333333333,
             "#9c179e"
            ],
            [
             0.4444444444444444,
             "#bd3786"
            ],
            [
             0.5555555555555556,
             "#d8576b"
            ],
            [
             0.6666666666666666,
             "#ed7953"
            ],
            [
             0.7777777777777778,
             "#fb9f3a"
            ],
            [
             0.8888888888888888,
             "#fdca26"
            ],
            [
             1,
             "#f0f921"
            ]
           ]
          },
          "colorway": [
           "#636efa",
           "#EF553B",
           "#00cc96",
           "#ab63fa",
           "#FFA15A",
           "#19d3f3",
           "#FF6692",
           "#B6E880",
           "#FF97FF",
           "#FECB52"
          ],
          "font": {
           "color": "#2a3f5f"
          },
          "geo": {
           "bgcolor": "white",
           "lakecolor": "white",
           "landcolor": "#E5ECF6",
           "showlakes": true,
           "showland": true,
           "subunitcolor": "white"
          },
          "hoverlabel": {
           "align": "left"
          },
          "hovermode": "closest",
          "mapbox": {
           "style": "light"
          },
          "paper_bgcolor": "white",
          "plot_bgcolor": "#E5ECF6",
          "polar": {
           "angularaxis": {
            "gridcolor": "white",
            "linecolor": "white",
            "ticks": ""
           },
           "bgcolor": "#E5ECF6",
           "radialaxis": {
            "gridcolor": "white",
            "linecolor": "white",
            "ticks": ""
           }
          },
          "scene": {
           "xaxis": {
            "backgroundcolor": "#E5ECF6",
            "gridcolor": "white",
            "gridwidth": 2,
            "linecolor": "white",
            "showbackground": true,
            "ticks": "",
            "zerolinecolor": "white"
           },
           "yaxis": {
            "backgroundcolor": "#E5ECF6",
            "gridcolor": "white",
            "gridwidth": 2,
            "linecolor": "white",
            "showbackground": true,
            "ticks": "",
            "zerolinecolor": "white"
           },
           "zaxis": {
            "backgroundcolor": "#E5ECF6",
            "gridcolor": "white",
            "gridwidth": 2,
            "linecolor": "white",
            "showbackground": true,
            "ticks": "",
            "zerolinecolor": "white"
           }
          },
          "shapedefaults": {
           "line": {
            "color": "#2a3f5f"
           }
          },
          "ternary": {
           "aaxis": {
            "gridcolor": "white",
            "linecolor": "white",
            "ticks": ""
           },
           "baxis": {
            "gridcolor": "white",
            "linecolor": "white",
            "ticks": ""
           },
           "bgcolor": "#E5ECF6",
           "caxis": {
            "gridcolor": "white",
            "linecolor": "white",
            "ticks": ""
           }
          },
          "title": {
           "x": 0.05
          },
          "xaxis": {
           "automargin": true,
           "gridcolor": "white",
           "linecolor": "white",
           "ticks": "",
           "title": {
            "standoff": 15
           },
           "zerolinecolor": "white",
           "zerolinewidth": 2
          },
          "yaxis": {
           "automargin": true,
           "gridcolor": "white",
           "linecolor": "white",
           "ticks": "",
           "title": {
            "standoff": 15
           },
           "zerolinecolor": "white",
           "zerolinewidth": 2
          }
         }
        },
        "title": {
         "font": {
          "size": 20
         },
         "text": "Posts by Stream Name",
         "x": 0.5
        },
        "width": 1000,
        "xaxis": {
         "anchor": "y",
         "domain": [
          0,
          1
         ],
         "title": {
          "text": "Number of Posts"
         }
        },
        "yaxis": {
         "anchor": "x",
         "domain": [
          0,
          1
         ],
         "title": {
          "text": "Stream Name"
         }
        }
       }
      }
     },
     "metadata": {},
     "output_type": "display_data"
    }
   ],
   "source": [
    "# Distribution of posts by stream\n",
    "#posts_by_stream = df_post_user['Stream Name'].value_counts()\n",
    "posts_by_stream = df_post_user.groupby('Stream Name')['Post ID'].size().sort_values(ascending=False)\n",
    "# add a column with the percentage of posts by stream\n",
    "posts_by_stream = posts_by_stream.to_frame().reset_index()\n",
    "posts_by_stream.columns = ['Stream Name', 'Posts']\n",
    "posts_by_stream['Percentage'] = round(posts_by_stream['Posts'] / posts_by_stream['Posts'].sum() * 100,1)\n",
    "print(posts_by_stream)\n",
    "\n",
    "# Sort the posts_by_stream DataFrame in descending order\n",
    "posts_by_stream = posts_by_stream.sort_values('Posts', ascending=True)\n",
    "# Plotting\n",
    "fig = px.bar(posts_by_stream,              \n",
    "             x='Posts',\n",
    "             y='Stream Name',             \n",
    "             title='Posts by Stream Name',\n",
    "             height=600,\n",
    "             width=1000            \n",
    "            )\n",
    "\n",
    "# Update the layout\n",
    "fig.update_layout(xaxis_title='Number of Posts',\n",
    "                  yaxis_title='Stream Name',\n",
    "                  title_x=0.5,\n",
    "                  title_font_size=20)\n",
    "\n",
    "fig.show()"
   ]
  },
  {
   "cell_type": "code",
   "execution_count": 287,
   "id": "17424f55",
   "metadata": {},
   "outputs": [
    {
     "data": {
      "text/html": [
       "<div>\n",
       "<style scoped>\n",
       "    .dataframe tbody tr th:only-of-type {\n",
       "        vertical-align: middle;\n",
       "    }\n",
       "\n",
       "    .dataframe tbody tr th {\n",
       "        vertical-align: top;\n",
       "    }\n",
       "\n",
       "    .dataframe thead th {\n",
       "        text-align: right;\n",
       "    }\n",
       "</style>\n",
       "<table border=\"1\" class=\"dataframe\">\n",
       "  <thead>\n",
       "    <tr style=\"text-align: right;\">\n",
       "      <th></th>\n",
       "      <th>Post ID</th>\n",
       "      <th>Post Created At</th>\n",
       "      <th>Post Title</th>\n",
       "      <th>Post Text</th>\n",
       "      <th>Post Like Count</th>\n",
       "      <th>Post Comment Count</th>\n",
       "      <th>Post Labels</th>\n",
       "      <th>Post Attachment Count</th>\n",
       "      <th>Stream Name</th>\n",
       "      <th>Author User Id</th>\n",
       "      <th>Author Position</th>\n",
       "      <th>id</th>\n",
       "      <th>state</th>\n",
       "    </tr>\n",
       "  </thead>\n",
       "  <tbody>\n",
       "    <tr>\n",
       "      <th>42</th>\n",
       "      <td>5107748</td>\n",
       "      <td>2022-03-04 22:47:27</td>\n",
       "      <td>Equipment Run: TMA from Ashland VA  delivered ...</td>\n",
       "      <td>Client: Flagger Force Date: 3/5/2022 Time: 514...</td>\n",
       "      <td>0</td>\n",
       "      <td>2</td>\n",
       "      <td>cls</td>\n",
       "      <td>1</td>\n",
       "      <td>Jobs</td>\n",
       "      <td>f206abd1-e46c-4d35-be75-a3b937edf885</td>\n",
       "      <td>NaN</td>\n",
       "      <td>f206abd1-e46c-4d35-be75-a3b937edf885</td>\n",
       "      <td>active</td>\n",
       "    </tr>\n",
       "    <tr>\n",
       "      <th>61</th>\n",
       "      <td>5106141</td>\n",
       "      <td>2022-03-04 17:19:01</td>\n",
       "      <td>EMERGENCY ORDER: 1 ACL w/ AP, 1 CL, 2 CM in Ox...</td>\n",
       "      <td>Client: Washington Gas - Southeast Order #: 51...</td>\n",
       "      <td>0</td>\n",
       "      <td>16</td>\n",
       "      <td>NaN</td>\n",
       "      <td>1</td>\n",
       "      <td>Jobs</td>\n",
       "      <td>af09ca5c-59cd-427c-96be-9bc49f613b28</td>\n",
       "      <td>NaN</td>\n",
       "      <td>af09ca5c-59cd-427c-96be-9bc49f613b28</td>\n",
       "      <td>active</td>\n",
       "    </tr>\n",
       "    <tr>\n",
       "      <th>74</th>\n",
       "      <td>5105384</td>\n",
       "      <td>2022-03-04 15:23:12</td>\n",
       "      <td>OPEN ORDER: 1 ACL w AP in Hatfield, PA</td>\n",
       "      <td>Client: PPL-Buxmont Order #: 506924 Address: 1...</td>\n",
       "      <td>1</td>\n",
       "      <td>0</td>\n",
       "      <td>NaN</td>\n",
       "      <td>1</td>\n",
       "      <td>Jobs</td>\n",
       "      <td>af09ca5c-59cd-427c-96be-9bc49f613b28</td>\n",
       "      <td>NaN</td>\n",
       "      <td>af09ca5c-59cd-427c-96be-9bc49f613b28</td>\n",
       "      <td>active</td>\n",
       "    </tr>\n",
       "    <tr>\n",
       "      <th>75</th>\n",
       "      <td>5105378</td>\n",
       "      <td>2022-03-04 15:21:42</td>\n",
       "      <td>This National Recognition Is For You</td>\n",
       "      <td>Good day all,   From our field employees to ou...</td>\n",
       "      <td>30</td>\n",
       "      <td>0</td>\n",
       "      <td>NaN</td>\n",
       "      <td>1</td>\n",
       "      <td>Water Break</td>\n",
       "      <td>b701ab9f-563a-4425-a389-aff803a8da58</td>\n",
       "      <td>NaN</td>\n",
       "      <td>b701ab9f-563a-4425-a389-aff803a8da58</td>\n",
       "      <td>active</td>\n",
       "    </tr>\n",
       "    <tr>\n",
       "      <th>76</th>\n",
       "      <td>5101328</td>\n",
       "      <td>2022-03-04 15:17:10</td>\n",
       "      <td>Rich text is awesome</td>\n",
       "      <td>happy</td>\n",
       "      <td>5</td>\n",
       "      <td>0</td>\n",
       "      <td>NaN</td>\n",
       "      <td>0</td>\n",
       "      <td>Water Break</td>\n",
       "      <td>b701ab9f-563a-4425-a389-aff803a8da58</td>\n",
       "      <td>NaN</td>\n",
       "      <td>b701ab9f-563a-4425-a389-aff803a8da58</td>\n",
       "      <td>active</td>\n",
       "    </tr>\n",
       "    <tr>\n",
       "      <th>...</th>\n",
       "      <td>...</td>\n",
       "      <td>...</td>\n",
       "      <td>...</td>\n",
       "      <td>...</td>\n",
       "      <td>...</td>\n",
       "      <td>...</td>\n",
       "      <td>...</td>\n",
       "      <td>...</td>\n",
       "      <td>...</td>\n",
       "      <td>...</td>\n",
       "      <td>...</td>\n",
       "      <td>...</td>\n",
       "      <td>...</td>\n",
       "    </tr>\n",
       "    <tr>\n",
       "      <th>2979</th>\n",
       "      <td>4932160</td>\n",
       "      <td>2022-01-04 14:47:24</td>\n",
       "      <td>STORM DUTY: BOWIE, MARYLAND **12 HR SHIFT**</td>\n",
       "      <td>:Client:  BGE - Public Safety Standby (PSSB) D...</td>\n",
       "      <td>1</td>\n",
       "      <td>6</td>\n",
       "      <td>NaN</td>\n",
       "      <td>1</td>\n",
       "      <td>Jobs</td>\n",
       "      <td>af09ca5c-59cd-427c-96be-9bc49f613b28</td>\n",
       "      <td>NaN</td>\n",
       "      <td>af09ca5c-59cd-427c-96be-9bc49f613b28</td>\n",
       "      <td>active</td>\n",
       "    </tr>\n",
       "    <tr>\n",
       "      <th>2981</th>\n",
       "      <td>4932155</td>\n",
       "      <td>2022-01-04 14:46:07</td>\n",
       "      <td>EMERGENCY ORDER: 1 CL, 2 CM in District Height...</td>\n",
       "      <td>Client: Danella Power Services, Inc Date: 1/4/...</td>\n",
       "      <td>1</td>\n",
       "      <td>0</td>\n",
       "      <td>NaN</td>\n",
       "      <td>1</td>\n",
       "      <td>Jobs</td>\n",
       "      <td>af09ca5c-59cd-427c-96be-9bc49f613b28</td>\n",
       "      <td>NaN</td>\n",
       "      <td>af09ca5c-59cd-427c-96be-9bc49f613b28</td>\n",
       "      <td>active</td>\n",
       "    </tr>\n",
       "    <tr>\n",
       "      <th>2988</th>\n",
       "      <td>4931431</td>\n",
       "      <td>2022-01-04 03:53:51</td>\n",
       "      <td>STORM DUTY: WINDSOR MILL, MARYLAND *12 HOUR SH...</td>\n",
       "      <td>Client:  BGE - Public Safety Standby (PSSB) Da...</td>\n",
       "      <td>3</td>\n",
       "      <td>31</td>\n",
       "      <td>NaN</td>\n",
       "      <td>1</td>\n",
       "      <td>Jobs</td>\n",
       "      <td>f206abd1-e46c-4d35-be75-a3b937edf885</td>\n",
       "      <td>NaN</td>\n",
       "      <td>f206abd1-e46c-4d35-be75-a3b937edf885</td>\n",
       "      <td>active</td>\n",
       "    </tr>\n",
       "    <tr>\n",
       "      <th>2989</th>\n",
       "      <td>4931429</td>\n",
       "      <td>2022-01-04 03:49:40</td>\n",
       "      <td>OPEN JOBS   1 CM ***FILLLED*****</td>\n",
       "      <td>Job:BGE  Address:2900 Lord Baltimore Drive Win...</td>\n",
       "      <td>1</td>\n",
       "      <td>3</td>\n",
       "      <td>CMS,Stormduty,Standbycrew,marylandemployees,no...</td>\n",
       "      <td>1</td>\n",
       "      <td>Jobs</td>\n",
       "      <td>e7a068df-4acf-4164-b303-0cbce29e3c6b</td>\n",
       "      <td>NaN</td>\n",
       "      <td>e7a068df-4acf-4164-b303-0cbce29e3c6b</td>\n",
       "      <td>active</td>\n",
       "    </tr>\n",
       "    <tr>\n",
       "      <th>2995</th>\n",
       "      <td>4931261</td>\n",
       "      <td>2022-01-04 01:21:35</td>\n",
       "      <td>EMERGECNY ORDER    2 CL w/PLT  1 CM   ***FILLE...</td>\n",
       "      <td>Job:Verizon- PA Address:261 Stone Church Road ...</td>\n",
       "      <td>0</td>\n",
       "      <td>28</td>\n",
       "      <td>cl,plt,EmergencyJob,cm,Westernpa</td>\n",
       "      <td>1</td>\n",
       "      <td>Jobs</td>\n",
       "      <td>e7a068df-4acf-4164-b303-0cbce29e3c6b</td>\n",
       "      <td>NaN</td>\n",
       "      <td>e7a068df-4acf-4164-b303-0cbce29e3c6b</td>\n",
       "      <td>active</td>\n",
       "    </tr>\n",
       "  </tbody>\n",
       "</table>\n",
       "<p>484 rows × 13 columns</p>\n",
       "</div>"
      ],
      "text/plain": [
       "      Post ID     Post Created At  \\\n",
       "42    5107748 2022-03-04 22:47:27   \n",
       "61    5106141 2022-03-04 17:19:01   \n",
       "74    5105384 2022-03-04 15:23:12   \n",
       "75    5105378 2022-03-04 15:21:42   \n",
       "76    5101328 2022-03-04 15:17:10   \n",
       "...       ...                 ...   \n",
       "2979  4932160 2022-01-04 14:47:24   \n",
       "2981  4932155 2022-01-04 14:46:07   \n",
       "2988  4931431 2022-01-04 03:53:51   \n",
       "2989  4931429 2022-01-04 03:49:40   \n",
       "2995  4931261 2022-01-04 01:21:35   \n",
       "\n",
       "                                             Post Title  \\\n",
       "42    Equipment Run: TMA from Ashland VA  delivered ...   \n",
       "61    EMERGENCY ORDER: 1 ACL w/ AP, 1 CL, 2 CM in Ox...   \n",
       "74               OPEN ORDER: 1 ACL w AP in Hatfield, PA   \n",
       "75                 This National Recognition Is For You   \n",
       "76                                 Rich text is awesome   \n",
       "...                                                 ...   \n",
       "2979        STORM DUTY: BOWIE, MARYLAND **12 HR SHIFT**   \n",
       "2981  EMERGENCY ORDER: 1 CL, 2 CM in District Height...   \n",
       "2988  STORM DUTY: WINDSOR MILL, MARYLAND *12 HOUR SH...   \n",
       "2989                   OPEN JOBS   1 CM ***FILLLED*****   \n",
       "2995  EMERGECNY ORDER    2 CL w/PLT  1 CM   ***FILLE...   \n",
       "\n",
       "                                              Post Text  Post Like Count  \\\n",
       "42    Client: Flagger Force Date: 3/5/2022 Time: 514...                0   \n",
       "61    Client: Washington Gas - Southeast Order #: 51...                0   \n",
       "74    Client: PPL-Buxmont Order #: 506924 Address: 1...                1   \n",
       "75    Good day all,   From our field employees to ou...               30   \n",
       "76                                                happy                5   \n",
       "...                                                 ...              ...   \n",
       "2979  :Client:  BGE - Public Safety Standby (PSSB) D...                1   \n",
       "2981  Client: Danella Power Services, Inc Date: 1/4/...                1   \n",
       "2988  Client:  BGE - Public Safety Standby (PSSB) Da...                3   \n",
       "2989  Job:BGE  Address:2900 Lord Baltimore Drive Win...                1   \n",
       "2995  Job:Verizon- PA Address:261 Stone Church Road ...                0   \n",
       "\n",
       "      Post Comment Count                                        Post Labels  \\\n",
       "42                     2                                                cls   \n",
       "61                    16                                                NaN   \n",
       "74                     0                                                NaN   \n",
       "75                     0                                                NaN   \n",
       "76                     0                                                NaN   \n",
       "...                  ...                                                ...   \n",
       "2979                   6                                                NaN   \n",
       "2981                   0                                                NaN   \n",
       "2988                  31                                                NaN   \n",
       "2989                   3  CMS,Stormduty,Standbycrew,marylandemployees,no...   \n",
       "2995                  28                   cl,plt,EmergencyJob,cm,Westernpa   \n",
       "\n",
       "      Post Attachment Count  Stream Name  \\\n",
       "42                        1         Jobs   \n",
       "61                        1         Jobs   \n",
       "74                        1         Jobs   \n",
       "75                        1  Water Break   \n",
       "76                        0  Water Break   \n",
       "...                     ...          ...   \n",
       "2979                      1         Jobs   \n",
       "2981                      1         Jobs   \n",
       "2988                      1         Jobs   \n",
       "2989                      1         Jobs   \n",
       "2995                      1         Jobs   \n",
       "\n",
       "                            Author User Id Author Position  \\\n",
       "42    f206abd1-e46c-4d35-be75-a3b937edf885             NaN   \n",
       "61    af09ca5c-59cd-427c-96be-9bc49f613b28             NaN   \n",
       "74    af09ca5c-59cd-427c-96be-9bc49f613b28             NaN   \n",
       "75    b701ab9f-563a-4425-a389-aff803a8da58             NaN   \n",
       "76    b701ab9f-563a-4425-a389-aff803a8da58             NaN   \n",
       "...                                    ...             ...   \n",
       "2979  af09ca5c-59cd-427c-96be-9bc49f613b28             NaN   \n",
       "2981  af09ca5c-59cd-427c-96be-9bc49f613b28             NaN   \n",
       "2988  f206abd1-e46c-4d35-be75-a3b937edf885             NaN   \n",
       "2989  e7a068df-4acf-4164-b303-0cbce29e3c6b             NaN   \n",
       "2995  e7a068df-4acf-4164-b303-0cbce29e3c6b             NaN   \n",
       "\n",
       "                                        id   state  \n",
       "42    f206abd1-e46c-4d35-be75-a3b937edf885  active  \n",
       "61    af09ca5c-59cd-427c-96be-9bc49f613b28  active  \n",
       "74    af09ca5c-59cd-427c-96be-9bc49f613b28  active  \n",
       "75    b701ab9f-563a-4425-a389-aff803a8da58  active  \n",
       "76    b701ab9f-563a-4425-a389-aff803a8da58  active  \n",
       "...                                    ...     ...  \n",
       "2979  af09ca5c-59cd-427c-96be-9bc49f613b28  active  \n",
       "2981  af09ca5c-59cd-427c-96be-9bc49f613b28  active  \n",
       "2988  f206abd1-e46c-4d35-be75-a3b937edf885  active  \n",
       "2989  e7a068df-4acf-4164-b303-0cbce29e3c6b  active  \n",
       "2995  e7a068df-4acf-4164-b303-0cbce29e3c6b  active  \n",
       "\n",
       "[484 rows x 13 columns]"
      ]
     },
     "execution_count": 287,
     "metadata": {},
     "output_type": "execute_result"
    }
   ],
   "source": [
    "# print the rows where df_posts['Author Position'] has missing values\n",
    "df_post_user[df_post_user['Author Position'].isna()]\n",
    "\n",
    "# ToDo:\n",
    "# Do we want to consider the posts from inactive users?"
   ]
  },
  {
   "cell_type": "code",
   "execution_count": 289,
   "id": "a7489eb6",
   "metadata": {},
   "outputs": [
    {
     "data": {
      "text/html": [
       "<div>\n",
       "<style scoped>\n",
       "    .dataframe tbody tr th:only-of-type {\n",
       "        vertical-align: middle;\n",
       "    }\n",
       "\n",
       "    .dataframe tbody tr th {\n",
       "        vertical-align: top;\n",
       "    }\n",
       "\n",
       "    .dataframe thead th {\n",
       "        text-align: right;\n",
       "    }\n",
       "</style>\n",
       "<table border=\"1\" class=\"dataframe\">\n",
       "  <thead>\n",
       "    <tr style=\"text-align: right;\">\n",
       "      <th></th>\n",
       "      <th>Post ID</th>\n",
       "      <th>Post Like Count</th>\n",
       "      <th>Count</th>\n",
       "    </tr>\n",
       "  </thead>\n",
       "  <tbody>\n",
       "    <tr>\n",
       "      <th>1863</th>\n",
       "      <td>5034038</td>\n",
       "      <td>60</td>\n",
       "      <td>1</td>\n",
       "    </tr>\n",
       "    <tr>\n",
       "      <th>2445</th>\n",
       "      <td>5068797</td>\n",
       "      <td>55</td>\n",
       "      <td>1</td>\n",
       "    </tr>\n",
       "    <tr>\n",
       "      <th>47</th>\n",
       "      <td>4933736</td>\n",
       "      <td>54</td>\n",
       "      <td>1</td>\n",
       "    </tr>\n",
       "    <tr>\n",
       "      <th>2504</th>\n",
       "      <td>5073835</td>\n",
       "      <td>50</td>\n",
       "      <td>1</td>\n",
       "    </tr>\n",
       "    <tr>\n",
       "      <th>1709</th>\n",
       "      <td>5023367</td>\n",
       "      <td>48</td>\n",
       "      <td>1</td>\n",
       "    </tr>\n",
       "    <tr>\n",
       "      <th>1552</th>\n",
       "      <td>5016384</td>\n",
       "      <td>41</td>\n",
       "      <td>1</td>\n",
       "    </tr>\n",
       "    <tr>\n",
       "      <th>2124</th>\n",
       "      <td>5050279</td>\n",
       "      <td>40</td>\n",
       "      <td>1</td>\n",
       "    </tr>\n",
       "    <tr>\n",
       "      <th>833</th>\n",
       "      <td>4972806</td>\n",
       "      <td>37</td>\n",
       "      <td>1</td>\n",
       "    </tr>\n",
       "    <tr>\n",
       "      <th>1132</th>\n",
       "      <td>4989194</td>\n",
       "      <td>36</td>\n",
       "      <td>1</td>\n",
       "    </tr>\n",
       "    <tr>\n",
       "      <th>329</th>\n",
       "      <td>4947798</td>\n",
       "      <td>34</td>\n",
       "      <td>1</td>\n",
       "    </tr>\n",
       "  </tbody>\n",
       "</table>\n",
       "</div>"
      ],
      "text/plain": [
       "      Post ID  Post Like Count  Count\n",
       "1863  5034038               60      1\n",
       "2445  5068797               55      1\n",
       "47    4933736               54      1\n",
       "2504  5073835               50      1\n",
       "1709  5023367               48      1\n",
       "1552  5016384               41      1\n",
       "2124  5050279               40      1\n",
       "833   4972806               37      1\n",
       "1132  4989194               36      1\n",
       "329   4947798               34      1"
      ]
     },
     "execution_count": 289,
     "metadata": {},
     "output_type": "execute_result"
    }
   ],
   "source": [
    "# Find the most popular posts\n",
    "# Group by post_id\n",
    "df_popular_post = df_post_user.groupby(['Post ID','Post Like Count']).size().reset_index(name='Count')\n",
    "df_popular_post.sort_values('Post Like Count', ascending=False).head(10)"
   ]
  },
  {
   "cell_type": "markdown",
   "id": "6a1650ea",
   "metadata": {},
   "source": [
    "### 4.1 Sentiment Analysis of Post Text"
   ]
  },
  {
   "cell_type": "code",
   "execution_count": null,
   "id": "f3996ced",
   "metadata": {},
   "outputs": [],
   "source": []
  },
  {
   "cell_type": "markdown",
   "id": "c903353e",
   "metadata": {},
   "source": [
    "## 5. EDA for 'comments' data set"
   ]
  },
  {
   "cell_type": "code",
   "execution_count": 32,
   "id": "1296397f",
   "metadata": {},
   "outputs": [
    {
     "name": "stdout",
     "output_type": "stream",
     "text": [
      "<class 'pandas.core.frame.DataFrame'>\n",
      "RangeIndex: 10922 entries, 0 to 10921\n",
      "Data columns (total 8 columns):\n",
      " #   Column              Non-Null Count  Dtype \n",
      "---  ------              --------------  ----- \n",
      " 0   Comment ID          10922 non-null  int64 \n",
      " 1   Comment Created At  10922 non-null  object\n",
      " 2   Comment Text        10922 non-null  object\n",
      " 3   Comment Like Count  10922 non-null  int64 \n",
      " 4   Post ID             10922 non-null  int64 \n",
      " 5   Stream Name         10922 non-null  object\n",
      " 6   Author User Id      10922 non-null  object\n",
      " 7   Author Position     10434 non-null  object\n",
      "dtypes: int64(3), object(5)\n",
      "memory usage: 682.8+ KB\n",
      "None\n"
     ]
    },
    {
     "data": {
      "text/html": [
       "<div>\n",
       "<style scoped>\n",
       "    .dataframe tbody tr th:only-of-type {\n",
       "        vertical-align: middle;\n",
       "    }\n",
       "\n",
       "    .dataframe tbody tr th {\n",
       "        vertical-align: top;\n",
       "    }\n",
       "\n",
       "    .dataframe thead th {\n",
       "        text-align: right;\n",
       "    }\n",
       "</style>\n",
       "<table border=\"1\" class=\"dataframe\">\n",
       "  <thead>\n",
       "    <tr style=\"text-align: right;\">\n",
       "      <th></th>\n",
       "      <th>Comment ID</th>\n",
       "      <th>Comment Created At</th>\n",
       "      <th>Comment Text</th>\n",
       "      <th>Comment Like Count</th>\n",
       "      <th>Post ID</th>\n",
       "      <th>Stream Name</th>\n",
       "      <th>Author User Id</th>\n",
       "      <th>Author Position</th>\n",
       "    </tr>\n",
       "  </thead>\n",
       "  <tbody>\n",
       "    <tr>\n",
       "      <th>9988</th>\n",
       "      <td>3879441</td>\n",
       "      <td>2022-01-10T16:32:37</td>\n",
       "      <td>Have a magnificent first day</td>\n",
       "      <td>1</td>\n",
       "      <td>4947634</td>\n",
       "      <td>Jobs</td>\n",
       "      <td>efe02e94-0e60-462a-a619-a5bc67fc2da4</td>\n",
       "      <td>Advanced Crew Leader</td>\n",
       "    </tr>\n",
       "    <tr>\n",
       "      <th>3343</th>\n",
       "      <td>4006043</td>\n",
       "      <td>2022-02-16T17:28:49</td>\n",
       "      <td>Stay safe.   Johnstown is horrible.</td>\n",
       "      <td>1</td>\n",
       "      <td>5053357</td>\n",
       "      <td>Safety &amp; Operations</td>\n",
       "      <td>e62d292b-7a01-4aa9-ab5a-e6fbfaa6e326</td>\n",
       "      <td>Crew Leader</td>\n",
       "    </tr>\n",
       "  </tbody>\n",
       "</table>\n",
       "</div>"
      ],
      "text/plain": [
       "      Comment ID   Comment Created At                         Comment Text  \\\n",
       "9988     3879441  2022-01-10T16:32:37         Have a magnificent first day   \n",
       "3343     4006043  2022-02-16T17:28:49  Stay safe.   Johnstown is horrible.   \n",
       "\n",
       "      Comment Like Count  Post ID          Stream Name  \\\n",
       "9988                   1  4947634                 Jobs   \n",
       "3343                   1  5053357  Safety & Operations   \n",
       "\n",
       "                            Author User Id       Author Position  \n",
       "9988  efe02e94-0e60-462a-a619-a5bc67fc2da4  Advanced Crew Leader  \n",
       "3343  e62d292b-7a01-4aa9-ab5a-e6fbfaa6e326           Crew Leader  "
      ]
     },
     "execution_count": 32,
     "metadata": {},
     "output_type": "execute_result"
    }
   ],
   "source": [
    "# Users data\n",
    "path = \"C:\\\\Users\\\\eduar\\\\Documents\\\\Master_Thesis\\\\GenAI_Thesis_Beekeeper\\\\data\\\\BKPR_Datasets_Samples\"\n",
    "file_name = \"comments_report.xlsx\"\n",
    "file_path = os.path.join(path, file_name)\n",
    "data = pd.read_excel(file_path)\n",
    "print(data.info())\n",
    "# print(f'The columns are: {data.columns}')\n",
    "data.sample(2)"
   ]
  },
  {
   "cell_type": "code",
   "execution_count": 33,
   "id": "50abede5",
   "metadata": {},
   "outputs": [
    {
     "name": "stdout",
     "output_type": "stream",
     "text": [
      "The date range of comments is:\n",
      "Min date: 2022-01-04 00:11:40\n",
      "Max date: 2022-03-05 21:42:49\n",
      "Date range: 60 days 21:31:09\n"
     ]
    },
    {
     "data": {
      "text/html": [
       "<div>\n",
       "<style scoped>\n",
       "    .dataframe tbody tr th:only-of-type {\n",
       "        vertical-align: middle;\n",
       "    }\n",
       "\n",
       "    .dataframe tbody tr th {\n",
       "        vertical-align: top;\n",
       "    }\n",
       "\n",
       "    .dataframe thead th {\n",
       "        text-align: right;\n",
       "    }\n",
       "</style>\n",
       "<table border=\"1\" class=\"dataframe\">\n",
       "  <thead>\n",
       "    <tr style=\"text-align: right;\">\n",
       "      <th></th>\n",
       "      <th>Comment ID</th>\n",
       "      <th>Comment Created At</th>\n",
       "      <th>Comment Text</th>\n",
       "      <th>Comment Like Count</th>\n",
       "      <th>Post ID</th>\n",
       "      <th>Stream Name</th>\n",
       "      <th>Author User Id</th>\n",
       "      <th>Author Position</th>\n",
       "      <th>id</th>\n",
       "      <th>state</th>\n",
       "    </tr>\n",
       "  </thead>\n",
       "  <tbody>\n",
       "    <tr>\n",
       "      <th>0</th>\n",
       "      <td>4074583</td>\n",
       "      <td>2022-03-05 21:42:49</td>\n",
       "      <td>My Verizon dude just hit me we should have a j...</td>\n",
       "      <td>1</td>\n",
       "      <td>5109913</td>\n",
       "      <td>Jobs</td>\n",
       "      <td>61211813-e889-4bc3-8311-9feade845c14</td>\n",
       "      <td>Advanced Crew Leader</td>\n",
       "      <td>61211813-e889-4bc3-8311-9feade845c14</td>\n",
       "      <td>active</td>\n",
       "    </tr>\n",
       "    <tr>\n",
       "      <th>1</th>\n",
       "      <td>4074560</td>\n",
       "      <td>2022-03-05 21:33:10</td>\n",
       "      <td>Time is suppose to be submitted before leaving...</td>\n",
       "      <td>2</td>\n",
       "      <td>5109835</td>\n",
       "      <td>Water Break</td>\n",
       "      <td>c450e999-5583-45c9-9ea9-ae07be3a3055</td>\n",
       "      <td>Area Supervisor</td>\n",
       "      <td>c450e999-5583-45c9-9ea9-ae07be3a3055</td>\n",
       "      <td>active</td>\n",
       "    </tr>\n",
       "    <tr>\n",
       "      <th>2</th>\n",
       "      <td>4074556</td>\n",
       "      <td>2022-03-05 21:32:53</td>\n",
       "      <td>@Andrew_Teague, I'm sorry you are experiencing...</td>\n",
       "      <td>2</td>\n",
       "      <td>5109835</td>\n",
       "      <td>Water Break</td>\n",
       "      <td>e949bf6b-a193-4b5b-8f64-f6728d41adbe</td>\n",
       "      <td>Employee Services and Field Recruiting Manager</td>\n",
       "      <td>e949bf6b-a193-4b5b-8f64-f6728d41adbe</td>\n",
       "      <td>active</td>\n",
       "    </tr>\n",
       "    <tr>\n",
       "      <th>3</th>\n",
       "      <td>4074519</td>\n",
       "      <td>2022-03-05 21:14:32</td>\n",
       "      <td>True</td>\n",
       "      <td>0</td>\n",
       "      <td>5109835</td>\n",
       "      <td>Water Break</td>\n",
       "      <td>e62d292b-7a01-4aa9-ab5a-e6fbfaa6e326</td>\n",
       "      <td>Crew Leader</td>\n",
       "      <td>e62d292b-7a01-4aa9-ab5a-e6fbfaa6e326</td>\n",
       "      <td>active</td>\n",
       "    </tr>\n",
       "    <tr>\n",
       "      <th>4</th>\n",
       "      <td>4074483</td>\n",
       "      <td>2022-03-05 21:04:36</td>\n",
       "      <td>How do you know if your forward you're driving...</td>\n",
       "      <td>0</td>\n",
       "      <td>5106302</td>\n",
       "      <td>Flagger Force Connect</td>\n",
       "      <td>032c1a6d-4721-4b3c-8434-1ea725f718de</td>\n",
       "      <td>Advanced Crew Leader</td>\n",
       "      <td>032c1a6d-4721-4b3c-8434-1ea725f718de</td>\n",
       "      <td>active</td>\n",
       "    </tr>\n",
       "  </tbody>\n",
       "</table>\n",
       "</div>"
      ],
      "text/plain": [
       "   Comment ID  Comment Created At  \\\n",
       "0     4074583 2022-03-05 21:42:49   \n",
       "1     4074560 2022-03-05 21:33:10   \n",
       "2     4074556 2022-03-05 21:32:53   \n",
       "3     4074519 2022-03-05 21:14:32   \n",
       "4     4074483 2022-03-05 21:04:36   \n",
       "\n",
       "                                        Comment Text  Comment Like Count  \\\n",
       "0  My Verizon dude just hit me we should have a j...                   1   \n",
       "1  Time is suppose to be submitted before leaving...                   2   \n",
       "2  @Andrew_Teague, I'm sorry you are experiencing...                   2   \n",
       "3                                               True                   0   \n",
       "4  How do you know if your forward you're driving...                   0   \n",
       "\n",
       "   Post ID            Stream Name                        Author User Id  \\\n",
       "0  5109913                   Jobs  61211813-e889-4bc3-8311-9feade845c14   \n",
       "1  5109835            Water Break  c450e999-5583-45c9-9ea9-ae07be3a3055   \n",
       "2  5109835            Water Break  e949bf6b-a193-4b5b-8f64-f6728d41adbe   \n",
       "3  5109835            Water Break  e62d292b-7a01-4aa9-ab5a-e6fbfaa6e326   \n",
       "4  5106302  Flagger Force Connect  032c1a6d-4721-4b3c-8434-1ea725f718de   \n",
       "\n",
       "                                  Author Position  \\\n",
       "0                            Advanced Crew Leader   \n",
       "1                                 Area Supervisor   \n",
       "2  Employee Services and Field Recruiting Manager   \n",
       "3                                     Crew Leader   \n",
       "4                            Advanced Crew Leader   \n",
       "\n",
       "                                     id   state  \n",
       "0  61211813-e889-4bc3-8311-9feade845c14  active  \n",
       "1  c450e999-5583-45c9-9ea9-ae07be3a3055  active  \n",
       "2  e949bf6b-a193-4b5b-8f64-f6728d41adbe  active  \n",
       "3  e62d292b-7a01-4aa9-ab5a-e6fbfaa6e326  active  \n",
       "4  032c1a6d-4721-4b3c-8434-1ea725f718de  active  "
      ]
     },
     "execution_count": 33,
     "metadata": {},
     "output_type": "execute_result"
    }
   ],
   "source": [
    "# Function to preprocess the data\n",
    "df_comments = data.copy()\n",
    "\n",
    "def preprocess_post(df, df_users):\n",
    "    # Change the date format\n",
    "    df['Comment Created At'] = pd.to_datetime(df['Comment Created At'])\n",
    "    \n",
    "    # Change date format to datetime\n",
    "    df['Comment Created At'] = pd.to_datetime(df['Comment Created At'])\n",
    "    \n",
    "    # Dealing with strange characters\n",
    "    # Set the values from the 'Comment Text' column to string\n",
    "    df['Comment Text'] = df['Comment Text'].astype(str)  \n",
    "    # Replace the strange characters  \n",
    "    df['Comment Text'] = df['Comment Text'].str.replace(\"(<br/>)\", \"\")\n",
    "    df['Comment Text'] = df['Comment Text'].str.replace('(<a).*(>).*(</a>)', '')\n",
    "    df['Comment Text'] = df['Comment Text'].str.replace('(&amp)', '')\n",
    "    df['Comment Text'] = df['Comment Text'].str.replace('(&gt)', '')\n",
    "    df['Comment Text'] = df['Comment Text'].str.replace('(&lt)', '')\n",
    "    df['Comment Text'] = df['Comment Text'].str.replace('(\\xa0)', ' ')  \n",
    "    df['Comment Text'] = df['Comment Text'].str.replace('\\n', ' ')    \n",
    "    df['Comment Text'] = df['Comment Text'].str.replace('I‚Äôm', 'I am')\n",
    "    df['Comment Text'] = df['Comment Text'].str.replace('¬†¬†', '')\n",
    "    df['Comment Text'] = df['Comment Text'].str.replace('¬†', '')\n",
    "    df['Comment Text'] = df['Comment Text'].str.replace('I‚ÄôVE ', 'I have')    \n",
    "    df['Comment Text'] = df['Comment Text'].str.replace('ü•∂......', '')    \n",
    "    df['Comment Text'] = df['Comment Text'].str.replace('It‚Äôs', 'It is')\n",
    "    df['Comment Text'] = df['Comment Text'].str.replace('you‚Äôre', 'you are')\n",
    "    df['Comment Text'] = df['Comment Text'].str.replace(' ¬∑', '')    \n",
    "    df['Comment Text'] = df['Comment Text'].str.replace('IT‚ÄôS', 'IT IS')    \n",
    "    df['Comment Text'] = df['Comment Text'].str.replace('‚Äôs', \"'s\")\n",
    "    df['Comment Text'] = df['Comment Text'].str.replace(' ‚Äì', ' -')\n",
    "    df['Comment Text'] = df['Comment Text'].str.replace('‚Ä¢', '')\n",
    "    df['Comment Text'] = df['Comment Text'].str.replace('‚Äú', '')\n",
    "    df['Comment Text'] = df['Comment Text'].str.replace('‚Äù', '')\n",
    "    df['Comment Text'] = df['Comment Text'].str.replace('You‚Äôll', 'You will')\n",
    "    df['Comment Text'] = df['Comment Text'].str.replace('you‚Äôll', 'you will')\n",
    "    df['Comment Text'] = df['Comment Text'].str.replace('‚shouldn‚Äôt', 'should not')\n",
    "    df['Comment Text'] = df['Comment Text'].str.replace('‚Ä¶üó£', '!') \n",
    "    df['Comment Text'] = df['Comment Text'].str.replace('you‚Äôd', 'you would')\n",
    "\n",
    "    # date range of df\n",
    "    print(\"The date range of comments is:\")\n",
    "    print(f\"Min date: {df['Comment Created At'].min()}\")\n",
    "    print(f\"Max date: {df['Comment Created At'].max()}\")\n",
    "    print(f\"Date range: {df['Comment Created At'].max() - df['Comment Created At'].min()}\")\n",
    "    \n",
    "    # Add a new column with the state from df_users_active, connecting 'id' with 'Author User ID'\n",
    "    df = df.merge(df_users[['id','state']], left_on='Author User Id', right_on='id', how='left')\n",
    "    \n",
    "    return df \n",
    "\n",
    "df_comment_user = preprocess_post(df_comments,df_users)\n",
    "df_comment_user.head()\n"
   ]
  },
  {
   "cell_type": "code",
   "execution_count": 331,
   "id": "b935929c",
   "metadata": {},
   "outputs": [
    {
     "data": {
      "text/plain": [
       "state\n",
       "active       10346\n",
       "created          1\n",
       "suspended      116\n",
       "Name: state, dtype: int64"
      ]
     },
     "execution_count": 331,
     "metadata": {},
     "output_type": "execute_result"
    }
   ],
   "source": [
    "# Group by state\n",
    "df_comment_user['state'].groupby(df_comment_user['state']).size()"
   ]
  },
  {
   "cell_type": "code",
   "execution_count": 332,
   "id": "8c183473",
   "metadata": {},
   "outputs": [
    {
     "data": {
      "text/plain": [
       "Stream Name\n",
       "Jobs                     6108\n",
       "Water Break              2238\n",
       "Safety & Operations      1647\n",
       "OSC, We Can Help          625\n",
       "Flagger Force Connect     162\n",
       "The Whiteboard            102\n",
       "Test Stream                40\n",
       "Name: count, dtype: int64"
      ]
     },
     "execution_count": 332,
     "metadata": {},
     "output_type": "execute_result"
    }
   ],
   "source": [
    "# which Stream Name gets the most comments\n",
    "most_commented_stream = df_comment_user['Stream Name'].value_counts()\n",
    "most_commented_stream"
   ]
  },
  {
   "cell_type": "code",
   "execution_count": null,
   "id": "2fcb41b4",
   "metadata": {},
   "outputs": [],
   "source": []
  },
  {
   "cell_type": "markdown",
   "id": "5188244d",
   "metadata": {},
   "source": [
    "## 6. EDA for 'activity' data set"
   ]
  },
  {
   "cell_type": "code",
   "execution_count": 34,
   "id": "8668a3e3",
   "metadata": {},
   "outputs": [
    {
     "name": "stdout",
     "output_type": "stream",
     "text": [
      "<class 'pandas.core.frame.DataFrame'>\n",
      "RangeIndex: 6907801 entries, 0 to 6907800\n",
      "Data columns (total 16 columns):\n",
      " #   Column           Dtype \n",
      "---  ------           ----- \n",
      " 0   _inserted_at     object\n",
      " 1   _buffered_at     object\n",
      " 2   _consumer_id     object\n",
      " 3   _dwh_version     object\n",
      " 4   id               object\n",
      " 5   occurred_at      object\n",
      " 6   domain           object\n",
      " 7   user_id          object\n",
      " 8   is_bot           object\n",
      " 9   client           object\n",
      " 10  client_version   object\n",
      " 11  path             object\n",
      " 12  normalized_path  object\n",
      " 13  method           object\n",
      " 14  response_status  int64 \n",
      " 15  turnaround_time  int64 \n",
      "dtypes: int64(2), object(14)\n",
      "memory usage: 843.2+ MB\n",
      "None\n"
     ]
    },
    {
     "data": {
      "text/html": [
       "<div>\n",
       "<style scoped>\n",
       "    .dataframe tbody tr th:only-of-type {\n",
       "        vertical-align: middle;\n",
       "    }\n",
       "\n",
       "    .dataframe tbody tr th {\n",
       "        vertical-align: top;\n",
       "    }\n",
       "\n",
       "    .dataframe thead th {\n",
       "        text-align: right;\n",
       "    }\n",
       "</style>\n",
       "<table border=\"1\" class=\"dataframe\">\n",
       "  <thead>\n",
       "    <tr style=\"text-align: right;\">\n",
       "      <th></th>\n",
       "      <th>_inserted_at</th>\n",
       "      <th>_buffered_at</th>\n",
       "      <th>_consumer_id</th>\n",
       "      <th>_dwh_version</th>\n",
       "      <th>id</th>\n",
       "      <th>occurred_at</th>\n",
       "      <th>domain</th>\n",
       "      <th>user_id</th>\n",
       "      <th>is_bot</th>\n",
       "      <th>client</th>\n",
       "      <th>client_version</th>\n",
       "      <th>path</th>\n",
       "      <th>normalized_path</th>\n",
       "      <th>method</th>\n",
       "      <th>response_status</th>\n",
       "      <th>turnaround_time</th>\n",
       "    </tr>\n",
       "  </thead>\n",
       "  <tbody>\n",
       "    <tr>\n",
       "      <th>5893114</th>\n",
       "      <td>2022-02-11 03:15:14.095911</td>\n",
       "      <td>2022-02-10 17:19:49.493000</td>\n",
       "      <td>10.155.67.244</td>\n",
       "      <td>v4</td>\n",
       "      <td>5d195592-acb0-44c2-89d3-5eaacf46e6ee</td>\n",
       "      <td>2022-02-10 17:19:49.412000</td>\n",
       "      <td>us.beekeeper.io</td>\n",
       "      <td>6776df19-b2cc-43cc-a4a9-7b2976d4d5f6</td>\n",
       "      <td>False</td>\n",
       "      <td>app-ios</td>\n",
       "      <td>8.2.0b163</td>\n",
       "      <td>/api/2/notification/765972324/opened</td>\n",
       "      <td>/api/2/notification/{notification_id}/opened</td>\n",
       "      <td>PUT</td>\n",
       "      <td>200</td>\n",
       "      <td>57</td>\n",
       "    </tr>\n",
       "    <tr>\n",
       "      <th>5191326</th>\n",
       "      <td>2022-02-01 17:54:21.308111</td>\n",
       "      <td>2022-01-25 15:51:25.055000</td>\n",
       "      <td>10.155.117.163</td>\n",
       "      <td>v4</td>\n",
       "      <td>71ce4b4d-04b0-4997-97ef-0962e2e5b0d5</td>\n",
       "      <td>2022-01-25 15:51:24.986000</td>\n",
       "      <td>us.beekeeper.io</td>\n",
       "      <td>11afffd1-e8f3-479d-bfc4-0a1027504703</td>\n",
       "      <td>False</td>\n",
       "      <td>app-android</td>\n",
       "      <td>8.1.0b221</td>\n",
       "      <td>/api/2/extensions</td>\n",
       "      <td>/api/2/extensions</td>\n",
       "      <td>GET</td>\n",
       "      <td>200</td>\n",
       "      <td>720</td>\n",
       "    </tr>\n",
       "  </tbody>\n",
       "</table>\n",
       "</div>"
      ],
      "text/plain": [
       "                       _inserted_at                _buffered_at  \\\n",
       "5893114  2022-02-11 03:15:14.095911  2022-02-10 17:19:49.493000   \n",
       "5191326  2022-02-01 17:54:21.308111  2022-01-25 15:51:25.055000   \n",
       "\n",
       "           _consumer_id _dwh_version                                    id  \\\n",
       "5893114   10.155.67.244           v4  5d195592-acb0-44c2-89d3-5eaacf46e6ee   \n",
       "5191326  10.155.117.163           v4  71ce4b4d-04b0-4997-97ef-0962e2e5b0d5   \n",
       "\n",
       "                        occurred_at           domain  \\\n",
       "5893114  2022-02-10 17:19:49.412000  us.beekeeper.io   \n",
       "5191326  2022-01-25 15:51:24.986000  us.beekeeper.io   \n",
       "\n",
       "                                      user_id is_bot       client  \\\n",
       "5893114  6776df19-b2cc-43cc-a4a9-7b2976d4d5f6  False      app-ios   \n",
       "5191326  11afffd1-e8f3-479d-bfc4-0a1027504703  False  app-android   \n",
       "\n",
       "        client_version                                  path  \\\n",
       "5893114      8.2.0b163  /api/2/notification/765972324/opened   \n",
       "5191326      8.1.0b221                     /api/2/extensions   \n",
       "\n",
       "                                      normalized_path method  response_status  \\\n",
       "5893114  /api/2/notification/{notification_id}/opened    PUT              200   \n",
       "5191326                             /api/2/extensions    GET              200   \n",
       "\n",
       "         turnaround_time  \n",
       "5893114               57  \n",
       "5191326              720  "
      ]
     },
     "execution_count": 34,
     "metadata": {},
     "output_type": "execute_result"
    }
   ],
   "source": [
    "# Users data\n",
    "file_name = \"user_activity_logs.csv\"\n",
    "file_path = os.path.join(path, file_name)\n",
    "data = pd.read_csv(file_path)\n",
    "print(data.info())\n",
    "# print(f'The columns are: {data.columns}')\n",
    "data.sample(2)"
   ]
  },
  {
   "cell_type": "code",
   "execution_count": 36,
   "id": "8c6061d5",
   "metadata": {},
   "outputs": [
    {
     "name": "stdout",
     "output_type": "stream",
     "text": [
      "The date range of activity is:\n",
      "Min date: 2022-01-01 00:01:20.488154\n",
      "Max date: 2022-03-01 03:02:59.666514\n",
      "Date range: 59 days 03:01:39.178360\n"
     ]
    },
    {
     "data": {
      "text/html": [
       "<div>\n",
       "<style scoped>\n",
       "    .dataframe tbody tr th:only-of-type {\n",
       "        vertical-align: middle;\n",
       "    }\n",
       "\n",
       "    .dataframe tbody tr th {\n",
       "        vertical-align: top;\n",
       "    }\n",
       "\n",
       "    .dataframe thead th {\n",
       "        text-align: right;\n",
       "    }\n",
       "</style>\n",
       "<table border=\"1\" class=\"dataframe\">\n",
       "  <thead>\n",
       "    <tr style=\"text-align: right;\">\n",
       "      <th></th>\n",
       "      <th>_inserted_at</th>\n",
       "      <th>id</th>\n",
       "      <th>user_id</th>\n",
       "      <th>path</th>\n",
       "      <th>normalized_path</th>\n",
       "      <th>action_path</th>\n",
       "      <th>method</th>\n",
       "      <th>response_status</th>\n",
       "      <th>turnaround_time</th>\n",
       "    </tr>\n",
       "  </thead>\n",
       "  <tbody>\n",
       "    <tr>\n",
       "      <th>619</th>\n",
       "      <td>2022-01-01 00:01:20.488154</td>\n",
       "      <td>af8b2384-4750-4fc2-992e-453b63d82102</td>\n",
       "      <td>d68ccf85-6b63-4e53-8614-dbcd3d28c14e</td>\n",
       "      <td>/api/2/prompts</td>\n",
       "      <td>/api/2/prompts</td>\n",
       "      <td>prompts</td>\n",
       "      <td>GET</td>\n",
       "      <td>200</td>\n",
       "      <td>150</td>\n",
       "    </tr>\n",
       "    <tr>\n",
       "      <th>1687</th>\n",
       "      <td>2022-01-01 00:01:20.488154</td>\n",
       "      <td>090de9c0-a721-4879-a3db-cf1858a1c2aa</td>\n",
       "      <td>e72cd514-2c97-4472-b2df-e296c8295428</td>\n",
       "      <td>/api/2/streams/9254/posts</td>\n",
       "      <td>/api/2/streams/{streamid}/posts</td>\n",
       "      <td>streams/{streamid}/posts</td>\n",
       "      <td>GET</td>\n",
       "      <td>200</td>\n",
       "      <td>42</td>\n",
       "    </tr>\n",
       "    <tr>\n",
       "      <th>3452136</th>\n",
       "      <td>2022-01-01 00:01:20.488154</td>\n",
       "      <td>ef299f2a-ae60-4129-9fd7-f2401bb89ca8</td>\n",
       "      <td>f8336fba-9e07-487c-b3c7-078070532f10</td>\n",
       "      <td>/api/2/posts</td>\n",
       "      <td>/api/2/posts</td>\n",
       "      <td>posts</td>\n",
       "      <td>GET</td>\n",
       "      <td>200</td>\n",
       "      <td>503</td>\n",
       "    </tr>\n",
       "    <tr>\n",
       "      <th>3452135</th>\n",
       "      <td>2022-01-01 00:01:20.488154</td>\n",
       "      <td>869bf1a3-aa63-4fbe-882b-5c21fd43a043</td>\n",
       "      <td>f8336fba-9e07-487c-b3c7-078070532f10</td>\n",
       "      <td>/api/2/streams</td>\n",
       "      <td>/api/2/streams</td>\n",
       "      <td>streams</td>\n",
       "      <td>GET</td>\n",
       "      <td>200</td>\n",
       "      <td>156</td>\n",
       "    </tr>\n",
       "    <tr>\n",
       "      <th>3452134</th>\n",
       "      <td>2022-01-01 00:01:20.488154</td>\n",
       "      <td>7a645500-797e-4770-bc0e-f73a9929cf5f</td>\n",
       "      <td>e72cd514-2c97-4472-b2df-e296c8295428</td>\n",
       "      <td>/api/2/notifications</td>\n",
       "      <td>/api/2/notifications</td>\n",
       "      <td>notifications</td>\n",
       "      <td>GET</td>\n",
       "      <td>200</td>\n",
       "      <td>1006</td>\n",
       "    </tr>\n",
       "  </tbody>\n",
       "</table>\n",
       "</div>"
      ],
      "text/plain": [
       "                      _inserted_at                                    id  \\\n",
       "619     2022-01-01 00:01:20.488154  af8b2384-4750-4fc2-992e-453b63d82102   \n",
       "1687    2022-01-01 00:01:20.488154  090de9c0-a721-4879-a3db-cf1858a1c2aa   \n",
       "3452136 2022-01-01 00:01:20.488154  ef299f2a-ae60-4129-9fd7-f2401bb89ca8   \n",
       "3452135 2022-01-01 00:01:20.488154  869bf1a3-aa63-4fbe-882b-5c21fd43a043   \n",
       "3452134 2022-01-01 00:01:20.488154  7a645500-797e-4770-bc0e-f73a9929cf5f   \n",
       "\n",
       "                                      user_id                       path  \\\n",
       "619      d68ccf85-6b63-4e53-8614-dbcd3d28c14e             /api/2/prompts   \n",
       "1687     e72cd514-2c97-4472-b2df-e296c8295428  /api/2/streams/9254/posts   \n",
       "3452136  f8336fba-9e07-487c-b3c7-078070532f10               /api/2/posts   \n",
       "3452135  f8336fba-9e07-487c-b3c7-078070532f10             /api/2/streams   \n",
       "3452134  e72cd514-2c97-4472-b2df-e296c8295428       /api/2/notifications   \n",
       "\n",
       "                         normalized_path               action_path method  \\\n",
       "619                       /api/2/prompts                   prompts    GET   \n",
       "1687     /api/2/streams/{streamid}/posts  streams/{streamid}/posts    GET   \n",
       "3452136                     /api/2/posts                     posts    GET   \n",
       "3452135                   /api/2/streams                   streams    GET   \n",
       "3452134             /api/2/notifications             notifications    GET   \n",
       "\n",
       "         response_status  turnaround_time  \n",
       "619                  200              150  \n",
       "1687                 200               42  \n",
       "3452136              200              503  \n",
       "3452135              200              156  \n",
       "3452134              200             1006  "
      ]
     },
     "execution_count": 36,
     "metadata": {},
     "output_type": "execute_result"
    }
   ],
   "source": [
    "# Define a function to preprocess the data\n",
    "df_logs = data.copy()\n",
    "def preprocess_activity(df):\n",
    "    # Change the date format\n",
    "    df['_inserted_at'] = pd.to_datetime(df['_inserted_at'])\n",
    "    # df['_buffered_at'] = pd.to_datetime(df['_buffered_at'])\n",
    "    # df['occurred_at'] = pd.to_datetime(df['occurred_at'])    \n",
    "    \n",
    "    # Extract specific path of the action\n",
    "    df['action_path'] = df['normalized_path'].str.extract(r'/api/2/(.*)')\n",
    "    \n",
    "    # Delete columns\n",
    "    #columns_to_keep = ['_inserted_at', '_buffered_at', '_consumer_id', '_dwh_version', 'id','occurred_at', 'domain', 'user_id', 'is_bot', 'client', 'client_version', 'path', 'normalized_path', 'method','response_status', 'turnaround_time']\n",
    "    columns_to_keep = ['_inserted_at', 'id', 'user_id', 'path', 'normalized_path', 'action_path', 'method','response_status', 'turnaround_time']\n",
    "    df = df[columns_to_keep]\n",
    "    \n",
    "    # date range of df\n",
    "    print(\"The date range of activity is:\")\n",
    "    print(f\"Min date: {df['_inserted_at'].min()}\")\n",
    "    print(f\"Max date: {df['_inserted_at'].max()}\")\n",
    "    print(f\"Date range: {df['_inserted_at'].max() - df['_inserted_at'].min()}\")\n",
    "    \n",
    "    return df\n",
    "\n",
    "df_activity = preprocess_activity(df_logs)\n",
    "df_activity.sort_values('_inserted_at', ascending=True, inplace=True)\n",
    "df_activity.head()"
   ]
  },
  {
   "cell_type": "code",
   "execution_count": null,
   "id": "6684b4fa",
   "metadata": {},
   "outputs": [
    {
     "name": "stdout",
     "output_type": "stream",
     "text": [
      "145\n"
     ]
    },
    {
     "data": {
      "text/plain": [
       "normalized_path\n",
       "/api/2/streams                          1355406\n",
       "/api/2/notifications                     567223\n",
       "/api/2/streams/{streamid}                539227\n",
       "/api/2/prompts                           448189\n",
       "/api/2/status                            401710\n",
       "                                         ...   \n",
       "/api/2/conversations/{id}/mute                1\n",
       "/api/2/bots/{id}/token                        1\n",
       "/api/2/streams/{stream_id}/org_units          1\n",
       "/api/2/workerbees/{id}                        1\n",
       "/api/2/actions                                1\n",
       "Name: id, Length: 145, dtype: int64"
      ]
     },
     "execution_count": 340,
     "metadata": {},
     "output_type": "execute_result"
    }
   ],
   "source": [
    "actions_count = df_activity.groupby(by=['normalized_path'])['id'].count().sort_values(ascending=False)\n",
    "print(len(actions_count))\n",
    "actions_count"
   ]
  },
  {
   "cell_type": "code",
   "execution_count": 215,
   "id": "3526deb7",
   "metadata": {},
   "outputs": [
    {
     "data": {
      "text/plain": [
       "path                                                  method\n",
       "/api/2/conversations/11759824/messages/57198126/read  POST      1\n",
       "/api/2/conversations/11650625/messages/57259190/read  POST      1\n",
       "/api/2/conversations/11828861/messages                GET       1\n",
       "/api/2/conversations/12208344/messages                GET       1\n",
       "/api/2/conversations/11292564/messages/54707288/read  POST      1\n",
       "/api/2/notification/769097777/opened                  PUT       2\n",
       "/api/2/conversations/12046223                         GET       2\n",
       "/api/2/comments/3998562/likes                         GET       2\n",
       "/api/2/conversations/12243701/messages                POST      1\n",
       "/api/2/notification/759760368/opened                  PUT       4\n",
       "Name: id, dtype: int64"
      ]
     },
     "execution_count": 215,
     "metadata": {},
     "output_type": "execute_result"
    }
   ],
   "source": [
    "df_activity.groupby(by=['path','method'])['id'].count().sort_values(ascending=False).sample(10)"
   ]
  },
  {
   "cell_type": "code",
   "execution_count": 335,
   "id": "72629a79",
   "metadata": {},
   "outputs": [
    {
     "data": {
      "text/plain": [
       "method\n",
       "GET       6344966\n",
       "PUT        301240\n",
       "POST       259506\n",
       "DELETE       2089\n",
       "Name: count, dtype: int64"
      ]
     },
     "execution_count": 335,
     "metadata": {},
     "output_type": "execute_result"
    }
   ],
   "source": [
    "# RESTful API methods\n",
    "\"\"\" \n",
    "GET to retrieve a resource;\n",
    "PUT to change the state of or update a resource, which can be an object, file or block;\n",
    "POST to create that resource;\n",
    "DELETE to remove it.\n",
    "\"\"\"\n",
    "df_activity['method'].value_counts()"
   ]
  },
  {
   "cell_type": "code",
   "execution_count": 341,
   "id": "718d837e",
   "metadata": {},
   "outputs": [
    {
     "data": {
      "text/plain": [
       "response_status\n",
       "200    6896509\n",
       "401       5027\n",
       "404       2835\n",
       "500       2346\n",
       "400        825\n",
       "403        117\n",
       "201        116\n",
       "409         21\n",
       "405          4\n",
       "204          1\n",
       "Name: count, dtype: int64"
      ]
     },
     "execution_count": 341,
     "metadata": {},
     "output_type": "execute_result"
    }
   ],
   "source": [
    "df_activity['response_status'].value_counts()"
   ]
  },
  {
   "cell_type": "code",
   "execution_count": 216,
   "id": "afa3bb95",
   "metadata": {},
   "outputs": [
    {
     "data": {
      "text/plain": [
       "response_status  method\n",
       "200              GET       6334303\n",
       "                 PUT        301087\n",
       "                 POST       259037\n",
       "401              GET          4922\n",
       "404              GET          2770\n",
       "500              GET          2303\n",
       "200              DELETE       2082\n",
       "400              GET           555\n",
       "                 POST          160\n",
       "403              GET           112\n",
       "400              PUT           108\n",
       "401              POST          105\n",
       "201              POST          105\n",
       "404              POST           43\n",
       "500              POST           32\n",
       "404              PUT            22\n",
       "409              POST           20\n",
       "500              PUT            11\n",
       "201              PUT            11\n",
       "403              DELETE          4\n",
       "405              POST            3\n",
       "400              DELETE          2\n",
       "403              POST            1\n",
       "405              GET             1\n",
       "409              PUT             1\n",
       "204              DELETE          1\n",
       "Name: id, dtype: int64"
      ]
     },
     "execution_count": 216,
     "metadata": {},
     "output_type": "execute_result"
    }
   ],
   "source": [
    "df_activity.groupby(by=['response_status', 'method'])['id'].count().sort_values(ascending=False)"
   ]
  },
  {
   "cell_type": "code",
   "execution_count": 217,
   "id": "e08737fe",
   "metadata": {},
   "outputs": [
    {
     "data": {
      "text/plain": [
       "array([200, 400, 404, 401, 201, 403, 500, 409, 204, 405], dtype=int64)"
      ]
     },
     "execution_count": 217,
     "metadata": {},
     "output_type": "execute_result"
    }
   ],
   "source": [
    "df_activity['response_status'].unique()"
   ]
  },
  {
   "cell_type": "code",
   "execution_count": 218,
   "metadata": {},
   "outputs": [
    {
     "data": {
      "text/plain": [
       "response_status\n",
       "200    6896509\n",
       "401       5027\n",
       "404       2835\n",
       "500       2346\n",
       "400        825\n",
       "403        117\n",
       "201        116\n",
       "409         21\n",
       "405          4\n",
       "204          1\n",
       "Name: id, dtype: int64"
      ]
     },
     "execution_count": 218,
     "metadata": {},
     "output_type": "execute_result"
    }
   ],
   "source": [
    "df_activity.groupby(by=['response_status'])['id'].count().fillna(0).sort_values(ascending=False)"
   ]
  },
  {
   "cell_type": "markdown",
   "id": "87866096",
   "metadata": {},
   "source": [
    "### 5.2 Apply K-modes "
   ]
  },
  {
   "cell_type": "code",
   "execution_count": 390,
   "id": "acef9d96",
   "metadata": {},
   "outputs": [
    {
     "data": {
      "text/html": [
       "<div>\n",
       "<style scoped>\n",
       "    .dataframe tbody tr th:only-of-type {\n",
       "        vertical-align: middle;\n",
       "    }\n",
       "\n",
       "    .dataframe tbody tr th {\n",
       "        vertical-align: top;\n",
       "    }\n",
       "\n",
       "    .dataframe thead th {\n",
       "        text-align: right;\n",
       "    }\n",
       "</style>\n",
       "<table border=\"1\" class=\"dataframe\">\n",
       "  <thead>\n",
       "    <tr style=\"text-align: right;\">\n",
       "      <th></th>\n",
       "      <th>_inserted_at</th>\n",
       "      <th>id</th>\n",
       "      <th>user_id</th>\n",
       "      <th>path</th>\n",
       "      <th>normalized_path</th>\n",
       "      <th>action_path</th>\n",
       "      <th>method</th>\n",
       "      <th>response_status</th>\n",
       "      <th>turnaround_time</th>\n",
       "    </tr>\n",
       "  </thead>\n",
       "  <tbody>\n",
       "    <tr>\n",
       "      <th>0</th>\n",
       "      <td>2022-01-10 19:22:38.366080</td>\n",
       "      <td>128d3ac8-1a59-4a36-a11b-619fd1d8988b</td>\n",
       "      <td>99d73931-1583-485d-afa7-ee1e20c05868</td>\n",
       "      <td>/api/2/status</td>\n",
       "      <td>/api/2/status</td>\n",
       "      <td>status</td>\n",
       "      <td>GET</td>\n",
       "      <td>200</td>\n",
       "      <td>54</td>\n",
       "    </tr>\n",
       "    <tr>\n",
       "      <th>1</th>\n",
       "      <td>2022-01-10 19:22:38.366080</td>\n",
       "      <td>ddfdeb2d-a466-4ae0-a1d6-a1efc6628182</td>\n",
       "      <td>99d73931-1583-485d-afa7-ee1e20c05868</td>\n",
       "      <td>/api/2/prompts</td>\n",
       "      <td>/api/2/prompts</td>\n",
       "      <td>prompts</td>\n",
       "      <td>GET</td>\n",
       "      <td>200</td>\n",
       "      <td>125</td>\n",
       "    </tr>\n",
       "  </tbody>\n",
       "</table>\n",
       "</div>"
      ],
      "text/plain": [
       "                _inserted_at                                    id  \\\n",
       "0 2022-01-10 19:22:38.366080  128d3ac8-1a59-4a36-a11b-619fd1d8988b   \n",
       "1 2022-01-10 19:22:38.366080  ddfdeb2d-a466-4ae0-a1d6-a1efc6628182   \n",
       "\n",
       "                                user_id            path normalized_path  \\\n",
       "0  99d73931-1583-485d-afa7-ee1e20c05868   /api/2/status   /api/2/status   \n",
       "1  99d73931-1583-485d-afa7-ee1e20c05868  /api/2/prompts  /api/2/prompts   \n",
       "\n",
       "  action_path method response_status  turnaround_time  \n",
       "0      status    GET             200               54  \n",
       "1     prompts    GET             200              125  "
      ]
     },
     "execution_count": 390,
     "metadata": {},
     "output_type": "execute_result"
    }
   ],
   "source": [
    "df_activity.head(2)"
   ]
  },
  {
   "cell_type": "code",
   "execution_count": 411,
   "id": "04669e05",
   "metadata": {},
   "outputs": [
    {
     "data": {
      "text/plain": [
       "_inserted_at\n",
       "2022-01-01 00:01:20.488154        94\n",
       "2022-01-01 00:03:38.397752       264\n",
       "2022-01-01 00:05:50.006532       200\n",
       "2022-01-01 00:07:54.574998       125\n",
       "2022-01-01 00:10:13.131875        57\n",
       "                               ...  \n",
       "2022-02-25 18:31:21.110891    130541\n",
       "2022-02-26 03:03:29.709754    152155\n",
       "2022-02-27 03:03:22.351681     84076\n",
       "2022-02-28 03:04:02.482092     71512\n",
       "2022-03-01 03:02:59.666514    110817\n",
       "Name: method, Length: 15180, dtype: int64"
      ]
     },
     "execution_count": 411,
     "metadata": {},
     "output_type": "execute_result"
    }
   ],
   "source": [
    "df_activity.groupby(by=['action_path'])['id'].count().sort_values(ascending=False)\n",
    "df_inserted_at_grouped = df_activity.groupby(by=['_inserted_at'])['method'].count()\n",
    "\n",
    "df_inserted_at_grouped.to_frame().reset_index()\n",
    "# name the columns\n",
    "df_inserted_at_grouped.columns = ['_inserted_at', 'count']\n",
    "df_inserted_at_grouped"
   ]
  },
  {
   "cell_type": "code",
   "execution_count": 414,
   "id": "a4668dd7",
   "metadata": {},
   "outputs": [
    {
     "data": {
      "text/plain": [
       "_inserted_at\n",
       "2022-01-10 19:22:38.366080    469\n",
       "Name: method, dtype: int64"
      ]
     },
     "execution_count": 414,
     "metadata": {},
     "output_type": "execute_result"
    }
   ],
   "source": [
    "df_inserted_at_grouped[df_inserted_at_grouped.index == '2022-01-10 19:22:38.366080']"
   ]
  },
  {
   "cell_type": "code",
   "execution_count": null,
   "id": "b2428359",
   "metadata": {},
   "outputs": [],
   "source": []
  },
  {
   "cell_type": "code",
   "execution_count": 358,
   "id": "818727e5",
   "metadata": {},
   "outputs": [
    {
     "name": "stdout",
     "output_type": "stream",
     "text": [
      "Collecting kmodes\n",
      "  Downloading kmodes-0.12.2-py2.py3-none-any.whl.metadata (8.1 kB)\n",
      "Requirement already satisfied: numpy>=1.10.4 in c:\\users\\eduar\\appdata\\local\\programs\\python\\python311\\lib\\site-packages (from kmodes) (1.25.2)\n",
      "Collecting scikit-learn>=0.22.0 (from kmodes)\n",
      "  Downloading scikit_learn-1.4.1.post1-cp311-cp311-win_amd64.whl.metadata (11 kB)\n",
      "Requirement already satisfied: scipy>=0.13.3 in c:\\users\\eduar\\appdata\\local\\programs\\python\\python311\\lib\\site-packages (from kmodes) (1.11.4)\n",
      "Requirement already satisfied: joblib>=0.11 in c:\\users\\eduar\\appdata\\local\\programs\\python\\python311\\lib\\site-packages (from kmodes) (1.1.1)\n",
      "Collecting joblib>=0.11 (from kmodes)\n",
      "  Using cached joblib-1.3.2-py3-none-any.whl.metadata (5.4 kB)\n",
      "Collecting threadpoolctl>=2.0.0 (from scikit-learn>=0.22.0->kmodes)\n",
      "  Downloading threadpoolctl-3.4.0-py3-none-any.whl.metadata (13 kB)\n",
      "Downloading kmodes-0.12.2-py2.py3-none-any.whl (20 kB)\n",
      "Downloading scikit_learn-1.4.1.post1-cp311-cp311-win_amd64.whl (10.6 MB)\n",
      "   ---------------------------------------- 0.0/10.6 MB ? eta -:--:--\n",
      "    --------------------------------------- 0.2/10.6 MB 4.6 MB/s eta 0:00:03\n",
      "   --- ------------------------------------ 0.9/10.6 MB 9.9 MB/s eta 0:00:01\n",
      "   ------ --------------------------------- 1.7/10.6 MB 12.1 MB/s eta 0:00:01\n",
      "   -------- ------------------------------- 2.2/10.6 MB 11.7 MB/s eta 0:00:01\n",
      "   ----------- ---------------------------- 2.9/10.6 MB 12.5 MB/s eta 0:00:01\n",
      "   ------------- -------------------------- 3.7/10.6 MB 13.0 MB/s eta 0:00:01\n",
      "   ----------------- ---------------------- 4.6/10.6 MB 14.0 MB/s eta 0:00:01\n",
      "   -------------------- ------------------- 5.4/10.6 MB 14.3 MB/s eta 0:00:01\n",
      "   ----------------------- ---------------- 6.3/10.6 MB 15.5 MB/s eta 0:00:01\n",
      "   -------------------------- ------------- 7.2/10.6 MB 15.8 MB/s eta 0:00:01\n",
      "   ------------------------------ --------- 8.0/10.6 MB 16.0 MB/s eta 0:00:01\n",
      "   --------------------------------- ------ 8.9/10.6 MB 16.2 MB/s eta 0:00:01\n",
      "   ---------------------------------- ----- 9.1/10.6 MB 16.2 MB/s eta 0:00:01\n",
      "   -------------------------------------- - 10.2/10.6 MB 15.9 MB/s eta 0:00:01\n",
      "   ---------------------------------------  10.6/10.6 MB 16.8 MB/s eta 0:00:01\n",
      "   ---------------------------------------- 10.6/10.6 MB 16.0 MB/s eta 0:00:00\n",
      "Using cached joblib-1.3.2-py3-none-any.whl (302 kB)\n",
      "Downloading threadpoolctl-3.4.0-py3-none-any.whl (17 kB)\n",
      "Installing collected packages: threadpoolctl, joblib, scikit-learn, kmodes\n",
      "  Attempting uninstall: joblib\n",
      "    Found existing installation: joblib 1.1.1\n",
      "    Uninstalling joblib-1.1.1:\n",
      "      Successfully uninstalled joblib-1.1.1\n",
      "Successfully installed joblib-1.3.2 kmodes-0.12.2 scikit-learn-1.4.1.post1 threadpoolctl-3.4.0\n"
     ]
    },
    {
     "name": "stderr",
     "output_type": "stream",
     "text": [
      "ERROR: pip's dependency resolver does not currently take into account all the packages that are installed. This behaviour is the source of the following dependency conflicts.\n",
      "pandas-profiling 3.2.0 requires joblib~=1.1.0, but you have joblib 1.3.2 which is incompatible.\n",
      "pandas-profiling 3.2.0 requires visions[type_image_path]==0.7.4, but you have visions 0.7.5 which is incompatible.\n"
     ]
    }
   ],
   "source": [
    "! pip install kmodes"
   ]
  },
  {
   "cell_type": "code",
   "execution_count": 373,
   "id": "6e3abf6f",
   "metadata": {},
   "outputs": [
    {
     "data": {
      "text/plain": [
       "CategoricalDtype(categories=[200, 201, 204, 400, 401, 403, 404, 405, 409, 500], ordered=False, categories_dtype=int64)"
      ]
     },
     "execution_count": 373,
     "metadata": {},
     "output_type": "execute_result"
    }
   ],
   "source": [
    "# Set the values from the 'response_status' column to categorical\n",
    "df_activity['response_status'] = df_activity['response_status'].astype('category')\n",
    "df_activity['response_status'].dtype\n",
    "\n"
   ]
  },
  {
   "cell_type": "code",
   "execution_count": 374,
   "id": "129481fa",
   "metadata": {},
   "outputs": [
    {
     "data": {
      "text/html": [
       "<div>\n",
       "<style scoped>\n",
       "    .dataframe tbody tr th:only-of-type {\n",
       "        vertical-align: middle;\n",
       "    }\n",
       "\n",
       "    .dataframe tbody tr th {\n",
       "        vertical-align: top;\n",
       "    }\n",
       "\n",
       "    .dataframe thead th {\n",
       "        text-align: right;\n",
       "    }\n",
       "</style>\n",
       "<table border=\"1\" class=\"dataframe\">\n",
       "  <thead>\n",
       "    <tr style=\"text-align: right;\">\n",
       "      <th></th>\n",
       "      <th>path</th>\n",
       "      <th>normalized_path</th>\n",
       "      <th>method</th>\n",
       "      <th>response_status</th>\n",
       "    </tr>\n",
       "  </thead>\n",
       "  <tbody>\n",
       "    <tr>\n",
       "      <th>0</th>\n",
       "      <td>172516</td>\n",
       "      <td>100</td>\n",
       "      <td>1</td>\n",
       "      <td>0</td>\n",
       "    </tr>\n",
       "    <tr>\n",
       "      <th>1</th>\n",
       "      <td>172504</td>\n",
       "      <td>92</td>\n",
       "      <td>1</td>\n",
       "      <td>0</td>\n",
       "    </tr>\n",
       "    <tr>\n",
       "      <th>2</th>\n",
       "      <td>172517</td>\n",
       "      <td>101</td>\n",
       "      <td>1</td>\n",
       "      <td>0</td>\n",
       "    </tr>\n",
       "    <tr>\n",
       "      <th>3</th>\n",
       "      <td>143479</td>\n",
       "      <td>72</td>\n",
       "      <td>1</td>\n",
       "      <td>0</td>\n",
       "    </tr>\n",
       "    <tr>\n",
       "      <th>4</th>\n",
       "      <td>33</td>\n",
       "      <td>4</td>\n",
       "      <td>1</td>\n",
       "      <td>0</td>\n",
       "    </tr>\n",
       "  </tbody>\n",
       "</table>\n",
       "</div>"
      ],
      "text/plain": [
       "     path  normalized_path  method  response_status\n",
       "0  172516              100       1                0\n",
       "1  172504               92       1                0\n",
       "2  172517              101       1                0\n",
       "3  143479               72       1                0\n",
       "4      33                4       1                0"
      ]
     },
     "execution_count": 374,
     "metadata": {},
     "output_type": "execute_result"
    }
   ],
   "source": [
    "# Encode to labels all columns with categorical data\n",
    "from sklearn.preprocessing import LabelEncoder\n",
    "le = LabelEncoder()\n",
    "\n",
    "predictors_categorical = ['path', 'normalized_path', 'method','response_status']\n",
    "X = df_activity[predictors_categorical]\n",
    "\n",
    "X = X.apply(le.fit_transform)\n",
    "X.head()"
   ]
  },
  {
   "cell_type": "code",
   "execution_count": null,
   "id": "8170666c",
   "metadata": {},
   "outputs": [],
   "source": [
    "# Print the resulting clusters\n",
    "#print(clusters)\n",
    "print(km_cao.cluster_centroids_)"
   ]
  },
  {
   "cell_type": "code",
   "execution_count": 375,
   "id": "54ccf536",
   "metadata": {},
   "outputs": [
    {
     "name": "stdout",
     "output_type": "stream",
     "text": [
      "Init: initializing centroids\n",
      "Init: initializing clusters\n",
      "Starting iterations...\n",
      "Run 1, iteration: 1/100, moves: 0, cost: 10544471.0\n"
     ]
    }
   ],
   "source": [
    "# Importing Libraries\n",
    "from kmodes.kmodes import KModes\n",
    "import numpy as np\n",
    "\n",
    "# Perform k-modes clustering with \"cao\" initialization\n",
    "km_cao = KModes(n_clusters=2, init='Cao', n_init=1, verbose=1)\n",
    "fit_clusters_cao = km_cao.fit_predict(X)\n"
   ]
  },
  {
   "cell_type": "code",
   "execution_count": 378,
   "id": "3edd8580",
   "metadata": {},
   "outputs": [
    {
     "data": {
      "text/plain": [
       "array([0, 0, 0, ..., 0, 0, 1], dtype=uint16)"
      ]
     },
     "execution_count": 378,
     "metadata": {},
     "output_type": "execute_result"
    }
   ],
   "source": [
    "fit_clusters_cao"
   ]
  },
  {
   "cell_type": "code",
   "execution_count": 379,
   "id": "a781f1ef",
   "metadata": {},
   "outputs": [
    {
     "data": {
      "text/plain": [
       "array([[172517,    101,      1,      0],\n",
       "       [143479,     72,      1,      0]], dtype=int64)"
      ]
     },
     "execution_count": 379,
     "metadata": {},
     "output_type": "execute_result"
    }
   ],
   "source": [
    "km_cao.cluster_centroids_"
   ]
  },
  {
   "cell_type": "code",
   "execution_count": 381,
   "id": "b0427fb6",
   "metadata": {},
   "outputs": [
    {
     "data": {
      "text/html": [
       "<div>\n",
       "<style scoped>\n",
       "    .dataframe tbody tr th:only-of-type {\n",
       "        vertical-align: middle;\n",
       "    }\n",
       "\n",
       "    .dataframe tbody tr th {\n",
       "        vertical-align: top;\n",
       "    }\n",
       "\n",
       "    .dataframe thead th {\n",
       "        text-align: right;\n",
       "    }\n",
       "</style>\n",
       "<table border=\"1\" class=\"dataframe\">\n",
       "  <thead>\n",
       "    <tr style=\"text-align: right;\">\n",
       "      <th></th>\n",
       "      <th>path</th>\n",
       "      <th>normalized_path</th>\n",
       "      <th>method</th>\n",
       "      <th>response_status</th>\n",
       "    </tr>\n",
       "  </thead>\n",
       "  <tbody>\n",
       "    <tr>\n",
       "      <th>0</th>\n",
       "      <td>172517</td>\n",
       "      <td>101</td>\n",
       "      <td>1</td>\n",
       "      <td>0</td>\n",
       "    </tr>\n",
       "    <tr>\n",
       "      <th>1</th>\n",
       "      <td>143479</td>\n",
       "      <td>72</td>\n",
       "      <td>1</td>\n",
       "      <td>0</td>\n",
       "    </tr>\n",
       "  </tbody>\n",
       "</table>\n",
       "</div>"
      ],
      "text/plain": [
       "     path  normalized_path  method  response_status\n",
       "0  172517              101       1                0\n",
       "1  143479               72       1                0"
      ]
     },
     "execution_count": 381,
     "metadata": {},
     "output_type": "execute_result"
    }
   ],
   "source": [
    "df_clusterCentroids = pd.DataFrame(km_cao.cluster_centroids_)\n",
    "df_clusterCentroids.columns = X.columns\n",
    "df_clusterCentroids"
   ]
  },
  {
   "cell_type": "code",
   "execution_count": null,
   "id": "084ecac4",
   "metadata": {},
   "outputs": [],
   "source": []
  },
  {
   "cell_type": "code",
   "execution_count": 382,
   "id": "d0f5240b",
   "metadata": {},
   "outputs": [
    {
     "name": "stdout",
     "output_type": "stream",
     "text": [
      "Init: initializing centroids\n",
      "Init: initializing clusters\n",
      "Starting iterations...\n",
      "Run 1, iteration: 1/100, moves: 0, cost: 11377545.0\n"
     ]
    }
   ],
   "source": [
    "# Perform k-modes clustering with \"Huang\" initialization\n",
    "km_huang = KModes(n_clusters=2, init='Huang', n_init=1, verbose=1)\n",
    "fit_clusters_huang = km_huang.fit_predict(X)"
   ]
  },
  {
   "cell_type": "code",
   "execution_count": 383,
   "id": "543a7e4c",
   "metadata": {},
   "outputs": [
    {
     "data": {
      "text/plain": [
       "array([0, 0, 0, ..., 0, 0, 0], dtype=uint16)"
      ]
     },
     "execution_count": 383,
     "metadata": {},
     "output_type": "execute_result"
    }
   ],
   "source": [
    "fit_clusters_huang\n",
    "\n",
    "# Cao initialization has a lower cost"
   ]
  },
  {
   "cell_type": "code",
   "execution_count": 385,
   "id": "a05d79e6",
   "metadata": {},
   "outputs": [
    {
     "name": "stdout",
     "output_type": "stream",
     "text": [
      "Init: initializing centroids\n",
      "Init: initializing clusters\n",
      "Starting iterations...\n",
      "Run 1, iteration: 1/100, moves: 0, cost: 11678917.0\n",
      "Init: initializing centroids\n",
      "Init: initializing clusters\n",
      "Starting iterations...\n",
      "Run 1, iteration: 1/100, moves: 0, cost: 10544471.0\n",
      "Init: initializing centroids\n",
      "Init: initializing clusters\n",
      "Starting iterations...\n",
      "Run 1, iteration: 1/100, moves: 0, cost: 9648093.0\n",
      "Init: initializing centroids\n",
      "Init: initializing clusters\n",
      "Starting iterations...\n",
      "Run 1, iteration: 1/100, moves: 0, cost: 8792937.0\n"
     ]
    }
   ],
   "source": [
    "# Choosing K by comparing Cost against each K\n",
    "cost = []\n",
    "for num_clusters in list(range(1,5)):\n",
    "    kmode = KModes(n_clusters=num_clusters, init = \"Cao\", n_init = 1, verbose=1)\n",
    "    kmode.fit_predict(X)\n",
    "    cost.append(kmode.cost_)\n"
   ]
  },
  {
   "cell_type": "code",
   "execution_count": 386,
   "id": "c3dd7bfe",
   "metadata": {},
   "outputs": [
    {
     "data": {
      "text/plain": [
       "[<matplotlib.lines.Line2D at 0x22326432950>]"
      ]
     },
     "execution_count": 386,
     "metadata": {},
     "output_type": "execute_result"
    },
    {
     "data": {
      "image/png": "[encoded data removed]",
      "text/plain": [
       "<Figure size 640x480 with 1 Axes>"
      ]
     },
     "metadata": {},
     "output_type": "display_data"
    }
   ],
   "source": [
    "# Data viz lib\n",
    "import matplotlib.pyplot as plt\n",
    "import seaborn as sns\n",
    "%matplotlib inline\n",
    "from matplotlib.pyplot import xticks\n",
    "\n",
    "y = np.array([i for i in range(1,5,1)])\n",
    "plt.plot(y,cost)"
   ]
  },
  {
   "cell_type": "code",
   "execution_count": 387,
   "id": "81700ac2",
   "metadata": {},
   "outputs": [
    {
     "name": "stdout",
     "output_type": "stream",
     "text": [
      "Init: initializing centroids\n",
      "Init: initializing clusters\n",
      "Starting iterations...\n",
      "Run 1, iteration: 1/100, moves: 0, cost: 11678917.0\n",
      "Init: initializing centroids\n",
      "Init: initializing clusters\n",
      "Starting iterations...\n",
      "Run 1, iteration: 1/100, moves: 0, cost: 10544471.0\n",
      "Init: initializing centroids\n",
      "Init: initializing clusters\n",
      "Starting iterations...\n",
      "Run 1, iteration: 1/100, moves: 0, cost: 9648093.0\n",
      "Init: initializing centroids\n",
      "Init: initializing clusters\n",
      "Starting iterations...\n",
      "Run 1, iteration: 1/100, moves: 0, cost: 8792937.0\n",
      "Init: initializing centroids\n",
      "Init: initializing clusters\n",
      "Starting iterations...\n",
      "Run 1, iteration: 1/100, moves: 0, cost: 7989517.0\n",
      "Init: initializing centroids\n",
      "Init: initializing clusters\n",
      "Starting iterations...\n",
      "Run 1, iteration: 1/100, moves: 0, cost: 7232156.0\n",
      "Init: initializing centroids\n",
      "Init: initializing clusters\n",
      "Starting iterations...\n",
      "Run 1, iteration: 1/100, moves: 0, cost: 6541250.0\n",
      "Init: initializing centroids\n",
      "Init: initializing clusters\n",
      "Starting iterations...\n",
      "Run 1, iteration: 1/100, moves: 0, cost: 5862068.0\n",
      "Init: initializing centroids\n",
      "Init: initializing clusters\n",
      "Starting iterations...\n",
      "Run 1, iteration: 1/100, moves: 0, cost: 5274238.0\n"
     ]
    }
   ],
   "source": [
    "# Choosing K by comparing Cost against each K\n",
    "cost = []\n",
    "for num_clusters in list(range(1,10)):\n",
    "    kmode = KModes(n_clusters=num_clusters, init = \"Cao\", n_init = 1, verbose=1)\n",
    "    kmode.fit_predict(X)\n",
    "    cost.append(kmode.cost_)\n"
   ]
  },
  {
   "cell_type": "code",
   "execution_count": 389,
   "id": "aebdac76",
   "metadata": {},
   "outputs": [
    {
     "data": {
      "text/plain": [
       "[<matplotlib.lines.Line2D at 0x22326f57b50>]"
      ]
     },
     "execution_count": 389,
     "metadata": {},
     "output_type": "execute_result"
    },
    {
     "data": {
      "image/png": "[encoded data removed]",
      "text/plain": [
       "<Figure size 640x480 with 1 Axes>"
      ]
     },
     "metadata": {},
     "output_type": "display_data"
    }
   ],
   "source": [
    "# Data viz lib\n",
    "import matplotlib.pyplot as plt\n",
    "import seaborn as sns\n",
    "%matplotlib inline\n",
    "from matplotlib.pyplot import xticks\n",
    "\n",
    "y = np.array([i for i in range(1,10,1)])\n",
    "plt.plot(y,cost)"
   ]
  }
 ],
 "metadata": {
  "kernelspec": {
   "display_name": "Python 3 (ipykernel)",
   "language": "python",
   "name": "python3"
  },
  "language_info": {
   "codemirror_mode": {
    "name": "ipython",
    "version": 3
   },
   "file_extension": ".py",
   "mimetype": "text/x-python",
   "name": "python",
   "nbconvert_exporter": "python",
   "pygments_lexer": "ipython3",
   "version": "3.11.6"
  }
 },
 "nbformat": 4,
 "nbformat_minor": 5
}
