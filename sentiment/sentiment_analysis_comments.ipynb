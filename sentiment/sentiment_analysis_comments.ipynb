{
 "cells": [
  {
   "cell_type": "markdown",
   "metadata": {},
   "source": [
    "# Sentiment Analysis Multi-Language"
   ]
  },
  {
   "cell_type": "markdown",
   "metadata": {},
   "source": [
    "## 1. Initial Setup"
   ]
  },
  {
   "cell_type": "code",
   "execution_count": null,
   "metadata": {},
   "outputs": [],
   "source": [
    "# Setup environment Windows\n",
    "# python -m venv .venv_sentiment\n",
    "# .venv_sentiment\\Scripts\\Activate.ps1  \n",
    "\n",
    "# Linux\n",
    "# python3 -m venv .venv_sentiment\n",
    "# source awesome_venv/bin/activate\n",
    "\n",
    "# pip install -r requirements.txt\n",
    "# python3 -m pip install tensorflow[and-cuda]\n",
    "# pip install 'transformers[tf-cpu]'\n",
    "# pip install 'transformers[flax]'\n"
   ]
  },
  {
   "cell_type": "code",
   "execution_count": 1,
   "metadata": {},
   "outputs": [
    {
     "name": "stderr",
     "output_type": "stream",
     "text": [
      "/home/ubuntu/experiments/thesis_GenAI/sentiment/.venv_sentiment/lib/python3.10/site-packages/tqdm/auto.py:21: TqdmWarning: IProgress not found. Please update jupyter and ipywidgets. See https://ipywidgets.readthedocs.io/en/stable/user_install.html\n",
      "  from .autonotebook import tqdm as notebook_tqdm\n",
      "None of PyTorch, TensorFlow >= 2.0, or Flax have been found. Models won't be available and only tokenizers, configuration and file/data utilities can be used.\n"
     ]
    }
   ],
   "source": [
    "import argparse\n",
    "from transformers import pipeline\n",
    "import pandas as pd\n",
    "from tqdm import tqdm\n",
    "import os"
   ]
  },
  {
   "cell_type": "code",
   "execution_count": 3,
   "metadata": {},
   "outputs": [
    {
     "data": {
      "text/html": [
       "<div>\n",
       "<style scoped>\n",
       "    .dataframe tbody tr th:only-of-type {\n",
       "        vertical-align: middle;\n",
       "    }\n",
       "\n",
       "    .dataframe tbody tr th {\n",
       "        vertical-align: top;\n",
       "    }\n",
       "\n",
       "    .dataframe thead th {\n",
       "        text-align: right;\n",
       "    }\n",
       "</style>\n",
       "<table border=\"1\" class=\"dataframe\">\n",
       "  <thead>\n",
       "    <tr style=\"text-align: right;\">\n",
       "      <th></th>\n",
       "      <th>stream_name</th>\n",
       "      <th>created_date</th>\n",
       "      <th>post_id</th>\n",
       "      <th>comment_id</th>\n",
       "      <th>comment_text</th>\n",
       "      <th>like_count</th>\n",
       "      <th>report_count</th>\n",
       "      <th>username</th>\n",
       "      <th>author_user_id</th>\n",
       "      <th>author_position</th>\n",
       "      <th>author_status</th>\n",
       "    </tr>\n",
       "  </thead>\n",
       "  <tbody>\n",
       "    <tr>\n",
       "      <th>0</th>\n",
       "      <td>Water Break</td>\n",
       "      <td>2024-03-05 15:15:55</td>\n",
       "      <td>7612625</td>\n",
       "      <td>6866587</td>\n",
       "      <td>Congratulations and a great addition to the te...</td>\n",
       "      <td>0</td>\n",
       "      <td>0</td>\n",
       "      <td>FlaggerForce</td>\n",
       "      <td>b701ab9f-563a-4425-a389-aff803a8da58</td>\n",
       "      <td>NaN</td>\n",
       "      <td>active</td>\n",
       "    </tr>\n",
       "    <tr>\n",
       "      <th>1</th>\n",
       "      <td>Water Break</td>\n",
       "      <td>2024-03-05 15:10:47</td>\n",
       "      <td>7612663</td>\n",
       "      <td>6866567</td>\n",
       "      <td>Hello team, remember to have safety discussion...</td>\n",
       "      <td>0</td>\n",
       "      <td>0</td>\n",
       "      <td>FlaggerForce</td>\n",
       "      <td>b701ab9f-563a-4425-a389-aff803a8da58</td>\n",
       "      <td>NaN</td>\n",
       "      <td>active</td>\n",
       "    </tr>\n",
       "    <tr>\n",
       "      <th>2</th>\n",
       "      <td>Water Break</td>\n",
       "      <td>2024-03-05 15:08:29</td>\n",
       "      <td>7613861</td>\n",
       "      <td>6866561</td>\n",
       "      <td>@Larry_Broderick, both our moderation team and...</td>\n",
       "      <td>0</td>\n",
       "      <td>0</td>\n",
       "      <td>FlaggerForce</td>\n",
       "      <td>b701ab9f-563a-4425-a389-aff803a8da58</td>\n",
       "      <td>NaN</td>\n",
       "      <td>active</td>\n",
       "    </tr>\n",
       "    <tr>\n",
       "      <th>3</th>\n",
       "      <td>Safety &amp; Operations</td>\n",
       "      <td>2024-03-05 15:04:42</td>\n",
       "      <td>7613237</td>\n",
       "      <td>6866545</td>\n",
       "      <td>@William_Pulliam, we appreciate you being prou...</td>\n",
       "      <td>0</td>\n",
       "      <td>0</td>\n",
       "      <td>FlaggerForce</td>\n",
       "      <td>b701ab9f-563a-4425-a389-aff803a8da58</td>\n",
       "      <td>NaN</td>\n",
       "      <td>active</td>\n",
       "    </tr>\n",
       "    <tr>\n",
       "      <th>4</th>\n",
       "      <td>Safety &amp; Operations</td>\n",
       "      <td>2024-03-05 15:02:47</td>\n",
       "      <td>7613255</td>\n",
       "      <td>6866539</td>\n",
       "      <td>We appreciate you supporting @Dennis_Cumbie, @...</td>\n",
       "      <td>0</td>\n",
       "      <td>0</td>\n",
       "      <td>FlaggerForce</td>\n",
       "      <td>b701ab9f-563a-4425-a389-aff803a8da58</td>\n",
       "      <td>NaN</td>\n",
       "      <td>active</td>\n",
       "    </tr>\n",
       "  </tbody>\n",
       "</table>\n",
       "</div>"
      ],
      "text/plain": [
       "           stream_name         created_date  post_id  comment_id  \\\n",
       "0          Water Break  2024-03-05 15:15:55  7612625     6866587   \n",
       "1          Water Break  2024-03-05 15:10:47  7612663     6866567   \n",
       "2          Water Break  2024-03-05 15:08:29  7613861     6866561   \n",
       "3  Safety & Operations  2024-03-05 15:04:42  7613237     6866545   \n",
       "4  Safety & Operations  2024-03-05 15:02:47  7613255     6866539   \n",
       "\n",
       "                                        comment_text  like_count  \\\n",
       "0  Congratulations and a great addition to the te...           0   \n",
       "1  Hello team, remember to have safety discussion...           0   \n",
       "2  @Larry_Broderick, both our moderation team and...           0   \n",
       "3  @William_Pulliam, we appreciate you being prou...           0   \n",
       "4  We appreciate you supporting @Dennis_Cumbie, @...           0   \n",
       "\n",
       "   report_count      username                        author_user_id  \\\n",
       "0             0  FlaggerForce  b701ab9f-563a-4425-a389-aff803a8da58   \n",
       "1             0  FlaggerForce  b701ab9f-563a-4425-a389-aff803a8da58   \n",
       "2             0  FlaggerForce  b701ab9f-563a-4425-a389-aff803a8da58   \n",
       "3             0  FlaggerForce  b701ab9f-563a-4425-a389-aff803a8da58   \n",
       "4             0  FlaggerForce  b701ab9f-563a-4425-a389-aff803a8da58   \n",
       "\n",
       "  author_position author_status  \n",
       "0             NaN        active  \n",
       "1             NaN        active  \n",
       "2             NaN        active  \n",
       "3             NaN        active  \n",
       "4             NaN        active  "
      ]
     },
     "execution_count": 3,
     "metadata": {},
     "output_type": "execute_result"
    }
   ],
   "source": [
    "# Import comments\n",
    "path = \"C:\\\\Users\\\\eduar\\\\Documents\\\\Master_Thesis\\\\GenAI_Thesis_Beekeeper\\\\data\\\\production_datasets\\\\cleaned_datasets\"\n",
    "file_name = \"comments_cleaned.csv\"\n",
    "file_path = os.path.join(path, file_name)\n",
    "df_comments = pd.read_csv(file_path)\n",
    "df_comments.head()"
   ]
  },
  {
   "cell_type": "code",
   "execution_count": 11,
   "metadata": {},
   "outputs": [
    {
     "name": "stderr",
     "output_type": "stream",
     "text": [
      "usage: Sentiment Analysis [-h] comments_cleaned comment_text\n",
      "Sentiment Analysis: error: the following arguments are required: comments_cleaned, comment_text\n"
     ]
    },
    {
     "ename": "SystemExit",
     "evalue": "2",
     "output_type": "error",
     "traceback": [
      "An exception has occurred, use %tb to see the full traceback.\n",
      "\u001b[1;31mSystemExit\u001b[0m\u001b[1;31m:\u001b[0m 2\n"
     ]
    }
   ],
   "source": [
    "parser = argparse.ArgumentParser(\"Sentiment Analysis\")\n",
    "parser.add_argument('comments_cleaned', help='dataframe with the text to analysis on pandas frame format')\n",
    "parser.add_argument('comment_text', help='column in the file that contains the text')\n",
    "args = parser.parse_args()\n",
    "\n",
    "df_text = pd.read_csv(args.comments_cleaned)#, lineterminator='\\n')\n",
    "# model = 'finiteautomata/bertweet-base-sentiment-analysis'\n",
    "model = 'cardiffnlp/twitter-xlm-roberta-base-sentiment'\n",
    "sentiment = pipeline(task='sentiment-analysis', model=model)\n",
    "counter = 0\n",
    "\n",
    "# Define the total number of iterations\n",
    "total_iterations = len(df_text)\n",
    "# Create a progress bar\n",
    "progress_bar = tqdm(total=total_iterations, position=0, leave=True)\n",
    "\n",
    "for index, row in df_text.iterrows():\n",
    "    try:\n",
    "        df_text.loc[index, 'sentiment'] = str(sentiment(str(row[args.comment_text])[:279])[0]['label'])\n",
    "        df_text.loc[index, 'sentiment_score'] = float(sentiment(str(row[args.comment_text])[:279])[0]['score'])\n",
    "    except Exception as e:\n",
    "        print(f'{str(row[args.comment_text])}', f'Error -> {e}')\n",
    "    counter += 1\n",
    "    progress_bar.update(1)  # Update the progress bar\n",
    "    progress_bar.set_description(f'Processed: {counter}/{total_iterations}')\n",
    "\n",
    "df_text.to_csv(f'sentiment_analysis_{args.file}', index=False)"
   ]
  }
 ],
 "metadata": {
  "kernelspec": {
   "display_name": ".venv_sentiment",
   "language": "python",
   "name": "python3"
  },
  "language_info": {
   "codemirror_mode": {
    "name": "ipython",
    "version": 3
   },
   "file_extension": ".py",
   "mimetype": "text/x-python",
   "name": "python",
   "nbconvert_exporter": "python",
   "pygments_lexer": "ipython3",
   "version": "3.10.12"
  }
 },
 "nbformat": 4,
 "nbformat_minor": 2
}
